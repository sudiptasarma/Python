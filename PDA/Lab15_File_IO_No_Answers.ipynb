{
 "cells": [
  {
   "cell_type": "markdown",
   "metadata": {},
   "source": [
    "# Lab 15 File IO\n",
    "\n",
    "## Pandas Readers And Writers\n",
    "\n",
    "### JSON "
   ]
  },
  {
   "cell_type": "markdown",
   "metadata": {},
   "source": [
    "Remember the `best_brews` `dict` of `dict`s?  A `dict` of `dict`s in `str` form is an example of *json*, for\n",
    "JavaScript Object Notation.  This is a popular data format for sharing data from application to application.\n",
    "\n",
    "JSON is Python code in `str` form.  JSON can contain `dict`, `list`, `str`, numbers, '\"true/false\"' instead of `True/False` and `\"null\"` instead of `None`\n",
    "\n",
    "\"brews.txt\" is a file, inour DataSet directory, that has the `best_brews` `dict` as its text.  With that file, it is this easy to put the data into a Pandas DataFrame"
   ]
  },
  {
   "cell_type": "code",
   "execution_count": 1,
   "metadata": {},
   "outputs": [
    {
     "data": {
      "text/html": [
       "<div>\n",
       "<style>\n",
       "    .dataframe thead tr:only-child th {\n",
       "        text-align: right;\n",
       "    }\n",
       "\n",
       "    .dataframe thead th {\n",
       "        text-align: left;\n",
       "    }\n",
       "\n",
       "    .dataframe tbody tr th {\n",
       "        vertical-align: top;\n",
       "    }\n",
       "</style>\n",
       "<table border=\"1\" class=\"dataframe\">\n",
       "  <thead>\n",
       "    <tr style=\"text-align: right;\">\n",
       "      <th></th>\n",
       "      <th>bar</th>\n",
       "      <th>brewer_tap_room</th>\n",
       "      <th>brewpub</th>\n",
       "    </tr>\n",
       "  </thead>\n",
       "  <tbody>\n",
       "    <tr>\n",
       "      <th>Alabama</th>\n",
       "      <td>The Nook</td>\n",
       "      <td>Good People Brewing Company</td>\n",
       "      <td></td>\n",
       "    </tr>\n",
       "    <tr>\n",
       "      <th>Alaska</th>\n",
       "      <td>Humpy's Great Alaskan Alehouse</td>\n",
       "      <td>Midnight Sun Brewing Company</td>\n",
       "      <td>Mooses Tooth Pub and Pizzeria</td>\n",
       "    </tr>\n",
       "    <tr>\n",
       "      <th>Arizona</th>\n",
       "      <td>Angel's Trumpet Ale House</td>\n",
       "      <td>Dragoon Brewing Co. Tap Room</td>\n",
       "      <td>Papago Brewing Company</td>\n",
       "    </tr>\n",
       "    <tr>\n",
       "      <th>Arkansas</th>\n",
       "      <td>Flying Saucer Draught Emporium - Little Rock</td>\n",
       "      <td>Diamond Bear Brewing Company</td>\n",
       "      <td></td>\n",
       "    </tr>\n",
       "    <tr>\n",
       "      <th>California</th>\n",
       "      <td>Churchill's Pub and Grille</td>\n",
       "      <td>The Bruery</td>\n",
       "      <td>Beachwood BBQ and Brewing</td>\n",
       "    </tr>\n",
       "  </tbody>\n",
       "</table>\n",
       "</div>"
      ],
      "text/plain": [
       "                                                     bar  \\\n",
       "Alabama                                         The Nook   \n",
       "Alaska                    Humpy's Great Alaskan Alehouse   \n",
       "Arizona                        Angel's Trumpet Ale House   \n",
       "Arkansas    Flying Saucer Draught Emporium - Little Rock   \n",
       "California                    Churchill's Pub and Grille   \n",
       "\n",
       "                         brewer_tap_room                        brewpub  \n",
       "Alabama      Good People Brewing Company                                 \n",
       "Alaska      Midnight Sun Brewing Company  Mooses Tooth Pub and Pizzeria  \n",
       "Arizona     Dragoon Brewing Co. Tap Room         Papago Brewing Company  \n",
       "Arkansas    Diamond Bear Brewing Company                                 \n",
       "California                    The Bruery      Beachwood BBQ and Brewing  "
      ]
     },
     "execution_count": 1,
     "metadata": {},
     "output_type": "execute_result"
    }
   ],
   "source": [
    "import pandas as pd\n",
    "json_brews_frame = pd.read_json(\"DataSets/brews.txt\")  # Windows?  \"DataSets\\brews.txt\"\n",
    "json_brews_frame.T.head()                              # Any IO? \n",
    "                                                       # import os\n",
    "                                                       # os.path.join(\"DataSets\", \"brews.txt\")"
   ]
  },
  {
   "cell_type": "code",
   "execution_count": 2,
   "metadata": {},
   "outputs": [
    {
     "data": {
      "text/html": [
       "<div>\n",
       "<style>\n",
       "    .dataframe thead tr:only-child th {\n",
       "        text-align: right;\n",
       "    }\n",
       "\n",
       "    .dataframe thead th {\n",
       "        text-align: left;\n",
       "    }\n",
       "\n",
       "    .dataframe tbody tr th {\n",
       "        vertical-align: top;\n",
       "    }\n",
       "</style>\n",
       "<table border=\"1\" class=\"dataframe\">\n",
       "  <thead>\n",
       "    <tr style=\"text-align: right;\">\n",
       "      <th></th>\n",
       "      <th>bar</th>\n",
       "      <th>brewer_tap_room</th>\n",
       "      <th>brewpub</th>\n",
       "    </tr>\n",
       "  </thead>\n",
       "  <tbody>\n",
       "    <tr>\n",
       "      <th>Alabama</th>\n",
       "      <td>The Nook</td>\n",
       "      <td>Good People Brewing Company</td>\n",
       "      <td></td>\n",
       "    </tr>\n",
       "    <tr>\n",
       "      <th>Alaska</th>\n",
       "      <td>Humpy's Great Alaskan Alehouse</td>\n",
       "      <td>Midnight Sun Brewing Company</td>\n",
       "      <td>Mooses Tooth Pub and Pizzeria</td>\n",
       "    </tr>\n",
       "    <tr>\n",
       "      <th>Arizona</th>\n",
       "      <td>Angel's Trumpet Ale House</td>\n",
       "      <td>Dragoon Brewing Co. Tap Room</td>\n",
       "      <td>Papago Brewing Company</td>\n",
       "    </tr>\n",
       "    <tr>\n",
       "      <th>Arkansas</th>\n",
       "      <td>Flying Saucer Draught Emporium - Little Rock</td>\n",
       "      <td>Diamond Bear Brewing Company</td>\n",
       "      <td></td>\n",
       "    </tr>\n",
       "    <tr>\n",
       "      <th>California</th>\n",
       "      <td>Churchill's Pub and Grille</td>\n",
       "      <td>The Bruery</td>\n",
       "      <td>Beachwood BBQ and Brewing</td>\n",
       "    </tr>\n",
       "  </tbody>\n",
       "</table>\n",
       "</div>"
      ],
      "text/plain": [
       "                                                     bar  \\\n",
       "Alabama                                         The Nook   \n",
       "Alaska                    Humpy's Great Alaskan Alehouse   \n",
       "Arizona                        Angel's Trumpet Ale House   \n",
       "Arkansas    Flying Saucer Draught Emporium - Little Rock   \n",
       "California                    Churchill's Pub and Grille   \n",
       "\n",
       "                         brewer_tap_room                        brewpub  \n",
       "Alabama      Good People Brewing Company                                 \n",
       "Alaska      Midnight Sun Brewing Company  Mooses Tooth Pub and Pizzeria  \n",
       "Arizona     Dragoon Brewing Co. Tap Room         Papago Brewing Company  \n",
       "Arkansas    Diamond Bear Brewing Company                                 \n",
       "California                    The Bruery      Beachwood BBQ and Brewing  "
      ]
     },
     "execution_count": 2,
     "metadata": {},
     "output_type": "execute_result"
    }
   ],
   "source": [
    "json_brews_frame.to_json(\"DataSets/brews.json\")\n",
    "brews_again = pd.read_json(\"DataSets/brews.json\")\n",
    "brews_again.T.head()"
   ]
  },
  {
   "cell_type": "markdown",
   "metadata": {},
   "source": [
    "### CSV\n",
    "\n",
    "Once in a DataFrame, it's easy to make a CSV (comma separated values) file:"
   ]
  },
  {
   "cell_type": "code",
   "execution_count": 3,
   "metadata": {
    "collapsed": true
   },
   "outputs": [],
   "source": [
    "json_brews_frame.T.to_csv(\"DataSets/brews.csv\")"
   ]
  },
  {
   "cell_type": "code",
   "execution_count": 4,
   "metadata": {},
   "outputs": [
    {
     "data": {
      "text/html": [
       "<div>\n",
       "<style>\n",
       "    .dataframe thead tr:only-child th {\n",
       "        text-align: right;\n",
       "    }\n",
       "\n",
       "    .dataframe thead th {\n",
       "        text-align: left;\n",
       "    }\n",
       "\n",
       "    .dataframe tbody tr th {\n",
       "        vertical-align: top;\n",
       "    }\n",
       "</style>\n",
       "<table border=\"1\" class=\"dataframe\">\n",
       "  <thead>\n",
       "    <tr style=\"text-align: right;\">\n",
       "      <th></th>\n",
       "      <th>Unnamed: 0</th>\n",
       "      <th>bar</th>\n",
       "      <th>brewer_tap_room</th>\n",
       "      <th>brewpub</th>\n",
       "    </tr>\n",
       "  </thead>\n",
       "  <tbody>\n",
       "    <tr>\n",
       "      <th>0</th>\n",
       "      <td>Alabama</td>\n",
       "      <td>The Nook</td>\n",
       "      <td>Good People Brewing Company</td>\n",
       "      <td>NaN</td>\n",
       "    </tr>\n",
       "    <tr>\n",
       "      <th>1</th>\n",
       "      <td>Alaska</td>\n",
       "      <td>Humpy's Great Alaskan Alehouse</td>\n",
       "      <td>Midnight Sun Brewing Company</td>\n",
       "      <td>Mooses Tooth Pub and Pizzeria</td>\n",
       "    </tr>\n",
       "    <tr>\n",
       "      <th>2</th>\n",
       "      <td>Arizona</td>\n",
       "      <td>Angel's Trumpet Ale House</td>\n",
       "      <td>Dragoon Brewing Co. Tap Room</td>\n",
       "      <td>Papago Brewing Company</td>\n",
       "    </tr>\n",
       "    <tr>\n",
       "      <th>3</th>\n",
       "      <td>Arkansas</td>\n",
       "      <td>Flying Saucer Draught Emporium - Little Rock</td>\n",
       "      <td>Diamond Bear Brewing Company</td>\n",
       "      <td>NaN</td>\n",
       "    </tr>\n",
       "    <tr>\n",
       "      <th>4</th>\n",
       "      <td>California</td>\n",
       "      <td>Churchill's Pub and Grille</td>\n",
       "      <td>The Bruery</td>\n",
       "      <td>Beachwood BBQ and Brewing</td>\n",
       "    </tr>\n",
       "  </tbody>\n",
       "</table>\n",
       "</div>"
      ],
      "text/plain": [
       "   Unnamed: 0                                           bar  \\\n",
       "0     Alabama                                      The Nook   \n",
       "1      Alaska                Humpy's Great Alaskan Alehouse   \n",
       "2     Arizona                     Angel's Trumpet Ale House   \n",
       "3    Arkansas  Flying Saucer Draught Emporium - Little Rock   \n",
       "4  California                    Churchill's Pub and Grille   \n",
       "\n",
       "                brewer_tap_room                        brewpub  \n",
       "0   Good People Brewing Company                            NaN  \n",
       "1  Midnight Sun Brewing Company  Mooses Tooth Pub and Pizzeria  \n",
       "2  Dragoon Brewing Co. Tap Room         Papago Brewing Company  \n",
       "3  Diamond Bear Brewing Company                            NaN  \n",
       "4                    The Bruery      Beachwood BBQ and Brewing  "
      ]
     },
     "execution_count": 4,
     "metadata": {},
     "output_type": "execute_result"
    }
   ],
   "source": [
    "csv_brews_frame = pd.read_csv(\"DataSets/brews.csv\")\n",
    "csv_brews_frame.head()"
   ]
  },
  {
   "cell_type": "markdown",
   "metadata": {},
   "source": [
    "### Handling Default Arguments\n",
    "\n",
    "### The display of the data set has changed!\n",
    "\n",
    "Let's fix that.  First:\n",
    "\n",
    "```python\n",
    "In [4]: ?pd.read_csv\n",
    "\n",
    "Signature: pd.read_csv(filepath_or_buffer, sep=',', delimiter=None, header='infer', names=None, index_col=None, usecols=None, squeeze=False, prefix=None, mangle_dupe_cols=True, dtype=None, engine=None, converters=None, true_values=None, false_values=None, skipinitialspace=False, skiprows=None, nrows=None, na_values=None, keep_default_na=True, na_filter=True, verbose=False, skip_blank_lines=True, parse_dates=False, infer_datetime_format=False, keep_date_col=False, date_parser=None, dayfirst=False, iterator=False, chunksize=None, compression='infer', thousands=None, decimal=b'.', lineterminator=None, quotechar='\"', quoting=0, escapechar=None, comment=None, encoding=None, dialect=None, tupleize_cols=False, error_bad_lines=True, warn_bad_lines=True, skipfooter=0, skip_footer=0, doublequote=True, delim_whitespace=False, as_recarray=False, compact_ints=False, use_unsigned=False, low_memory=True, buffer_lines=None, memory_map=False, float_precision=None)\n",
    "```\n",
    "Then follows the explanation of each of the defaulted arguments.  To get rid of the new row labels, which is the index, `index_col=0`, makes the first column, the states, become the index, and the integers index is not used.  To get rid of the `NaN`s, we use `na_filter=False`.\n"
   ]
  },
  {
   "cell_type": "code",
   "execution_count": 5,
   "metadata": {
    "collapsed": true
   },
   "outputs": [],
   "source": [
    "csv_brews_frame = pd.read_csv(\"DataSets/brews.csv\", index_col=0, na_filter=False)"
   ]
  },
  {
   "cell_type": "code",
   "execution_count": 6,
   "metadata": {
    "scrolled": true
   },
   "outputs": [
    {
     "data": {
      "text/html": [
       "<div>\n",
       "<style>\n",
       "    .dataframe thead tr:only-child th {\n",
       "        text-align: right;\n",
       "    }\n",
       "\n",
       "    .dataframe thead th {\n",
       "        text-align: left;\n",
       "    }\n",
       "\n",
       "    .dataframe tbody tr th {\n",
       "        vertical-align: top;\n",
       "    }\n",
       "</style>\n",
       "<table border=\"1\" class=\"dataframe\">\n",
       "  <thead>\n",
       "    <tr style=\"text-align: right;\">\n",
       "      <th></th>\n",
       "      <th>bar</th>\n",
       "      <th>brewer_tap_room</th>\n",
       "      <th>brewpub</th>\n",
       "    </tr>\n",
       "  </thead>\n",
       "  <tbody>\n",
       "    <tr>\n",
       "      <th>Alabama</th>\n",
       "      <td>The Nook</td>\n",
       "      <td>Good People Brewing Company</td>\n",
       "      <td></td>\n",
       "    </tr>\n",
       "    <tr>\n",
       "      <th>Alaska</th>\n",
       "      <td>Humpy's Great Alaskan Alehouse</td>\n",
       "      <td>Midnight Sun Brewing Company</td>\n",
       "      <td>Mooses Tooth Pub and Pizzeria</td>\n",
       "    </tr>\n",
       "    <tr>\n",
       "      <th>Arizona</th>\n",
       "      <td>Angel's Trumpet Ale House</td>\n",
       "      <td>Dragoon Brewing Co. Tap Room</td>\n",
       "      <td>Papago Brewing Company</td>\n",
       "    </tr>\n",
       "    <tr>\n",
       "      <th>Arkansas</th>\n",
       "      <td>Flying Saucer Draught Emporium - Little Rock</td>\n",
       "      <td>Diamond Bear Brewing Company</td>\n",
       "      <td></td>\n",
       "    </tr>\n",
       "    <tr>\n",
       "      <th>California</th>\n",
       "      <td>Churchill's Pub and Grille</td>\n",
       "      <td>The Bruery</td>\n",
       "      <td>Beachwood BBQ and Brewing</td>\n",
       "    </tr>\n",
       "  </tbody>\n",
       "</table>\n",
       "</div>"
      ],
      "text/plain": [
       "                                                     bar  \\\n",
       "Alabama                                         The Nook   \n",
       "Alaska                    Humpy's Great Alaskan Alehouse   \n",
       "Arizona                        Angel's Trumpet Ale House   \n",
       "Arkansas    Flying Saucer Draught Emporium - Little Rock   \n",
       "California                    Churchill's Pub and Grille   \n",
       "\n",
       "                         brewer_tap_room                        brewpub  \n",
       "Alabama      Good People Brewing Company                                 \n",
       "Alaska      Midnight Sun Brewing Company  Mooses Tooth Pub and Pizzeria  \n",
       "Arizona     Dragoon Brewing Co. Tap Room         Papago Brewing Company  \n",
       "Arkansas    Diamond Bear Brewing Company                                 \n",
       "California                    The Bruery      Beachwood BBQ and Brewing  "
      ]
     },
     "execution_count": 6,
     "metadata": {},
     "output_type": "execute_result"
    }
   ],
   "source": [
    "csv_brews_frame.head()\n"
   ]
  },
  {
   "cell_type": "markdown",
   "metadata": {},
   "source": [
    "### Clipboard\n",
    "\n",
    "I copied this onto my clipboard, from: ```https://pandas.pydata.org/pandas-docs/stable/io.html#io-store-in-csv```\n",
    "```\n",
    "Format Type\tData Description\tReader\tWriter\n",
    "text\tCSV\tread_csv\tto_csv\n",
    "text\tJSON\tread_json\tto_json\n",
    "text\tHTML\tread_html\tto_html\n",
    "text\tLocal clipboard\tread_clipboard\tto_clipboard\n",
    "binary\tMS Excel\tread_excel\tto_excel\n",
    "binary\tHDF5 Format\tread_hdf\tto_hdf\n",
    "binary\tFeather Format\tread_feather\tto_feather\n",
    "binary\tParquet Format\tread_parquet\tto_parquet\n",
    "binary\tMsgpack\tread_msgpack\tto_msgpack\n",
    "binary\tStata\tread_stata\tto_stata\n",
    "binary\tSAS\tread_sas\t \n",
    "binary\tPython Pickle Format\tread_pickle\tto_pickle\n",
    "SQL\tSQL\tread_sql\tto_sql\n",
    "SQL\tGoogle Big Query\tread_gbq\tto_gbq\n",
    "```\n",
    "Getting the data into a DataFrame is so easy:\n",
    "```python\n",
    "pandas_io = pd.read_clipboard(index_col=0)\n",
    "```\n",
    "To have it handy on disc, I used:\n",
    "```\n",
    "pd.to_csv(\"DataSets/pandas_io.csv\")\n",
    "```"
   ]
  },
  {
   "cell_type": "code",
   "execution_count": 7,
   "metadata": {},
   "outputs": [
    {
     "data": {
      "text/html": [
       "<div>\n",
       "<style>\n",
       "    .dataframe thead tr:only-child th {\n",
       "        text-align: right;\n",
       "    }\n",
       "\n",
       "    .dataframe thead th {\n",
       "        text-align: left;\n",
       "    }\n",
       "\n",
       "    .dataframe tbody tr th {\n",
       "        vertical-align: top;\n",
       "    }\n",
       "</style>\n",
       "<table border=\"1\" class=\"dataframe\">\n",
       "  <thead>\n",
       "    <tr style=\"text-align: right;\">\n",
       "      <th></th>\n",
       "      <th>Data Description</th>\n",
       "      <th>Reader</th>\n",
       "      <th>Writer</th>\n",
       "    </tr>\n",
       "    <tr>\n",
       "      <th>Format Type</th>\n",
       "      <th></th>\n",
       "      <th></th>\n",
       "      <th></th>\n",
       "    </tr>\n",
       "  </thead>\n",
       "  <tbody>\n",
       "    <tr>\n",
       "      <th>text</th>\n",
       "      <td>CSV</td>\n",
       "      <td>read_csv</td>\n",
       "      <td>to_csv</td>\n",
       "    </tr>\n",
       "    <tr>\n",
       "      <th>text</th>\n",
       "      <td>JSON</td>\n",
       "      <td>read_json</td>\n",
       "      <td>to_json</td>\n",
       "    </tr>\n",
       "    <tr>\n",
       "      <th>text</th>\n",
       "      <td>HTML</td>\n",
       "      <td>read_html</td>\n",
       "      <td>to_html</td>\n",
       "    </tr>\n",
       "    <tr>\n",
       "      <th>text</th>\n",
       "      <td>Local clipboard</td>\n",
       "      <td>read_clipboard</td>\n",
       "      <td>to_clipboard</td>\n",
       "    </tr>\n",
       "    <tr>\n",
       "      <th>binary</th>\n",
       "      <td>MS Excel</td>\n",
       "      <td>read_excel</td>\n",
       "      <td>to_excel</td>\n",
       "    </tr>\n",
       "    <tr>\n",
       "      <th>binary</th>\n",
       "      <td>HDF5 Format</td>\n",
       "      <td>read_hdf</td>\n",
       "      <td>to_hdf</td>\n",
       "    </tr>\n",
       "    <tr>\n",
       "      <th>binary</th>\n",
       "      <td>Feather Format</td>\n",
       "      <td>read_feather</td>\n",
       "      <td>to_feather</td>\n",
       "    </tr>\n",
       "    <tr>\n",
       "      <th>binary</th>\n",
       "      <td>Parquet Format</td>\n",
       "      <td>read_parquet</td>\n",
       "      <td>to_parquet</td>\n",
       "    </tr>\n",
       "    <tr>\n",
       "      <th>binary</th>\n",
       "      <td>Msgpack</td>\n",
       "      <td>read_msgpack</td>\n",
       "      <td>to_msgpack</td>\n",
       "    </tr>\n",
       "    <tr>\n",
       "      <th>binary</th>\n",
       "      <td>Stata</td>\n",
       "      <td>read_stata</td>\n",
       "      <td>to_stata</td>\n",
       "    </tr>\n",
       "    <tr>\n",
       "      <th>binary</th>\n",
       "      <td>SAS</td>\n",
       "      <td>read_sas</td>\n",
       "      <td></td>\n",
       "    </tr>\n",
       "    <tr>\n",
       "      <th>binary</th>\n",
       "      <td>Python Pickle Format</td>\n",
       "      <td>read_pickle</td>\n",
       "      <td>to_pickle</td>\n",
       "    </tr>\n",
       "    <tr>\n",
       "      <th>SQL</th>\n",
       "      <td>SQL</td>\n",
       "      <td>read_sql</td>\n",
       "      <td>to_sql</td>\n",
       "    </tr>\n",
       "    <tr>\n",
       "      <th>SQL</th>\n",
       "      <td>Google Big Query</td>\n",
       "      <td>read_gbq</td>\n",
       "      <td>to_gbq</td>\n",
       "    </tr>\n",
       "  </tbody>\n",
       "</table>\n",
       "</div>"
      ],
      "text/plain": [
       "                 Data Description          Reader        Writer\n",
       "Format Type                                                    \n",
       "text                          CSV        read_csv        to_csv\n",
       "text                         JSON       read_json       to_json\n",
       "text                         HTML       read_html       to_html\n",
       "text              Local clipboard  read_clipboard  to_clipboard\n",
       "binary                   MS Excel      read_excel      to_excel\n",
       "binary                HDF5 Format        read_hdf        to_hdf\n",
       "binary             Feather Format    read_feather    to_feather\n",
       "binary             Parquet Format    read_parquet    to_parquet\n",
       "binary                    Msgpack    read_msgpack    to_msgpack\n",
       "binary                      Stata      read_stata      to_stata\n",
       "binary                        SAS        read_sas              \n",
       "binary       Python Pickle Format     read_pickle     to_pickle\n",
       "SQL                           SQL        read_sql        to_sql\n",
       "SQL              Google Big Query        read_gbq        to_gbq"
      ]
     },
     "execution_count": 7,
     "metadata": {},
     "output_type": "execute_result"
    }
   ],
   "source": [
    "pandas_io = pd.read_csv(\"DataSets/pandas_io.csv\", index_col=0)\n",
    "pandas_io"
   ]
  },
  {
   "cell_type": "code",
   "execution_count": 8,
   "metadata": {
    "collapsed": true
   },
   "outputs": [],
   "source": [
    "pandas_io.to_clipboard()"
   ]
  },
  {
   "cell_type": "code",
   "execution_count": 9,
   "metadata": {
    "collapsed": true
   },
   "outputs": [],
   "source": [
    "new_pandas_io = pd.read_clipboard(index_col=1)\n",
    "\n"
   ]
  },
  {
   "cell_type": "code",
   "execution_count": 10,
   "metadata": {},
   "outputs": [
    {
     "data": {
      "text/html": [
       "<div>\n",
       "<style>\n",
       "    .dataframe thead tr:only-child th {\n",
       "        text-align: right;\n",
       "    }\n",
       "\n",
       "    .dataframe thead th {\n",
       "        text-align: left;\n",
       "    }\n",
       "\n",
       "    .dataframe tbody tr th {\n",
       "        vertical-align: top;\n",
       "    }\n",
       "</style>\n",
       "<table border=\"1\" class=\"dataframe\">\n",
       "  <thead>\n",
       "    <tr style=\"text-align: right;\">\n",
       "      <th></th>\n",
       "      <th>Format Type</th>\n",
       "      <th>Reader</th>\n",
       "      <th>Writer</th>\n",
       "    </tr>\n",
       "    <tr>\n",
       "      <th>Data Description</th>\n",
       "      <th></th>\n",
       "      <th></th>\n",
       "      <th></th>\n",
       "    </tr>\n",
       "  </thead>\n",
       "  <tbody>\n",
       "    <tr>\n",
       "      <th>CSV</th>\n",
       "      <td>text</td>\n",
       "      <td>read_csv</td>\n",
       "      <td>to_csv</td>\n",
       "    </tr>\n",
       "    <tr>\n",
       "      <th>JSON</th>\n",
       "      <td>text</td>\n",
       "      <td>read_json</td>\n",
       "      <td>to_json</td>\n",
       "    </tr>\n",
       "    <tr>\n",
       "      <th>HTML</th>\n",
       "      <td>text</td>\n",
       "      <td>read_html</td>\n",
       "      <td>to_html</td>\n",
       "    </tr>\n",
       "    <tr>\n",
       "      <th>Local clipboard</th>\n",
       "      <td>text</td>\n",
       "      <td>read_clipboard</td>\n",
       "      <td>to_clipboard</td>\n",
       "    </tr>\n",
       "    <tr>\n",
       "      <th>MS Excel</th>\n",
       "      <td>binary</td>\n",
       "      <td>read_excel</td>\n",
       "      <td>to_excel</td>\n",
       "    </tr>\n",
       "    <tr>\n",
       "      <th>HDF5 Format</th>\n",
       "      <td>binary</td>\n",
       "      <td>read_hdf</td>\n",
       "      <td>to_hdf</td>\n",
       "    </tr>\n",
       "    <tr>\n",
       "      <th>Feather Format</th>\n",
       "      <td>binary</td>\n",
       "      <td>read_feather</td>\n",
       "      <td>to_feather</td>\n",
       "    </tr>\n",
       "    <tr>\n",
       "      <th>Parquet Format</th>\n",
       "      <td>binary</td>\n",
       "      <td>read_parquet</td>\n",
       "      <td>to_parquet</td>\n",
       "    </tr>\n",
       "    <tr>\n",
       "      <th>Msgpack</th>\n",
       "      <td>binary</td>\n",
       "      <td>read_msgpack</td>\n",
       "      <td>to_msgpack</td>\n",
       "    </tr>\n",
       "    <tr>\n",
       "      <th>Stata</th>\n",
       "      <td>binary</td>\n",
       "      <td>read_stata</td>\n",
       "      <td>to_stata</td>\n",
       "    </tr>\n",
       "    <tr>\n",
       "      <th>SAS</th>\n",
       "      <td>binary</td>\n",
       "      <td>read_sas</td>\n",
       "      <td></td>\n",
       "    </tr>\n",
       "    <tr>\n",
       "      <th>Python Pickle Format</th>\n",
       "      <td>binary</td>\n",
       "      <td>read_pickle</td>\n",
       "      <td>to_pickle</td>\n",
       "    </tr>\n",
       "    <tr>\n",
       "      <th>SQL</th>\n",
       "      <td>SQL</td>\n",
       "      <td>read_sql</td>\n",
       "      <td>to_sql</td>\n",
       "    </tr>\n",
       "    <tr>\n",
       "      <th>Google Big Query</th>\n",
       "      <td>SQL</td>\n",
       "      <td>read_gbq</td>\n",
       "      <td>to_gbq</td>\n",
       "    </tr>\n",
       "  </tbody>\n",
       "</table>\n",
       "</div>"
      ],
      "text/plain": [
       "                     Format Type          Reader        Writer\n",
       "Data Description                                              \n",
       "CSV                         text        read_csv        to_csv\n",
       "JSON                        text       read_json       to_json\n",
       "HTML                        text       read_html       to_html\n",
       "Local clipboard             text  read_clipboard  to_clipboard\n",
       "MS Excel                  binary      read_excel      to_excel\n",
       "HDF5 Format               binary        read_hdf        to_hdf\n",
       "Feather Format            binary    read_feather    to_feather\n",
       "Parquet Format            binary    read_parquet    to_parquet\n",
       "Msgpack                   binary    read_msgpack    to_msgpack\n",
       "Stata                     binary      read_stata      to_stata\n",
       "SAS                       binary        read_sas              \n",
       "Python Pickle Format      binary     read_pickle     to_pickle\n",
       "SQL                          SQL        read_sql        to_sql\n",
       "Google Big Query             SQL        read_gbq        to_gbq"
      ]
     },
     "execution_count": 10,
     "metadata": {},
     "output_type": "execute_result"
    }
   ],
   "source": [
    "new_pandas_io"
   ]
  },
  {
   "cell_type": "markdown",
   "metadata": {},
   "source": [
    "## Raw File IO"
   ]
  },
  {
   "cell_type": "code",
   "execution_count": 11,
   "metadata": {},
   "outputs": [
    {
     "name": "stdout",
     "output_type": "stream",
     "text": [
      "Ram Tzu knows this:\n",
      "When God wants you to do something,\n",
      "you think it's your idea.\n"
     ]
    }
   ],
   "source": [
    "def ReadFile(file_name):\n",
    "    with open(file_name) as open_file_object:\n",
    "        for line in open_file_object:\n",
    "            print(line, end='')\n",
    "ReadFile(\"DataSets/ram_tzu.txt\")"
   ]
  },
  {
   "cell_type": "code",
   "execution_count": 12,
   "metadata": {},
   "outputs": [
    {
     "name": "stdout",
     "output_type": "stream",
     "text": [
      "RAM TZU KNOWS THIS:\n",
      "WHEN GOD WANTS YOU TO DO SOMETHING,\n",
      "YOU THINK IT'S YOUR IDEA.\n"
     ]
    }
   ],
   "source": [
    "def CapFile(file_name, cap_file_name):\n",
    "    with open(file_name) as reader:\n",
    "        with open(cap_file_name, \"w\") as writer:\n",
    "            for line in reader:\n",
    "                writer.write(line.upper())\n",
    "CapFile(\"DataSets/ram_tzu.txt\", \"DataSets/ram_tzu_caps.txt\") \n",
    "ReadFile(\"DataSets/ram_tzu_caps.txt\")"
   ]
  },
  {
   "cell_type": "markdown",
   "metadata": {},
   "source": [
    "## Rawest File IO"
   ]
  },
  {
   "cell_type": "code",
   "execution_count": 13,
   "metadata": {},
   "outputs": [
    {
     "name": "stdout",
     "output_type": "stream",
     "text": [
      "3\n"
     ]
    }
   ],
   "source": [
    "def Count(sub_str, file_name):\n",
    "    count = 0\n",
    "    file_object = open(file_name)\n",
    "    for line in file_object:\n",
    "        count += line.count(sub_str)  \n",
    "    file_object.close()               # happens automatically with `with`\n",
    "    return count\n",
    "\n",
    "print(Count(\"you\", \"DataSets/ram_tzu.txt\"))"
   ]
  },
  {
   "cell_type": "markdown",
   "metadata": {},
   "source": [
    "### Dealing with Unicode\n",
    "\n",
    "To read a file that has characters in it that are not `ascii`, open it like:\n",
    "\n",
    "`open(\"the_file\", encoding='utf-8')`\n",
    "\n",
    "Writing data to a file that was encoded with `utf-8` will need:\n",
    "\n",
    "`open(\"the_file\", \"w\", encoding='utf-8')`\n"
   ]
  },
  {
   "cell_type": "markdown",
   "metadata": {},
   "source": [
    "# Exercises"
   ]
  },
  {
   "cell_type": "markdown",
   "metadata": {},
   "source": [
    "`1.` `https://simplemaps.com/data/us-cities` provides the data found in \"DataSets/Cities.csv\".  Get that data into a Pandas DataFrame.  Use DataFrame.head() to see what you have in your dataset."
   ]
  },
  {
   "cell_type": "markdown",
   "metadata": {},
   "source": [
    "`2.`  That gives you a lot of columns, some not so interesting.  Use:\n",
    "```python\n",
    "cities.info()\n",
    "```\n",
    "to see the columns and the characteristics of each column.\n",
    "\n",
    "Which are interesting?  Maybe:\n",
    "```python\n",
    "interesting = [\"state_id\", \"population\", \"population_proper\", \"density\"]\n",
    "```\n",
    "The `city` label is the index, so it is included automatically.\n",
    "\n",
    "This will give you just those columns:\n",
    "```python\n",
    "cities = cities[interesting]\n",
    "```"
   ]
  },
  {
   "cell_type": "markdown",
   "metadata": {},
   "source": [
    "`4.` Those `NaN` values are not useful when you are looking at the population of each city.  "
   ]
  },
  {
   "cell_type": "markdown",
   "metadata": {},
   "source": [
    "`3.` Sort the data by the population, with the largest being first."
   ]
  },
  {
   "cell_type": "markdown",
   "metadata": {},
   "source": [
    "`4.` Which 5 cities are the densist?  Which 5 cities have the highest population?"
   ]
  },
  {
   "cell_type": "markdown",
   "metadata": {},
   "source": [
    "`5.` Save your `cities` data as a comma-separated file."
   ]
  },
  {
   "cell_type": "markdown",
   "metadata": {},
   "source": [
    "`6.` The `cities` DataFrame is not suitable for saving as JSON.  Why not?\n",
    "> Hint:  `cities.loc[\"San Jose\"]` shows you the data for \"San Jose\"."
   ]
  },
  {
   "cell_type": "markdown",
   "metadata": {},
   "source": [
    "`8.`  How many lines, words, and characters are in the file `ram_tzu.txt`?"
   ]
  },
  {
   "cell_type": "markdown",
   "metadata": {},
   "source": [
    "`9.`  Make a new file, `ram_tzu_titled.txt` where the first character of each word is capitalized.  Check `?str.title` for help."
   ]
  },
  {
   "cell_type": "markdown",
   "metadata": {},
   "source": [
    "`10.` Do:\n",
    "```python\n",
    "import glob\n",
    "?glob.glob\n",
    "```\n",
    "to see that:\n",
    "`glob.glob(\"*.ipynb\")`\n",
    "\n",
    "will give you a list of all the `ipynb` files in the current directory.\n",
    "\n",
    "Make a generator, `GetFirstPounds()` that can be used like this:\n",
    "```python\n",
    "for notebook, first_pound in GetFirstPounds():\n",
    "```\n",
    "and use it to produce this output:\n",
    "\n",
    "Note: Some of the Lab notebooks need to be read as unicode.\n"
   ]
  },
  {
   "cell_type": "markdown",
   "metadata": {},
   "source": [
    "`11.` Make a function that reads a file and returns the largest number of the same character in a row, which characters have that many in a row.  If the text in the file is:  \"You better look at that report as soon as possible.\", the return is (2, \"tos\") because there are 2 in a row of t's, o's, and s's."
   ]
  }
 ],
 "metadata": {
  "kernelspec": {
   "display_name": "Python 3",
   "language": "python",
   "name": "python3"
  },
  "language_info": {
   "codemirror_mode": {
    "name": "ipython",
    "version": 3
   },
   "file_extension": ".py",
   "mimetype": "text/x-python",
   "name": "python",
   "nbconvert_exporter": "python",
   "pygments_lexer": "ipython3",
   "version": "3.7.3"
  }
 },
 "nbformat": 4,
 "nbformat_minor": 2
}
