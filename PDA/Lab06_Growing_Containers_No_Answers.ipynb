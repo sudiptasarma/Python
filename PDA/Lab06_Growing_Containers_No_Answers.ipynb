{
 "cells": [
  {
   "cell_type": "markdown",
   "metadata": {
    "collapsed": true
   },
   "source": [
    "# Lab 06 Growing Containers\n",
    "\n",
    "You can:\n",
    "\n",
    "`\"Blueberry\" + \"Pie\"`  \n",
    "\n",
    "to get \n",
    "\n",
    "`\"BlueberryPie\"`\n",
    "\n",
    "or even:\n",
    "\n",
    "```python\n",
    "pie = \"Blueberry\"\n",
    "pie += \"Pie\"\n",
    "```\n",
    "\n",
    "And the same operations are good for `tuples`:\n",
    "\n",
    "`(2, 4) + (6, 8)` \n",
    "\n",
    "to get \n",
    "\n",
    "`(2, 4, 6, 8)`\n",
    "\n",
    "and\n",
    "\n",
    "```python\n",
    "even = (2, 4)\n",
    "even += (6, 8)\n",
    "```\n",
    "\n",
    "but you did not *grow* your original containers, you made new containers.\n",
    "\n",
    "You can't change a `str` or a `tuple` because these types are *immutable*."
   ]
  },
  {
   "cell_type": "markdown",
   "metadata": {},
   "source": [
    "## `list.append`,  and `list.extend`"
   ]
  },
  {
   "cell_type": "code",
   "execution_count": 1,
   "metadata": {
    "collapsed": true
   },
   "outputs": [],
   "source": [
    "my_list = [8, 3, 10, 2]"
   ]
  },
  {
   "cell_type": "code",
   "execution_count": 2,
   "metadata": {
    "collapsed": true
   },
   "outputs": [],
   "source": [
    "my_list.append(100)"
   ]
  },
  {
   "cell_type": "code",
   "execution_count": 3,
   "metadata": {},
   "outputs": [
    {
     "data": {
      "text/plain": [
       "[8, 3, 10, 2, 100]"
      ]
     },
     "execution_count": 3,
     "metadata": {},
     "output_type": "execute_result"
    }
   ],
   "source": [
    "my_list"
   ]
  },
  {
   "cell_type": "code",
   "execution_count": 4,
   "metadata": {
    "collapsed": true
   },
   "outputs": [],
   "source": [
    "my_list.extend([1000,2000])"
   ]
  },
  {
   "cell_type": "code",
   "execution_count": 5,
   "metadata": {},
   "outputs": [
    {
     "data": {
      "text/plain": [
       "[8, 3, 10, 2, 100, 1000, 2000]"
      ]
     },
     "execution_count": 5,
     "metadata": {},
     "output_type": "execute_result"
    }
   ],
   "source": [
    "my_list"
   ]
  },
  {
   "cell_type": "code",
   "execution_count": 6,
   "metadata": {
    "collapsed": true
   },
   "outputs": [],
   "source": [
    "my_list.append(\"Avocado\")"
   ]
  },
  {
   "cell_type": "code",
   "execution_count": 7,
   "metadata": {},
   "outputs": [
    {
     "data": {
      "text/plain": [
       "[8, 3, 10, 2, 100, 1000, 2000, 'Avocado']"
      ]
     },
     "execution_count": 7,
     "metadata": {},
     "output_type": "execute_result"
    }
   ],
   "source": [
    "my_list"
   ]
  },
  {
   "cell_type": "code",
   "execution_count": 8,
   "metadata": {},
   "outputs": [
    {
     "data": {
      "text/plain": [
       "[8, 3, 10, 2, 100, 1000, 2000, 'Avocado', 'B', 'a', 'c', 'o', 'n']"
      ]
     },
     "execution_count": 8,
     "metadata": {},
     "output_type": "execute_result"
    }
   ],
   "source": [
    "my_list.extend(\"Bacon\")\n",
    "my_list"
   ]
  },
  {
   "cell_type": "markdown",
   "metadata": {},
   "source": [
    "Note the error:\n",
    "\n",
    "In [9]: my_list.extend(1.1)\n",
    "\n",
    "---------------------------------------------------------------------------\n",
    "TypeError                                 Traceback (most recent call last)\n",
    "<ipython-input-14-08516d9f908d> in <module>()\n",
    "----> 1 my_list.extend(1.1)\n",
    "\n",
    "TypeError: 'float' object is not iterable\n"
   ]
  },
  {
   "cell_type": "markdown",
   "metadata": {},
   "source": [
    "## ```list += ``` An Iterable"
   ]
  },
  {
   "cell_type": "code",
   "execution_count": 9,
   "metadata": {},
   "outputs": [
    {
     "data": {
      "text/plain": [
       "[8, 3, 10, 2, 10000, 20000]"
      ]
     },
     "execution_count": 9,
     "metadata": {},
     "output_type": "execute_result"
    }
   ],
   "source": [
    "my_list = [8, 3, 10, 2]\n",
    "my_list += [10000, 20000]\n",
    "my_list"
   ]
  },
  {
   "cell_type": "code",
   "execution_count": 10,
   "metadata": {},
   "outputs": [
    {
     "data": {
      "text/plain": [
       "[8, 3, 10, 2, 10000, 20000, 'C', 'r', 'a', 'b']"
      ]
     },
     "execution_count": 10,
     "metadata": {},
     "output_type": "execute_result"
    }
   ],
   "source": [
    "my_list += 'Crab'\n",
    "my_list"
   ]
  },
  {
   "cell_type": "markdown",
   "metadata": {},
   "source": [
    "Note the error:\n",
    "\n",
    "```python\n",
    "In [11]:  my_list += 3\n",
    "\n",
    "---------------------------------------------------------------------------\n",
    "TypeError                                 Traceback (most recent call last)\n",
    "<ipython-input-58-3a8668037cd3> in <module>()\n",
    "----> 1 my_list += 3\n",
    "\n",
    "TypeError: 'int' object is not iterable\n",
    "\n",
    "```"
   ]
  },
  {
   "cell_type": "code",
   "execution_count": 11,
   "metadata": {
    "collapsed": true
   },
   "outputs": [],
   "source": [
    "my_list += 3,                     # The *comma* is what matters."
   ]
  },
  {
   "cell_type": "code",
   "execution_count": 12,
   "metadata": {},
   "outputs": [
    {
     "data": {
      "text/plain": [
       "[8, 3, 10, 2, 10000, 20000, 'C', 'r', 'a', 'b', 3]"
      ]
     },
     "execution_count": 12,
     "metadata": {},
     "output_type": "execute_result"
    }
   ],
   "source": [
    "my_list"
   ]
  },
  {
   "cell_type": "markdown",
   "metadata": {},
   "source": [
    "## `list.insert`"
   ]
  },
  {
   "cell_type": "code",
   "execution_count": 13,
   "metadata": {},
   "outputs": [
    {
     "data": {
      "text/plain": [
       "[8, 3, 10, 2, 'x', 10000, 20000, 'C', 'r', 'a', 'b', 3]"
      ]
     },
     "execution_count": 13,
     "metadata": {},
     "output_type": "execute_result"
    }
   ],
   "source": [
    "my_list.insert(4, 'x')\n",
    "my_list"
   ]
  },
  {
   "cell_type": "markdown",
   "metadata": {},
   "source": [
    "## Numpy `concatenate` and `append`"
   ]
  },
  {
   "cell_type": "code",
   "execution_count": 14,
   "metadata": {},
   "outputs": [
    {
     "data": {
      "text/plain": [
       "array([[1, 2],\n",
       "       [3, 4]])"
      ]
     },
     "execution_count": 14,
     "metadata": {},
     "output_type": "execute_result"
    }
   ],
   "source": [
    "import numpy as np\n",
    "numbers = np.array([[1, 2], [3, 4]])\n",
    "numbers"
   ]
  },
  {
   "cell_type": "code",
   "execution_count": 15,
   "metadata": {},
   "outputs": [
    {
     "data": {
      "text/plain": [
       "array([[100, 200],\n",
       "       [300, 400]])"
      ]
     },
     "execution_count": 15,
     "metadata": {},
     "output_type": "execute_result"
    }
   ],
   "source": [
    "big_numbers = np.array([[100,200],[300,400]])\n",
    "big_numbers"
   ]
  },
  {
   "cell_type": "code",
   "execution_count": 16,
   "metadata": {},
   "outputs": [
    {
     "data": {
      "text/plain": [
       "array([[  1,   2],\n",
       "       [  3,   4],\n",
       "       [100, 200],\n",
       "       [300, 400]])"
      ]
     },
     "execution_count": 16,
     "metadata": {},
     "output_type": "execute_result"
    }
   ],
   "source": [
    "np.concatenate((numbers, big_numbers))"
   ]
  },
  {
   "cell_type": "code",
   "execution_count": 17,
   "metadata": {
    "collapsed": true
   },
   "outputs": [],
   "source": [
    "?np.append"
   ]
  },
  {
   "cell_type": "markdown",
   "metadata": {},
   "source": [
    "```?np.append\n",
    "\n",
    "Signature: np.append(arr, values, axis=None)\n",
    "Docstring:\n",
    "Append values to the end of an array.\n",
    "\n",
    "Parameters\n",
    "----------\n",
    "arr : array_like\n",
    "    Values are appended to a copy of this array.\n",
    "values : array_like\n",
    "    These values are appended to a copy of `arr`.  It must be of the\n",
    "    correct shape (the same shape as `arr`, excluding `axis`).  If\n",
    "    `axis` is not specified, `values` can be any shape and will be\n",
    "    flattened before use.\n",
    "axis : int, optional\n",
    "    The axis along which `values` are appended.  If `axis` is not\n",
    "    given, both `arr` and `values` are flattened before use.\n",
    "\n",
    "Returns\n",
    "-------\n",
    "append : ndarray\n",
    "    A copy of `arr` with `values` appended to `axis`.  Note that\n",
    "    `append` does not occur in-place: a new array is allocated and\n",
    "    filled.  If `axis` is None, `out` is a flattened array.\n",
    "\n",
    "... more details are given.\n",
    "```"
   ]
  },
  {
   "cell_type": "code",
   "execution_count": 18,
   "metadata": {},
   "outputs": [
    {
     "data": {
      "text/plain": [
       "array([  1,   2,   3,   4, 100, 200, 300, 400])"
      ]
     },
     "execution_count": 18,
     "metadata": {},
     "output_type": "execute_result"
    }
   ],
   "source": [
    "np.append(numbers, big_numbers)"
   ]
  },
  {
   "cell_type": "code",
   "execution_count": 19,
   "metadata": {},
   "outputs": [
    {
     "data": {
      "text/plain": [
       "array([[  1,   2, 100, 200],\n",
       "       [  3,   4, 300, 400]])"
      ]
     },
     "execution_count": 19,
     "metadata": {},
     "output_type": "execute_result"
    }
   ],
   "source": [
    "np.append(numbers, big_numbers, 1)"
   ]
  },
  {
   "cell_type": "code",
   "execution_count": 20,
   "metadata": {},
   "outputs": [
    {
     "data": {
      "text/plain": [
       "array([[  1,   2],\n",
       "       [  3,   4],\n",
       "       [100, 200],\n",
       "       [300, 400]])"
      ]
     },
     "execution_count": 20,
     "metadata": {},
     "output_type": "execute_result"
    }
   ],
   "source": [
    "np.append(numbers, big_numbers, 0)"
   ]
  },
  {
   "cell_type": "code",
   "execution_count": 21,
   "metadata": {},
   "outputs": [
    {
     "data": {
      "text/plain": [
       "array([[101, 202],\n",
       "       [303, 404]])"
      ]
     },
     "execution_count": 21,
     "metadata": {},
     "output_type": "execute_result"
    }
   ],
   "source": [
    "numbers + big_numbers"
   ]
  },
  {
   "cell_type": "code",
   "execution_count": 22,
   "metadata": {},
   "outputs": [
    {
     "data": {
      "text/plain": [
       "array([[ 100,  400],\n",
       "       [ 900, 1600]])"
      ]
     },
     "execution_count": 22,
     "metadata": {},
     "output_type": "execute_result"
    }
   ],
   "source": [
    "numbers * big_numbers"
   ]
  },
  {
   "cell_type": "code",
   "execution_count": 23,
   "metadata": {},
   "outputs": [
    {
     "data": {
      "text/plain": [
       "array([[  2.71828183,   7.3890561 ],\n",
       "       [ 20.08553692,  54.59815003]])"
      ]
     },
     "execution_count": 23,
     "metadata": {},
     "output_type": "execute_result"
    }
   ],
   "source": [
    "np.exp(numbers)"
   ]
  },
  {
   "cell_type": "markdown",
   "metadata": {},
   "source": [
    "## ```Series.append```"
   ]
  },
  {
   "cell_type": "code",
   "execution_count": 24,
   "metadata": {
    "collapsed": true
   },
   "outputs": [],
   "source": [
    "import pandas as pd\n",
    "s1 = pd.Series(['a','b'])\n",
    "s2 = pd.Series([1,2])"
   ]
  },
  {
   "cell_type": "code",
   "execution_count": 25,
   "metadata": {},
   "outputs": [
    {
     "data": {
      "text/plain": [
       "0    a\n",
       "1    b\n",
       "0    1\n",
       "1    2\n",
       "dtype: object"
      ]
     },
     "execution_count": 25,
     "metadata": {},
     "output_type": "execute_result"
    }
   ],
   "source": [
    "s1.append(s2)"
   ]
  },
  {
   "cell_type": "code",
   "execution_count": 26,
   "metadata": {},
   "outputs": [
    {
     "data": {
      "text/plain": [
       "0    a\n",
       "1    b\n",
       "2    1\n",
       "3    2\n",
       "dtype: object"
      ]
     },
     "execution_count": 26,
     "metadata": {},
     "output_type": "execute_result"
    }
   ],
   "source": [
    "s1.append(s2, ignore_index=True)"
   ]
  },
  {
   "cell_type": "code",
   "execution_count": 27,
   "metadata": {},
   "outputs": [
    {
     "data": {
      "text/plain": [
       "0     2\n",
       "1     4\n",
       "0    aa\n",
       "1    bb\n",
       "dtype: object"
      ]
     },
     "execution_count": 27,
     "metadata": {},
     "output_type": "execute_result"
    }
   ],
   "source": [
    "2 * s2.append(s1)"
   ]
  },
  {
   "cell_type": "code",
   "execution_count": 28,
   "metadata": {},
   "outputs": [
    {
     "data": {
      "text/plain": [
       "0    5\n",
       "1    7\n",
       "dtype: int64"
      ]
     },
     "execution_count": 28,
     "metadata": {},
     "output_type": "execute_result"
    }
   ],
   "source": [
    "s3 = pd.Series([4, 5])\n",
    "s2 + s3"
   ]
  },
  {
   "cell_type": "markdown",
   "metadata": {},
   "source": [
    "## `DataFrame.append` and `.join`"
   ]
  },
  {
   "cell_type": "code",
   "execution_count": 29,
   "metadata": {},
   "outputs": [
    {
     "data": {
      "text/html": [
       "<div>\n",
       "<style>\n",
       "    .dataframe thead tr:only-child th {\n",
       "        text-align: right;\n",
       "    }\n",
       "\n",
       "    .dataframe thead th {\n",
       "        text-align: left;\n",
       "    }\n",
       "\n",
       "    .dataframe tbody tr th {\n",
       "        vertical-align: top;\n",
       "    }\n",
       "</style>\n",
       "<table border=\"1\" class=\"dataframe\">\n",
       "  <thead>\n",
       "    <tr style=\"text-align: right;\">\n",
       "      <th></th>\n",
       "      <th>0</th>\n",
       "      <th>1</th>\n",
       "      <th>2</th>\n",
       "    </tr>\n",
       "  </thead>\n",
       "  <tbody>\n",
       "    <tr>\n",
       "      <th>0</th>\n",
       "      <td>24</td>\n",
       "      <td>21</td>\n",
       "      <td>23</td>\n",
       "    </tr>\n",
       "    <tr>\n",
       "      <th>1</th>\n",
       "      <td>12</td>\n",
       "      <td>18</td>\n",
       "      <td>6</td>\n",
       "    </tr>\n",
       "    <tr>\n",
       "      <th>2</th>\n",
       "      <td>6</td>\n",
       "      <td>18</td>\n",
       "      <td>12</td>\n",
       "    </tr>\n",
       "  </tbody>\n",
       "</table>\n",
       "</div>"
      ],
      "text/plain": [
       "    0   1   2\n",
       "0  24  21  23\n",
       "1  12  18   6\n",
       "2   6  18  12"
      ]
     },
     "execution_count": 29,
     "metadata": {},
     "output_type": "execute_result"
    }
   ],
   "source": [
    "list_of_lists = [[24, 21, 23], \n",
    "                 [12, 18,  6], \n",
    "                 [6, 18, 12]]\n",
    "df = pd.DataFrame(list_of_lists)\n",
    "df"
   ]
  },
  {
   "cell_type": "code",
   "execution_count": 30,
   "metadata": {},
   "outputs": [
    {
     "data": {
      "text/html": [
       "<div>\n",
       "<style>\n",
       "    .dataframe thead tr:only-child th {\n",
       "        text-align: right;\n",
       "    }\n",
       "\n",
       "    .dataframe thead th {\n",
       "        text-align: left;\n",
       "    }\n",
       "\n",
       "    .dataframe tbody tr th {\n",
       "        vertical-align: top;\n",
       "    }\n",
       "</style>\n",
       "<table border=\"1\" class=\"dataframe\">\n",
       "  <thead>\n",
       "    <tr style=\"text-align: right;\">\n",
       "      <th></th>\n",
       "      <th>0</th>\n",
       "      <th>1</th>\n",
       "      <th>2</th>\n",
       "    </tr>\n",
       "  </thead>\n",
       "  <tbody>\n",
       "    <tr>\n",
       "      <th>0</th>\n",
       "      <td>24</td>\n",
       "      <td>21</td>\n",
       "      <td>23</td>\n",
       "    </tr>\n",
       "    <tr>\n",
       "      <th>1</th>\n",
       "      <td>12</td>\n",
       "      <td>18</td>\n",
       "      <td>6</td>\n",
       "    </tr>\n",
       "    <tr>\n",
       "      <th>2</th>\n",
       "      <td>6</td>\n",
       "      <td>18</td>\n",
       "      <td>12</td>\n",
       "    </tr>\n",
       "    <tr>\n",
       "      <th>0</th>\n",
       "      <td>24</td>\n",
       "      <td>21</td>\n",
       "      <td>23</td>\n",
       "    </tr>\n",
       "    <tr>\n",
       "      <th>1</th>\n",
       "      <td>12</td>\n",
       "      <td>18</td>\n",
       "      <td>6</td>\n",
       "    </tr>\n",
       "    <tr>\n",
       "      <th>2</th>\n",
       "      <td>6</td>\n",
       "      <td>18</td>\n",
       "      <td>12</td>\n",
       "    </tr>\n",
       "  </tbody>\n",
       "</table>\n",
       "</div>"
      ],
      "text/plain": [
       "    0   1   2\n",
       "0  24  21  23\n",
       "1  12  18   6\n",
       "2   6  18  12\n",
       "0  24  21  23\n",
       "1  12  18   6\n",
       "2   6  18  12"
      ]
     },
     "execution_count": 30,
     "metadata": {},
     "output_type": "execute_result"
    }
   ],
   "source": [
    "df = df.append(df)\n",
    "df"
   ]
  },
  {
   "cell_type": "code",
   "execution_count": 31,
   "metadata": {},
   "outputs": [
    {
     "data": {
      "text/html": [
       "<div>\n",
       "<style>\n",
       "    .dataframe thead tr:only-child th {\n",
       "        text-align: right;\n",
       "    }\n",
       "\n",
       "    .dataframe thead th {\n",
       "        text-align: left;\n",
       "    }\n",
       "\n",
       "    .dataframe tbody tr th {\n",
       "        vertical-align: top;\n",
       "    }\n",
       "</style>\n",
       "<table border=\"1\" class=\"dataframe\">\n",
       "  <thead>\n",
       "    <tr style=\"text-align: right;\">\n",
       "      <th></th>\n",
       "      <th>0</th>\n",
       "      <th>1</th>\n",
       "      <th>2</th>\n",
       "      <th>State</th>\n",
       "    </tr>\n",
       "  </thead>\n",
       "  <tbody>\n",
       "    <tr>\n",
       "      <th>0</th>\n",
       "      <td>24</td>\n",
       "      <td>21</td>\n",
       "      <td>23</td>\n",
       "      <td>CA</td>\n",
       "    </tr>\n",
       "    <tr>\n",
       "      <th>1</th>\n",
       "      <td>12</td>\n",
       "      <td>18</td>\n",
       "      <td>6</td>\n",
       "      <td>NM</td>\n",
       "    </tr>\n",
       "    <tr>\n",
       "      <th>2</th>\n",
       "      <td>6</td>\n",
       "      <td>18</td>\n",
       "      <td>12</td>\n",
       "      <td>AZ</td>\n",
       "    </tr>\n",
       "    <tr>\n",
       "      <th>0</th>\n",
       "      <td>24</td>\n",
       "      <td>21</td>\n",
       "      <td>23</td>\n",
       "      <td>WI</td>\n",
       "    </tr>\n",
       "    <tr>\n",
       "      <th>1</th>\n",
       "      <td>12</td>\n",
       "      <td>18</td>\n",
       "      <td>6</td>\n",
       "      <td>TX</td>\n",
       "    </tr>\n",
       "    <tr>\n",
       "      <th>2</th>\n",
       "      <td>6</td>\n",
       "      <td>18</td>\n",
       "      <td>12</td>\n",
       "      <td>NY</td>\n",
       "    </tr>\n",
       "  </tbody>\n",
       "</table>\n",
       "</div>"
      ],
      "text/plain": [
       "    0   1   2 State\n",
       "0  24  21  23    CA\n",
       "1  12  18   6    NM\n",
       "2   6  18  12    AZ\n",
       "0  24  21  23    WI\n",
       "1  12  18   6    TX\n",
       "2   6  18  12    NY"
      ]
     },
     "execution_count": 31,
     "metadata": {},
     "output_type": "execute_result"
    }
   ],
   "source": [
    "df['State'] = 'CA','NM','AZ', \"WI\", \"TX\", \"NY\"\n",
    "df"
   ]
  },
  {
   "cell_type": "markdown",
   "metadata": {},
   "source": [
    "```\n",
    "In [ ]: ?df.join\n",
    "\n",
    "Signature: df.join(other, on=None, how='left', lsuffix='', rsuffix='', sort=False)\n",
    "Docstring:\n",
    "Join columns with other DataFrame either on index or on a key\n",
    "column. Efficiently Join multiple DataFrame objects by index at once by\n",
    "passing a list.\n",
    "\n",
    "Parameters\n",
    "----------\n",
    "other : DataFrame, Series with name field set, or list of DataFrame\n",
    "    Index should be similar to one of the columns in this one. If a\n",
    "    Series is passed, its name attribute must be set, and that will be\n",
    "    used as the column name in the resulting joined DataFrame\n",
    "on : column name, tuple/list of column names, or array-like\n",
    "    Column(s) in the caller to join on the index in other,\n",
    "    otherwise joins index-on-index. If multiples\n",
    "    columns given, the passed DataFrame must have a MultiIndex. Can\n",
    "    pass an array as the join key if not already contained in the\n",
    "    calling DataFrame. Like an Excel VLOOKUP operation\n",
    "how : {'left', 'right', 'outer', 'inner'}, default: 'left'\n",
    "    How to handle the operation of the two objects.\n",
    "\n",
    "    * left: use calling frame's index (or column if on is specified)\n",
    "    * right: use other frame's index\n",
    "    * outer: form union of calling frame's index (or column if on is\n",
    "      specified) with other frame's index, and sort it\n",
    "      lexicographically\n",
    "    * inner: form intersection of calling frame's index (or column if\n",
    "      on is specified) with other frame's index, preserving the order\n",
    "      of the calling's one\n",
    "lsuffix : string\n",
    "    Suffix to use from left frame's overlapping columns\n",
    "rsuffix : string\n",
    "    Suffix to use from right frame's overlapping columns\n",
    "sort : boolean, default False\n",
    "    Order result DataFrame lexicographically by the join key. If False,\n",
    "    the order of the join key depends on the join type (how keyword)\n",
    "```"
   ]
  },
  {
   "cell_type": "code",
   "execution_count": 32,
   "metadata": {},
   "outputs": [
    {
     "data": {
      "text/html": [
       "<div>\n",
       "<style>\n",
       "    .dataframe thead tr:only-child th {\n",
       "        text-align: right;\n",
       "    }\n",
       "\n",
       "    .dataframe thead th {\n",
       "        text-align: left;\n",
       "    }\n",
       "\n",
       "    .dataframe tbody tr th {\n",
       "        vertical-align: top;\n",
       "    }\n",
       "</style>\n",
       "<table border=\"1\" class=\"dataframe\">\n",
       "  <thead>\n",
       "    <tr style=\"text-align: right;\">\n",
       "      <th></th>\n",
       "      <th>0</th>\n",
       "    </tr>\n",
       "  </thead>\n",
       "  <tbody>\n",
       "    <tr>\n",
       "      <th>CA</th>\n",
       "      <td>1</td>\n",
       "    </tr>\n",
       "    <tr>\n",
       "      <th>NM</th>\n",
       "      <td>2</td>\n",
       "    </tr>\n",
       "    <tr>\n",
       "      <th>AZ</th>\n",
       "      <td>0</td>\n",
       "    </tr>\n",
       "    <tr>\n",
       "      <th>WI</th>\n",
       "      <td>5</td>\n",
       "    </tr>\n",
       "    <tr>\n",
       "      <th>TX</th>\n",
       "      <td>4</td>\n",
       "    </tr>\n",
       "    <tr>\n",
       "      <th>NY</th>\n",
       "      <td>3</td>\n",
       "    </tr>\n",
       "  </tbody>\n",
       "</table>\n",
       "</div>"
      ],
      "text/plain": [
       "    0\n",
       "CA  1\n",
       "NM  2\n",
       "AZ  0\n",
       "WI  5\n",
       "TX  4\n",
       "NY  3"
      ]
     },
     "execution_count": 32,
     "metadata": {},
     "output_type": "execute_result"
    }
   ],
   "source": [
    "state_numbers = pd.DataFrame([1, 2, 0, 5, 4, 3], index = [\"CA\",\"NM\",\"AZ\", \"WI\", \"TX\", \"NY\"])\n",
    "state_numbers                                                           "
   ]
  },
  {
   "cell_type": "code",
   "execution_count": 33,
   "metadata": {},
   "outputs": [
    {
     "data": {
      "text/html": [
       "<div>\n",
       "<style>\n",
       "    .dataframe thead tr:only-child th {\n",
       "        text-align: right;\n",
       "    }\n",
       "\n",
       "    .dataframe thead th {\n",
       "        text-align: left;\n",
       "    }\n",
       "\n",
       "    .dataframe tbody tr th {\n",
       "        vertical-align: top;\n",
       "    }\n",
       "</style>\n",
       "<table border=\"1\" class=\"dataframe\">\n",
       "  <thead>\n",
       "    <tr style=\"text-align: right;\">\n",
       "      <th></th>\n",
       "      <th>0-l</th>\n",
       "      <th>1</th>\n",
       "      <th>2</th>\n",
       "      <th>State</th>\n",
       "      <th>0</th>\n",
       "    </tr>\n",
       "  </thead>\n",
       "  <tbody>\n",
       "    <tr>\n",
       "      <th>0</th>\n",
       "      <td>24</td>\n",
       "      <td>21</td>\n",
       "      <td>23</td>\n",
       "      <td>CA</td>\n",
       "      <td>1</td>\n",
       "    </tr>\n",
       "    <tr>\n",
       "      <th>1</th>\n",
       "      <td>12</td>\n",
       "      <td>18</td>\n",
       "      <td>6</td>\n",
       "      <td>NM</td>\n",
       "      <td>2</td>\n",
       "    </tr>\n",
       "    <tr>\n",
       "      <th>2</th>\n",
       "      <td>6</td>\n",
       "      <td>18</td>\n",
       "      <td>12</td>\n",
       "      <td>AZ</td>\n",
       "      <td>0</td>\n",
       "    </tr>\n",
       "    <tr>\n",
       "      <th>0</th>\n",
       "      <td>24</td>\n",
       "      <td>21</td>\n",
       "      <td>23</td>\n",
       "      <td>WI</td>\n",
       "      <td>5</td>\n",
       "    </tr>\n",
       "    <tr>\n",
       "      <th>1</th>\n",
       "      <td>12</td>\n",
       "      <td>18</td>\n",
       "      <td>6</td>\n",
       "      <td>TX</td>\n",
       "      <td>4</td>\n",
       "    </tr>\n",
       "    <tr>\n",
       "      <th>2</th>\n",
       "      <td>6</td>\n",
       "      <td>18</td>\n",
       "      <td>12</td>\n",
       "      <td>NY</td>\n",
       "      <td>3</td>\n",
       "    </tr>\n",
       "  </tbody>\n",
       "</table>\n",
       "</div>"
      ],
      "text/plain": [
       "   0-l   1   2 State  0\n",
       "0   24  21  23    CA  1\n",
       "1   12  18   6    NM  2\n",
       "2    6  18  12    AZ  0\n",
       "0   24  21  23    WI  5\n",
       "1   12  18   6    TX  4\n",
       "2    6  18  12    NY  3"
      ]
     },
     "execution_count": 33,
     "metadata": {},
     "output_type": "execute_result"
    }
   ],
   "source": [
    "df = df.join(state_numbers, on=\"State\", how=\"outer\", lsuffix='-l')\n",
    "df"
   ]
  },
  {
   "cell_type": "code",
   "execution_count": 34,
   "metadata": {},
   "outputs": [
    {
     "data": {
      "text/html": [
       "<div>\n",
       "<style>\n",
       "    .dataframe thead tr:only-child th {\n",
       "        text-align: right;\n",
       "    }\n",
       "\n",
       "    .dataframe thead th {\n",
       "        text-align: left;\n",
       "    }\n",
       "\n",
       "    .dataframe tbody tr th {\n",
       "        vertical-align: top;\n",
       "    }\n",
       "</style>\n",
       "<table border=\"1\" class=\"dataframe\">\n",
       "  <thead>\n",
       "    <tr style=\"text-align: right;\">\n",
       "      <th></th>\n",
       "      <th>0-l</th>\n",
       "      <th>1</th>\n",
       "      <th>2</th>\n",
       "      <th>State</th>\n",
       "      <th>0</th>\n",
       "      <th>3</th>\n",
       "    </tr>\n",
       "  </thead>\n",
       "  <tbody>\n",
       "    <tr>\n",
       "      <th>0</th>\n",
       "      <td>24</td>\n",
       "      <td>21</td>\n",
       "      <td>23</td>\n",
       "      <td>CA</td>\n",
       "      <td>1</td>\n",
       "      <td>look</td>\n",
       "    </tr>\n",
       "    <tr>\n",
       "      <th>1</th>\n",
       "      <td>12</td>\n",
       "      <td>18</td>\n",
       "      <td>6</td>\n",
       "      <td>NM</td>\n",
       "      <td>2</td>\n",
       "      <td>at</td>\n",
       "    </tr>\n",
       "    <tr>\n",
       "      <th>2</th>\n",
       "      <td>6</td>\n",
       "      <td>18</td>\n",
       "      <td>12</td>\n",
       "      <td>AZ</td>\n",
       "      <td>0</td>\n",
       "      <td>that</td>\n",
       "    </tr>\n",
       "    <tr>\n",
       "      <th>0</th>\n",
       "      <td>24</td>\n",
       "      <td>21</td>\n",
       "      <td>23</td>\n",
       "      <td>WI</td>\n",
       "      <td>5</td>\n",
       "      <td>look</td>\n",
       "    </tr>\n",
       "    <tr>\n",
       "      <th>1</th>\n",
       "      <td>12</td>\n",
       "      <td>18</td>\n",
       "      <td>6</td>\n",
       "      <td>TX</td>\n",
       "      <td>4</td>\n",
       "      <td>at</td>\n",
       "    </tr>\n",
       "    <tr>\n",
       "      <th>2</th>\n",
       "      <td>6</td>\n",
       "      <td>18</td>\n",
       "      <td>12</td>\n",
       "      <td>NY</td>\n",
       "      <td>3</td>\n",
       "      <td>that</td>\n",
       "    </tr>\n",
       "  </tbody>\n",
       "</table>\n",
       "</div>"
      ],
      "text/plain": [
       "   0-l   1   2 State  0     3\n",
       "0   24  21  23    CA  1  look\n",
       "1   12  18   6    NM  2    at\n",
       "2    6  18  12    AZ  0  that\n",
       "0   24  21  23    WI  5  look\n",
       "1   12  18   6    TX  4    at\n",
       "2    6  18  12    NY  3  that"
      ]
     },
     "execution_count": 34,
     "metadata": {},
     "output_type": "execute_result"
    }
   ],
   "source": [
    "df[3]=['look', 'at', 'that'] * 2\n",
    "df"
   ]
  },
  {
   "cell_type": "markdown",
   "metadata": {},
   "source": [
    "# Exercises\n",
    "\n",
    "`1.` Here are some beverages:  \"Water\", \"Tea\", \"Coffee\".  And here are some more: \"Milk\", \"Kefir\", \"Lemonade\".\n",
    "\n",
    "> a. Make two lists of 3 beverages each."
   ]
  },
  {
   "cell_type": "markdown",
   "metadata": {},
   "source": [
    "> b. Put your two lists into one big list in three different ways."
   ]
  },
  {
   "cell_type": "markdown",
   "metadata": {},
   "source": [
    "> c. Add \"Beer\" to your big list in 3 different ways."
   ]
  },
  {
   "cell_type": "markdown",
   "metadata": {},
   "source": [
    "> d. Get \"Beer\" into your `list` one more time, this time at the front of the list."
   ]
  },
  {
   "cell_type": "markdown",
   "metadata": {},
   "source": [
    "`2.`  Matching.  Some on the left have more than one answer on the right, and vice versa:\n",
    "\n",
    "|with this data type|you use this|facility to grow or sort|\n",
    "    |-------------:|:---:|:----|\n",
    "    |list| |1. sort_values|\n",
    "    |    |  |2. sorted|\n",
    "    |np.array |  |3. += |\n",
    "    |          |  |4. sort|\n",
    "    |pd.Series |  |5. append|\n",
    "    |          |   |6. extend|\n",
    "    |pd.DataFrame|  |7. concatenate|\n",
    "    |    |    | 8. join |"
   ]
  },
  {
   "cell_type": "markdown",
   "metadata": {},
   "source": [
    "`3.` Numpy has its own `random` sub-module.  Discover what's in it using `np.random.->` or `dir(np.random)`.  \n",
    "\n",
    ">  a. Practice by making a 3 x 4 matrix of normally distributed random numbers.  "
   ]
  },
  {
   "cell_type": "markdown",
   "metadata": {},
   "source": [
    ">  b. Study the result of `?np.random.random` and/or `?np.random.random_sample`.  They are the same.  Make a 3 x 5 matrix of random numbers, uniformly distributed between 1 and 100."
   ]
  },
  {
   "cell_type": "markdown",
   "metadata": {},
   "source": [
    ">  c. Paste your two matrices together so you have a 3 X 9 matrix using append."
   ]
  },
  {
   "cell_type": "markdown",
   "metadata": {},
   "source": [
    ">  d. Study the help for `np.concatenate`.  Use `concatenate` to get the same result."
   ]
  },
  {
   "cell_type": "markdown",
   "metadata": {},
   "source": [
    ">  e. Check your results by using `c_result.shape` and `d_result.shape`.  Also, check `c_result == d_result`."
   ]
  },
  {
   "cell_type": "markdown",
   "metadata": {},
   "source": [
    "`4`.  Put these data in a DataFrame:\n",
    "\n",
    "```python\n",
    "data = [[\"one\", \"two\"],\n",
    "        [1    , 2    ]]\n",
    "```"
   ]
  },
  {
   "cell_type": "markdown",
   "metadata": {},
   "source": [
    "> `a`.  Add a `\"three\", 3` column."
   ]
  },
  {
   "cell_type": "markdown",
   "metadata": {},
   "source": [
    "> `b`.  Add a row of the Spanish words:  uno, dos, tres; or use your own language.\n"
   ]
  },
  {
   "cell_type": "markdown",
   "metadata": {},
   "source": [
    "> `c`. Rename the index to be \"English\", \"Number\", \"Spanish\"  and the columns to be 1, 2, 3."
   ]
  },
  {
   "cell_type": "markdown",
   "metadata": {},
   "source": [
    "> `d.`  With `df.reindex(new_index)` you can move the index to a different order and each row will follow its index.\n",
    ">       Use `df.reindex` to make the order be [\"Number\", \"English\", \"Spanish\"]."
   ]
  },
  {
   "cell_type": "code",
   "execution_count": null,
   "metadata": {
    "collapsed": true
   },
   "outputs": [],
   "source": [
    "# 5 a. Here are some data representing some state's population.  Get them into a data frame.\n",
    "\n",
    "index= ['California', 'Florida', 'Pennsylvania', 'Ohio', 'North Carolina', 'New Jersey', 'Washington', 'Massachusetts', 'Indiana', 'Maryland', 'Colorado', 'South Carolina', 'Louisiana', 'Oregon', 'Connecticut', 'Utah', 'Nevada', 'Kansas', 'Nebraska', 'Idaho', 'New Hampshire', 'Rhode Island', 'Delaware', 'North Dakota', 'Vermont']\n",
    "columns= ['Pop 2017', 'Rank 2017', 'Pop/Seat, 2017']\n",
    "values = [['39,536,653', 1, '718,848'],\n",
    "['20,984,400', 3, '734,904'],\n",
    "['12,805,537', 5, '640,277'],\n",
    "['11,658,609', 7, '647,701'],\n",
    "['10,273,419', 9, '684,895'],\n",
    "['9,005,644', 11, '643,260'],\n",
    "['7,405,743', 13, '617,145'],\n",
    "['6,859,819', 15, '623,620'],\n",
    "['6,666,818', 17, '606,074'],\n",
    "['6,052,177', 19, '605,218'],\n",
    "['5,607,154', 21, '623,017'],\n",
    "['5,024,369', 23, '558,263'],\n",
    "['4,684,333', 25, '585,542'],\n",
    "['4,142,776', 27, '591,825'],\n",
    "['3,588,184', 29, '512,598'],\n",
    "['3,101,833', 31, '516,972'],\n",
    "['2,998,039', 33, '499,673'],\n",
    "['2,913,123', 35, '485,521'],\n",
    "['1,920,076', 37, '384,015'],\n",
    "['1,716,943', 39, '429,236'],\n",
    "['1,342,795', 41, '335,699'],\n",
    "['1,059,639', 43, '264,910'],\n",
    "['961,939', 45, '320,646'],\n",
    "['755,393', 47, '251,798'],\n",
    "['623,657', 49, '207,886']]"
   ]
  },
  {
   "cell_type": "code",
   "execution_count": null,
   "metadata": {
    "collapsed": true
   },
   "outputs": [],
   "source": [
    "# 5.b And here are some more states and their populations. Get them into a dataframe.\n",
    "\n",
    "data = [['State', 'Pop 2017', 'Rank 2017', 'Pop/Seat, 2017'],\n",
    "['Texas', '28,304,596', 2, '744,858'],\n",
    "['New York', '19,849,399', 4, '684,462'],\n",
    "['Illinois', '12,802,023', 6, '640,101'],\n",
    "['Georgia', '10,429,379', 8, '651,836'],\n",
    "['Michigan', '9,962,311', 10, '622,644'],\n",
    "['Virginia', '8,470,020', 12, '651,540'],\n",
    "['Arizona', '7,016,270', 14, '637,843'],\n",
    "['Tennessee', '6,715,984', 16, '610,544'],\n",
    "['Missouri', '6,113,532', 18, '611,353'],\n",
    "['Wisconsin', '5,795,483', 20, '579,548'],\n",
    "['Minnesota', '5,576,606', 22, '557,661'],\n",
    "['Alabama', '4,874,747', 24, '541,639'],\n",
    "['Kentucky', '4,454,189', 26, '556,774'],\n",
    "['Oklahoma', '3,930,864', 28, '561,552'],\n",
    "['Iowa', '3,145,711', 30, '524,285'],\n",
    "['Arkansas', '3,004,279', 32, '500,713'],\n",
    "['Mississippi', '2,984,100', 34, '497,350'],\n",
    "['New Mexico', '2,088,070', 36, '417,614'],\n",
    "['West Virginia', '1,815,857', 38, '363,171'],\n",
    "['Hawaii', '1,427,538', 40, '356,885'],\n",
    "['Maine', '1,335,907', 42, '333,977'],\n",
    "['Montana', '1,050,493', 44, '350,164'],\n",
    "['South Dakota', '869,666', 46, '289,889'],\n",
    "['Alaska', '739,795', 48, '246,598'],\n",
    "['Wyoming', '579,315', 50, '193,105']]\n"
   ]
  },
  {
   "cell_type": "code",
   "execution_count": null,
   "metadata": {
    "collapsed": true
   },
   "outputs": [],
   "source": [
    "# 5.c.  Finally, here are some data for each state's symbols.  Make them into another dataframe.\n",
    "\n",
    "index= ['Alabama', 'Alaska', 'Arizona', 'Arkansas', 'California', 'Colorado', 'Connecticut', 'Delaware', 'Florida', 'Georgia', 'Hawaii', 'Idaho', 'Illinois', 'Indiana', 'Iowa', 'Kansas', 'Kentucky', 'Louisiana', 'Maine', 'Maryland', 'Massachusetts', 'Michigan', 'Minnesota', 'Mississippi', 'Missouri', 'Montana', 'Nebraska', 'Nevada', 'New Hampshire', 'New Jersey', 'New Mexico', 'New York', 'North Carolina', 'North Dakota', 'Ohio', 'Oklahoma', 'Oregon', 'Pennsylvania', 'Rhode Island', 'South Carolina', 'South Dakota', 'Tennessee', 'Texas', 'Utah', 'Vermont', 'Virginia', 'Washington', 'West Virginia', 'Wisconsin', 'Wyoming', 'Washington, D.C.']\n",
    "columns= ['Capital', 'Largest City', 'Bird', 'Flower']\n",
    "values = [['Montgomery', 'Birmingham', 'Yellowhammer', 'Camellia'],\n",
    "['Juneau', 'Anchorage', 'Willow Ptarmigan', 'Forget-me-not'],\n",
    "['Phoenix', 'Phoenix', 'Cactus Wren', 'Saguaro Cactus Blossom'],\n",
    "['Little Rock', 'Little Rock', 'Mockingbird', 'Apple Blossom'],\n",
    "['Sacramento', 'Los Angeles', 'California Valley Quail', 'Golden Poppy'],\n",
    "['Denver', 'Denver', 'Lark Bunting', 'Columbine'],\n",
    "['Hartford', 'Bridgeport', 'American Robin', 'Mountain Laurel'],\n",
    "['Dover', 'Wilmington', 'Blue Hen Chicken', 'Peach Blossom'],\n",
    "['Tallahassee', 'Jacksonville', 'Mockingbird', 'Orange Blossom'],\n",
    "['Atlanta', 'Atlanta', 'Brown Thrasher', 'Cherokee Rose'],\n",
    "['Honolulu', 'Honolulu', 'Nene (Hawaiian Goose)', 'Hibiscus'],\n",
    "['Boise', 'Boise', 'Mountain Bluebird', 'Syringa'],\n",
    "['Springfield', 'Chicago', 'Cardinal', 'Native violet'],\n",
    "['Indianapolis', 'Indianapolis', 'Cardinal', 'Peony'],\n",
    "['Des Moines', 'Des Moines', 'Eastern Goldfinch', 'Wild Rose'],\n",
    "['Topeka', 'Wichita', 'Western Meadowlark', 'Native Sunflower'],\n",
    "['Frankfort', 'Louisville', 'Kentucky Cardinal', 'Goldenrod'],\n",
    "['Baton Rouge', 'New Orleans', 'Pelican', 'Magnolia'],\n",
    "['Augusta', 'Portland', 'Chickadee', 'White Pine Cone and Tassel'],\n",
    "['Annapolis', 'Baltimore', 'Baltimore Oriole', 'Black-Eyed Susan'],\n",
    "['Boston', 'Boston', 'Chickadee', 'Mayflower'],\n",
    "['Lansing', 'Detroit', 'Robin', 'Apple Blossom'],\n",
    "['St. Paul', 'Minneapolis', 'Common Loon', \"Pink and White Lady's Slipper\"],\n",
    "['Jackson', 'Jackson', 'Mockingbird', 'Magnolia'],\n",
    "['Jefferson City', 'Kansas City', 'Bluebird', 'Hawthorn'],\n",
    "['Helena', 'Billings', 'Western Meadowlark', 'Bitterroot'],\n",
    "['Lincoln', 'Omaha', 'Western Meadowlark', 'Goldenrod'],\n",
    "['Carson City', 'Las Vegas', 'Mountain Bluebird', 'Sagebrush'],\n",
    "['Concord', 'Manchester', 'Purple Finch', 'Purple Lilac'],\n",
    "['Trenton', 'Newark', 'Eastern Goldfinch', 'Purple Violet'],\n",
    "['Santa Fe', 'Albuquerque', 'Roadrunner', 'Yucca Flower'],\n",
    "['Albany', 'New York', 'Bluebird', 'Rose'],\n",
    "['Raleigh', 'Charlotte', 'Cardinal', 'Dogwood'],\n",
    "['Bismarck', 'Fargo', 'Western Meadowlark', 'Wild Prairie Rose'],\n",
    "['Columbus', 'Columbus', 'Cardinal', 'Scarlet Carnation'],\n",
    "['Oklahoma City', 'Oklahoma City', 'Scissor-Tailed Flycatcher', 'Mistletoe'],\n",
    "['Salem', 'Portland', 'Western Meadowlark', 'Oregon Grape'],\n",
    "['Harrisburg', 'Philadelphia', 'Ruffed Grouse', 'Mountain Laurel'],\n",
    "['Providence', 'Providence', 'Rhode Island Red', 'Violet'],\n",
    "['Columbia', 'Columbia', 'Carolina Wren', 'Yellow Jessamine'],\n",
    "['Pierre', 'Sioux Falls', 'Ring-Necked Pheasant', 'American Pasqueflower'],\n",
    "['Nashville', 'Memphis', 'Mockingbird', 'Iris'],\n",
    "['Austin', 'Houston', 'Mockingbird', 'Bluebonnet'],\n",
    "['Salt Lake City', 'Salt Lake City', 'California Gull', 'Sego Lily'],\n",
    "['Montpelier', 'Burlington', 'Hermit Thrush', 'Red Clover'],\n",
    "['Richmond', 'Virginia Beach', 'Cardinal', 'Dogwood'],\n",
    "['Olympia', 'Seattle', 'Willow Goldfinch', 'Western Rhododendron'],\n",
    "['Charleston', 'Charleston', 'Cardinal', 'Big Rhododendron'],\n",
    "['Madison', 'Milwaukee', 'Robin', 'Wood Violet'],\n",
    "['Cheyenne', 'Cheyenne', 'Meadowlark', 'Indian Paintbrush'],\n",
    "['None', 'Washington', 'Woodthrush', 'American Beauty Rose']]\n"
   ]
  },
  {
   "cell_type": "markdown",
   "metadata": {},
   "source": [
    "> `5. d.` Get all that data into one DataFrame, joined on the state."
   ]
  },
  {
   "cell_type": "markdown",
   "metadata": {},
   "source": [
    "` 5. e.` Note that Washington DC had no information about population, nor does it have a state capital. NaN (Not A Number) is placed in those fields by default, which is available to you as `np.nan`.  \n",
    "\n",
    "Optional now because we will have a lab about this:  Check out `?pd.DataFrame.fillna` to see how to change them from NaN to \"missing\".  The first argument mentioned is `self`, which is an identifier for the DataFrame that is calling the method.  Python fills that in so you can ignore it.\n",
    "\n",
    "`df.head()` shows you the first 5 rows of the dataframe.\n",
    "`df.tail()` shows you the last 5 rows of the dataframe."
   ]
  }
 ],
 "metadata": {
  "kernelspec": {
   "display_name": "Python 3",
   "language": "python",
   "name": "python3"
  },
  "language_info": {
   "codemirror_mode": {
    "name": "ipython",
    "version": 3
   },
   "file_extension": ".py",
   "mimetype": "text/x-python",
   "name": "python",
   "nbconvert_exporter": "python",
   "pygments_lexer": "ipython3",
   "version": "3.7.3"
  }
 },
 "nbformat": 4,
 "nbformat_minor": 2
}
