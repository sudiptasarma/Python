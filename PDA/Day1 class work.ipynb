{
 "cells": [
  {
   "cell_type": "code",
   "execution_count": 1,
   "metadata": {},
   "outputs": [
    {
     "data": {
      "text/plain": [
       "int"
      ]
     },
     "execution_count": 1,
     "metadata": {},
     "output_type": "execute_result"
    }
   ],
   "source": [
    "type(1)\n"
   ]
  },
  {
   "cell_type": "code",
   "execution_count": 3,
   "metadata": {},
   "outputs": [],
   "source": [
    "color = \"blue\""
   ]
  },
  {
   "cell_type": "code",
   "execution_count": 4,
   "metadata": {},
   "outputs": [
    {
     "data": {
      "text/plain": [
       "'blue'"
      ]
     },
     "execution_count": 4,
     "metadata": {},
     "output_type": "execute_result"
    }
   ],
   "source": [
    "color"
   ]
  },
  {
   "cell_type": "code",
   "execution_count": 5,
   "metadata": {},
   "outputs": [
    {
     "data": {
      "text/plain": [
       "7"
      ]
     },
     "execution_count": 5,
     "metadata": {},
     "output_type": "execute_result"
    }
   ],
   "source": [
    "3+4"
   ]
  },
  {
   "cell_type": "code",
   "execution_count": 6,
   "metadata": {},
   "outputs": [
    {
     "data": {
      "text/plain": [
       "0.75"
      ]
     },
     "execution_count": 6,
     "metadata": {},
     "output_type": "execute_result"
    }
   ],
   "source": [
    "3/4"
   ]
  },
  {
   "cell_type": "code",
   "execution_count": 7,
   "metadata": {},
   "outputs": [
    {
     "data": {
      "text/plain": [
       "float"
      ]
     },
     "execution_count": 7,
     "metadata": {},
     "output_type": "execute_result"
    }
   ],
   "source": [
    "type(3/4)"
   ]
  },
  {
   "cell_type": "code",
   "execution_count": 8,
   "metadata": {},
   "outputs": [
    {
     "ename": "NameError",
     "evalue": "name 'upper' is not defined",
     "output_type": "error",
     "traceback": [
      "\u001b[0;31m---------------------------------------------------------------------------\u001b[0m",
      "\u001b[0;31mNameError\u001b[0m                                 Traceback (most recent call last)",
      "\u001b[0;32m<ipython-input-8-7890a8a6d9c0>\u001b[0m in \u001b[0;36m<module>\u001b[0;34m\u001b[0m\n\u001b[0;32m----> 1\u001b[0;31m \u001b[0mupper\u001b[0m\u001b[0;34m(\u001b[0m\u001b[0mcolor\u001b[0m\u001b[0;34m)\u001b[0m\u001b[0;34m\u001b[0m\u001b[0;34m\u001b[0m\u001b[0m\n\u001b[0m",
      "\u001b[0;31mNameError\u001b[0m: name 'upper' is not defined"
     ]
    }
   ],
   "source": [
    "upper(color)"
   ]
  },
  {
   "cell_type": "code",
   "execution_count": 9,
   "metadata": {},
   "outputs": [
    {
     "data": {
      "text/plain": [
       "'BLUE'"
      ]
     },
     "execution_count": 9,
     "metadata": {},
     "output_type": "execute_result"
    }
   ],
   "source": [
    "color.upper()"
   ]
  },
  {
   "cell_type": "code",
   "execution_count": 10,
   "metadata": {},
   "outputs": [
    {
     "ename": "SyntaxError",
     "evalue": "invalid syntax (<ipython-input-10-9d575e99a0fd>, line 1)",
     "output_type": "error",
     "traceback": [
      "\u001b[0;36m  File \u001b[0;32m\"<ipython-input-10-9d575e99a0fd>\"\u001b[0;36m, line \u001b[0;32m1\u001b[0m\n\u001b[0;31m    a --\u001b[0m\n\u001b[0m        ^\u001b[0m\n\u001b[0;31mSyntaxError\u001b[0m\u001b[0;31m:\u001b[0m invalid syntax\n"
     ]
    }
   ],
   "source": [
    "a --"
   ]
  },
  {
   "cell_type": "code",
   "execution_count": 11,
   "metadata": {},
   "outputs": [
    {
     "name": "stdout",
     "output_type": "stream",
     "text": [
      "Object `color.upper()` not found.\n"
     ]
    }
   ],
   "source": [
    "?color.upper()"
   ]
  },
  {
   "cell_type": "code",
   "execution_count": 12,
   "metadata": {},
   "outputs": [],
   "source": [
    "?color"
   ]
  },
  {
   "cell_type": "code",
   "execution_count": 13,
   "metadata": {},
   "outputs": [
    {
     "ename": "AttributeError",
     "evalue": "'str' object has no attribute 'length'",
     "output_type": "error",
     "traceback": [
      "\u001b[0;31m---------------------------------------------------------------------------\u001b[0m",
      "\u001b[0;31mAttributeError\u001b[0m                            Traceback (most recent call last)",
      "\u001b[0;32m<ipython-input-13-443171518392>\u001b[0m in \u001b[0;36m<module>\u001b[0;34m\u001b[0m\n\u001b[0;32m----> 1\u001b[0;31m \u001b[0mcolor\u001b[0m\u001b[0;34m.\u001b[0m\u001b[0mlength\u001b[0m\u001b[0;34m(\u001b[0m\u001b[0;34m)\u001b[0m\u001b[0;34m\u001b[0m\u001b[0;34m\u001b[0m\u001b[0m\n\u001b[0m",
      "\u001b[0;31mAttributeError\u001b[0m: 'str' object has no attribute 'length'"
     ]
    }
   ],
   "source": [
    "color.length()"
   ]
  },
  {
   "cell_type": "code",
   "execution_count": 14,
   "metadata": {},
   "outputs": [
    {
     "name": "stdout",
     "output_type": "stream",
     "text": [
      "\u001b[34mAnswers\u001b[m\u001b[m\r\n",
      "\u001b[34mDataSets\u001b[m\u001b[m\r\n",
      "\u001b[34mFullLabs\u001b[m\u001b[m\r\n",
      "Lab01_Data_Types_No_Answers.ipynb\r\n",
      "Lab02_Functions_And_Imports_No_Answers.ipynb\r\n",
      "Lab03_Container_Types_No_Answers.ipynb\r\n",
      "Lab04_More_Containers_No_Answers.ipynb\r\n",
      "Lab05_Sorting_Containers_No_Answers.ipynb\r\n",
      "Lab06_Growing_Containers_No_Answers.ipynb\r\n",
      "Lab07_Flow_Of_Control_No_Answers.ipynb\r\n",
      "Lab08_Iterating_A_Sequence_No_Answers.ipynb\r\n",
      "Lab09_Iterating_Containers_No_Answers.ipynb\r\n",
      "Lab10_Function_Creation_No_Answers.ipynb\r\n",
      "Lab11_Applying_Functions_No_Answers.ipynb\r\n",
      "Lab12_Functional_Programming_No_Answers.ipynb\r\n",
      "Lab13_Dictionaries_No_Answers.ipynb\r\n",
      "Lab14_Dictionary_Marvels_No_Answers.ipynb\r\n",
      "Lab15_File_IO_No_Answers.ipynb\r\n",
      "Lab16_Cleaning_Data_No_Answers.ipynb\r\n",
      "Lab17_Timed_Data_No_Answers.ipynb\r\n",
      "Lab18_Grouping_No_Answers.ipynb\r\n",
      "Lab19_Generator_No_Answers.ipynb\r\n",
      "Lab20_Custom_Data_Types_No_Answers.ipynb\r\n",
      "Untitled.ipynb\r\n",
      "\u001b[31mfind_this.py\u001b[m\u001b[m\r\n"
     ]
    }
   ],
   "source": [
    "!ls"
   ]
  },
  {
   "cell_type": "code",
   "execution_count": 19,
   "metadata": {},
   "outputs": [
    {
     "name": "stdout",
     "output_type": "stream",
     "text": [
      "['./find_this.py', 'JSON']\n",
      "find_this.py JSON .\n",
      "['./Lab01_Data_Types_No_Answers.ipynb', './Lab02_Functions_And_Imports_No_Answers.ipynb', './Lab03_Container_Types_No_Answers.ipynb', './Lab04_More_Containers_No_Answers.ipynb', './Lab05_Sorting_Containers_No_Answers.ipynb', './Lab06_Growing_Containers_No_Answers.ipynb', './Lab07_Flow_Of_Control_No_Answers.ipynb', './Lab08_Iterating_A_Sequence_No_Answers.ipynb', './Lab09_Iterating_Containers_No_Answers.ipynb', './Lab10_Function_Creation_No_Answers.ipynb', './Lab11_Applying_Functions_No_Answers.ipynb', './Lab12_Functional_Programming_No_Answers.ipynb', './Lab13_Dictionaries_No_Answers.ipynb', './Lab14_Dictionary_Marvels_No_Answers.ipynb', './Lab15_File_IO_No_Answers.ipynb', './Lab16_Cleaning_Data_No_Answers.ipynb', './Lab17_Timed_Data_No_Answers.ipynb', './Lab18_Grouping_No_Answers.ipynb', './Lab19_Generator_No_Answers.ipynb', './Lab20_Custom_Data_Types_No_Answers.ipynb']\n",
      "\n",
      "\n",
      "Lab01_Data_Types_No_Answers:\n",
      "\n",
      "\tMarkdown:cell #8\n",
      " 8:In[2]: ./find_this.py JSON\n",
      "16:10:### JSON\n",
      "18:7:JSON is Python code in `str` form.  JSON can contain `dict`, `list`, `str`, numbers, '\\\\\\\"true/false\\\\\\\"' instead of `True/False` and `\\\\\\\"null\\\\\\\"` instead of `None`\n",
      "20:10:text\\\\tJSON\\\\tread_json\\\\tto_json\n",
      "22:46:<td>JSON</td>\n",
      "23:130:text                         JSON       read_json       to_json\n",
      "25:45:<th>JSON</th>\n",
      "26:130:JSON                        text       read_json       to_json\n",
      "28:4:`6.` The `cities` DataFrame is not suitable for saving as JSON.  Why not?\n",
      "30:and you see that JSON is discussed in Lab15_File_IO.\n",
      "32:If you want to look for \\\"JSON\\\" in the `FullLabs` directory, use another argument to `find_this.py`:\n",
      "35:In [2]:!. /find_this.py JSON FullLabs\n",
      "\n",
      "Lab15_File_IO_No_Answers:\n",
      "\n",
      "\tMarkdown:cell #1\n",
      "10:### JSON\n",
      "\tMarkdown:cell #2\n",
      " 7:JSON is Python code in `str` form.  JSON can contain `dict`, `list`, `str`, numbers, '\\\"true/false\\\"' instead of `True/False` and `\\\"null\\\"` instead of `None`\n",
      "\tMarkdown:cell #11\n",
      "10:text\\tJSON\\tread_json\\tto_json\n",
      "\tCode:cell #12\n",
      "46:<td>JSON</td>\n",
      "130:text                         JSON       read_json       to_json\n",
      "\tCode:cell #15\n",
      "45:<th>JSON</th>\n",
      "130:JSON                        text       read_json       to_json\n",
      "\tMarkdown:cell #29\n",
      " 4:`6.` The `cities` DataFrame is not suitable for saving as JSON.  Why not?\n"
     ]
    }
   ],
   "source": [
    "! ./find_this.py JSON"
   ]
  },
  {
   "cell_type": "code",
   "execution_count": 20,
   "metadata": {},
   "outputs": [
    {
     "data": {
      "text/plain": [
       "'__abs__,__add__,__and__,__bool__,__ceil__,__class__,__delattr__,__dir__,__divmod__,__doc__,__eq__,__float__,__floor__,__floordiv__,__format__,__ge__,__getattribute__,__getnewargs__,__gt__,__hash__,__index__,__init__,__init_subclass__,__int__,__invert__,__le__,__lshift__,__lt__,__mod__,__mul__,__ne__,__neg__,__new__,__or__,__pos__,__pow__,__radd__,__rand__,__rdivmod__,__reduce__,__reduce_ex__,__repr__,__rfloordiv__,__rlshift__,__rmod__,__rmul__,__ror__,__round__,__rpow__,__rrshift__,__rshift__,__rsub__,__rtruediv__,__rxor__,__setattr__,__sizeof__,__str__,__sub__,__subclasshook__,__truediv__,__trunc__,__xor__,bit_length,conjugate,denominator,from_bytes,imag,numerator,real,to_bytes'"
      ]
     },
     "execution_count": 20,
     "metadata": {},
     "output_type": "execute_result"
    }
   ],
   "source": [
    "','.join(dir(1))\n"
   ]
  },
  {
   "cell_type": "code",
   "execution_count": 21,
   "metadata": {},
   "outputs": [
    {
     "data": {
      "text/plain": [
       "['__abs__',\n",
       " '__add__',\n",
       " '__and__',\n",
       " '__bool__',\n",
       " '__ceil__',\n",
       " '__class__',\n",
       " '__delattr__',\n",
       " '__dir__',\n",
       " '__divmod__',\n",
       " '__doc__',\n",
       " '__eq__',\n",
       " '__float__',\n",
       " '__floor__',\n",
       " '__floordiv__',\n",
       " '__format__',\n",
       " '__ge__',\n",
       " '__getattribute__',\n",
       " '__getnewargs__',\n",
       " '__gt__',\n",
       " '__hash__',\n",
       " '__index__',\n",
       " '__init__',\n",
       " '__init_subclass__',\n",
       " '__int__',\n",
       " '__invert__',\n",
       " '__le__',\n",
       " '__lshift__',\n",
       " '__lt__',\n",
       " '__mod__',\n",
       " '__mul__',\n",
       " '__ne__',\n",
       " '__neg__',\n",
       " '__new__',\n",
       " '__or__',\n",
       " '__pos__',\n",
       " '__pow__',\n",
       " '__radd__',\n",
       " '__rand__',\n",
       " '__rdivmod__',\n",
       " '__reduce__',\n",
       " '__reduce_ex__',\n",
       " '__repr__',\n",
       " '__rfloordiv__',\n",
       " '__rlshift__',\n",
       " '__rmod__',\n",
       " '__rmul__',\n",
       " '__ror__',\n",
       " '__round__',\n",
       " '__rpow__',\n",
       " '__rrshift__',\n",
       " '__rshift__',\n",
       " '__rsub__',\n",
       " '__rtruediv__',\n",
       " '__rxor__',\n",
       " '__setattr__',\n",
       " '__sizeof__',\n",
       " '__str__',\n",
       " '__sub__',\n",
       " '__subclasshook__',\n",
       " '__truediv__',\n",
       " '__trunc__',\n",
       " '__xor__',\n",
       " 'bit_length',\n",
       " 'conjugate',\n",
       " 'denominator',\n",
       " 'from_bytes',\n",
       " 'imag',\n",
       " 'numerator',\n",
       " 'real',\n",
       " 'to_bytes']"
      ]
     },
     "execution_count": 21,
     "metadata": {},
     "output_type": "execute_result"
    }
   ],
   "source": [
    "dir(1)"
   ]
  },
  {
   "cell_type": "code",
   "execution_count": 22,
   "metadata": {},
   "outputs": [
    {
     "data": {
      "text/plain": [
       "str"
      ]
     },
     "execution_count": 22,
     "metadata": {},
     "output_type": "execute_result"
    }
   ],
   "source": [
    "type(\"There will be an answer.\")"
   ]
  },
  {
   "cell_type": "code",
   "execution_count": 23,
   "metadata": {},
   "outputs": [
    {
     "data": {
      "text/plain": [
       "'__add__,__class__,__contains__,__delattr__,__dir__,__doc__,__eq__,__format__,__ge__,__getattribute__,__getitem__,__getnewargs__,__gt__,__hash__,__init__,__init_subclass__,__iter__,__le__,__len__,__lt__,__mod__,__mul__,__ne__,__new__,__reduce__,__reduce_ex__,__repr__,__rmod__,__rmul__,__setattr__,__sizeof__,__str__,__subclasshook__,capitalize,casefold,center,count,encode,endswith,expandtabs,find,format,format_map,index,isalnum,isalpha,isascii,isdecimal,isdigit,isidentifier,islower,isnumeric,isprintable,isspace,istitle,isupper,join,ljust,lower,lstrip,maketrans,partition,replace,rfind,rindex,rjust,rpartition,rsplit,rstrip,split,splitlines,startswith,strip,swapcase,title,translate,upper,zfill'"
      ]
     },
     "execution_count": 23,
     "metadata": {},
     "output_type": "execute_result"
    }
   ],
   "source": [
    "','.join(dir(str))"
   ]
  },
  {
   "cell_type": "code",
   "execution_count": 24,
   "metadata": {},
   "outputs": [],
   "source": [
    "mystr = \"There will be an answer.\""
   ]
  },
  {
   "cell_type": "code",
   "execution_count": 25,
   "metadata": {},
   "outputs": [],
   "source": [
    "my2str = \"Let it be.\""
   ]
  },
  {
   "cell_type": "code",
   "execution_count": 26,
   "metadata": {},
   "outputs": [
    {
     "data": {
      "text/plain": [
       "'there will be an answer.'"
      ]
     },
     "execution_count": 26,
     "metadata": {},
     "output_type": "execute_result"
    }
   ],
   "source": [
    "mystr.lower()"
   ]
  },
  {
   "cell_type": "code",
   "execution_count": 27,
   "metadata": {},
   "outputs": [
    {
     "data": {
      "text/plain": [
       "'There will be an answer.Let it be.'"
      ]
     },
     "execution_count": 27,
     "metadata": {},
     "output_type": "execute_result"
    }
   ],
   "source": [
    "mystr+my2str"
   ]
  },
  {
   "cell_type": "code",
   "execution_count": 28,
   "metadata": {},
   "outputs": [
    {
     "data": {
      "text/plain": [
       "False"
      ]
     },
     "execution_count": 28,
     "metadata": {},
     "output_type": "execute_result"
    }
   ],
   "source": [
    "mystr.islower()"
   ]
  },
  {
   "cell_type": "code",
   "execution_count": 29,
   "metadata": {},
   "outputs": [
    {
     "data": {
      "text/plain": [
       "['There', 'will', 'be', 'an', 'answer.']"
      ]
     },
     "execution_count": 29,
     "metadata": {},
     "output_type": "execute_result"
    }
   ],
   "source": [
    "mystr.split()"
   ]
  },
  {
   "cell_type": "code",
   "execution_count": 30,
   "metadata": {},
   "outputs": [
    {
     "data": {
      "text/plain": [
       "'buttonbuttonbutton'"
      ]
     },
     "execution_count": 30,
     "metadata": {},
     "output_type": "execute_result"
    }
   ],
   "source": [
    "3*\"button\""
   ]
  },
  {
   "cell_type": "code",
   "execution_count": 31,
   "metadata": {},
   "outputs": [
    {
     "ename": "NameError",
     "evalue": "name 'true' is not defined",
     "output_type": "error",
     "traceback": [
      "\u001b[0;31m---------------------------------------------------------------------------\u001b[0m",
      "\u001b[0;31mNameError\u001b[0m                                 Traceback (most recent call last)",
      "\u001b[0;32m<ipython-input-31-c715ded85c9d>\u001b[0m in \u001b[0;36m<module>\u001b[0;34m\u001b[0m\n\u001b[0;32m----> 1\u001b[0;31m \u001b[0mdir\u001b[0m\u001b[0;34m(\u001b[0m\u001b[0mtrue\u001b[0m\u001b[0;34m)\u001b[0m\u001b[0;34m\u001b[0m\u001b[0;34m\u001b[0m\u001b[0m\n\u001b[0m",
      "\u001b[0;31mNameError\u001b[0m: name 'true' is not defined"
     ]
    }
   ],
   "source": [
    "dir(true)"
   ]
  },
  {
   "cell_type": "code",
   "execution_count": 32,
   "metadata": {},
   "outputs": [
    {
     "ename": "NameError",
     "evalue": "name 'boolean' is not defined",
     "output_type": "error",
     "traceback": [
      "\u001b[0;31m---------------------------------------------------------------------------\u001b[0m",
      "\u001b[0;31mNameError\u001b[0m                                 Traceback (most recent call last)",
      "\u001b[0;32m<ipython-input-32-5c3e84e23641>\u001b[0m in \u001b[0;36m<module>\u001b[0;34m\u001b[0m\n\u001b[0;32m----> 1\u001b[0;31m \u001b[0mdir\u001b[0m\u001b[0;34m(\u001b[0m\u001b[0mboolean\u001b[0m\u001b[0;34m)\u001b[0m\u001b[0;34m\u001b[0m\u001b[0;34m\u001b[0m\u001b[0m\n\u001b[0m",
      "\u001b[0;31mNameError\u001b[0m: name 'boolean' is not defined"
     ]
    }
   ],
   "source": [
    "dir(boolean)"
   ]
  },
  {
   "cell_type": "code",
   "execution_count": 33,
   "metadata": {},
   "outputs": [
    {
     "ename": "NameError",
     "evalue": "name 'log' is not defined",
     "output_type": "error",
     "traceback": [
      "\u001b[0;31m---------------------------------------------------------------------------\u001b[0m",
      "\u001b[0;31mNameError\u001b[0m                                 Traceback (most recent call last)",
      "\u001b[0;32m<ipython-input-33-0a816b14e1a2>\u001b[0m in \u001b[0;36m<module>\u001b[0;34m\u001b[0m\n\u001b[0;32m----> 1\u001b[0;31m \u001b[0mlog\u001b[0m\u001b[0;34m(\u001b[0m\u001b[0;36m10\u001b[0m\u001b[0;34m)\u001b[0m\u001b[0;34m\u001b[0m\u001b[0;34m\u001b[0m\u001b[0m\n\u001b[0m",
      "\u001b[0;31mNameError\u001b[0m: name 'log' is not defined"
     ]
    }
   ],
   "source": [
    "log(10)"
   ]
  },
  {
   "cell_type": "code",
   "execution_count": 34,
   "metadata": {},
   "outputs": [
    {
     "ename": "NameError",
     "evalue": "name 'log' is not defined",
     "output_type": "error",
     "traceback": [
      "\u001b[0;31m---------------------------------------------------------------------------\u001b[0m",
      "\u001b[0;31mNameError\u001b[0m                                 Traceback (most recent call last)",
      "\u001b[0;32m<ipython-input-34-1cc0951f50b3>\u001b[0m in \u001b[0;36m<module>\u001b[0;34m\u001b[0m\n\u001b[0;32m----> 1\u001b[0;31m \u001b[0mhelp\u001b[0m\u001b[0;34m(\u001b[0m\u001b[0mlog\u001b[0m\u001b[0;34m)\u001b[0m\u001b[0;34m\u001b[0m\u001b[0;34m\u001b[0m\u001b[0m\n\u001b[0m",
      "\u001b[0;31mNameError\u001b[0m: name 'log' is not defined"
     ]
    }
   ],
   "source": [
    "help(log)"
   ]
  },
  {
   "cell_type": "code",
   "execution_count": 35,
   "metadata": {},
   "outputs": [
    {
     "ename": "NameError",
     "evalue": "name 'math' is not defined",
     "output_type": "error",
     "traceback": [
      "\u001b[0;31m---------------------------------------------------------------------------\u001b[0m",
      "\u001b[0;31mNameError\u001b[0m                                 Traceback (most recent call last)",
      "\u001b[0;32m<ipython-input-35-e606f19bc963>\u001b[0m in \u001b[0;36m<module>\u001b[0;34m\u001b[0m\n\u001b[0;32m----> 1\u001b[0;31m \u001b[0mhelp\u001b[0m\u001b[0;34m(\u001b[0m\u001b[0mmath\u001b[0m\u001b[0;34m)\u001b[0m\u001b[0;34m\u001b[0m\u001b[0;34m\u001b[0m\u001b[0m\n\u001b[0m",
      "\u001b[0;31mNameError\u001b[0m: name 'math' is not defined"
     ]
    }
   ],
   "source": [
    "help(math)"
   ]
  },
  {
   "cell_type": "code",
   "execution_count": 36,
   "metadata": {},
   "outputs": [
    {
     "ename": "NameError",
     "evalue": "name 'true' is not defined",
     "output_type": "error",
     "traceback": [
      "\u001b[0;31m---------------------------------------------------------------------------\u001b[0m",
      "\u001b[0;31mNameError\u001b[0m                                 Traceback (most recent call last)",
      "\u001b[0;32m<ipython-input-36-6f4d8242c3d0>\u001b[0m in \u001b[0;36m<module>\u001b[0;34m\u001b[0m\n\u001b[0;32m----> 1\u001b[0;31m \u001b[0mtype\u001b[0m\u001b[0;34m(\u001b[0m\u001b[0mtrue\u001b[0m\u001b[0;34m)\u001b[0m\u001b[0;34m\u001b[0m\u001b[0;34m\u001b[0m\u001b[0m\n\u001b[0m",
      "\u001b[0;31mNameError\u001b[0m: name 'true' is not defined"
     ]
    }
   ],
   "source": [
    "type(true)"
   ]
  },
  {
   "cell_type": "code",
   "execution_count": 37,
   "metadata": {},
   "outputs": [
    {
     "data": {
      "text/plain": [
       "str"
      ]
     },
     "execution_count": 37,
     "metadata": {},
     "output_type": "execute_result"
    }
   ],
   "source": [
    "type('true')"
   ]
  },
  {
   "cell_type": "code",
   "execution_count": 38,
   "metadata": {},
   "outputs": [
    {
     "ename": "TypeError",
     "evalue": "must be str or None, not int",
     "output_type": "error",
     "traceback": [
      "\u001b[0;31m---------------------------------------------------------------------------\u001b[0m",
      "\u001b[0;31mTypeError\u001b[0m                                 Traceback (most recent call last)",
      "\u001b[0;32m<ipython-input-38-f3e41bdc57a1>\u001b[0m in \u001b[0;36m<module>\u001b[0;34m\u001b[0m\n\u001b[0;32m----> 1\u001b[0;31m \u001b[0mmystr\u001b[0m\u001b[0;34m.\u001b[0m\u001b[0msplit\u001b[0m\u001b[0;34m(\u001b[0m\u001b[0;36m0\u001b[0m\u001b[0;34m,\u001b[0m\u001b[0;36m1\u001b[0m\u001b[0;34m)\u001b[0m\u001b[0;34m\u001b[0m\u001b[0;34m\u001b[0m\u001b[0m\n\u001b[0m",
      "\u001b[0;31mTypeError\u001b[0m: must be str or None, not int"
     ]
    }
   ],
   "source": [
    "mystr.split(0,1)"
   ]
  },
  {
   "cell_type": "code",
   "execution_count": 39,
   "metadata": {},
   "outputs": [
    {
     "name": "stdout",
     "output_type": "stream",
     "text": [
      "Object `split()` not found.\n"
     ]
    }
   ],
   "source": [
    "?split()"
   ]
  },
  {
   "cell_type": "code",
   "execution_count": 41,
   "metadata": {},
   "outputs": [
    {
     "name": "stdout",
     "output_type": "stream",
     "text": [
      "Object `str.split()` not found.\n"
     ]
    }
   ],
   "source": [
    "?str.split()"
   ]
  },
  {
   "cell_type": "code",
   "execution_count": 42,
   "metadata": {},
   "outputs": [],
   "source": [
    "?print"
   ]
  },
  {
   "cell_type": "code",
   "execution_count": 43,
   "metadata": {},
   "outputs": [
    {
     "data": {
      "text/plain": [
       "24"
      ]
     },
     "execution_count": 43,
     "metadata": {},
     "output_type": "execute_result"
    }
   ],
   "source": [
    "len(mystr)"
   ]
  },
  {
   "cell_type": "code",
   "execution_count": 44,
   "metadata": {},
   "outputs": [
    {
     "ename": "SyntaxError",
     "evalue": "invalid syntax (<ipython-input-44-ce706c3e2e1b>, line 1)",
     "output_type": "error",
     "traceback": [
      "\u001b[0;36m  File \u001b[0;32m\"<ipython-input-44-ce706c3e2e1b>\"\u001b[0;36m, line \u001b[0;32m1\u001b[0m\n\u001b[0;31m    import(math)\u001b[0m\n\u001b[0m          ^\u001b[0m\n\u001b[0;31mSyntaxError\u001b[0m\u001b[0;31m:\u001b[0m invalid syntax\n"
     ]
    }
   ],
   "source": [
    "import(math)"
   ]
  },
  {
   "cell_type": "code",
   "execution_count": 45,
   "metadata": {},
   "outputs": [],
   "source": [
    "import math"
   ]
  },
  {
   "cell_type": "code",
   "execution_count": 46,
   "metadata": {},
   "outputs": [],
   "source": [
    "?math.log"
   ]
  },
  {
   "cell_type": "code",
   "execution_count": 47,
   "metadata": {},
   "outputs": [
    {
     "data": {
      "text/plain": [
       "2.302585092994046"
      ]
     },
     "execution_count": 47,
     "metadata": {},
     "output_type": "execute_result"
    }
   ],
   "source": [
    "math.log(10)"
   ]
  },
  {
   "cell_type": "code",
   "execution_count": 48,
   "metadata": {},
   "outputs": [
    {
     "ename": "ModuleNotFoundError",
     "evalue": "No module named 'mathplotlib'",
     "output_type": "error",
     "traceback": [
      "\u001b[0;31m---------------------------------------------------------------------------\u001b[0m",
      "\u001b[0;31mModuleNotFoundError\u001b[0m                       Traceback (most recent call last)",
      "\u001b[0;32m<ipython-input-48-7b1fc5e943dc>\u001b[0m in \u001b[0;36m<module>\u001b[0;34m\u001b[0m\n\u001b[0;32m----> 1\u001b[0;31m \u001b[0;32mimport\u001b[0m \u001b[0mmathplotlib\u001b[0m\u001b[0;34m.\u001b[0m\u001b[0mpyplot\u001b[0m \u001b[0;32mas\u001b[0m \u001b[0mplt\u001b[0m\u001b[0;34m\u001b[0m\u001b[0;34m\u001b[0m\u001b[0m\n\u001b[0m",
      "\u001b[0;31mModuleNotFoundError\u001b[0m: No module named 'mathplotlib'"
     ]
    }
   ],
   "source": [
    "import mathplotlib.pyplot as plt"
   ]
  },
  {
   "cell_type": "code",
   "execution_count": 49,
   "metadata": {},
   "outputs": [
    {
     "ename": "ModuleNotFoundError",
     "evalue": "No module named 'mathplotlib'",
     "output_type": "error",
     "traceback": [
      "\u001b[0;31m---------------------------------------------------------------------------\u001b[0m",
      "\u001b[0;31mModuleNotFoundError\u001b[0m                       Traceback (most recent call last)",
      "\u001b[0;32m<ipython-input-49-4c718dc50f56>\u001b[0m in \u001b[0;36m<module>\u001b[0;34m\u001b[0m\n\u001b[0;32m----> 1\u001b[0;31m \u001b[0;32mimport\u001b[0m \u001b[0mmathplotlib\u001b[0m\u001b[0;34m.\u001b[0m\u001b[0mpyplot\u001b[0m\u001b[0;34m\u001b[0m\u001b[0;34m\u001b[0m\u001b[0m\n\u001b[0m",
      "\u001b[0;31mModuleNotFoundError\u001b[0m: No module named 'mathplotlib'"
     ]
    }
   ],
   "source": [
    "import mathplotlib.pyplot\n"
   ]
  },
  {
   "cell_type": "code",
   "execution_count": 50,
   "metadata": {},
   "outputs": [],
   "source": [
    "import matplotlib.pyplot as plt"
   ]
  },
  {
   "cell_type": "code",
   "execution_count": 51,
   "metadata": {},
   "outputs": [
    {
     "data": {
      "image/png": "[encoded data removed]",
      "text/plain": [
       "<Figure size 432x288 with 1 Axes>"
      ]
     },
     "metadata": {
      "needs_background": "light"
     },
     "output_type": "display_data"
    }
   ],
   "source": [
    "x_numbers = .2, .4, .6, .8, 1.\n",
    "y_numbers = .125, .489, 1.064, 1.803, 2.654\n",
    "plt.plot(x_numbers, y_numbers)\n",
    "plt.show()"
   ]
  },
  {
   "cell_type": "code",
   "execution_count": 54,
   "metadata": {},
   "outputs": [
    {
     "name": "stdout",
     "output_type": "stream",
     "text": [
      "He said \"She said 'Hello world'\"\n"
     ]
    }
   ],
   "source": [
    "print('''He said \"She said 'Hello world'\"''')"
   ]
  },
  {
   "cell_type": "code",
   "execution_count": 58,
   "metadata": {},
   "outputs": [
    {
     "ename": "SyntaxError",
     "evalue": "EOL while scanning string literal (<ipython-input-58-36eea5a53e19>, line 1)",
     "output_type": "error",
     "traceback": [
      "\u001b[0;36m  File \u001b[0;32m\"<ipython-input-58-36eea5a53e19>\"\u001b[0;36m, line \u001b[0;32m1\u001b[0m\n\u001b[0;31m    print('''She said 'He said \"Hello sky\"'''')\u001b[0m\n\u001b[0m                                               ^\u001b[0m\n\u001b[0;31mSyntaxError\u001b[0m\u001b[0;31m:\u001b[0m EOL while scanning string literal\n"
     ]
    }
   ],
   "source": [
    "print('''She said 'He said \"Hello sky\"'''')"
   ]
  },
  {
   "cell_type": "code",
   "execution_count": 62,
   "metadata": {},
   "outputs": [
    {
     "name": "stdout",
     "output_type": "stream",
     "text": [
      "\"He said \"She said 'Hello world'\"\n",
      "She said 'He said \"Hello sky\"'\n"
     ]
    }
   ],
   "source": [
    "print(\"\"\"\"He said \"She said 'Hello world'\"\n",
    "She said 'He said \"Hello sky\"'\"\"\")"
   ]
  },
  {
   "cell_type": "code",
   "execution_count": 64,
   "metadata": {},
   "outputs": [
    {
     "name": "stdout",
     "output_type": "stream",
     "text": [
      "He said \"She said 'Hello world'\"\n",
      "She said 'He said \"Hello sky\"'\n"
     ]
    }
   ],
   "source": [
    "print('''He said \"She said 'Hello world'\"''') \n",
    "print(\"\"\"She said 'He said \"Hello sky\"'\"\"\")"
   ]
  },
  {
   "cell_type": "code",
   "execution_count": 65,
   "metadata": {},
   "outputs": [
    {
     "name": "stdout",
     "output_type": "stream",
     "text": [
      "Object `namespace` not found.\n"
     ]
    }
   ],
   "source": [
    "?namespace"
   ]
  },
  {
   "cell_type": "code",
   "execution_count": 66,
   "metadata": {},
   "outputs": [],
   "source": [
    "?str"
   ]
  },
  {
   "cell_type": "code",
   "execution_count": 70,
   "metadata": {},
   "outputs": [
    {
     "name": "stdout",
     "output_type": "stream",
     "text": [
      "Witch Hazel\n"
     ]
    }
   ],
   "source": [
    "who = \"Hazel\"\n",
    "what = \"Witch\"\n",
    "print(what,who)"
   ]
  },
  {
   "cell_type": "code",
   "execution_count": 68,
   "metadata": {},
   "outputs": [
    {
     "ename": "SyntaxError",
     "evalue": "invalid syntax (<ipython-input-68-46a73112b03b>, line 1)",
     "output_type": "error",
     "traceback": [
      "\u001b[0;36m  File \u001b[0;32m\"<ipython-input-68-46a73112b03b>\"\u001b[0;36m, line \u001b[0;32m1\u001b[0m\n\u001b[0;31m    who = \"He said \"She said 'Hello world'\"\u001b[0m\n\u001b[0m                      ^\u001b[0m\n\u001b[0;31mSyntaxError\u001b[0m\u001b[0;31m:\u001b[0m invalid syntax\n"
     ]
    }
   ],
   "source": [
    "who = \"He said \"She said 'Hello world'\""
   ]
  },
  {
   "cell_type": "code",
   "execution_count": 71,
   "metadata": {},
   "outputs": [
    {
     "name": "stdout",
     "output_type": "stream",
     "text": [
      "WitchHazel\n"
     ]
    }
   ],
   "source": [
    "print(what+who)"
   ]
  },
  {
   "cell_type": "code",
   "execution_count": 72,
   "metadata": {},
   "outputs": [
    {
     "name": "stdout",
     "output_type": "stream",
     "text": [
      "WitchHazel\n"
     ]
    }
   ],
   "source": [
    "print(\"WitchHazel\")"
   ]
  },
  {
   "cell_type": "code",
   "execution_count": 79,
   "metadata": {},
   "outputs": [
    {
     "name": "stdout",
     "output_type": "stream",
     "text": [
      "WitchHazel"
     ]
    }
   ],
   "source": [
    "print(\"Witch\",\"Hazel\",end='',sep='')"
   ]
  },
  {
   "cell_type": "code",
   "execution_count": 81,
   "metadata": {},
   "outputs": [
    {
     "data": {
      "text/plain": [
       "0.7451131604793488"
      ]
     },
     "execution_count": 81,
     "metadata": {},
     "output_type": "execute_result"
    }
   ],
   "source": [
    "math.sin(40)"
   ]
  },
  {
   "cell_type": "code",
   "execution_count": 82,
   "metadata": {},
   "outputs": [
    {
     "ename": "SyntaxError",
     "evalue": "invalid syntax (<ipython-input-82-c6c16130e65b>, line 1)",
     "output_type": "error",
     "traceback": [
      "\u001b[0;36m  File \u001b[0;32m\"<ipython-input-82-c6c16130e65b>\"\u001b[0;36m, line \u001b[0;32m1\u001b[0m\n\u001b[0;31m    math.random(1..100)\u001b[0m\n\u001b[0m                     ^\u001b[0m\n\u001b[0;31mSyntaxError\u001b[0m\u001b[0;31m:\u001b[0m invalid syntax\n"
     ]
    }
   ],
   "source": [
    "math.random(1..100)"
   ]
  },
  {
   "cell_type": "code",
   "execution_count": 84,
   "metadata": {},
   "outputs": [
    {
     "name": "stdout",
     "output_type": "stream",
     "text": [
      "Object `math.rand` not found.\n"
     ]
    }
   ],
   "source": [
    "?math.rand"
   ]
  },
  {
   "cell_type": "code",
   "execution_count": 85,
   "metadata": {},
   "outputs": [
    {
     "name": "stdout",
     "output_type": "stream",
     "text": [
      "Object `math.rand()` not found.\n"
     ]
    }
   ],
   "source": [
    "?math.rand()"
   ]
  },
  {
   "cell_type": "code",
   "execution_count": 86,
   "metadata": {},
   "outputs": [],
   "source": [
    "import random"
   ]
  },
  {
   "cell_type": "code",
   "execution_count": 87,
   "metadata": {},
   "outputs": [
    {
     "ename": "TypeError",
     "evalue": "'module' object is not callable",
     "output_type": "error",
     "traceback": [
      "\u001b[0;31m---------------------------------------------------------------------------\u001b[0m",
      "\u001b[0;31mTypeError\u001b[0m                                 Traceback (most recent call last)",
      "\u001b[0;32m<ipython-input-87-77e76a2f99d4>\u001b[0m in \u001b[0;36m<module>\u001b[0;34m\u001b[0m\n\u001b[0;32m----> 1\u001b[0;31m \u001b[0mprint\u001b[0m\u001b[0;34m(\u001b[0m\u001b[0mrandom\u001b[0m\u001b[0;34m(\u001b[0m\u001b[0;36m1\u001b[0m\u001b[0;34m,\u001b[0m\u001b[0;36m100\u001b[0m\u001b[0;34m)\u001b[0m\u001b[0;34m)\u001b[0m\u001b[0;34m\u001b[0m\u001b[0;34m\u001b[0m\u001b[0m\n\u001b[0m",
      "\u001b[0;31mTypeError\u001b[0m: 'module' object is not callable"
     ]
    }
   ],
   "source": [
    "print(random(1,100))"
   ]
  },
  {
   "cell_type": "code",
   "execution_count": 88,
   "metadata": {},
   "outputs": [
    {
     "ename": "ModuleNotFoundError",
     "evalue": "No module named 'randint'",
     "output_type": "error",
     "traceback": [
      "\u001b[0;31m---------------------------------------------------------------------------\u001b[0m",
      "\u001b[0;31mModuleNotFoundError\u001b[0m                       Traceback (most recent call last)",
      "\u001b[0;32m<ipython-input-88-c87cb59d40bd>\u001b[0m in \u001b[0;36m<module>\u001b[0;34m\u001b[0m\n\u001b[0;32m----> 1\u001b[0;31m \u001b[0;32mimport\u001b[0m \u001b[0mrandint\u001b[0m\u001b[0;34m\u001b[0m\u001b[0;34m\u001b[0m\u001b[0m\n\u001b[0m",
      "\u001b[0;31mModuleNotFoundError\u001b[0m: No module named 'randint'"
     ]
    }
   ],
   "source": [
    "import randint"
   ]
  },
  {
   "cell_type": "code",
   "execution_count": 89,
   "metadata": {},
   "outputs": [
    {
     "ename": "ModuleNotFoundError",
     "evalue": "No module named 'randint'",
     "output_type": "error",
     "traceback": [
      "\u001b[0;31m---------------------------------------------------------------------------\u001b[0m",
      "\u001b[0;31mModuleNotFoundError\u001b[0m                       Traceback (most recent call last)",
      "\u001b[0;32m<ipython-input-89-c87cb59d40bd>\u001b[0m in \u001b[0;36m<module>\u001b[0;34m\u001b[0m\n\u001b[0;32m----> 1\u001b[0;31m \u001b[0;32mimport\u001b[0m \u001b[0mrandint\u001b[0m\u001b[0;34m\u001b[0m\u001b[0;34m\u001b[0m\u001b[0m\n\u001b[0m",
      "\u001b[0;31mModuleNotFoundError\u001b[0m: No module named 'randint'"
     ]
    }
   ],
   "source": [
    "import randint\n"
   ]
  },
  {
   "cell_type": "code",
   "execution_count": 90,
   "metadata": {},
   "outputs": [
    {
     "ename": "NameError",
     "evalue": "name 'randint' is not defined",
     "output_type": "error",
     "traceback": [
      "\u001b[0;31m---------------------------------------------------------------------------\u001b[0m",
      "\u001b[0;31mNameError\u001b[0m                                 Traceback (most recent call last)",
      "\u001b[0;32m<ipython-input-90-7cfe299d9ca1>\u001b[0m in \u001b[0;36m<module>\u001b[0;34m\u001b[0m\n\u001b[0;32m----> 1\u001b[0;31m \u001b[0mprint\u001b[0m\u001b[0;34m(\u001b[0m\u001b[0mrandint\u001b[0m\u001b[0;34m(\u001b[0m\u001b[0;36m1\u001b[0m\u001b[0;34m,\u001b[0m\u001b[0;36m100\u001b[0m\u001b[0;34m)\u001b[0m\u001b[0;34m)\u001b[0m\u001b[0;34m\u001b[0m\u001b[0;34m\u001b[0m\u001b[0m\n\u001b[0m",
      "\u001b[0;31mNameError\u001b[0m: name 'randint' is not defined"
     ]
    }
   ],
   "source": [
    "print(randint(1,100))"
   ]
  },
  {
   "cell_type": "code",
   "execution_count": 91,
   "metadata": {},
   "outputs": [],
   "source": [
    "from random import randint"
   ]
  },
  {
   "cell_type": "code",
   "execution_count": 92,
   "metadata": {},
   "outputs": [
    {
     "name": "stdout",
     "output_type": "stream",
     "text": [
      "96\n"
     ]
    }
   ],
   "source": [
    "print(randint(1,100))"
   ]
  },
  {
   "cell_type": "code",
   "execution_count": 93,
   "metadata": {},
   "outputs": [
    {
     "name": "stdout",
     "output_type": "stream",
     "text": [
      "83\n"
     ]
    }
   ],
   "source": [
    "print(randint(1,100))"
   ]
  },
  {
   "cell_type": "code",
   "execution_count": 94,
   "metadata": {},
   "outputs": [
    {
     "ename": "SyntaxError",
     "evalue": "invalid syntax (<ipython-input-94-c901aacba779>, line 1)",
     "output_type": "error",
     "traceback": [
      "\u001b[0;36m  File \u001b[0;32m\"<ipython-input-94-c901aacba779>\"\u001b[0;36m, line \u001b[0;32m1\u001b[0m\n\u001b[0;31m    plt.plot(x_numbers, y_numbers, color=\"purple\",linewidth=3 and linestyle=\"dashed\")\u001b[0m\n\u001b[0m                                                                           ^\u001b[0m\n\u001b[0;31mSyntaxError\u001b[0m\u001b[0;31m:\u001b[0m invalid syntax\n"
     ]
    }
   ],
   "source": [
    "plt.plot(x_numbers, y_numbers, color=\"purple\",linewidth=3 and linestyle=\"dashed\")"
   ]
  },
  {
   "cell_type": "code",
   "execution_count": 95,
   "metadata": {},
   "outputs": [],
   "source": [
    "?plt.plot"
   ]
  },
  {
   "cell_type": "code",
   "execution_count": 96,
   "metadata": {},
   "outputs": [
    {
     "data": {
      "text/plain": [
       "[<matplotlib.lines.Line2D at 0x116070358>]"
      ]
     },
     "execution_count": 96,
     "metadata": {},
     "output_type": "execute_result"
    },
    {
     "data": {
      "image/png": "[encoded data removed]",
      "text/plain": [
       "<Figure size 432x288 with 1 Axes>"
      ]
     },
     "metadata": {
      "needs_background": "light"
     },
     "output_type": "display_data"
    }
   ],
   "source": [
    "plt.plot(x_numbers, y_numbers, color=\"purple\",linewidth=3,linestyle=\"dashed\")"
   ]
  },
  {
   "cell_type": "code",
   "execution_count": 97,
   "metadata": {},
   "outputs": [
    {
     "name": "stdout",
     "output_type": "stream",
     "text": [
      "WitchHazel\n"
     ]
    }
   ],
   "source": [
    "print(\"{}{}\".format(what, who))"
   ]
  },
  {
   "cell_type": "code",
   "execution_count": 98,
   "metadata": {},
   "outputs": [
    {
     "name": "stdout",
     "output_type": "stream",
     "text": [
      "WitchHazel\n"
     ]
    }
   ],
   "source": [
    "print(\"Witch\",\"Hazel\",sep='')"
   ]
  },
  {
   "cell_type": "code",
   "execution_count": 99,
   "metadata": {},
   "outputs": [],
   "source": [
    "plt.show()"
   ]
  },
  {
   "cell_type": "code",
   "execution_count": 102,
   "metadata": {},
   "outputs": [
    {
     "name": "stdout",
     "output_type": "stream",
     "text": [
      "If I had 4 lives,\n",
      "I would live 6 lives for you.\n"
     ]
    }
   ],
   "source": [
    "number_of_lives = 4\n",
    "print(\"If I had\", number_of_lives, \"lives,\")\n",
    "print(\"I would live {number_of_lives} lives for you.\".format(number_of_lives=6))"
   ]
  },
  {
   "cell_type": "code",
   "execution_count": 103,
   "metadata": {},
   "outputs": [
    {
     "data": {
      "text/plain": [
       "4"
      ]
     },
     "execution_count": 103,
     "metadata": {},
     "output_type": "execute_result"
    }
   ],
   "source": [
    "number_of_lives"
   ]
  },
  {
   "cell_type": "code",
   "execution_count": 106,
   "metadata": {},
   "outputs": [
    {
     "name": "stdout",
     "output_type": "stream",
     "text": [
      "8      11\n"
     ]
    }
   ],
   "source": [
    "print(\"{0}{3:>8}\".format(8,9,10,11))"
   ]
  },
  {
   "cell_type": "code",
   "execution_count": 109,
   "metadata": {},
   "outputs": [
    {
     "name": "stdout",
     "output_type": "stream",
     "text": [
      "8.00      11\n"
     ]
    }
   ],
   "source": [
    "print(\"{0:.2f}{3:>8}\".format(8,9,10,11))"
   ]
  },
  {
   "cell_type": "code",
   "execution_count": 111,
   "metadata": {},
   "outputs": [
    {
     "data": {
      "text/plain": [
       "'__add__,__class__,__contains__,__delattr__,__delitem__,__dir__,__doc__,__eq__,__format__,__ge__,__getattribute__,__getitem__,__gt__,__hash__,__iadd__,__imul__,__init__,__init_subclass__,__iter__,__le__,__len__,__lt__,__mul__,__ne__,__new__,__reduce__,__reduce_ex__,__repr__,__reversed__,__rmul__,__setattr__,__setitem__,__sizeof__,__str__,__subclasshook__,append,clear,copy,count,extend,index,insert,pop,remove,reverse,sort'"
      ]
     },
     "execution_count": 111,
     "metadata": {},
     "output_type": "execute_result"
    }
   ],
   "source": [
    "','.join(dir(list))"
   ]
  },
  {
   "cell_type": "code",
   "execution_count": 112,
   "metadata": {},
   "outputs": [],
   "source": [
    "a = [1,2,3]"
   ]
  },
  {
   "cell_type": "code",
   "execution_count": 113,
   "metadata": {},
   "outputs": [
    {
     "data": {
      "text/plain": [
       "list"
      ]
     },
     "execution_count": 113,
     "metadata": {},
     "output_type": "execute_result"
    }
   ],
   "source": [
    "type(a)"
   ]
  },
  {
   "cell_type": "code",
   "execution_count": 114,
   "metadata": {},
   "outputs": [
    {
     "data": {
      "text/plain": [
       "['__add__,__class__,__contains__,__delattr__,__delitem__,__dir__,__doc__,__eq__,__format__,__ge__,__getattribute__,__getitem__,__gt__,__hash__,__iadd__,__imul__,__init__,__init_subclass__,__iter__,__le__,__len__,__lt__,__mul__,__ne__,__new__,__reduce__,__reduce_ex__,__repr__,__reversed__,__rmul__,__setattr__,__setitem__,__sizeof__,__str__,__subclasshook__,append,clear,copy,count,extend,index,insert,pop,remove,reverse,sort']"
      ]
     },
     "execution_count": 114,
     "metadata": {},
     "output_type": "execute_result"
    }
   ],
   "source": [
    "','.join(dir(list)).split()"
   ]
  },
  {
   "cell_type": "code",
   "execution_count": 115,
   "metadata": {},
   "outputs": [
    {
     "data": {
      "text/plain": [
       "['__add__',\n",
       " '__class__',\n",
       " '__contains__',\n",
       " '__delattr__',\n",
       " '__delitem__',\n",
       " '__dir__',\n",
       " '__doc__',\n",
       " '__eq__',\n",
       " '__format__',\n",
       " '__ge__',\n",
       " '__getattribute__',\n",
       " '__getitem__',\n",
       " '__gt__',\n",
       " '__hash__',\n",
       " '__iadd__',\n",
       " '__imul__',\n",
       " '__init__',\n",
       " '__init_subclass__',\n",
       " '__iter__',\n",
       " '__le__',\n",
       " '__len__',\n",
       " '__lt__',\n",
       " '__mul__',\n",
       " '__ne__',\n",
       " '__new__',\n",
       " '__reduce__',\n",
       " '__reduce_ex__',\n",
       " '__repr__',\n",
       " '__reversed__',\n",
       " '__rmul__',\n",
       " '__setattr__',\n",
       " '__setitem__',\n",
       " '__sizeof__',\n",
       " '__str__',\n",
       " '__subclasshook__',\n",
       " 'append',\n",
       " 'clear',\n",
       " 'copy',\n",
       " 'count',\n",
       " 'extend',\n",
       " 'index',\n",
       " 'insert',\n",
       " 'pop',\n",
       " 'remove',\n",
       " 'reverse',\n",
       " 'sort']"
      ]
     },
     "execution_count": 115,
     "metadata": {},
     "output_type": "execute_result"
    }
   ],
   "source": [
    "dir(list)"
   ]
  },
  {
   "cell_type": "code",
   "execution_count": 116,
   "metadata": {},
   "outputs": [],
   "source": [
    "band = [\"Javier\", \"Chave\", \"Jose\", \"Martha\"]"
   ]
  },
  {
   "cell_type": "code",
   "execution_count": 117,
   "metadata": {},
   "outputs": [
    {
     "data": {
      "text/plain": [
       "'Chave'"
      ]
     },
     "execution_count": 117,
     "metadata": {},
     "output_type": "execute_result"
    }
   ],
   "source": [
    "band[1]"
   ]
  },
  {
   "cell_type": "code",
   "execution_count": 118,
   "metadata": {},
   "outputs": [
    {
     "data": {
      "text/plain": [
       "'Martha'"
      ]
     },
     "execution_count": 118,
     "metadata": {},
     "output_type": "execute_result"
    }
   ],
   "source": [
    "band[3]"
   ]
  },
  {
   "cell_type": "code",
   "execution_count": 119,
   "metadata": {},
   "outputs": [
    {
     "data": {
      "text/plain": [
       "'Martha'"
      ]
     },
     "execution_count": 119,
     "metadata": {},
     "output_type": "execute_result"
    }
   ],
   "source": [
    "band[-1]"
   ]
  },
  {
   "cell_type": "code",
   "execution_count": 120,
   "metadata": {},
   "outputs": [
    {
     "data": {
      "text/plain": [
       "'Jose'"
      ]
     },
     "execution_count": 120,
     "metadata": {},
     "output_type": "execute_result"
    }
   ],
   "source": [
    "band[2]"
   ]
  },
  {
   "cell_type": "code",
   "execution_count": 121,
   "metadata": {},
   "outputs": [
    {
     "data": {
      "text/plain": [
       "['Jose']"
      ]
     },
     "execution_count": 121,
     "metadata": {},
     "output_type": "execute_result"
    }
   ],
   "source": [
    "band[2:3]"
   ]
  },
  {
   "cell_type": "code",
   "execution_count": 122,
   "metadata": {},
   "outputs": [],
   "source": [
    "song = \"See her how she flies\""
   ]
  },
  {
   "cell_type": "code",
   "execution_count": 124,
   "metadata": {},
   "outputs": [],
   "source": [
    "words = song.split()"
   ]
  },
  {
   "cell_type": "code",
   "execution_count": 125,
   "metadata": {},
   "outputs": [
    {
     "data": {
      "text/plain": [
       "['See', 'her', 'how', 'she', 'flies']"
      ]
     },
     "execution_count": 125,
     "metadata": {},
     "output_type": "execute_result"
    }
   ],
   "source": [
    "words"
   ]
  },
  {
   "cell_type": "code",
   "execution_count": 126,
   "metadata": {},
   "outputs": [
    {
     "name": "stdout",
     "output_type": "stream",
     "text": [
      "['See', 'her', 'how', 'she', 'flies']\n"
     ]
    }
   ],
   "source": [
    "print(words)"
   ]
  },
  {
   "cell_type": "code",
   "execution_count": 127,
   "metadata": {},
   "outputs": [],
   "source": [
    "says = \"Hello moon\""
   ]
  },
  {
   "cell_type": "code",
   "execution_count": 128,
   "metadata": {},
   "outputs": [
    {
     "data": {
      "text/plain": [
       "'Hello moon'"
      ]
     },
     "execution_count": 128,
     "metadata": {},
     "output_type": "execute_result"
    }
   ],
   "source": [
    "says[:]"
   ]
  },
  {
   "cell_type": "code",
   "execution_count": 130,
   "metadata": {},
   "outputs": [
    {
     "data": {
      "text/plain": [
       "'moon'"
      ]
     },
     "execution_count": 130,
     "metadata": {},
     "output_type": "execute_result"
    }
   ],
   "source": [
    "says[-4:]"
   ]
  },
  {
   "cell_type": "code",
   "execution_count": 134,
   "metadata": {},
   "outputs": [
    {
     "data": {
      "text/plain": [
       "'Hello World'"
      ]
     },
     "execution_count": 134,
     "metadata": {},
     "output_type": "execute_result"
    }
   ],
   "source": [
    "says[:6]+\"World\""
   ]
  },
  {
   "cell_type": "code",
   "execution_count": 135,
   "metadata": {},
   "outputs": [
    {
     "data": {
      "text/plain": [
       "'moon'"
      ]
     },
     "execution_count": 135,
     "metadata": {},
     "output_type": "execute_result"
    }
   ],
   "source": [
    "says[6:]"
   ]
  },
  {
   "cell_type": "code",
   "execution_count": 137,
   "metadata": {},
   "outputs": [
    {
     "data": {
      "text/plain": [
       "'cake'"
      ]
     },
     "execution_count": 137,
     "metadata": {},
     "output_type": "execute_result"
    }
   ],
   "source": [
    "\"birthday cake\"[9:]"
   ]
  },
  {
   "cell_type": "code",
   "execution_count": 138,
   "metadata": {},
   "outputs": [
    {
     "data": {
      "text/plain": [
       "'cake'"
      ]
     },
     "execution_count": 138,
     "metadata": {},
     "output_type": "execute_result"
    }
   ],
   "source": [
    "\"birthday cake\"[-4:]"
   ]
  },
  {
   "cell_type": "code",
   "execution_count": 140,
   "metadata": {},
   "outputs": [
    {
     "data": {
      "text/plain": [
       "'cake'"
      ]
     },
     "execution_count": 140,
     "metadata": {},
     "output_type": "execute_result"
    }
   ],
   "source": [
    "\"birthday cake\"[9:13]"
   ]
  },
  {
   "cell_type": "code",
   "execution_count": 141,
   "metadata": {},
   "outputs": [
    {
     "data": {
      "text/plain": [
       "'__add__,__class__,__contains__,__delattr__,__dir__,__doc__,__eq__,__format__,__ge__,__getattribute__,__getitem__,__getnewargs__,__gt__,__hash__,__init__,__init_subclass__,__iter__,__le__,__len__,__lt__,__mod__,__mul__,__ne__,__new__,__reduce__,__reduce_ex__,__repr__,__rmod__,__rmul__,__setattr__,__sizeof__,__str__,__subclasshook__,capitalize,casefold,center,count,encode,endswith,expandtabs,find,format,format_map,index,isalnum,isalpha,isascii,isdecimal,isdigit,isidentifier,islower,isnumeric,isprintable,isspace,istitle,isupper,join,ljust,lower,lstrip,maketrans,partition,replace,rfind,rindex,rjust,rpartition,rsplit,rstrip,split,splitlines,startswith,strip,swapcase,title,translate,upper,zfill'"
      ]
     },
     "execution_count": 141,
     "metadata": {},
     "output_type": "execute_result"
    }
   ],
   "source": [
    "','.join(dir(str))"
   ]
  },
  {
   "cell_type": "code",
   "execution_count": 160,
   "metadata": {},
   "outputs": [
    {
     "data": {
      "text/plain": [
       "3"
      ]
     },
     "execution_count": 160,
     "metadata": {},
     "output_type": "execute_result"
    }
   ],
   "source": [
    "\"supercalifragilisticexpialidocious\".count('li')"
   ]
  },
  {
   "cell_type": "code",
   "execution_count": 143,
   "metadata": {},
   "outputs": [
    {
     "data": {
      "text/plain": [
       "'sandiandlandvandeandrand andgandoandlanddand andcandoandpandpandeandrand andpandlandaandtandiandnanduandm'"
      ]
     },
     "execution_count": 143,
     "metadata": {},
     "output_type": "execute_result"
    }
   ],
   "source": [
    "'and'.join(\"silver gold copper platinum\")"
   ]
  },
  {
   "cell_type": "code",
   "execution_count": 146,
   "metadata": {},
   "outputs": [
    {
     "data": {
      "text/plain": [
       "['silver', 'gold', 'copper', 'platinum']"
      ]
     },
     "execution_count": 146,
     "metadata": {},
     "output_type": "execute_result"
    }
   ],
   "source": [
    "\"silver gold copper platinum\".split()"
   ]
  },
  {
   "cell_type": "code",
   "execution_count": 147,
   "metadata": {},
   "outputs": [
    {
     "data": {
      "text/plain": [
       "'silverandgoldandcopperandplatinum'"
      ]
     },
     "execution_count": 147,
     "metadata": {},
     "output_type": "execute_result"
    }
   ],
   "source": [
    "'and'.join(\"silver gold copper platinum\".split())"
   ]
  },
  {
   "cell_type": "code",
   "execution_count": 164,
   "metadata": {},
   "outputs": [
    {
     "name": "stdout",
     "output_type": "stream",
     "text": [
      "silver and gold and copper and platinum are only worth money.\n"
     ]
    }
   ],
   "source": [
    "print(' and '.join(\"silver gold copper platinum\".split()),\"are only worth money.\",sep=' ')"
   ]
  },
  {
   "cell_type": "code",
   "execution_count": 165,
   "metadata": {},
   "outputs": [],
   "source": [
    "line=\"silver gold copper platinum\""
   ]
  },
  {
   "cell_type": "code",
   "execution_count": 168,
   "metadata": {},
   "outputs": [
    {
     "name": "stdout",
     "output_type": "stream",
     "text": [
      "Silver and gold and copper and platinum are only worth money.\n"
     ]
    }
   ],
   "source": [
    "print(' and '.join(line.capitalize().split()),\"are only worth money.\",sep=' ')"
   ]
  },
  {
   "cell_type": "code",
   "execution_count": 170,
   "metadata": {},
   "outputs": [
    {
     "data": {
      "text/plain": [
       "'cake'"
      ]
     },
     "execution_count": 170,
     "metadata": {},
     "output_type": "execute_result"
    }
   ],
   "source": [
    "\"birthday cake\".split()[1]"
   ]
  },
  {
   "cell_type": "code",
   "execution_count": 172,
   "metadata": {},
   "outputs": [
    {
     "data": {
      "text/plain": [
       "str"
      ]
     },
     "execution_count": 172,
     "metadata": {},
     "output_type": "execute_result"
    }
   ],
   "source": [
    "type(dir(list)[0])"
   ]
  },
  {
   "cell_type": "code",
   "execution_count": 173,
   "metadata": {},
   "outputs": [],
   "source": [
    "numbers = [[0, 1, 2, 3, 4],\n",
    " [10, 20, 30, 40, 50],\n",
    " [100, 200, 300, 400, 500],\n",
    " [1000, 2000, 3000, 4000, 5000]]"
   ]
  },
  {
   "cell_type": "code",
   "execution_count": 174,
   "metadata": {},
   "outputs": [
    {
     "data": {
      "text/plain": [
       "20"
      ]
     },
     "execution_count": 174,
     "metadata": {},
     "output_type": "execute_result"
    }
   ],
   "source": [
    "numbers[1][1]"
   ]
  },
  {
   "cell_type": "code",
   "execution_count": 175,
   "metadata": {},
   "outputs": [
    {
     "data": {
      "text/plain": [
       "array([[   0,    1,    2,    3,    4],\n",
       "       [  10,   20,   30,   40,   50],\n",
       "       [ 100,  200,  300,  400,  500],\n",
       "       [1000, 2000, 3000, 4000, 5000]])"
      ]
     },
     "execution_count": 175,
     "metadata": {},
     "output_type": "execute_result"
    }
   ],
   "source": [
    "import numpy as np\n",
    "numbers_array = np.array(numbers)\n",
    "numbers_array"
   ]
  },
  {
   "cell_type": "code",
   "execution_count": 176,
   "metadata": {},
   "outputs": [
    {
     "data": {
      "text/plain": [
       "numpy.ndarray"
      ]
     },
     "execution_count": 176,
     "metadata": {},
     "output_type": "execute_result"
    }
   ],
   "source": [
    "type(numbers_array)"
   ]
  },
  {
   "cell_type": "code",
   "execution_count": 177,
   "metadata": {},
   "outputs": [
    {
     "data": {
      "text/plain": [
       "list"
      ]
     },
     "execution_count": 177,
     "metadata": {},
     "output_type": "execute_result"
    }
   ],
   "source": [
    "type(numbers)"
   ]
  },
  {
   "cell_type": "code",
   "execution_count": 178,
   "metadata": {},
   "outputs": [
    {
     "data": {
      "text/plain": [
       "array([[ 40,  50],\n",
       "       [400, 500]])"
      ]
     },
     "execution_count": 178,
     "metadata": {},
     "output_type": "execute_result"
    }
   ],
   "source": [
    "sub_array = numbers_array[1:3, -2:]\n",
    "sub_array"
   ]
  },
  {
   "cell_type": "code",
   "execution_count": 179,
   "metadata": {},
   "outputs": [],
   "source": [
    "sub_array[1,1]=99\n"
   ]
  },
  {
   "cell_type": "code",
   "execution_count": 180,
   "metadata": {},
   "outputs": [
    {
     "data": {
      "text/plain": [
       "array([[ 40,  50],\n",
       "       [400,  99]])"
      ]
     },
     "execution_count": 180,
     "metadata": {},
     "output_type": "execute_result"
    }
   ],
   "source": [
    "sub_array\n"
   ]
  },
  {
   "cell_type": "code",
   "execution_count": 181,
   "metadata": {},
   "outputs": [
    {
     "data": {
      "text/plain": [
       "array([[   0,    1,    2,    3,    4],\n",
       "       [  10,   20,   30,   40,   50],\n",
       "       [ 100,  200,  300,  400,   99],\n",
       "       [1000, 2000, 3000, 4000, 5000]])"
      ]
     },
     "execution_count": 181,
     "metadata": {},
     "output_type": "execute_result"
    }
   ],
   "source": [
    "numbers_array"
   ]
  },
  {
   "cell_type": "code",
   "execution_count": 182,
   "metadata": {},
   "outputs": [
    {
     "data": {
      "text/plain": [
       "0          pie\n",
       "1        shake\n",
       "2    ice cream\n",
       "3       mousse\n",
       "dtype: object"
      ]
     },
     "execution_count": 182,
     "metadata": {},
     "output_type": "execute_result"
    }
   ],
   "source": [
    "import pandas as pd\n",
    "desserts = pd.Series([\"pie\", \"shake\", \"ice cream\", \"mousse\"])\n",
    "desserts"
   ]
  },
  {
   "cell_type": "code",
   "execution_count": 183,
   "metadata": {},
   "outputs": [
    {
     "data": {
      "text/plain": [
       "'shake'"
      ]
     },
     "execution_count": 183,
     "metadata": {},
     "output_type": "execute_result"
    }
   ],
   "source": [
    "desserts[1]"
   ]
  },
  {
   "cell_type": "code",
   "execution_count": 184,
   "metadata": {},
   "outputs": [
    {
     "data": {
      "text/plain": [
       "array(['pie', 'shake', 'ice cream', 'mousse'], dtype=object)"
      ]
     },
     "execution_count": 184,
     "metadata": {},
     "output_type": "execute_result"
    }
   ],
   "source": [
    "desserts.values"
   ]
  },
  {
   "cell_type": "code",
   "execution_count": 185,
   "metadata": {},
   "outputs": [
    {
     "data": {
      "text/plain": [
       "Series([], dtype: object)"
      ]
     },
     "execution_count": 185,
     "metadata": {},
     "output_type": "execute_result"
    }
   ],
   "source": [
    "desserts[desserts == \"cookies\"]"
   ]
  },
  {
   "cell_type": "code",
   "execution_count": 186,
   "metadata": {},
   "outputs": [
    {
     "ename": "NameError",
     "evalue": "name 'some_desserts' is not defined",
     "output_type": "error",
     "traceback": [
      "\u001b[0;31m---------------------------------------------------------------------------\u001b[0m",
      "\u001b[0;31mNameError\u001b[0m                                 Traceback (most recent call last)",
      "\u001b[0;32m<ipython-input-186-c0aaac48daff>\u001b[0m in \u001b[0;36m<module>\u001b[0;34m\u001b[0m\n\u001b[0;32m----> 1\u001b[0;31m \u001b[0msome_desserts\u001b[0m\u001b[0;34m[\u001b[0m\u001b[0;34m:\u001b[0m\u001b[0;34m-\u001b[0m\u001b[0;36m1\u001b[0m\u001b[0;34m]\u001b[0m \u001b[0;34m=\u001b[0m \u001b[0;34m\"cookies\"\u001b[0m\u001b[0;34m\u001b[0m\u001b[0;34m\u001b[0m\u001b[0m\n\u001b[0m\u001b[1;32m      2\u001b[0m \u001b[0msome_desserts\u001b[0m\u001b[0;34m\u001b[0m\u001b[0;34m\u001b[0m\u001b[0m\n",
      "\u001b[0;31mNameError\u001b[0m: name 'some_desserts' is not defined"
     ]
    }
   ],
   "source": [
    "some_desserts[:-1] = \"cookies\"   \n",
    "some_desserts"
   ]
  },
  {
   "cell_type": "code",
   "execution_count": 188,
   "metadata": {},
   "outputs": [],
   "source": [
    "some_desserts = desserts[:3]"
   ]
  },
  {
   "cell_type": "code",
   "execution_count": 189,
   "metadata": {},
   "outputs": [],
   "source": [
    "some_desserts[:-1] = \"cookies\""
   ]
  },
  {
   "cell_type": "code",
   "execution_count": 190,
   "metadata": {},
   "outputs": [
    {
     "data": {
      "text/plain": [
       "0    cookies\n",
       "1    cookies\n",
       "dtype: object"
      ]
     },
     "execution_count": 190,
     "metadata": {},
     "output_type": "execute_result"
    }
   ],
   "source": [
    "desserts[desserts == \"cookies\"]"
   ]
  },
  {
   "cell_type": "code",
   "execution_count": 191,
   "metadata": {},
   "outputs": [
    {
     "data": {
      "text/plain": [
       "0      cookies\n",
       "1      cookies\n",
       "2    ice cream\n",
       "dtype: object"
      ]
     },
     "execution_count": 191,
     "metadata": {},
     "output_type": "execute_result"
    }
   ],
   "source": [
    "some_desserts"
   ]
  },
  {
   "cell_type": "code",
   "execution_count": 192,
   "metadata": {},
   "outputs": [
    {
     "data": {
      "text/plain": [
       "array(['cookies cookies', 'cookies cookies', 'ice cream ice cream',\n",
       "       'mousse mousse'], dtype=object)"
      ]
     },
     "execution_count": 192,
     "metadata": {},
     "output_type": "execute_result"
    }
   ],
   "source": [
    "desserts.values + ' ' + desserts.values"
   ]
  },
  {
   "cell_type": "code",
   "execution_count": 193,
   "metadata": {},
   "outputs": [
    {
     "data": {
      "text/plain": [
       "0        cookies cookies\n",
       "1        cookies cookies\n",
       "2    ice cream ice cream\n",
       "3          mousse mousse\n",
       "dtype: object"
      ]
     },
     "execution_count": 193,
     "metadata": {},
     "output_type": "execute_result"
    }
   ],
   "source": [
    "desserts + ' ' + desserts"
   ]
  },
  {
   "cell_type": "code",
   "execution_count": 194,
   "metadata": {},
   "outputs": [],
   "source": [
    "numbers = [[\"Nancy\", 30, 40, 50, 60], [\"John\", 300, 400, 500, 600], \n",
    "         [\"Nick\", 3000, 4000, 5000, 6000], [\"Kim\", 30000, 40000, 50000, 60000]]"
   ]
  },
  {
   "cell_type": "code",
   "execution_count": 195,
   "metadata": {},
   "outputs": [
    {
     "data": {
      "text/plain": [
       "[['Nancy', 30, 40, 50, 60],\n",
       " ['John', 300, 400, 500, 600],\n",
       " ['Nick', 3000, 4000, 5000, 6000],\n",
       " ['Kim', 30000, 40000, 50000, 60000]]"
      ]
     },
     "execution_count": 195,
     "metadata": {},
     "output_type": "execute_result"
    }
   ],
   "source": [
    "numbers"
   ]
  },
  {
   "cell_type": "code",
   "execution_count": 196,
   "metadata": {},
   "outputs": [
    {
     "data": {
      "text/html": [
       "<div>\n",
       "<style scoped>\n",
       "    .dataframe tbody tr th:only-of-type {\n",
       "        vertical-align: middle;\n",
       "    }\n",
       "\n",
       "    .dataframe tbody tr th {\n",
       "        vertical-align: top;\n",
       "    }\n",
       "\n",
       "    .dataframe thead th {\n",
       "        text-align: right;\n",
       "    }\n",
       "</style>\n",
       "<table border=\"1\" class=\"dataframe\">\n",
       "  <thead>\n",
       "    <tr style=\"text-align: right;\">\n",
       "      <th></th>\n",
       "      <th>0</th>\n",
       "      <th>1</th>\n",
       "      <th>2</th>\n",
       "      <th>3</th>\n",
       "      <th>4</th>\n",
       "    </tr>\n",
       "  </thead>\n",
       "  <tbody>\n",
       "    <tr>\n",
       "      <th>0</th>\n",
       "      <td>Nancy</td>\n",
       "      <td>30</td>\n",
       "      <td>40</td>\n",
       "      <td>50</td>\n",
       "      <td>60</td>\n",
       "    </tr>\n",
       "    <tr>\n",
       "      <th>1</th>\n",
       "      <td>John</td>\n",
       "      <td>300</td>\n",
       "      <td>400</td>\n",
       "      <td>500</td>\n",
       "      <td>600</td>\n",
       "    </tr>\n",
       "    <tr>\n",
       "      <th>2</th>\n",
       "      <td>Nick</td>\n",
       "      <td>3000</td>\n",
       "      <td>4000</td>\n",
       "      <td>5000</td>\n",
       "      <td>6000</td>\n",
       "    </tr>\n",
       "    <tr>\n",
       "      <th>3</th>\n",
       "      <td>Kim</td>\n",
       "      <td>30000</td>\n",
       "      <td>40000</td>\n",
       "      <td>50000</td>\n",
       "      <td>60000</td>\n",
       "    </tr>\n",
       "  </tbody>\n",
       "</table>\n",
       "</div>"
      ],
      "text/plain": [
       "       0      1      2      3      4\n",
       "0  Nancy     30     40     50     60\n",
       "1   John    300    400    500    600\n",
       "2   Nick   3000   4000   5000   6000\n",
       "3    Kim  30000  40000  50000  60000"
      ]
     },
     "execution_count": 196,
     "metadata": {},
     "output_type": "execute_result"
    }
   ],
   "source": [
    "import pandas as pd\n",
    "numbers_dataframe_no_labels = pd.DataFrame(numbers)\n",
    "numbers_dataframe_no_labels"
   ]
  },
  {
   "cell_type": "code",
   "execution_count": 197,
   "metadata": {},
   "outputs": [
    {
     "data": {
      "text/html": [
       "<div>\n",
       "<style scoped>\n",
       "    .dataframe tbody tr th:only-of-type {\n",
       "        vertical-align: middle;\n",
       "    }\n",
       "\n",
       "    .dataframe tbody tr th {\n",
       "        vertical-align: top;\n",
       "    }\n",
       "\n",
       "    .dataframe thead th {\n",
       "        text-align: right;\n",
       "    }\n",
       "</style>\n",
       "<table border=\"1\" class=\"dataframe\">\n",
       "  <thead>\n",
       "    <tr style=\"text-align: right;\">\n",
       "      <th></th>\n",
       "      <th>1</th>\n",
       "      <th>2</th>\n",
       "      <th>3</th>\n",
       "      <th>4</th>\n",
       "    </tr>\n",
       "    <tr>\n",
       "      <th>0</th>\n",
       "      <th></th>\n",
       "      <th></th>\n",
       "      <th></th>\n",
       "      <th></th>\n",
       "    </tr>\n",
       "  </thead>\n",
       "  <tbody>\n",
       "    <tr>\n",
       "      <th>Nancy</th>\n",
       "      <td>30</td>\n",
       "      <td>40</td>\n",
       "      <td>50</td>\n",
       "      <td>60</td>\n",
       "    </tr>\n",
       "    <tr>\n",
       "      <th>John</th>\n",
       "      <td>300</td>\n",
       "      <td>400</td>\n",
       "      <td>500</td>\n",
       "      <td>600</td>\n",
       "    </tr>\n",
       "    <tr>\n",
       "      <th>Nick</th>\n",
       "      <td>3000</td>\n",
       "      <td>4000</td>\n",
       "      <td>5000</td>\n",
       "      <td>6000</td>\n",
       "    </tr>\n",
       "    <tr>\n",
       "      <th>Kim</th>\n",
       "      <td>30000</td>\n",
       "      <td>40000</td>\n",
       "      <td>50000</td>\n",
       "      <td>60000</td>\n",
       "    </tr>\n",
       "  </tbody>\n",
       "</table>\n",
       "</div>"
      ],
      "text/plain": [
       "           1      2      3      4\n",
       "0                                \n",
       "Nancy     30     40     50     60\n",
       "John     300    400    500    600\n",
       "Nick    3000   4000   5000   6000\n",
       "Kim    30000  40000  50000  60000"
      ]
     },
     "execution_count": 197,
     "metadata": {},
     "output_type": "execute_result"
    }
   ],
   "source": [
    "numbers_dataframe = numbers_dataframe_no_labels.set_index(0)\n",
    "numbers_dataframe"
   ]
  },
  {
   "cell_type": "code",
   "execution_count": 198,
   "metadata": {},
   "outputs": [
    {
     "data": {
      "text/html": [
       "<div>\n",
       "<style scoped>\n",
       "    .dataframe tbody tr th:only-of-type {\n",
       "        vertical-align: middle;\n",
       "    }\n",
       "\n",
       "    .dataframe tbody tr th {\n",
       "        vertical-align: top;\n",
       "    }\n",
       "\n",
       "    .dataframe thead th {\n",
       "        text-align: right;\n",
       "    }\n",
       "</style>\n",
       "<table border=\"1\" class=\"dataframe\">\n",
       "  <thead>\n",
       "    <tr style=\"text-align: right;\">\n",
       "      <th></th>\n",
       "      <th>big</th>\n",
       "      <th>bigger</th>\n",
       "      <th>huge</th>\n",
       "      <th>biggest</th>\n",
       "    </tr>\n",
       "    <tr>\n",
       "      <th>0</th>\n",
       "      <th></th>\n",
       "      <th></th>\n",
       "      <th></th>\n",
       "      <th></th>\n",
       "    </tr>\n",
       "  </thead>\n",
       "  <tbody>\n",
       "    <tr>\n",
       "      <th>Nancy</th>\n",
       "      <td>30</td>\n",
       "      <td>40</td>\n",
       "      <td>50</td>\n",
       "      <td>60</td>\n",
       "    </tr>\n",
       "    <tr>\n",
       "      <th>John</th>\n",
       "      <td>300</td>\n",
       "      <td>400</td>\n",
       "      <td>500</td>\n",
       "      <td>600</td>\n",
       "    </tr>\n",
       "    <tr>\n",
       "      <th>Nick</th>\n",
       "      <td>3000</td>\n",
       "      <td>4000</td>\n",
       "      <td>5000</td>\n",
       "      <td>6000</td>\n",
       "    </tr>\n",
       "    <tr>\n",
       "      <th>Kim</th>\n",
       "      <td>30000</td>\n",
       "      <td>40000</td>\n",
       "      <td>50000</td>\n",
       "      <td>60000</td>\n",
       "    </tr>\n",
       "  </tbody>\n",
       "</table>\n",
       "</div>"
      ],
      "text/plain": [
       "         big  bigger   huge  biggest\n",
       "0                                   \n",
       "Nancy     30      40     50       60\n",
       "John     300     400    500      600\n",
       "Nick    3000    4000   5000     6000\n",
       "Kim    30000   40000  50000    60000"
      ]
     },
     "execution_count": 198,
     "metadata": {},
     "output_type": "execute_result"
    }
   ],
   "source": [
    "numbers_dataframe.columns = ['big', 'bigger', 'huge', 'biggest']\n",
    "numbers_dataframe"
   ]
  },
  {
   "cell_type": "code",
   "execution_count": 199,
   "metadata": {},
   "outputs": [
    {
     "data": {
      "text/html": [
       "<div>\n",
       "<style scoped>\n",
       "    .dataframe tbody tr th:only-of-type {\n",
       "        vertical-align: middle;\n",
       "    }\n",
       "\n",
       "    .dataframe tbody tr th {\n",
       "        vertical-align: top;\n",
       "    }\n",
       "\n",
       "    .dataframe thead th {\n",
       "        text-align: right;\n",
       "    }\n",
       "</style>\n",
       "<table border=\"1\" class=\"dataframe\">\n",
       "  <thead>\n",
       "    <tr style=\"text-align: right;\">\n",
       "      <th></th>\n",
       "      <th>big</th>\n",
       "      <th>bigger</th>\n",
       "      <th>huge</th>\n",
       "      <th>biggest</th>\n",
       "    </tr>\n",
       "    <tr>\n",
       "      <th>name</th>\n",
       "      <th></th>\n",
       "      <th></th>\n",
       "      <th></th>\n",
       "      <th></th>\n",
       "    </tr>\n",
       "  </thead>\n",
       "  <tbody>\n",
       "    <tr>\n",
       "      <th>Nancy</th>\n",
       "      <td>30</td>\n",
       "      <td>40</td>\n",
       "      <td>50</td>\n",
       "      <td>60</td>\n",
       "    </tr>\n",
       "    <tr>\n",
       "      <th>John</th>\n",
       "      <td>300</td>\n",
       "      <td>400</td>\n",
       "      <td>500</td>\n",
       "      <td>600</td>\n",
       "    </tr>\n",
       "    <tr>\n",
       "      <th>Nick</th>\n",
       "      <td>3000</td>\n",
       "      <td>4000</td>\n",
       "      <td>5000</td>\n",
       "      <td>6000</td>\n",
       "    </tr>\n",
       "    <tr>\n",
       "      <th>Kim</th>\n",
       "      <td>30000</td>\n",
       "      <td>40000</td>\n",
       "      <td>50000</td>\n",
       "      <td>60000</td>\n",
       "    </tr>\n",
       "  </tbody>\n",
       "</table>\n",
       "</div>"
      ],
      "text/plain": [
       "         big  bigger   huge  biggest\n",
       "name                                \n",
       "Nancy     30      40     50       60\n",
       "John     300     400    500      600\n",
       "Nick    3000    4000   5000     6000\n",
       "Kim    30000   40000  50000    60000"
      ]
     },
     "execution_count": 199,
     "metadata": {},
     "output_type": "execute_result"
    }
   ],
   "source": [
    "numbers_dataframe.index.name = 'name'\n",
    "numbers_dataframe"
   ]
  },
  {
   "cell_type": "code",
   "execution_count": 200,
   "metadata": {},
   "outputs": [
    {
     "data": {
      "text/plain": [
       "pandas.core.frame.DataFrame"
      ]
     },
     "execution_count": 200,
     "metadata": {},
     "output_type": "execute_result"
    }
   ],
   "source": [
    "type(numbers_dataframe)"
   ]
  },
  {
   "cell_type": "code",
   "execution_count": 201,
   "metadata": {},
   "outputs": [
    {
     "data": {
      "text/plain": [
       "array([['Nancy', '30', '40', '50', '60'],\n",
       "       ['John', '300', '400', '500', '600'],\n",
       "       ['Nick', '3000', '4000', '5000', '6000'],\n",
       "       ['Kim', '30000', '40000', '50000', '60000']], dtype='<U5')"
      ]
     },
     "execution_count": 201,
     "metadata": {},
     "output_type": "execute_result"
    }
   ],
   "source": [
    "npa = np.array(numbers)\n",
    "npa"
   ]
  },
  {
   "cell_type": "code",
   "execution_count": 202,
   "metadata": {},
   "outputs": [
    {
     "data": {
      "text/plain": [
       "numpy.ndarray"
      ]
     },
     "execution_count": 202,
     "metadata": {},
     "output_type": "execute_result"
    }
   ],
   "source": [
    "type(npa)"
   ]
  },
  {
   "cell_type": "code",
   "execution_count": 203,
   "metadata": {},
   "outputs": [
    {
     "data": {
      "text/html": [
       "<div>\n",
       "<style scoped>\n",
       "    .dataframe tbody tr th:only-of-type {\n",
       "        vertical-align: middle;\n",
       "    }\n",
       "\n",
       "    .dataframe tbody tr th {\n",
       "        vertical-align: top;\n",
       "    }\n",
       "\n",
       "    .dataframe thead th {\n",
       "        text-align: right;\n",
       "    }\n",
       "</style>\n",
       "<table border=\"1\" class=\"dataframe\">\n",
       "  <thead>\n",
       "    <tr style=\"text-align: right;\">\n",
       "      <th></th>\n",
       "      <th>big</th>\n",
       "      <th>bigger</th>\n",
       "      <th>huge</th>\n",
       "      <th>biggest</th>\n",
       "    </tr>\n",
       "    <tr>\n",
       "      <th>name</th>\n",
       "      <th></th>\n",
       "      <th></th>\n",
       "      <th></th>\n",
       "      <th></th>\n",
       "    </tr>\n",
       "  </thead>\n",
       "  <tbody>\n",
       "    <tr>\n",
       "      <th>Nancy</th>\n",
       "      <td>30</td>\n",
       "      <td>40</td>\n",
       "      <td>50</td>\n",
       "      <td>60</td>\n",
       "    </tr>\n",
       "    <tr>\n",
       "      <th>John</th>\n",
       "      <td>300</td>\n",
       "      <td>400</td>\n",
       "      <td>500</td>\n",
       "      <td>600</td>\n",
       "    </tr>\n",
       "    <tr>\n",
       "      <th>Nick</th>\n",
       "      <td>3000</td>\n",
       "      <td>4000</td>\n",
       "      <td>5000</td>\n",
       "      <td>6000</td>\n",
       "    </tr>\n",
       "    <tr>\n",
       "      <th>Kim</th>\n",
       "      <td>30000</td>\n",
       "      <td>40000</td>\n",
       "      <td>50000</td>\n",
       "      <td>60000</td>\n",
       "    </tr>\n",
       "  </tbody>\n",
       "</table>\n",
       "</div>"
      ],
      "text/plain": [
       "         big bigger   huge biggest\n",
       "name                              \n",
       "Nancy     30     40     50      60\n",
       "John     300    400    500     600\n",
       "Nick    3000   4000   5000    6000\n",
       "Kim    30000  40000  50000   60000"
      ]
     },
     "execution_count": 203,
     "metadata": {},
     "output_type": "execute_result"
    }
   ],
   "source": [
    "frame_from_ndarray = pd.DataFrame(npa[:,1:], index=npa[:,0], columns = ['big', 'bigger', \"huge\", \"biggest\"])\n",
    "frame_from_ndarray.index.name = \"name\"\n",
    "frame_from_ndarray"
   ]
  },
  {
   "cell_type": "code",
   "execution_count": 204,
   "metadata": {},
   "outputs": [
    {
     "ename": "SyntaxError",
     "evalue": "unexpected EOF while parsing (<ipython-input-204-8954b379959c>, line 1)",
     "output_type": "error",
     "traceback": [
      "\u001b[0;36m  File \u001b[0;32m\"<ipython-input-204-8954b379959c>\"\u001b[0;36m, line \u001b[0;32m1\u001b[0m\n\u001b[0;31m    numbers_dataframe[\"huge\"\u001b[0m\n\u001b[0m                            ^\u001b[0m\n\u001b[0;31mSyntaxError\u001b[0m\u001b[0;31m:\u001b[0m unexpected EOF while parsing\n"
     ]
    }
   ],
   "source": [
    "numbers_dataframe[\"huge\""
   ]
  },
  {
   "cell_type": "code",
   "execution_count": 205,
   "metadata": {},
   "outputs": [
    {
     "data": {
      "text/plain": [
       "name\n",
       "Nancy       50\n",
       "John       500\n",
       "Nick      5000\n",
       "Kim      50000\n",
       "Name: huge, dtype: int64"
      ]
     },
     "execution_count": 205,
     "metadata": {},
     "output_type": "execute_result"
    }
   ],
   "source": [
    "numbers_dataframe[\"huge\"]"
   ]
  },
  {
   "cell_type": "code",
   "execution_count": 206,
   "metadata": {},
   "outputs": [
    {
     "data": {
      "text/plain": [
       "name\n",
       "Nancy       50\n",
       "John       500\n",
       "Nick      5000\n",
       "Kim      50000\n",
       "Name: huge, dtype: object"
      ]
     },
     "execution_count": 206,
     "metadata": {},
     "output_type": "execute_result"
    }
   ],
   "source": [
    "frame_from_ndarray[\"huge\"]"
   ]
  },
  {
   "cell_type": "code",
   "execution_count": 207,
   "metadata": {},
   "outputs": [
    {
     "data": {
      "text/html": [
       "<div>\n",
       "<style scoped>\n",
       "    .dataframe tbody tr th:only-of-type {\n",
       "        vertical-align: middle;\n",
       "    }\n",
       "\n",
       "    .dataframe tbody tr th {\n",
       "        vertical-align: top;\n",
       "    }\n",
       "\n",
       "    .dataframe thead th {\n",
       "        text-align: right;\n",
       "    }\n",
       "</style>\n",
       "<table border=\"1\" class=\"dataframe\">\n",
       "  <thead>\n",
       "    <tr style=\"text-align: right;\">\n",
       "      <th></th>\n",
       "      <th>big</th>\n",
       "      <th>bigger</th>\n",
       "      <th>huge</th>\n",
       "    </tr>\n",
       "    <tr>\n",
       "      <th>name</th>\n",
       "      <th></th>\n",
       "      <th></th>\n",
       "      <th></th>\n",
       "    </tr>\n",
       "  </thead>\n",
       "  <tbody>\n",
       "    <tr>\n",
       "      <th>John</th>\n",
       "      <td>300</td>\n",
       "      <td>400</td>\n",
       "      <td>500</td>\n",
       "    </tr>\n",
       "  </tbody>\n",
       "</table>\n",
       "</div>"
      ],
      "text/plain": [
       "      big  bigger  huge\n",
       "name                   \n",
       "John  300     400   500"
      ]
     },
     "execution_count": 207,
     "metadata": {},
     "output_type": "execute_result"
    }
   ],
   "source": [
    "small = numbers_dataframe.iloc[1:2,:-1]  # for sub dataframes - gives a copy of the data\n",
    "small"
   ]
  },
  {
   "cell_type": "code",
   "execution_count": 208,
   "metadata": {},
   "outputs": [
    {
     "data": {
      "image/png": "[encoded data removed]",
      "text/plain": [
       "<Figure size 432x288 with 1 Axes>"
      ]
     },
     "metadata": {
      "needs_background": "light"
     },
     "output_type": "display_data"
    }
   ],
   "source": [
    "import matplotlib.pyplot as plt   #  The convention is to rename this long name to a short one: \"plt\"\n",
    "plt.plot(numbers_dataframe[\"big\"], numbers_dataframe[\"biggest\"])\n",
    "plt.xlabel(\"big\")\n",
    "plt.ylabel(\"biggest\")\n",
    "plt.show()"
   ]
  },
  {
   "cell_type": "code",
   "execution_count": 209,
   "metadata": {},
   "outputs": [],
   "source": [
    "data = [['State', 'Capital', 'Largest City', 'Bird', 'Flower'] ,\n",
    "        ['Alabama', 'Montgomery', 'Birmingham', 'Yellowhammer', 'Camellia'],\n",
    "        ['Alaska', 'Juneau', 'Anchorage', 'Willow Ptarmigan', 'Forget-me-not'],\n",
    "        ['Arizona', 'Phoenix', 'Phoenix', 'Cactus Wren', 'Saguaro Cactus Blossom'],\n",
    "        ['Arkansas', 'Little Rock', 'Little Rock', 'Mockingbird', 'Apple Blossom'],\n",
    "        ['California', 'Sacramento', 'Los Angeles', 'California Valley Quail', 'Golden Poppy'],\n",
    "        ['Colorado', 'Denver', 'Denver', 'Lark Bunting', 'Columbine'],\n",
    "        ['Connecticut', 'Hartford', 'Bridgeport', 'American Robin', 'Mountain Laurel'],\n",
    "        ['Delaware', 'Dover', 'Wilmington', 'Blue Hen Chicken', 'Peach Blossom'],\n",
    "        ['Florida', 'Tallahassee', 'Jacksonville', 'Mockingbird', 'Orange Blossom'],\n",
    "        ['Georgia', 'Atlanta', 'Atlanta', 'Brown Thrasher', 'Cherokee Rose'],\n",
    "        ['Hawaii', 'Honolulu', 'Honolulu', 'Nene (Hawaiian Goose)', 'Hibiscus'],\n",
    "        ['Idaho', 'Boise', 'Boise', 'Mountain Bluebird', 'Syringa'],\n",
    "        ['Illinois', 'Springfield', 'Chicago', 'Cardinal', 'Native violet'],\n",
    "        ['Indiana', 'Indianapolis', 'Indianapolis', 'Cardinal', 'Peony'],\n",
    "        ['Iowa', 'Des Moines', 'Des Moines', 'Eastern Goldfinch', 'Wild Rose'],\n",
    "        ['Kansas', 'Topeka', 'Wichita', 'Western Meadowlark', 'Native Sunflower'],\n",
    "        ['Kentucky', 'Frankfort', 'Louisville', 'Kentucky Cardinal', 'Goldenrod'],\n",
    "        ['Louisiana', 'Baton Rouge', 'New Orleans', 'Pelican', 'Magnolia'],\n",
    "        ['Maine', 'Augusta', 'Portland', 'Chickadee', 'White Pine Cone and Tassel'],\n",
    "        ['Maryland', 'Annapolis', 'Baltimore', 'Baltimore Oriole', 'Black-Eyed Susan'],\n",
    "        ['Massachusetts', 'Boston', 'Boston', 'Chickadee', 'Mayflower'],\n",
    "        ['Michigan', 'Lansing', 'Detroit', 'Robin', 'Apple Blossom'],\n",
    "        ['Minnesota', 'St. Paul', 'Minneapolis', 'Common Loon', \"Pink and White Lady's Slipper\"],\n",
    "        ['Mississippi', 'Jackson', 'Jackson', 'Mockingbird', 'Magnolia'],\n",
    "        ['Missouri', 'Jefferson City', 'Kansas City', 'Bluebird', 'Hawthorn'],\n",
    "        ['Montana', 'Helena', 'Billings', 'Western Meadowlark', 'Bitterroot'],\n",
    "        ['Nebraska', 'Lincoln', 'Omaha', 'Western Meadowlark', 'Goldenrod'],\n",
    "        ['Nevada', 'Carson City', 'Las Vegas', 'Mountain Bluebird', 'Sagebrush'],\n",
    "        ['New Hampshire', 'Concord', 'Manchester', 'Purple Finch', 'Purple Lilac'],\n",
    "        ['New Jersey', 'Trenton', 'Newark', 'Eastern Goldfinch', 'Purple Violet'],\n",
    "        ['New Mexico', 'Santa Fe', 'Albuquerque', 'Roadrunner', 'Yucca Flower'],\n",
    "        ['New York', 'Albany', 'New York', 'Bluebird', 'Rose'],\n",
    "        ['North Carolina', 'Raleigh', 'Charlotte', 'Cardinal', 'Dogwood'],\n",
    "        ['North Dakota', 'Bismarck', 'Fargo', 'Western Meadowlark', 'Wild Prairie Rose'],\n",
    "        ['Ohio', 'Columbus', 'Columbus', 'Cardinal', 'Scarlet Carnation'],\n",
    "        ['Oklahoma', 'Oklahoma City', 'Oklahoma City', 'Scissor-Tailed Flycatcher', 'Mistletoe'],\n",
    "        ['Oregon', 'Salem', 'Portland', 'Western Meadowlark', 'Oregon Grape'],\n",
    "        ['Pennsylvania', 'Harrisburg', 'Philadelphia', 'Ruffed Grouse', 'Mountain Laurel'],\n",
    "        ['Rhode Island', 'Providence', 'Providence', 'Rhode Island Red', 'Violet'],\n",
    "        ['South Carolina', 'Columbia', 'Columbia', 'Carolina Wren', 'Yellow Jessamine'],\n",
    "        ['South Dakota', 'Pierre', 'Sioux Falls', 'Ring-Necked Pheasant', 'American Pasqueflower'],\n",
    "        ['Tennessee', 'Nashville', 'Memphis', 'Mockingbird', 'Iris'],\n",
    "        ['Texas', 'Austin', 'Houston', 'Mockingbird', 'Bluebonnet'],\n",
    "        ['Utah', 'Salt Lake City', 'Salt Lake City', 'California Gull', 'Sego Lily'],\n",
    "        ['Vermont', 'Montpelier', 'Burlington', 'Hermit Thrush', 'Red Clover'],\n",
    "        ['Virginia', 'Richmond', 'Virginia Beach', 'Cardinal', 'Dogwood'],\n",
    "        ['Washington', 'Olympia', 'Seattle', 'Willow Goldfinch', 'Western Rhododendron'],\n",
    "        ['West Virginia', 'Charleston', 'Charleston', 'Cardinal', 'Big Rhododendron'],\n",
    "        ['Wisconsin', 'Madison', 'Milwaukee', 'Robin', 'Wood Violet'],\n",
    "        ['Wyoming', 'Cheyenne', 'Cheyenne', 'Meadowlark', 'Indian Paintbrush'],\n",
    "        ['Washington, D.C.', 'None', 'Washington', 'Woodthrush', 'American Beauty Rose']]\n",
    "\n"
   ]
  },
  {
   "cell_type": "code",
   "execution_count": 210,
   "metadata": {},
   "outputs": [
    {
     "data": {
      "text/html": [
       "<div>\n",
       "<style scoped>\n",
       "    .dataframe tbody tr th:only-of-type {\n",
       "        vertical-align: middle;\n",
       "    }\n",
       "\n",
       "    .dataframe tbody tr th {\n",
       "        vertical-align: top;\n",
       "    }\n",
       "\n",
       "    .dataframe thead th {\n",
       "        text-align: right;\n",
       "    }\n",
       "</style>\n",
       "<table border=\"1\" class=\"dataframe\">\n",
       "  <thead>\n",
       "    <tr style=\"text-align: right;\">\n",
       "      <th></th>\n",
       "      <th>0</th>\n",
       "      <th>1</th>\n",
       "      <th>2</th>\n",
       "      <th>3</th>\n",
       "      <th>4</th>\n",
       "    </tr>\n",
       "  </thead>\n",
       "  <tbody>\n",
       "    <tr>\n",
       "      <th>0</th>\n",
       "      <td>State</td>\n",
       "      <td>Capital</td>\n",
       "      <td>Largest City</td>\n",
       "      <td>Bird</td>\n",
       "      <td>Flower</td>\n",
       "    </tr>\n",
       "    <tr>\n",
       "      <th>1</th>\n",
       "      <td>Alabama</td>\n",
       "      <td>Montgomery</td>\n",
       "      <td>Birmingham</td>\n",
       "      <td>Yellowhammer</td>\n",
       "      <td>Camellia</td>\n",
       "    </tr>\n",
       "    <tr>\n",
       "      <th>2</th>\n",
       "      <td>Alaska</td>\n",
       "      <td>Juneau</td>\n",
       "      <td>Anchorage</td>\n",
       "      <td>Willow Ptarmigan</td>\n",
       "      <td>Forget-me-not</td>\n",
       "    </tr>\n",
       "    <tr>\n",
       "      <th>3</th>\n",
       "      <td>Arizona</td>\n",
       "      <td>Phoenix</td>\n",
       "      <td>Phoenix</td>\n",
       "      <td>Cactus Wren</td>\n",
       "      <td>Saguaro Cactus Blossom</td>\n",
       "    </tr>\n",
       "    <tr>\n",
       "      <th>4</th>\n",
       "      <td>Arkansas</td>\n",
       "      <td>Little Rock</td>\n",
       "      <td>Little Rock</td>\n",
       "      <td>Mockingbird</td>\n",
       "      <td>Apple Blossom</td>\n",
       "    </tr>\n",
       "    <tr>\n",
       "      <th>5</th>\n",
       "      <td>California</td>\n",
       "      <td>Sacramento</td>\n",
       "      <td>Los Angeles</td>\n",
       "      <td>California Valley Quail</td>\n",
       "      <td>Golden Poppy</td>\n",
       "    </tr>\n",
       "    <tr>\n",
       "      <th>6</th>\n",
       "      <td>Colorado</td>\n",
       "      <td>Denver</td>\n",
       "      <td>Denver</td>\n",
       "      <td>Lark Bunting</td>\n",
       "      <td>Columbine</td>\n",
       "    </tr>\n",
       "    <tr>\n",
       "      <th>7</th>\n",
       "      <td>Connecticut</td>\n",
       "      <td>Hartford</td>\n",
       "      <td>Bridgeport</td>\n",
       "      <td>American Robin</td>\n",
       "      <td>Mountain Laurel</td>\n",
       "    </tr>\n",
       "    <tr>\n",
       "      <th>8</th>\n",
       "      <td>Delaware</td>\n",
       "      <td>Dover</td>\n",
       "      <td>Wilmington</td>\n",
       "      <td>Blue Hen Chicken</td>\n",
       "      <td>Peach Blossom</td>\n",
       "    </tr>\n",
       "    <tr>\n",
       "      <th>9</th>\n",
       "      <td>Florida</td>\n",
       "      <td>Tallahassee</td>\n",
       "      <td>Jacksonville</td>\n",
       "      <td>Mockingbird</td>\n",
       "      <td>Orange Blossom</td>\n",
       "    </tr>\n",
       "    <tr>\n",
       "      <th>10</th>\n",
       "      <td>Georgia</td>\n",
       "      <td>Atlanta</td>\n",
       "      <td>Atlanta</td>\n",
       "      <td>Brown Thrasher</td>\n",
       "      <td>Cherokee Rose</td>\n",
       "    </tr>\n",
       "    <tr>\n",
       "      <th>11</th>\n",
       "      <td>Hawaii</td>\n",
       "      <td>Honolulu</td>\n",
       "      <td>Honolulu</td>\n",
       "      <td>Nene (Hawaiian Goose)</td>\n",
       "      <td>Hibiscus</td>\n",
       "    </tr>\n",
       "    <tr>\n",
       "      <th>12</th>\n",
       "      <td>Idaho</td>\n",
       "      <td>Boise</td>\n",
       "      <td>Boise</td>\n",
       "      <td>Mountain Bluebird</td>\n",
       "      <td>Syringa</td>\n",
       "    </tr>\n",
       "    <tr>\n",
       "      <th>13</th>\n",
       "      <td>Illinois</td>\n",
       "      <td>Springfield</td>\n",
       "      <td>Chicago</td>\n",
       "      <td>Cardinal</td>\n",
       "      <td>Native violet</td>\n",
       "    </tr>\n",
       "    <tr>\n",
       "      <th>14</th>\n",
       "      <td>Indiana</td>\n",
       "      <td>Indianapolis</td>\n",
       "      <td>Indianapolis</td>\n",
       "      <td>Cardinal</td>\n",
       "      <td>Peony</td>\n",
       "    </tr>\n",
       "    <tr>\n",
       "      <th>15</th>\n",
       "      <td>Iowa</td>\n",
       "      <td>Des Moines</td>\n",
       "      <td>Des Moines</td>\n",
       "      <td>Eastern Goldfinch</td>\n",
       "      <td>Wild Rose</td>\n",
       "    </tr>\n",
       "    <tr>\n",
       "      <th>16</th>\n",
       "      <td>Kansas</td>\n",
       "      <td>Topeka</td>\n",
       "      <td>Wichita</td>\n",
       "      <td>Western Meadowlark</td>\n",
       "      <td>Native Sunflower</td>\n",
       "    </tr>\n",
       "    <tr>\n",
       "      <th>17</th>\n",
       "      <td>Kentucky</td>\n",
       "      <td>Frankfort</td>\n",
       "      <td>Louisville</td>\n",
       "      <td>Kentucky Cardinal</td>\n",
       "      <td>Goldenrod</td>\n",
       "    </tr>\n",
       "    <tr>\n",
       "      <th>18</th>\n",
       "      <td>Louisiana</td>\n",
       "      <td>Baton Rouge</td>\n",
       "      <td>New Orleans</td>\n",
       "      <td>Pelican</td>\n",
       "      <td>Magnolia</td>\n",
       "    </tr>\n",
       "    <tr>\n",
       "      <th>19</th>\n",
       "      <td>Maine</td>\n",
       "      <td>Augusta</td>\n",
       "      <td>Portland</td>\n",
       "      <td>Chickadee</td>\n",
       "      <td>White Pine Cone and Tassel</td>\n",
       "    </tr>\n",
       "    <tr>\n",
       "      <th>20</th>\n",
       "      <td>Maryland</td>\n",
       "      <td>Annapolis</td>\n",
       "      <td>Baltimore</td>\n",
       "      <td>Baltimore Oriole</td>\n",
       "      <td>Black-Eyed Susan</td>\n",
       "    </tr>\n",
       "    <tr>\n",
       "      <th>21</th>\n",
       "      <td>Massachusetts</td>\n",
       "      <td>Boston</td>\n",
       "      <td>Boston</td>\n",
       "      <td>Chickadee</td>\n",
       "      <td>Mayflower</td>\n",
       "    </tr>\n",
       "    <tr>\n",
       "      <th>22</th>\n",
       "      <td>Michigan</td>\n",
       "      <td>Lansing</td>\n",
       "      <td>Detroit</td>\n",
       "      <td>Robin</td>\n",
       "      <td>Apple Blossom</td>\n",
       "    </tr>\n",
       "    <tr>\n",
       "      <th>23</th>\n",
       "      <td>Minnesota</td>\n",
       "      <td>St. Paul</td>\n",
       "      <td>Minneapolis</td>\n",
       "      <td>Common Loon</td>\n",
       "      <td>Pink and White Lady's Slipper</td>\n",
       "    </tr>\n",
       "    <tr>\n",
       "      <th>24</th>\n",
       "      <td>Mississippi</td>\n",
       "      <td>Jackson</td>\n",
       "      <td>Jackson</td>\n",
       "      <td>Mockingbird</td>\n",
       "      <td>Magnolia</td>\n",
       "    </tr>\n",
       "    <tr>\n",
       "      <th>25</th>\n",
       "      <td>Missouri</td>\n",
       "      <td>Jefferson City</td>\n",
       "      <td>Kansas City</td>\n",
       "      <td>Bluebird</td>\n",
       "      <td>Hawthorn</td>\n",
       "    </tr>\n",
       "    <tr>\n",
       "      <th>26</th>\n",
       "      <td>Montana</td>\n",
       "      <td>Helena</td>\n",
       "      <td>Billings</td>\n",
       "      <td>Western Meadowlark</td>\n",
       "      <td>Bitterroot</td>\n",
       "    </tr>\n",
       "    <tr>\n",
       "      <th>27</th>\n",
       "      <td>Nebraska</td>\n",
       "      <td>Lincoln</td>\n",
       "      <td>Omaha</td>\n",
       "      <td>Western Meadowlark</td>\n",
       "      <td>Goldenrod</td>\n",
       "    </tr>\n",
       "    <tr>\n",
       "      <th>28</th>\n",
       "      <td>Nevada</td>\n",
       "      <td>Carson City</td>\n",
       "      <td>Las Vegas</td>\n",
       "      <td>Mountain Bluebird</td>\n",
       "      <td>Sagebrush</td>\n",
       "    </tr>\n",
       "    <tr>\n",
       "      <th>29</th>\n",
       "      <td>New Hampshire</td>\n",
       "      <td>Concord</td>\n",
       "      <td>Manchester</td>\n",
       "      <td>Purple Finch</td>\n",
       "      <td>Purple Lilac</td>\n",
       "    </tr>\n",
       "    <tr>\n",
       "      <th>30</th>\n",
       "      <td>New Jersey</td>\n",
       "      <td>Trenton</td>\n",
       "      <td>Newark</td>\n",
       "      <td>Eastern Goldfinch</td>\n",
       "      <td>Purple Violet</td>\n",
       "    </tr>\n",
       "    <tr>\n",
       "      <th>31</th>\n",
       "      <td>New Mexico</td>\n",
       "      <td>Santa Fe</td>\n",
       "      <td>Albuquerque</td>\n",
       "      <td>Roadrunner</td>\n",
       "      <td>Yucca Flower</td>\n",
       "    </tr>\n",
       "    <tr>\n",
       "      <th>32</th>\n",
       "      <td>New York</td>\n",
       "      <td>Albany</td>\n",
       "      <td>New York</td>\n",
       "      <td>Bluebird</td>\n",
       "      <td>Rose</td>\n",
       "    </tr>\n",
       "    <tr>\n",
       "      <th>33</th>\n",
       "      <td>North Carolina</td>\n",
       "      <td>Raleigh</td>\n",
       "      <td>Charlotte</td>\n",
       "      <td>Cardinal</td>\n",
       "      <td>Dogwood</td>\n",
       "    </tr>\n",
       "    <tr>\n",
       "      <th>34</th>\n",
       "      <td>North Dakota</td>\n",
       "      <td>Bismarck</td>\n",
       "      <td>Fargo</td>\n",
       "      <td>Western Meadowlark</td>\n",
       "      <td>Wild Prairie Rose</td>\n",
       "    </tr>\n",
       "    <tr>\n",
       "      <th>35</th>\n",
       "      <td>Ohio</td>\n",
       "      <td>Columbus</td>\n",
       "      <td>Columbus</td>\n",
       "      <td>Cardinal</td>\n",
       "      <td>Scarlet Carnation</td>\n",
       "    </tr>\n",
       "    <tr>\n",
       "      <th>36</th>\n",
       "      <td>Oklahoma</td>\n",
       "      <td>Oklahoma City</td>\n",
       "      <td>Oklahoma City</td>\n",
       "      <td>Scissor-Tailed Flycatcher</td>\n",
       "      <td>Mistletoe</td>\n",
       "    </tr>\n",
       "    <tr>\n",
       "      <th>37</th>\n",
       "      <td>Oregon</td>\n",
       "      <td>Salem</td>\n",
       "      <td>Portland</td>\n",
       "      <td>Western Meadowlark</td>\n",
       "      <td>Oregon Grape</td>\n",
       "    </tr>\n",
       "    <tr>\n",
       "      <th>38</th>\n",
       "      <td>Pennsylvania</td>\n",
       "      <td>Harrisburg</td>\n",
       "      <td>Philadelphia</td>\n",
       "      <td>Ruffed Grouse</td>\n",
       "      <td>Mountain Laurel</td>\n",
       "    </tr>\n",
       "    <tr>\n",
       "      <th>39</th>\n",
       "      <td>Rhode Island</td>\n",
       "      <td>Providence</td>\n",
       "      <td>Providence</td>\n",
       "      <td>Rhode Island Red</td>\n",
       "      <td>Violet</td>\n",
       "    </tr>\n",
       "    <tr>\n",
       "      <th>40</th>\n",
       "      <td>South Carolina</td>\n",
       "      <td>Columbia</td>\n",
       "      <td>Columbia</td>\n",
       "      <td>Carolina Wren</td>\n",
       "      <td>Yellow Jessamine</td>\n",
       "    </tr>\n",
       "    <tr>\n",
       "      <th>41</th>\n",
       "      <td>South Dakota</td>\n",
       "      <td>Pierre</td>\n",
       "      <td>Sioux Falls</td>\n",
       "      <td>Ring-Necked Pheasant</td>\n",
       "      <td>American Pasqueflower</td>\n",
       "    </tr>\n",
       "    <tr>\n",
       "      <th>42</th>\n",
       "      <td>Tennessee</td>\n",
       "      <td>Nashville</td>\n",
       "      <td>Memphis</td>\n",
       "      <td>Mockingbird</td>\n",
       "      <td>Iris</td>\n",
       "    </tr>\n",
       "    <tr>\n",
       "      <th>43</th>\n",
       "      <td>Texas</td>\n",
       "      <td>Austin</td>\n",
       "      <td>Houston</td>\n",
       "      <td>Mockingbird</td>\n",
       "      <td>Bluebonnet</td>\n",
       "    </tr>\n",
       "    <tr>\n",
       "      <th>44</th>\n",
       "      <td>Utah</td>\n",
       "      <td>Salt Lake City</td>\n",
       "      <td>Salt Lake City</td>\n",
       "      <td>California Gull</td>\n",
       "      <td>Sego Lily</td>\n",
       "    </tr>\n",
       "    <tr>\n",
       "      <th>45</th>\n",
       "      <td>Vermont</td>\n",
       "      <td>Montpelier</td>\n",
       "      <td>Burlington</td>\n",
       "      <td>Hermit Thrush</td>\n",
       "      <td>Red Clover</td>\n",
       "    </tr>\n",
       "    <tr>\n",
       "      <th>46</th>\n",
       "      <td>Virginia</td>\n",
       "      <td>Richmond</td>\n",
       "      <td>Virginia Beach</td>\n",
       "      <td>Cardinal</td>\n",
       "      <td>Dogwood</td>\n",
       "    </tr>\n",
       "    <tr>\n",
       "      <th>47</th>\n",
       "      <td>Washington</td>\n",
       "      <td>Olympia</td>\n",
       "      <td>Seattle</td>\n",
       "      <td>Willow Goldfinch</td>\n",
       "      <td>Western Rhododendron</td>\n",
       "    </tr>\n",
       "    <tr>\n",
       "      <th>48</th>\n",
       "      <td>West Virginia</td>\n",
       "      <td>Charleston</td>\n",
       "      <td>Charleston</td>\n",
       "      <td>Cardinal</td>\n",
       "      <td>Big Rhododendron</td>\n",
       "    </tr>\n",
       "    <tr>\n",
       "      <th>49</th>\n",
       "      <td>Wisconsin</td>\n",
       "      <td>Madison</td>\n",
       "      <td>Milwaukee</td>\n",
       "      <td>Robin</td>\n",
       "      <td>Wood Violet</td>\n",
       "    </tr>\n",
       "    <tr>\n",
       "      <th>50</th>\n",
       "      <td>Wyoming</td>\n",
       "      <td>Cheyenne</td>\n",
       "      <td>Cheyenne</td>\n",
       "      <td>Meadowlark</td>\n",
       "      <td>Indian Paintbrush</td>\n",
       "    </tr>\n",
       "    <tr>\n",
       "      <th>51</th>\n",
       "      <td>Washington, D.C.</td>\n",
       "      <td>None</td>\n",
       "      <td>Washington</td>\n",
       "      <td>Woodthrush</td>\n",
       "      <td>American Beauty Rose</td>\n",
       "    </tr>\n",
       "  </tbody>\n",
       "</table>\n",
       "</div>"
      ],
      "text/plain": [
       "                   0               1               2  \\\n",
       "0              State         Capital    Largest City   \n",
       "1            Alabama      Montgomery      Birmingham   \n",
       "2             Alaska          Juneau       Anchorage   \n",
       "3            Arizona         Phoenix         Phoenix   \n",
       "4           Arkansas     Little Rock     Little Rock   \n",
       "5         California      Sacramento     Los Angeles   \n",
       "6           Colorado          Denver          Denver   \n",
       "7        Connecticut        Hartford      Bridgeport   \n",
       "8           Delaware           Dover      Wilmington   \n",
       "9            Florida     Tallahassee    Jacksonville   \n",
       "10           Georgia         Atlanta         Atlanta   \n",
       "11            Hawaii        Honolulu        Honolulu   \n",
       "12             Idaho           Boise           Boise   \n",
       "13          Illinois     Springfield         Chicago   \n",
       "14           Indiana    Indianapolis    Indianapolis   \n",
       "15              Iowa      Des Moines      Des Moines   \n",
       "16            Kansas          Topeka         Wichita   \n",
       "17          Kentucky       Frankfort      Louisville   \n",
       "18         Louisiana     Baton Rouge     New Orleans   \n",
       "19             Maine         Augusta        Portland   \n",
       "20          Maryland       Annapolis       Baltimore   \n",
       "21     Massachusetts          Boston          Boston   \n",
       "22          Michigan         Lansing         Detroit   \n",
       "23         Minnesota        St. Paul     Minneapolis   \n",
       "24       Mississippi         Jackson         Jackson   \n",
       "25          Missouri  Jefferson City     Kansas City   \n",
       "26           Montana          Helena        Billings   \n",
       "27          Nebraska         Lincoln           Omaha   \n",
       "28            Nevada     Carson City       Las Vegas   \n",
       "29     New Hampshire         Concord      Manchester   \n",
       "30        New Jersey         Trenton          Newark   \n",
       "31        New Mexico        Santa Fe     Albuquerque   \n",
       "32          New York          Albany        New York   \n",
       "33    North Carolina         Raleigh       Charlotte   \n",
       "34      North Dakota        Bismarck           Fargo   \n",
       "35              Ohio        Columbus        Columbus   \n",
       "36          Oklahoma   Oklahoma City   Oklahoma City   \n",
       "37            Oregon           Salem        Portland   \n",
       "38      Pennsylvania      Harrisburg    Philadelphia   \n",
       "39      Rhode Island      Providence      Providence   \n",
       "40    South Carolina        Columbia        Columbia   \n",
       "41      South Dakota          Pierre     Sioux Falls   \n",
       "42         Tennessee       Nashville         Memphis   \n",
       "43             Texas          Austin         Houston   \n",
       "44              Utah  Salt Lake City  Salt Lake City   \n",
       "45           Vermont      Montpelier      Burlington   \n",
       "46          Virginia        Richmond  Virginia Beach   \n",
       "47        Washington         Olympia         Seattle   \n",
       "48     West Virginia      Charleston      Charleston   \n",
       "49         Wisconsin         Madison       Milwaukee   \n",
       "50           Wyoming        Cheyenne        Cheyenne   \n",
       "51  Washington, D.C.            None      Washington   \n",
       "\n",
       "                            3                              4  \n",
       "0                        Bird                         Flower  \n",
       "1                Yellowhammer                       Camellia  \n",
       "2            Willow Ptarmigan                  Forget-me-not  \n",
       "3                 Cactus Wren         Saguaro Cactus Blossom  \n",
       "4                 Mockingbird                  Apple Blossom  \n",
       "5     California Valley Quail                   Golden Poppy  \n",
       "6                Lark Bunting                      Columbine  \n",
       "7              American Robin                Mountain Laurel  \n",
       "8            Blue Hen Chicken                  Peach Blossom  \n",
       "9                 Mockingbird                 Orange Blossom  \n",
       "10             Brown Thrasher                  Cherokee Rose  \n",
       "11      Nene (Hawaiian Goose)                       Hibiscus  \n",
       "12          Mountain Bluebird                        Syringa  \n",
       "13                   Cardinal                  Native violet  \n",
       "14                   Cardinal                          Peony  \n",
       "15          Eastern Goldfinch                      Wild Rose  \n",
       "16         Western Meadowlark               Native Sunflower  \n",
       "17          Kentucky Cardinal                      Goldenrod  \n",
       "18                    Pelican                       Magnolia  \n",
       "19                  Chickadee     White Pine Cone and Tassel  \n",
       "20           Baltimore Oriole               Black-Eyed Susan  \n",
       "21                  Chickadee                      Mayflower  \n",
       "22                      Robin                  Apple Blossom  \n",
       "23                Common Loon  Pink and White Lady's Slipper  \n",
       "24                Mockingbird                       Magnolia  \n",
       "25                   Bluebird                       Hawthorn  \n",
       "26         Western Meadowlark                     Bitterroot  \n",
       "27         Western Meadowlark                      Goldenrod  \n",
       "28          Mountain Bluebird                      Sagebrush  \n",
       "29               Purple Finch                   Purple Lilac  \n",
       "30          Eastern Goldfinch                  Purple Violet  \n",
       "31                 Roadrunner                   Yucca Flower  \n",
       "32                   Bluebird                           Rose  \n",
       "33                   Cardinal                        Dogwood  \n",
       "34         Western Meadowlark              Wild Prairie Rose  \n",
       "35                   Cardinal              Scarlet Carnation  \n",
       "36  Scissor-Tailed Flycatcher                      Mistletoe  \n",
       "37         Western Meadowlark                   Oregon Grape  \n",
       "38              Ruffed Grouse                Mountain Laurel  \n",
       "39           Rhode Island Red                         Violet  \n",
       "40              Carolina Wren               Yellow Jessamine  \n",
       "41       Ring-Necked Pheasant          American Pasqueflower  \n",
       "42                Mockingbird                           Iris  \n",
       "43                Mockingbird                     Bluebonnet  \n",
       "44            California Gull                      Sego Lily  \n",
       "45              Hermit Thrush                     Red Clover  \n",
       "46                   Cardinal                        Dogwood  \n",
       "47           Willow Goldfinch           Western Rhododendron  \n",
       "48                   Cardinal               Big Rhododendron  \n",
       "49                      Robin                    Wood Violet  \n",
       "50                 Meadowlark              Indian Paintbrush  \n",
       "51                 Woodthrush           American Beauty Rose  "
      ]
     },
     "execution_count": 210,
     "metadata": {},
     "output_type": "execute_result"
    }
   ],
   "source": [
    "import pandas as pd\n",
    "data_dataframe = pd.DataFrame(data)\n",
    "data_dataframe"
   ]
  },
  {
   "cell_type": "code",
   "execution_count": 211,
   "metadata": {},
   "outputs": [
    {
     "data": {
      "text/plain": [
       "array([['State', 'Capital', 'Largest City', 'Bird', 'Flower'],\n",
       "       ['Alabama', 'Montgomery', 'Birmingham', 'Yellowhammer',\n",
       "        'Camellia'],\n",
       "       ['Alaska', 'Juneau', 'Anchorage', 'Willow Ptarmigan',\n",
       "        'Forget-me-not'],\n",
       "       ['Arizona', 'Phoenix', 'Phoenix', 'Cactus Wren',\n",
       "        'Saguaro Cactus Blossom'],\n",
       "       ['Arkansas', 'Little Rock', 'Little Rock', 'Mockingbird',\n",
       "        'Apple Blossom'],\n",
       "       ['California', 'Sacramento', 'Los Angeles',\n",
       "        'California Valley Quail', 'Golden Poppy'],\n",
       "       ['Colorado', 'Denver', 'Denver', 'Lark Bunting', 'Columbine'],\n",
       "       ['Connecticut', 'Hartford', 'Bridgeport', 'American Robin',\n",
       "        'Mountain Laurel'],\n",
       "       ['Delaware', 'Dover', 'Wilmington', 'Blue Hen Chicken',\n",
       "        'Peach Blossom'],\n",
       "       ['Florida', 'Tallahassee', 'Jacksonville', 'Mockingbird',\n",
       "        'Orange Blossom'],\n",
       "       ['Georgia', 'Atlanta', 'Atlanta', 'Brown Thrasher',\n",
       "        'Cherokee Rose'],\n",
       "       ['Hawaii', 'Honolulu', 'Honolulu', 'Nene (Hawaiian Goose)',\n",
       "        'Hibiscus'],\n",
       "       ['Idaho', 'Boise', 'Boise', 'Mountain Bluebird', 'Syringa'],\n",
       "       ['Illinois', 'Springfield', 'Chicago', 'Cardinal',\n",
       "        'Native violet'],\n",
       "       ['Indiana', 'Indianapolis', 'Indianapolis', 'Cardinal', 'Peony'],\n",
       "       ['Iowa', 'Des Moines', 'Des Moines', 'Eastern Goldfinch',\n",
       "        'Wild Rose'],\n",
       "       ['Kansas', 'Topeka', 'Wichita', 'Western Meadowlark',\n",
       "        'Native Sunflower'],\n",
       "       ['Kentucky', 'Frankfort', 'Louisville', 'Kentucky Cardinal',\n",
       "        'Goldenrod'],\n",
       "       ['Louisiana', 'Baton Rouge', 'New Orleans', 'Pelican', 'Magnolia'],\n",
       "       ['Maine', 'Augusta', 'Portland', 'Chickadee',\n",
       "        'White Pine Cone and Tassel'],\n",
       "       ['Maryland', 'Annapolis', 'Baltimore', 'Baltimore Oriole',\n",
       "        'Black-Eyed Susan'],\n",
       "       ['Massachusetts', 'Boston', 'Boston', 'Chickadee', 'Mayflower'],\n",
       "       ['Michigan', 'Lansing', 'Detroit', 'Robin', 'Apple Blossom'],\n",
       "       ['Minnesota', 'St. Paul', 'Minneapolis', 'Common Loon',\n",
       "        \"Pink and White Lady's Slipper\"],\n",
       "       ['Mississippi', 'Jackson', 'Jackson', 'Mockingbird', 'Magnolia'],\n",
       "       ['Missouri', 'Jefferson City', 'Kansas City', 'Bluebird',\n",
       "        'Hawthorn'],\n",
       "       ['Montana', 'Helena', 'Billings', 'Western Meadowlark',\n",
       "        'Bitterroot'],\n",
       "       ['Nebraska', 'Lincoln', 'Omaha', 'Western Meadowlark',\n",
       "        'Goldenrod'],\n",
       "       ['Nevada', 'Carson City', 'Las Vegas', 'Mountain Bluebird',\n",
       "        'Sagebrush'],\n",
       "       ['New Hampshire', 'Concord', 'Manchester', 'Purple Finch',\n",
       "        'Purple Lilac'],\n",
       "       ['New Jersey', 'Trenton', 'Newark', 'Eastern Goldfinch',\n",
       "        'Purple Violet'],\n",
       "       ['New Mexico', 'Santa Fe', 'Albuquerque', 'Roadrunner',\n",
       "        'Yucca Flower'],\n",
       "       ['New York', 'Albany', 'New York', 'Bluebird', 'Rose'],\n",
       "       ['North Carolina', 'Raleigh', 'Charlotte', 'Cardinal', 'Dogwood'],\n",
       "       ['North Dakota', 'Bismarck', 'Fargo', 'Western Meadowlark',\n",
       "        'Wild Prairie Rose'],\n",
       "       ['Ohio', 'Columbus', 'Columbus', 'Cardinal', 'Scarlet Carnation'],\n",
       "       ['Oklahoma', 'Oklahoma City', 'Oklahoma City',\n",
       "        'Scissor-Tailed Flycatcher', 'Mistletoe'],\n",
       "       ['Oregon', 'Salem', 'Portland', 'Western Meadowlark',\n",
       "        'Oregon Grape'],\n",
       "       ['Pennsylvania', 'Harrisburg', 'Philadelphia', 'Ruffed Grouse',\n",
       "        'Mountain Laurel'],\n",
       "       ['Rhode Island', 'Providence', 'Providence', 'Rhode Island Red',\n",
       "        'Violet'],\n",
       "       ['South Carolina', 'Columbia', 'Columbia', 'Carolina Wren',\n",
       "        'Yellow Jessamine'],\n",
       "       ['South Dakota', 'Pierre', 'Sioux Falls', 'Ring-Necked Pheasant',\n",
       "        'American Pasqueflower'],\n",
       "       ['Tennessee', 'Nashville', 'Memphis', 'Mockingbird', 'Iris'],\n",
       "       ['Texas', 'Austin', 'Houston', 'Mockingbird', 'Bluebonnet'],\n",
       "       ['Utah', 'Salt Lake City', 'Salt Lake City', 'California Gull',\n",
       "        'Sego Lily'],\n",
       "       ['Vermont', 'Montpelier', 'Burlington', 'Hermit Thrush',\n",
       "        'Red Clover'],\n",
       "       ['Virginia', 'Richmond', 'Virginia Beach', 'Cardinal', 'Dogwood'],\n",
       "       ['Washington', 'Olympia', 'Seattle', 'Willow Goldfinch',\n",
       "        'Western Rhododendron'],\n",
       "       ['West Virginia', 'Charleston', 'Charleston', 'Cardinal',\n",
       "        'Big Rhododendron'],\n",
       "       ['Wisconsin', 'Madison', 'Milwaukee', 'Robin', 'Wood Violet'],\n",
       "       ['Wyoming', 'Cheyenne', 'Cheyenne', 'Meadowlark',\n",
       "        'Indian Paintbrush'],\n",
       "       ['Washington, D.C.', 'None', 'Washington', 'Woodthrush',\n",
       "        'American Beauty Rose']], dtype='<U29')"
      ]
     },
     "execution_count": 211,
     "metadata": {},
     "output_type": "execute_result"
    }
   ],
   "source": [
    "npa = np.array(data)\n",
    "npa"
   ]
  },
  {
   "cell_type": "code",
   "execution_count": 214,
   "metadata": {},
   "outputs": [
    {
     "ename": "ValueError",
     "evalue": "Shape of passed values is (52, 4), indices imply (52, 5)",
     "output_type": "error",
     "traceback": [
      "\u001b[0;31m---------------------------------------------------------------------------\u001b[0m",
      "\u001b[0;31mValueError\u001b[0m                                Traceback (most recent call last)",
      "\u001b[0;32m/miniconda3/lib/python3.7/site-packages/pandas/core/internals/managers.py\u001b[0m in \u001b[0;36mcreate_block_manager_from_blocks\u001b[0;34m(blocks, axes)\u001b[0m\n\u001b[1;32m   1650\u001b[0m                 blocks = [make_block(values=blocks[0],\n\u001b[0;32m-> 1651\u001b[0;31m                                      placement=slice(0, len(axes[0])))]\n\u001b[0m\u001b[1;32m   1652\u001b[0m \u001b[0;34m\u001b[0m\u001b[0m\n",
      "\u001b[0;32m/miniconda3/lib/python3.7/site-packages/pandas/core/internals/blocks.py\u001b[0m in \u001b[0;36mmake_block\u001b[0;34m(values, placement, klass, ndim, dtype, fastpath)\u001b[0m\n\u001b[1;32m   3094\u001b[0m \u001b[0;34m\u001b[0m\u001b[0m\n\u001b[0;32m-> 3095\u001b[0;31m     \u001b[0;32mreturn\u001b[0m \u001b[0mklass\u001b[0m\u001b[0;34m(\u001b[0m\u001b[0mvalues\u001b[0m\u001b[0;34m,\u001b[0m \u001b[0mndim\u001b[0m\u001b[0;34m=\u001b[0m\u001b[0mndim\u001b[0m\u001b[0;34m,\u001b[0m \u001b[0mplacement\u001b[0m\u001b[0;34m=\u001b[0m\u001b[0mplacement\u001b[0m\u001b[0;34m)\u001b[0m\u001b[0;34m\u001b[0m\u001b[0;34m\u001b[0m\u001b[0m\n\u001b[0m\u001b[1;32m   3096\u001b[0m \u001b[0;34m\u001b[0m\u001b[0m\n",
      "\u001b[0;32m/miniconda3/lib/python3.7/site-packages/pandas/core/internals/blocks.py\u001b[0m in \u001b[0;36m__init__\u001b[0;34m(self, values, placement, ndim)\u001b[0m\n\u001b[1;32m   2630\u001b[0m         super(ObjectBlock, self).__init__(values, ndim=ndim,\n\u001b[0;32m-> 2631\u001b[0;31m                                           placement=placement)\n\u001b[0m\u001b[1;32m   2632\u001b[0m \u001b[0;34m\u001b[0m\u001b[0m\n",
      "\u001b[0;32m/miniconda3/lib/python3.7/site-packages/pandas/core/internals/blocks.py\u001b[0m in \u001b[0;36m__init__\u001b[0;34m(self, values, placement, ndim)\u001b[0m\n\u001b[1;32m     86\u001b[0m                 \u001b[0;34m'Wrong number of items passed {val}, placement implies '\u001b[0m\u001b[0;34m\u001b[0m\u001b[0;34m\u001b[0m\u001b[0m\n\u001b[0;32m---> 87\u001b[0;31m                 '{mgr}'.format(val=len(self.values), mgr=len(self.mgr_locs)))\n\u001b[0m\u001b[1;32m     88\u001b[0m \u001b[0;34m\u001b[0m\u001b[0m\n",
      "\u001b[0;31mValueError\u001b[0m: Wrong number of items passed 4, placement implies 5",
      "\nDuring handling of the above exception, another exception occurred:\n",
      "\u001b[0;31mValueError\u001b[0m                                Traceback (most recent call last)",
      "\u001b[0;32m<ipython-input-214-fd9d1da31ef8>\u001b[0m in \u001b[0;36m<module>\u001b[0;34m\u001b[0m\n\u001b[0;32m----> 1\u001b[0;31m \u001b[0mdf\u001b[0m \u001b[0;34m=\u001b[0m \u001b[0mpd\u001b[0m\u001b[0;34m.\u001b[0m\u001b[0mDataFrame\u001b[0m\u001b[0;34m(\u001b[0m\u001b[0mnpa\u001b[0m\u001b[0;34m[\u001b[0m\u001b[0;34m:\u001b[0m\u001b[0;34m,\u001b[0m\u001b[0;36m1\u001b[0m\u001b[0;34m:\u001b[0m\u001b[0;34m]\u001b[0m\u001b[0;34m,\u001b[0m \u001b[0mcolumns\u001b[0m \u001b[0;34m=\u001b[0m \u001b[0;34m[\u001b[0m\u001b[0;34m'State'\u001b[0m\u001b[0;34m,\u001b[0m \u001b[0;34m'Capital'\u001b[0m\u001b[0;34m,\u001b[0m \u001b[0;34m'Largest City'\u001b[0m\u001b[0;34m,\u001b[0m \u001b[0;34m'Bird'\u001b[0m\u001b[0;34m,\u001b[0m \u001b[0;34m'Flower'\u001b[0m\u001b[0;34m]\u001b[0m\u001b[0;34m)\u001b[0m\u001b[0;34m\u001b[0m\u001b[0;34m\u001b[0m\u001b[0m\n\u001b[0m\u001b[1;32m      2\u001b[0m \u001b[0mdf\u001b[0m\u001b[0;34m\u001b[0m\u001b[0;34m\u001b[0m\u001b[0m\n",
      "\u001b[0;32m/miniconda3/lib/python3.7/site-packages/pandas/core/frame.py\u001b[0m in \u001b[0;36m__init__\u001b[0;34m(self, data, index, columns, dtype, copy)\u001b[0m\n\u001b[1;32m    422\u001b[0m             \u001b[0;32melse\u001b[0m\u001b[0;34m:\u001b[0m\u001b[0;34m\u001b[0m\u001b[0;34m\u001b[0m\u001b[0m\n\u001b[1;32m    423\u001b[0m                 mgr = init_ndarray(data, index, columns, dtype=dtype,\n\u001b[0;32m--> 424\u001b[0;31m                                    copy=copy)\n\u001b[0m\u001b[1;32m    425\u001b[0m \u001b[0;34m\u001b[0m\u001b[0m\n\u001b[1;32m    426\u001b[0m         \u001b[0;31m# For data is list-like, or Iterable (will consume into list)\u001b[0m\u001b[0;34m\u001b[0m\u001b[0;34m\u001b[0m\u001b[0;34m\u001b[0m\u001b[0m\n",
      "\u001b[0;32m/miniconda3/lib/python3.7/site-packages/pandas/core/internals/construction.py\u001b[0m in \u001b[0;36minit_ndarray\u001b[0;34m(values, index, columns, dtype, copy)\u001b[0m\n\u001b[1;32m    165\u001b[0m         \u001b[0mvalues\u001b[0m \u001b[0;34m=\u001b[0m \u001b[0mmaybe_infer_to_datetimelike\u001b[0m\u001b[0;34m(\u001b[0m\u001b[0mvalues\u001b[0m\u001b[0;34m)\u001b[0m\u001b[0;34m\u001b[0m\u001b[0;34m\u001b[0m\u001b[0m\n\u001b[1;32m    166\u001b[0m \u001b[0;34m\u001b[0m\u001b[0m\n\u001b[0;32m--> 167\u001b[0;31m     \u001b[0;32mreturn\u001b[0m \u001b[0mcreate_block_manager_from_blocks\u001b[0m\u001b[0;34m(\u001b[0m\u001b[0;34m[\u001b[0m\u001b[0mvalues\u001b[0m\u001b[0;34m]\u001b[0m\u001b[0;34m,\u001b[0m \u001b[0;34m[\u001b[0m\u001b[0mcolumns\u001b[0m\u001b[0;34m,\u001b[0m \u001b[0mindex\u001b[0m\u001b[0;34m]\u001b[0m\u001b[0;34m)\u001b[0m\u001b[0;34m\u001b[0m\u001b[0;34m\u001b[0m\u001b[0m\n\u001b[0m\u001b[1;32m    168\u001b[0m \u001b[0;34m\u001b[0m\u001b[0m\n\u001b[1;32m    169\u001b[0m \u001b[0;34m\u001b[0m\u001b[0m\n",
      "\u001b[0;32m/miniconda3/lib/python3.7/site-packages/pandas/core/internals/managers.py\u001b[0m in \u001b[0;36mcreate_block_manager_from_blocks\u001b[0;34m(blocks, axes)\u001b[0m\n\u001b[1;32m   1658\u001b[0m         \u001b[0mblocks\u001b[0m \u001b[0;34m=\u001b[0m \u001b[0;34m[\u001b[0m\u001b[0mgetattr\u001b[0m\u001b[0;34m(\u001b[0m\u001b[0mb\u001b[0m\u001b[0;34m,\u001b[0m \u001b[0;34m'values'\u001b[0m\u001b[0;34m,\u001b[0m \u001b[0mb\u001b[0m\u001b[0;34m)\u001b[0m \u001b[0;32mfor\u001b[0m \u001b[0mb\u001b[0m \u001b[0;32min\u001b[0m \u001b[0mblocks\u001b[0m\u001b[0;34m]\u001b[0m\u001b[0;34m\u001b[0m\u001b[0;34m\u001b[0m\u001b[0m\n\u001b[1;32m   1659\u001b[0m         \u001b[0mtot_items\u001b[0m \u001b[0;34m=\u001b[0m \u001b[0msum\u001b[0m\u001b[0;34m(\u001b[0m\u001b[0mb\u001b[0m\u001b[0;34m.\u001b[0m\u001b[0mshape\u001b[0m\u001b[0;34m[\u001b[0m\u001b[0;36m0\u001b[0m\u001b[0;34m]\u001b[0m \u001b[0;32mfor\u001b[0m \u001b[0mb\u001b[0m \u001b[0;32min\u001b[0m \u001b[0mblocks\u001b[0m\u001b[0;34m)\u001b[0m\u001b[0;34m\u001b[0m\u001b[0;34m\u001b[0m\u001b[0m\n\u001b[0;32m-> 1660\u001b[0;31m         \u001b[0mconstruction_error\u001b[0m\u001b[0;34m(\u001b[0m\u001b[0mtot_items\u001b[0m\u001b[0;34m,\u001b[0m \u001b[0mblocks\u001b[0m\u001b[0;34m[\u001b[0m\u001b[0;36m0\u001b[0m\u001b[0;34m]\u001b[0m\u001b[0;34m.\u001b[0m\u001b[0mshape\u001b[0m\u001b[0;34m[\u001b[0m\u001b[0;36m1\u001b[0m\u001b[0;34m:\u001b[0m\u001b[0;34m]\u001b[0m\u001b[0;34m,\u001b[0m \u001b[0maxes\u001b[0m\u001b[0;34m,\u001b[0m \u001b[0me\u001b[0m\u001b[0;34m)\u001b[0m\u001b[0;34m\u001b[0m\u001b[0;34m\u001b[0m\u001b[0m\n\u001b[0m\u001b[1;32m   1661\u001b[0m \u001b[0;34m\u001b[0m\u001b[0m\n\u001b[1;32m   1662\u001b[0m \u001b[0;34m\u001b[0m\u001b[0m\n",
      "\u001b[0;32m/miniconda3/lib/python3.7/site-packages/pandas/core/internals/managers.py\u001b[0m in \u001b[0;36mconstruction_error\u001b[0;34m(tot_items, block_shape, axes, e)\u001b[0m\n\u001b[1;32m   1689\u001b[0m         \u001b[0;32mraise\u001b[0m \u001b[0mValueError\u001b[0m\u001b[0;34m(\u001b[0m\u001b[0;34m\"Empty data passed with indices specified.\"\u001b[0m\u001b[0;34m)\u001b[0m\u001b[0;34m\u001b[0m\u001b[0;34m\u001b[0m\u001b[0m\n\u001b[1;32m   1690\u001b[0m     raise ValueError(\"Shape of passed values is {0}, indices imply {1}\".format(\n\u001b[0;32m-> 1691\u001b[0;31m         passed, implied))\n\u001b[0m\u001b[1;32m   1692\u001b[0m \u001b[0;34m\u001b[0m\u001b[0m\n\u001b[1;32m   1693\u001b[0m \u001b[0;34m\u001b[0m\u001b[0m\n",
      "\u001b[0;31mValueError\u001b[0m: Shape of passed values is (52, 4), indices imply (52, 5)"
     ]
    }
   ],
   "source": [
    "df = pd.DataFrame(npa[:,1:], columns = ['State', 'Capital', 'Largest City', 'Bird', 'Flower'])\n",
    "df"
   ]
  },
  {
   "cell_type": "code",
   "execution_count": 215,
   "metadata": {},
   "outputs": [
    {
     "data": {
      "text/html": [
       "<div>\n",
       "<style scoped>\n",
       "    .dataframe tbody tr th:only-of-type {\n",
       "        vertical-align: middle;\n",
       "    }\n",
       "\n",
       "    .dataframe tbody tr th {\n",
       "        vertical-align: top;\n",
       "    }\n",
       "\n",
       "    .dataframe thead th {\n",
       "        text-align: right;\n",
       "    }\n",
       "</style>\n",
       "<table border=\"1\" class=\"dataframe\">\n",
       "  <thead>\n",
       "    <tr style=\"text-align: right;\">\n",
       "      <th></th>\n",
       "      <th>1</th>\n",
       "      <th>2</th>\n",
       "      <th>3</th>\n",
       "      <th>4</th>\n",
       "    </tr>\n",
       "    <tr>\n",
       "      <th>0</th>\n",
       "      <th></th>\n",
       "      <th></th>\n",
       "      <th></th>\n",
       "      <th></th>\n",
       "    </tr>\n",
       "  </thead>\n",
       "  <tbody>\n",
       "    <tr>\n",
       "      <th>State</th>\n",
       "      <td>Capital</td>\n",
       "      <td>Largest City</td>\n",
       "      <td>Bird</td>\n",
       "      <td>Flower</td>\n",
       "    </tr>\n",
       "    <tr>\n",
       "      <th>Alabama</th>\n",
       "      <td>Montgomery</td>\n",
       "      <td>Birmingham</td>\n",
       "      <td>Yellowhammer</td>\n",
       "      <td>Camellia</td>\n",
       "    </tr>\n",
       "    <tr>\n",
       "      <th>Alaska</th>\n",
       "      <td>Juneau</td>\n",
       "      <td>Anchorage</td>\n",
       "      <td>Willow Ptarmigan</td>\n",
       "      <td>Forget-me-not</td>\n",
       "    </tr>\n",
       "    <tr>\n",
       "      <th>Arizona</th>\n",
       "      <td>Phoenix</td>\n",
       "      <td>Phoenix</td>\n",
       "      <td>Cactus Wren</td>\n",
       "      <td>Saguaro Cactus Blossom</td>\n",
       "    </tr>\n",
       "    <tr>\n",
       "      <th>Arkansas</th>\n",
       "      <td>Little Rock</td>\n",
       "      <td>Little Rock</td>\n",
       "      <td>Mockingbird</td>\n",
       "      <td>Apple Blossom</td>\n",
       "    </tr>\n",
       "    <tr>\n",
       "      <th>California</th>\n",
       "      <td>Sacramento</td>\n",
       "      <td>Los Angeles</td>\n",
       "      <td>California Valley Quail</td>\n",
       "      <td>Golden Poppy</td>\n",
       "    </tr>\n",
       "    <tr>\n",
       "      <th>Colorado</th>\n",
       "      <td>Denver</td>\n",
       "      <td>Denver</td>\n",
       "      <td>Lark Bunting</td>\n",
       "      <td>Columbine</td>\n",
       "    </tr>\n",
       "    <tr>\n",
       "      <th>Connecticut</th>\n",
       "      <td>Hartford</td>\n",
       "      <td>Bridgeport</td>\n",
       "      <td>American Robin</td>\n",
       "      <td>Mountain Laurel</td>\n",
       "    </tr>\n",
       "    <tr>\n",
       "      <th>Delaware</th>\n",
       "      <td>Dover</td>\n",
       "      <td>Wilmington</td>\n",
       "      <td>Blue Hen Chicken</td>\n",
       "      <td>Peach Blossom</td>\n",
       "    </tr>\n",
       "    <tr>\n",
       "      <th>Florida</th>\n",
       "      <td>Tallahassee</td>\n",
       "      <td>Jacksonville</td>\n",
       "      <td>Mockingbird</td>\n",
       "      <td>Orange Blossom</td>\n",
       "    </tr>\n",
       "    <tr>\n",
       "      <th>Georgia</th>\n",
       "      <td>Atlanta</td>\n",
       "      <td>Atlanta</td>\n",
       "      <td>Brown Thrasher</td>\n",
       "      <td>Cherokee Rose</td>\n",
       "    </tr>\n",
       "    <tr>\n",
       "      <th>Hawaii</th>\n",
       "      <td>Honolulu</td>\n",
       "      <td>Honolulu</td>\n",
       "      <td>Nene (Hawaiian Goose)</td>\n",
       "      <td>Hibiscus</td>\n",
       "    </tr>\n",
       "    <tr>\n",
       "      <th>Idaho</th>\n",
       "      <td>Boise</td>\n",
       "      <td>Boise</td>\n",
       "      <td>Mountain Bluebird</td>\n",
       "      <td>Syringa</td>\n",
       "    </tr>\n",
       "    <tr>\n",
       "      <th>Illinois</th>\n",
       "      <td>Springfield</td>\n",
       "      <td>Chicago</td>\n",
       "      <td>Cardinal</td>\n",
       "      <td>Native violet</td>\n",
       "    </tr>\n",
       "    <tr>\n",
       "      <th>Indiana</th>\n",
       "      <td>Indianapolis</td>\n",
       "      <td>Indianapolis</td>\n",
       "      <td>Cardinal</td>\n",
       "      <td>Peony</td>\n",
       "    </tr>\n",
       "    <tr>\n",
       "      <th>Iowa</th>\n",
       "      <td>Des Moines</td>\n",
       "      <td>Des Moines</td>\n",
       "      <td>Eastern Goldfinch</td>\n",
       "      <td>Wild Rose</td>\n",
       "    </tr>\n",
       "    <tr>\n",
       "      <th>Kansas</th>\n",
       "      <td>Topeka</td>\n",
       "      <td>Wichita</td>\n",
       "      <td>Western Meadowlark</td>\n",
       "      <td>Native Sunflower</td>\n",
       "    </tr>\n",
       "    <tr>\n",
       "      <th>Kentucky</th>\n",
       "      <td>Frankfort</td>\n",
       "      <td>Louisville</td>\n",
       "      <td>Kentucky Cardinal</td>\n",
       "      <td>Goldenrod</td>\n",
       "    </tr>\n",
       "    <tr>\n",
       "      <th>Louisiana</th>\n",
       "      <td>Baton Rouge</td>\n",
       "      <td>New Orleans</td>\n",
       "      <td>Pelican</td>\n",
       "      <td>Magnolia</td>\n",
       "    </tr>\n",
       "    <tr>\n",
       "      <th>Maine</th>\n",
       "      <td>Augusta</td>\n",
       "      <td>Portland</td>\n",
       "      <td>Chickadee</td>\n",
       "      <td>White Pine Cone and Tassel</td>\n",
       "    </tr>\n",
       "    <tr>\n",
       "      <th>Maryland</th>\n",
       "      <td>Annapolis</td>\n",
       "      <td>Baltimore</td>\n",
       "      <td>Baltimore Oriole</td>\n",
       "      <td>Black-Eyed Susan</td>\n",
       "    </tr>\n",
       "    <tr>\n",
       "      <th>Massachusetts</th>\n",
       "      <td>Boston</td>\n",
       "      <td>Boston</td>\n",
       "      <td>Chickadee</td>\n",
       "      <td>Mayflower</td>\n",
       "    </tr>\n",
       "    <tr>\n",
       "      <th>Michigan</th>\n",
       "      <td>Lansing</td>\n",
       "      <td>Detroit</td>\n",
       "      <td>Robin</td>\n",
       "      <td>Apple Blossom</td>\n",
       "    </tr>\n",
       "    <tr>\n",
       "      <th>Minnesota</th>\n",
       "      <td>St. Paul</td>\n",
       "      <td>Minneapolis</td>\n",
       "      <td>Common Loon</td>\n",
       "      <td>Pink and White Lady's Slipper</td>\n",
       "    </tr>\n",
       "    <tr>\n",
       "      <th>Mississippi</th>\n",
       "      <td>Jackson</td>\n",
       "      <td>Jackson</td>\n",
       "      <td>Mockingbird</td>\n",
       "      <td>Magnolia</td>\n",
       "    </tr>\n",
       "    <tr>\n",
       "      <th>Missouri</th>\n",
       "      <td>Jefferson City</td>\n",
       "      <td>Kansas City</td>\n",
       "      <td>Bluebird</td>\n",
       "      <td>Hawthorn</td>\n",
       "    </tr>\n",
       "    <tr>\n",
       "      <th>Montana</th>\n",
       "      <td>Helena</td>\n",
       "      <td>Billings</td>\n",
       "      <td>Western Meadowlark</td>\n",
       "      <td>Bitterroot</td>\n",
       "    </tr>\n",
       "    <tr>\n",
       "      <th>Nebraska</th>\n",
       "      <td>Lincoln</td>\n",
       "      <td>Omaha</td>\n",
       "      <td>Western Meadowlark</td>\n",
       "      <td>Goldenrod</td>\n",
       "    </tr>\n",
       "    <tr>\n",
       "      <th>Nevada</th>\n",
       "      <td>Carson City</td>\n",
       "      <td>Las Vegas</td>\n",
       "      <td>Mountain Bluebird</td>\n",
       "      <td>Sagebrush</td>\n",
       "    </tr>\n",
       "    <tr>\n",
       "      <th>New Hampshire</th>\n",
       "      <td>Concord</td>\n",
       "      <td>Manchester</td>\n",
       "      <td>Purple Finch</td>\n",
       "      <td>Purple Lilac</td>\n",
       "    </tr>\n",
       "    <tr>\n",
       "      <th>New Jersey</th>\n",
       "      <td>Trenton</td>\n",
       "      <td>Newark</td>\n",
       "      <td>Eastern Goldfinch</td>\n",
       "      <td>Purple Violet</td>\n",
       "    </tr>\n",
       "    <tr>\n",
       "      <th>New Mexico</th>\n",
       "      <td>Santa Fe</td>\n",
       "      <td>Albuquerque</td>\n",
       "      <td>Roadrunner</td>\n",
       "      <td>Yucca Flower</td>\n",
       "    </tr>\n",
       "    <tr>\n",
       "      <th>New York</th>\n",
       "      <td>Albany</td>\n",
       "      <td>New York</td>\n",
       "      <td>Bluebird</td>\n",
       "      <td>Rose</td>\n",
       "    </tr>\n",
       "    <tr>\n",
       "      <th>North Carolina</th>\n",
       "      <td>Raleigh</td>\n",
       "      <td>Charlotte</td>\n",
       "      <td>Cardinal</td>\n",
       "      <td>Dogwood</td>\n",
       "    </tr>\n",
       "    <tr>\n",
       "      <th>North Dakota</th>\n",
       "      <td>Bismarck</td>\n",
       "      <td>Fargo</td>\n",
       "      <td>Western Meadowlark</td>\n",
       "      <td>Wild Prairie Rose</td>\n",
       "    </tr>\n",
       "    <tr>\n",
       "      <th>Ohio</th>\n",
       "      <td>Columbus</td>\n",
       "      <td>Columbus</td>\n",
       "      <td>Cardinal</td>\n",
       "      <td>Scarlet Carnation</td>\n",
       "    </tr>\n",
       "    <tr>\n",
       "      <th>Oklahoma</th>\n",
       "      <td>Oklahoma City</td>\n",
       "      <td>Oklahoma City</td>\n",
       "      <td>Scissor-Tailed Flycatcher</td>\n",
       "      <td>Mistletoe</td>\n",
       "    </tr>\n",
       "    <tr>\n",
       "      <th>Oregon</th>\n",
       "      <td>Salem</td>\n",
       "      <td>Portland</td>\n",
       "      <td>Western Meadowlark</td>\n",
       "      <td>Oregon Grape</td>\n",
       "    </tr>\n",
       "    <tr>\n",
       "      <th>Pennsylvania</th>\n",
       "      <td>Harrisburg</td>\n",
       "      <td>Philadelphia</td>\n",
       "      <td>Ruffed Grouse</td>\n",
       "      <td>Mountain Laurel</td>\n",
       "    </tr>\n",
       "    <tr>\n",
       "      <th>Rhode Island</th>\n",
       "      <td>Providence</td>\n",
       "      <td>Providence</td>\n",
       "      <td>Rhode Island Red</td>\n",
       "      <td>Violet</td>\n",
       "    </tr>\n",
       "    <tr>\n",
       "      <th>South Carolina</th>\n",
       "      <td>Columbia</td>\n",
       "      <td>Columbia</td>\n",
       "      <td>Carolina Wren</td>\n",
       "      <td>Yellow Jessamine</td>\n",
       "    </tr>\n",
       "    <tr>\n",
       "      <th>South Dakota</th>\n",
       "      <td>Pierre</td>\n",
       "      <td>Sioux Falls</td>\n",
       "      <td>Ring-Necked Pheasant</td>\n",
       "      <td>American Pasqueflower</td>\n",
       "    </tr>\n",
       "    <tr>\n",
       "      <th>Tennessee</th>\n",
       "      <td>Nashville</td>\n",
       "      <td>Memphis</td>\n",
       "      <td>Mockingbird</td>\n",
       "      <td>Iris</td>\n",
       "    </tr>\n",
       "    <tr>\n",
       "      <th>Texas</th>\n",
       "      <td>Austin</td>\n",
       "      <td>Houston</td>\n",
       "      <td>Mockingbird</td>\n",
       "      <td>Bluebonnet</td>\n",
       "    </tr>\n",
       "    <tr>\n",
       "      <th>Utah</th>\n",
       "      <td>Salt Lake City</td>\n",
       "      <td>Salt Lake City</td>\n",
       "      <td>California Gull</td>\n",
       "      <td>Sego Lily</td>\n",
       "    </tr>\n",
       "    <tr>\n",
       "      <th>Vermont</th>\n",
       "      <td>Montpelier</td>\n",
       "      <td>Burlington</td>\n",
       "      <td>Hermit Thrush</td>\n",
       "      <td>Red Clover</td>\n",
       "    </tr>\n",
       "    <tr>\n",
       "      <th>Virginia</th>\n",
       "      <td>Richmond</td>\n",
       "      <td>Virginia Beach</td>\n",
       "      <td>Cardinal</td>\n",
       "      <td>Dogwood</td>\n",
       "    </tr>\n",
       "    <tr>\n",
       "      <th>Washington</th>\n",
       "      <td>Olympia</td>\n",
       "      <td>Seattle</td>\n",
       "      <td>Willow Goldfinch</td>\n",
       "      <td>Western Rhododendron</td>\n",
       "    </tr>\n",
       "    <tr>\n",
       "      <th>West Virginia</th>\n",
       "      <td>Charleston</td>\n",
       "      <td>Charleston</td>\n",
       "      <td>Cardinal</td>\n",
       "      <td>Big Rhododendron</td>\n",
       "    </tr>\n",
       "    <tr>\n",
       "      <th>Wisconsin</th>\n",
       "      <td>Madison</td>\n",
       "      <td>Milwaukee</td>\n",
       "      <td>Robin</td>\n",
       "      <td>Wood Violet</td>\n",
       "    </tr>\n",
       "    <tr>\n",
       "      <th>Wyoming</th>\n",
       "      <td>Cheyenne</td>\n",
       "      <td>Cheyenne</td>\n",
       "      <td>Meadowlark</td>\n",
       "      <td>Indian Paintbrush</td>\n",
       "    </tr>\n",
       "    <tr>\n",
       "      <th>Washington, D.C.</th>\n",
       "      <td>None</td>\n",
       "      <td>Washington</td>\n",
       "      <td>Woodthrush</td>\n",
       "      <td>American Beauty Rose</td>\n",
       "    </tr>\n",
       "  </tbody>\n",
       "</table>\n",
       "</div>"
      ],
      "text/plain": [
       "                               1               2                          3  \\\n",
       "0                                                                             \n",
       "State                    Capital    Largest City                       Bird   \n",
       "Alabama               Montgomery      Birmingham               Yellowhammer   \n",
       "Alaska                    Juneau       Anchorage           Willow Ptarmigan   \n",
       "Arizona                  Phoenix         Phoenix                Cactus Wren   \n",
       "Arkansas             Little Rock     Little Rock                Mockingbird   \n",
       "California            Sacramento     Los Angeles    California Valley Quail   \n",
       "Colorado                  Denver          Denver               Lark Bunting   \n",
       "Connecticut             Hartford      Bridgeport             American Robin   \n",
       "Delaware                   Dover      Wilmington           Blue Hen Chicken   \n",
       "Florida              Tallahassee    Jacksonville                Mockingbird   \n",
       "Georgia                  Atlanta         Atlanta             Brown Thrasher   \n",
       "Hawaii                  Honolulu        Honolulu      Nene (Hawaiian Goose)   \n",
       "Idaho                      Boise           Boise          Mountain Bluebird   \n",
       "Illinois             Springfield         Chicago                   Cardinal   \n",
       "Indiana             Indianapolis    Indianapolis                   Cardinal   \n",
       "Iowa                  Des Moines      Des Moines          Eastern Goldfinch   \n",
       "Kansas                    Topeka         Wichita         Western Meadowlark   \n",
       "Kentucky               Frankfort      Louisville          Kentucky Cardinal   \n",
       "Louisiana            Baton Rouge     New Orleans                    Pelican   \n",
       "Maine                    Augusta        Portland                  Chickadee   \n",
       "Maryland               Annapolis       Baltimore           Baltimore Oriole   \n",
       "Massachusetts             Boston          Boston                  Chickadee   \n",
       "Michigan                 Lansing         Detroit                      Robin   \n",
       "Minnesota               St. Paul     Minneapolis                Common Loon   \n",
       "Mississippi              Jackson         Jackson                Mockingbird   \n",
       "Missouri          Jefferson City     Kansas City                   Bluebird   \n",
       "Montana                   Helena        Billings         Western Meadowlark   \n",
       "Nebraska                 Lincoln           Omaha         Western Meadowlark   \n",
       "Nevada               Carson City       Las Vegas          Mountain Bluebird   \n",
       "New Hampshire            Concord      Manchester               Purple Finch   \n",
       "New Jersey               Trenton          Newark          Eastern Goldfinch   \n",
       "New Mexico              Santa Fe     Albuquerque                 Roadrunner   \n",
       "New York                  Albany        New York                   Bluebird   \n",
       "North Carolina           Raleigh       Charlotte                   Cardinal   \n",
       "North Dakota            Bismarck           Fargo         Western Meadowlark   \n",
       "Ohio                    Columbus        Columbus                   Cardinal   \n",
       "Oklahoma           Oklahoma City   Oklahoma City  Scissor-Tailed Flycatcher   \n",
       "Oregon                     Salem        Portland         Western Meadowlark   \n",
       "Pennsylvania          Harrisburg    Philadelphia              Ruffed Grouse   \n",
       "Rhode Island          Providence      Providence           Rhode Island Red   \n",
       "South Carolina          Columbia        Columbia              Carolina Wren   \n",
       "South Dakota              Pierre     Sioux Falls       Ring-Necked Pheasant   \n",
       "Tennessee              Nashville         Memphis                Mockingbird   \n",
       "Texas                     Austin         Houston                Mockingbird   \n",
       "Utah              Salt Lake City  Salt Lake City            California Gull   \n",
       "Vermont               Montpelier      Burlington              Hermit Thrush   \n",
       "Virginia                Richmond  Virginia Beach                   Cardinal   \n",
       "Washington               Olympia         Seattle           Willow Goldfinch   \n",
       "West Virginia         Charleston      Charleston                   Cardinal   \n",
       "Wisconsin                Madison       Milwaukee                      Robin   \n",
       "Wyoming                 Cheyenne        Cheyenne                 Meadowlark   \n",
       "Washington, D.C.            None      Washington                 Woodthrush   \n",
       "\n",
       "                                              4  \n",
       "0                                                \n",
       "State                                    Flower  \n",
       "Alabama                                Camellia  \n",
       "Alaska                            Forget-me-not  \n",
       "Arizona                  Saguaro Cactus Blossom  \n",
       "Arkansas                          Apple Blossom  \n",
       "California                         Golden Poppy  \n",
       "Colorado                              Columbine  \n",
       "Connecticut                     Mountain Laurel  \n",
       "Delaware                          Peach Blossom  \n",
       "Florida                          Orange Blossom  \n",
       "Georgia                           Cherokee Rose  \n",
       "Hawaii                                 Hibiscus  \n",
       "Idaho                                   Syringa  \n",
       "Illinois                          Native violet  \n",
       "Indiana                                   Peony  \n",
       "Iowa                                  Wild Rose  \n",
       "Kansas                         Native Sunflower  \n",
       "Kentucky                              Goldenrod  \n",
       "Louisiana                              Magnolia  \n",
       "Maine                White Pine Cone and Tassel  \n",
       "Maryland                       Black-Eyed Susan  \n",
       "Massachusetts                         Mayflower  \n",
       "Michigan                          Apple Blossom  \n",
       "Minnesota         Pink and White Lady's Slipper  \n",
       "Mississippi                            Magnolia  \n",
       "Missouri                               Hawthorn  \n",
       "Montana                              Bitterroot  \n",
       "Nebraska                              Goldenrod  \n",
       "Nevada                                Sagebrush  \n",
       "New Hampshire                      Purple Lilac  \n",
       "New Jersey                        Purple Violet  \n",
       "New Mexico                         Yucca Flower  \n",
       "New York                                   Rose  \n",
       "North Carolina                          Dogwood  \n",
       "North Dakota                  Wild Prairie Rose  \n",
       "Ohio                          Scarlet Carnation  \n",
       "Oklahoma                              Mistletoe  \n",
       "Oregon                             Oregon Grape  \n",
       "Pennsylvania                    Mountain Laurel  \n",
       "Rhode Island                             Violet  \n",
       "South Carolina                 Yellow Jessamine  \n",
       "South Dakota              American Pasqueflower  \n",
       "Tennessee                                  Iris  \n",
       "Texas                                Bluebonnet  \n",
       "Utah                                  Sego Lily  \n",
       "Vermont                              Red Clover  \n",
       "Virginia                                Dogwood  \n",
       "Washington                 Western Rhododendron  \n",
       "West Virginia                  Big Rhododendron  \n",
       "Wisconsin                           Wood Violet  \n",
       "Wyoming                       Indian Paintbrush  \n",
       "Washington, D.C.           American Beauty Rose  "
      ]
     },
     "execution_count": 215,
     "metadata": {},
     "output_type": "execute_result"
    }
   ],
   "source": [
    "df = data_dataframe.set_index(0)\n",
    "df"
   ]
  },
  {
   "cell_type": "code",
   "execution_count": 216,
   "metadata": {},
   "outputs": [
    {
     "ename": "ValueError",
     "evalue": "Length mismatch: Expected axis has 4 elements, new values have 5 elements",
     "output_type": "error",
     "traceback": [
      "\u001b[0;31m---------------------------------------------------------------------------\u001b[0m",
      "\u001b[0;31mValueError\u001b[0m                                Traceback (most recent call last)",
      "\u001b[0;32m<ipython-input-216-ee3e78abaf6a>\u001b[0m in \u001b[0;36m<module>\u001b[0;34m\u001b[0m\n\u001b[0;32m----> 1\u001b[0;31m \u001b[0mdf\u001b[0m\u001b[0;34m.\u001b[0m\u001b[0mcolumns\u001b[0m \u001b[0;34m=\u001b[0m \u001b[0;34m[\u001b[0m\u001b[0;34m'State'\u001b[0m\u001b[0;34m,\u001b[0m \u001b[0;34m'Capital'\u001b[0m\u001b[0;34m,\u001b[0m \u001b[0;34m'Largest City'\u001b[0m\u001b[0;34m,\u001b[0m \u001b[0;34m'Bird'\u001b[0m\u001b[0;34m,\u001b[0m \u001b[0;34m'Flower'\u001b[0m\u001b[0;34m]\u001b[0m\u001b[0;34m\u001b[0m\u001b[0;34m\u001b[0m\u001b[0m\n\u001b[0m\u001b[1;32m      2\u001b[0m \u001b[0mdf\u001b[0m\u001b[0;34m\u001b[0m\u001b[0;34m\u001b[0m\u001b[0m\n",
      "\u001b[0;32m/miniconda3/lib/python3.7/site-packages/pandas/core/generic.py\u001b[0m in \u001b[0;36m__setattr__\u001b[0;34m(self, name, value)\u001b[0m\n\u001b[1;32m   5078\u001b[0m         \u001b[0;32mtry\u001b[0m\u001b[0;34m:\u001b[0m\u001b[0;34m\u001b[0m\u001b[0;34m\u001b[0m\u001b[0m\n\u001b[1;32m   5079\u001b[0m             \u001b[0mobject\u001b[0m\u001b[0;34m.\u001b[0m\u001b[0m__getattribute__\u001b[0m\u001b[0;34m(\u001b[0m\u001b[0mself\u001b[0m\u001b[0;34m,\u001b[0m \u001b[0mname\u001b[0m\u001b[0;34m)\u001b[0m\u001b[0;34m\u001b[0m\u001b[0;34m\u001b[0m\u001b[0m\n\u001b[0;32m-> 5080\u001b[0;31m             \u001b[0;32mreturn\u001b[0m \u001b[0mobject\u001b[0m\u001b[0;34m.\u001b[0m\u001b[0m__setattr__\u001b[0m\u001b[0;34m(\u001b[0m\u001b[0mself\u001b[0m\u001b[0;34m,\u001b[0m \u001b[0mname\u001b[0m\u001b[0;34m,\u001b[0m \u001b[0mvalue\u001b[0m\u001b[0;34m)\u001b[0m\u001b[0;34m\u001b[0m\u001b[0;34m\u001b[0m\u001b[0m\n\u001b[0m\u001b[1;32m   5081\u001b[0m         \u001b[0;32mexcept\u001b[0m \u001b[0mAttributeError\u001b[0m\u001b[0;34m:\u001b[0m\u001b[0;34m\u001b[0m\u001b[0;34m\u001b[0m\u001b[0m\n\u001b[1;32m   5082\u001b[0m             \u001b[0;32mpass\u001b[0m\u001b[0;34m\u001b[0m\u001b[0;34m\u001b[0m\u001b[0m\n",
      "\u001b[0;32mpandas/_libs/properties.pyx\u001b[0m in \u001b[0;36mpandas._libs.properties.AxisProperty.__set__\u001b[0;34m()\u001b[0m\n",
      "\u001b[0;32m/miniconda3/lib/python3.7/site-packages/pandas/core/generic.py\u001b[0m in \u001b[0;36m_set_axis\u001b[0;34m(self, axis, labels)\u001b[0m\n\u001b[1;32m    636\u001b[0m \u001b[0;34m\u001b[0m\u001b[0m\n\u001b[1;32m    637\u001b[0m     \u001b[0;32mdef\u001b[0m \u001b[0m_set_axis\u001b[0m\u001b[0;34m(\u001b[0m\u001b[0mself\u001b[0m\u001b[0;34m,\u001b[0m \u001b[0maxis\u001b[0m\u001b[0;34m,\u001b[0m \u001b[0mlabels\u001b[0m\u001b[0;34m)\u001b[0m\u001b[0;34m:\u001b[0m\u001b[0;34m\u001b[0m\u001b[0;34m\u001b[0m\u001b[0m\n\u001b[0;32m--> 638\u001b[0;31m         \u001b[0mself\u001b[0m\u001b[0;34m.\u001b[0m\u001b[0m_data\u001b[0m\u001b[0;34m.\u001b[0m\u001b[0mset_axis\u001b[0m\u001b[0;34m(\u001b[0m\u001b[0maxis\u001b[0m\u001b[0;34m,\u001b[0m \u001b[0mlabels\u001b[0m\u001b[0;34m)\u001b[0m\u001b[0;34m\u001b[0m\u001b[0;34m\u001b[0m\u001b[0m\n\u001b[0m\u001b[1;32m    639\u001b[0m         \u001b[0mself\u001b[0m\u001b[0;34m.\u001b[0m\u001b[0m_clear_item_cache\u001b[0m\u001b[0;34m(\u001b[0m\u001b[0;34m)\u001b[0m\u001b[0;34m\u001b[0m\u001b[0;34m\u001b[0m\u001b[0m\n\u001b[1;32m    640\u001b[0m \u001b[0;34m\u001b[0m\u001b[0m\n",
      "\u001b[0;32m/miniconda3/lib/python3.7/site-packages/pandas/core/internals/managers.py\u001b[0m in \u001b[0;36mset_axis\u001b[0;34m(self, axis, new_labels)\u001b[0m\n\u001b[1;32m    153\u001b[0m             raise ValueError(\n\u001b[1;32m    154\u001b[0m                 \u001b[0;34m'Length mismatch: Expected axis has {old} elements, new '\u001b[0m\u001b[0;34m\u001b[0m\u001b[0;34m\u001b[0m\u001b[0m\n\u001b[0;32m--> 155\u001b[0;31m                 'values have {new} elements'.format(old=old_len, new=new_len))\n\u001b[0m\u001b[1;32m    156\u001b[0m \u001b[0;34m\u001b[0m\u001b[0m\n\u001b[1;32m    157\u001b[0m         \u001b[0mself\u001b[0m\u001b[0;34m.\u001b[0m\u001b[0maxes\u001b[0m\u001b[0;34m[\u001b[0m\u001b[0maxis\u001b[0m\u001b[0;34m]\u001b[0m \u001b[0;34m=\u001b[0m \u001b[0mnew_labels\u001b[0m\u001b[0;34m\u001b[0m\u001b[0;34m\u001b[0m\u001b[0m\n",
      "\u001b[0;31mValueError\u001b[0m: Length mismatch: Expected axis has 4 elements, new values have 5 elements"
     ]
    }
   ],
   "source": [
    "df.columns = ['State', 'Capital', 'Largest City', 'Bird', 'Flower']\n",
    "df"
   ]
  },
  {
   "cell_type": "code",
   "execution_count": 217,
   "metadata": {},
   "outputs": [
    {
     "data": {
      "text/html": [
       "<div>\n",
       "<style scoped>\n",
       "    .dataframe tbody tr th:only-of-type {\n",
       "        vertical-align: middle;\n",
       "    }\n",
       "\n",
       "    .dataframe tbody tr th {\n",
       "        vertical-align: top;\n",
       "    }\n",
       "\n",
       "    .dataframe thead th {\n",
       "        text-align: right;\n",
       "    }\n",
       "</style>\n",
       "<table border=\"1\" class=\"dataframe\">\n",
       "  <thead>\n",
       "    <tr style=\"text-align: right;\">\n",
       "      <th></th>\n",
       "      <th>0</th>\n",
       "      <th>1</th>\n",
       "      <th>2</th>\n",
       "      <th>3</th>\n",
       "      <th>4</th>\n",
       "    </tr>\n",
       "  </thead>\n",
       "  <tbody>\n",
       "    <tr>\n",
       "      <th>0</th>\n",
       "      <td>State</td>\n",
       "      <td>Capital</td>\n",
       "      <td>Largest City</td>\n",
       "      <td>Bird</td>\n",
       "      <td>Flower</td>\n",
       "    </tr>\n",
       "    <tr>\n",
       "      <th>1</th>\n",
       "      <td>Alabama</td>\n",
       "      <td>Montgomery</td>\n",
       "      <td>Birmingham</td>\n",
       "      <td>Yellowhammer</td>\n",
       "      <td>Camellia</td>\n",
       "    </tr>\n",
       "    <tr>\n",
       "      <th>2</th>\n",
       "      <td>Alaska</td>\n",
       "      <td>Juneau</td>\n",
       "      <td>Anchorage</td>\n",
       "      <td>Willow Ptarmigan</td>\n",
       "      <td>Forget-me-not</td>\n",
       "    </tr>\n",
       "    <tr>\n",
       "      <th>3</th>\n",
       "      <td>Arizona</td>\n",
       "      <td>Phoenix</td>\n",
       "      <td>Phoenix</td>\n",
       "      <td>Cactus Wren</td>\n",
       "      <td>Saguaro Cactus Blossom</td>\n",
       "    </tr>\n",
       "    <tr>\n",
       "      <th>4</th>\n",
       "      <td>Arkansas</td>\n",
       "      <td>Little Rock</td>\n",
       "      <td>Little Rock</td>\n",
       "      <td>Mockingbird</td>\n",
       "      <td>Apple Blossom</td>\n",
       "    </tr>\n",
       "    <tr>\n",
       "      <th>5</th>\n",
       "      <td>California</td>\n",
       "      <td>Sacramento</td>\n",
       "      <td>Los Angeles</td>\n",
       "      <td>California Valley Quail</td>\n",
       "      <td>Golden Poppy</td>\n",
       "    </tr>\n",
       "    <tr>\n",
       "      <th>6</th>\n",
       "      <td>Colorado</td>\n",
       "      <td>Denver</td>\n",
       "      <td>Denver</td>\n",
       "      <td>Lark Bunting</td>\n",
       "      <td>Columbine</td>\n",
       "    </tr>\n",
       "    <tr>\n",
       "      <th>7</th>\n",
       "      <td>Connecticut</td>\n",
       "      <td>Hartford</td>\n",
       "      <td>Bridgeport</td>\n",
       "      <td>American Robin</td>\n",
       "      <td>Mountain Laurel</td>\n",
       "    </tr>\n",
       "    <tr>\n",
       "      <th>8</th>\n",
       "      <td>Delaware</td>\n",
       "      <td>Dover</td>\n",
       "      <td>Wilmington</td>\n",
       "      <td>Blue Hen Chicken</td>\n",
       "      <td>Peach Blossom</td>\n",
       "    </tr>\n",
       "    <tr>\n",
       "      <th>9</th>\n",
       "      <td>Florida</td>\n",
       "      <td>Tallahassee</td>\n",
       "      <td>Jacksonville</td>\n",
       "      <td>Mockingbird</td>\n",
       "      <td>Orange Blossom</td>\n",
       "    </tr>\n",
       "    <tr>\n",
       "      <th>10</th>\n",
       "      <td>Georgia</td>\n",
       "      <td>Atlanta</td>\n",
       "      <td>Atlanta</td>\n",
       "      <td>Brown Thrasher</td>\n",
       "      <td>Cherokee Rose</td>\n",
       "    </tr>\n",
       "    <tr>\n",
       "      <th>11</th>\n",
       "      <td>Hawaii</td>\n",
       "      <td>Honolulu</td>\n",
       "      <td>Honolulu</td>\n",
       "      <td>Nene (Hawaiian Goose)</td>\n",
       "      <td>Hibiscus</td>\n",
       "    </tr>\n",
       "    <tr>\n",
       "      <th>12</th>\n",
       "      <td>Idaho</td>\n",
       "      <td>Boise</td>\n",
       "      <td>Boise</td>\n",
       "      <td>Mountain Bluebird</td>\n",
       "      <td>Syringa</td>\n",
       "    </tr>\n",
       "    <tr>\n",
       "      <th>13</th>\n",
       "      <td>Illinois</td>\n",
       "      <td>Springfield</td>\n",
       "      <td>Chicago</td>\n",
       "      <td>Cardinal</td>\n",
       "      <td>Native violet</td>\n",
       "    </tr>\n",
       "    <tr>\n",
       "      <th>14</th>\n",
       "      <td>Indiana</td>\n",
       "      <td>Indianapolis</td>\n",
       "      <td>Indianapolis</td>\n",
       "      <td>Cardinal</td>\n",
       "      <td>Peony</td>\n",
       "    </tr>\n",
       "    <tr>\n",
       "      <th>15</th>\n",
       "      <td>Iowa</td>\n",
       "      <td>Des Moines</td>\n",
       "      <td>Des Moines</td>\n",
       "      <td>Eastern Goldfinch</td>\n",
       "      <td>Wild Rose</td>\n",
       "    </tr>\n",
       "    <tr>\n",
       "      <th>16</th>\n",
       "      <td>Kansas</td>\n",
       "      <td>Topeka</td>\n",
       "      <td>Wichita</td>\n",
       "      <td>Western Meadowlark</td>\n",
       "      <td>Native Sunflower</td>\n",
       "    </tr>\n",
       "    <tr>\n",
       "      <th>17</th>\n",
       "      <td>Kentucky</td>\n",
       "      <td>Frankfort</td>\n",
       "      <td>Louisville</td>\n",
       "      <td>Kentucky Cardinal</td>\n",
       "      <td>Goldenrod</td>\n",
       "    </tr>\n",
       "    <tr>\n",
       "      <th>18</th>\n",
       "      <td>Louisiana</td>\n",
       "      <td>Baton Rouge</td>\n",
       "      <td>New Orleans</td>\n",
       "      <td>Pelican</td>\n",
       "      <td>Magnolia</td>\n",
       "    </tr>\n",
       "    <tr>\n",
       "      <th>19</th>\n",
       "      <td>Maine</td>\n",
       "      <td>Augusta</td>\n",
       "      <td>Portland</td>\n",
       "      <td>Chickadee</td>\n",
       "      <td>White Pine Cone and Tassel</td>\n",
       "    </tr>\n",
       "    <tr>\n",
       "      <th>20</th>\n",
       "      <td>Maryland</td>\n",
       "      <td>Annapolis</td>\n",
       "      <td>Baltimore</td>\n",
       "      <td>Baltimore Oriole</td>\n",
       "      <td>Black-Eyed Susan</td>\n",
       "    </tr>\n",
       "    <tr>\n",
       "      <th>21</th>\n",
       "      <td>Massachusetts</td>\n",
       "      <td>Boston</td>\n",
       "      <td>Boston</td>\n",
       "      <td>Chickadee</td>\n",
       "      <td>Mayflower</td>\n",
       "    </tr>\n",
       "    <tr>\n",
       "      <th>22</th>\n",
       "      <td>Michigan</td>\n",
       "      <td>Lansing</td>\n",
       "      <td>Detroit</td>\n",
       "      <td>Robin</td>\n",
       "      <td>Apple Blossom</td>\n",
       "    </tr>\n",
       "    <tr>\n",
       "      <th>23</th>\n",
       "      <td>Minnesota</td>\n",
       "      <td>St. Paul</td>\n",
       "      <td>Minneapolis</td>\n",
       "      <td>Common Loon</td>\n",
       "      <td>Pink and White Lady's Slipper</td>\n",
       "    </tr>\n",
       "    <tr>\n",
       "      <th>24</th>\n",
       "      <td>Mississippi</td>\n",
       "      <td>Jackson</td>\n",
       "      <td>Jackson</td>\n",
       "      <td>Mockingbird</td>\n",
       "      <td>Magnolia</td>\n",
       "    </tr>\n",
       "    <tr>\n",
       "      <th>25</th>\n",
       "      <td>Missouri</td>\n",
       "      <td>Jefferson City</td>\n",
       "      <td>Kansas City</td>\n",
       "      <td>Bluebird</td>\n",
       "      <td>Hawthorn</td>\n",
       "    </tr>\n",
       "    <tr>\n",
       "      <th>26</th>\n",
       "      <td>Montana</td>\n",
       "      <td>Helena</td>\n",
       "      <td>Billings</td>\n",
       "      <td>Western Meadowlark</td>\n",
       "      <td>Bitterroot</td>\n",
       "    </tr>\n",
       "    <tr>\n",
       "      <th>27</th>\n",
       "      <td>Nebraska</td>\n",
       "      <td>Lincoln</td>\n",
       "      <td>Omaha</td>\n",
       "      <td>Western Meadowlark</td>\n",
       "      <td>Goldenrod</td>\n",
       "    </tr>\n",
       "    <tr>\n",
       "      <th>28</th>\n",
       "      <td>Nevada</td>\n",
       "      <td>Carson City</td>\n",
       "      <td>Las Vegas</td>\n",
       "      <td>Mountain Bluebird</td>\n",
       "      <td>Sagebrush</td>\n",
       "    </tr>\n",
       "    <tr>\n",
       "      <th>29</th>\n",
       "      <td>New Hampshire</td>\n",
       "      <td>Concord</td>\n",
       "      <td>Manchester</td>\n",
       "      <td>Purple Finch</td>\n",
       "      <td>Purple Lilac</td>\n",
       "    </tr>\n",
       "    <tr>\n",
       "      <th>30</th>\n",
       "      <td>New Jersey</td>\n",
       "      <td>Trenton</td>\n",
       "      <td>Newark</td>\n",
       "      <td>Eastern Goldfinch</td>\n",
       "      <td>Purple Violet</td>\n",
       "    </tr>\n",
       "    <tr>\n",
       "      <th>31</th>\n",
       "      <td>New Mexico</td>\n",
       "      <td>Santa Fe</td>\n",
       "      <td>Albuquerque</td>\n",
       "      <td>Roadrunner</td>\n",
       "      <td>Yucca Flower</td>\n",
       "    </tr>\n",
       "    <tr>\n",
       "      <th>32</th>\n",
       "      <td>New York</td>\n",
       "      <td>Albany</td>\n",
       "      <td>New York</td>\n",
       "      <td>Bluebird</td>\n",
       "      <td>Rose</td>\n",
       "    </tr>\n",
       "    <tr>\n",
       "      <th>33</th>\n",
       "      <td>North Carolina</td>\n",
       "      <td>Raleigh</td>\n",
       "      <td>Charlotte</td>\n",
       "      <td>Cardinal</td>\n",
       "      <td>Dogwood</td>\n",
       "    </tr>\n",
       "    <tr>\n",
       "      <th>34</th>\n",
       "      <td>North Dakota</td>\n",
       "      <td>Bismarck</td>\n",
       "      <td>Fargo</td>\n",
       "      <td>Western Meadowlark</td>\n",
       "      <td>Wild Prairie Rose</td>\n",
       "    </tr>\n",
       "    <tr>\n",
       "      <th>35</th>\n",
       "      <td>Ohio</td>\n",
       "      <td>Columbus</td>\n",
       "      <td>Columbus</td>\n",
       "      <td>Cardinal</td>\n",
       "      <td>Scarlet Carnation</td>\n",
       "    </tr>\n",
       "    <tr>\n",
       "      <th>36</th>\n",
       "      <td>Oklahoma</td>\n",
       "      <td>Oklahoma City</td>\n",
       "      <td>Oklahoma City</td>\n",
       "      <td>Scissor-Tailed Flycatcher</td>\n",
       "      <td>Mistletoe</td>\n",
       "    </tr>\n",
       "    <tr>\n",
       "      <th>37</th>\n",
       "      <td>Oregon</td>\n",
       "      <td>Salem</td>\n",
       "      <td>Portland</td>\n",
       "      <td>Western Meadowlark</td>\n",
       "      <td>Oregon Grape</td>\n",
       "    </tr>\n",
       "    <tr>\n",
       "      <th>38</th>\n",
       "      <td>Pennsylvania</td>\n",
       "      <td>Harrisburg</td>\n",
       "      <td>Philadelphia</td>\n",
       "      <td>Ruffed Grouse</td>\n",
       "      <td>Mountain Laurel</td>\n",
       "    </tr>\n",
       "    <tr>\n",
       "      <th>39</th>\n",
       "      <td>Rhode Island</td>\n",
       "      <td>Providence</td>\n",
       "      <td>Providence</td>\n",
       "      <td>Rhode Island Red</td>\n",
       "      <td>Violet</td>\n",
       "    </tr>\n",
       "    <tr>\n",
       "      <th>40</th>\n",
       "      <td>South Carolina</td>\n",
       "      <td>Columbia</td>\n",
       "      <td>Columbia</td>\n",
       "      <td>Carolina Wren</td>\n",
       "      <td>Yellow Jessamine</td>\n",
       "    </tr>\n",
       "    <tr>\n",
       "      <th>41</th>\n",
       "      <td>South Dakota</td>\n",
       "      <td>Pierre</td>\n",
       "      <td>Sioux Falls</td>\n",
       "      <td>Ring-Necked Pheasant</td>\n",
       "      <td>American Pasqueflower</td>\n",
       "    </tr>\n",
       "    <tr>\n",
       "      <th>42</th>\n",
       "      <td>Tennessee</td>\n",
       "      <td>Nashville</td>\n",
       "      <td>Memphis</td>\n",
       "      <td>Mockingbird</td>\n",
       "      <td>Iris</td>\n",
       "    </tr>\n",
       "    <tr>\n",
       "      <th>43</th>\n",
       "      <td>Texas</td>\n",
       "      <td>Austin</td>\n",
       "      <td>Houston</td>\n",
       "      <td>Mockingbird</td>\n",
       "      <td>Bluebonnet</td>\n",
       "    </tr>\n",
       "    <tr>\n",
       "      <th>44</th>\n",
       "      <td>Utah</td>\n",
       "      <td>Salt Lake City</td>\n",
       "      <td>Salt Lake City</td>\n",
       "      <td>California Gull</td>\n",
       "      <td>Sego Lily</td>\n",
       "    </tr>\n",
       "    <tr>\n",
       "      <th>45</th>\n",
       "      <td>Vermont</td>\n",
       "      <td>Montpelier</td>\n",
       "      <td>Burlington</td>\n",
       "      <td>Hermit Thrush</td>\n",
       "      <td>Red Clover</td>\n",
       "    </tr>\n",
       "    <tr>\n",
       "      <th>46</th>\n",
       "      <td>Virginia</td>\n",
       "      <td>Richmond</td>\n",
       "      <td>Virginia Beach</td>\n",
       "      <td>Cardinal</td>\n",
       "      <td>Dogwood</td>\n",
       "    </tr>\n",
       "    <tr>\n",
       "      <th>47</th>\n",
       "      <td>Washington</td>\n",
       "      <td>Olympia</td>\n",
       "      <td>Seattle</td>\n",
       "      <td>Willow Goldfinch</td>\n",
       "      <td>Western Rhododendron</td>\n",
       "    </tr>\n",
       "    <tr>\n",
       "      <th>48</th>\n",
       "      <td>West Virginia</td>\n",
       "      <td>Charleston</td>\n",
       "      <td>Charleston</td>\n",
       "      <td>Cardinal</td>\n",
       "      <td>Big Rhododendron</td>\n",
       "    </tr>\n",
       "    <tr>\n",
       "      <th>49</th>\n",
       "      <td>Wisconsin</td>\n",
       "      <td>Madison</td>\n",
       "      <td>Milwaukee</td>\n",
       "      <td>Robin</td>\n",
       "      <td>Wood Violet</td>\n",
       "    </tr>\n",
       "    <tr>\n",
       "      <th>50</th>\n",
       "      <td>Wyoming</td>\n",
       "      <td>Cheyenne</td>\n",
       "      <td>Cheyenne</td>\n",
       "      <td>Meadowlark</td>\n",
       "      <td>Indian Paintbrush</td>\n",
       "    </tr>\n",
       "    <tr>\n",
       "      <th>51</th>\n",
       "      <td>Washington, D.C.</td>\n",
       "      <td>None</td>\n",
       "      <td>Washington</td>\n",
       "      <td>Woodthrush</td>\n",
       "      <td>American Beauty Rose</td>\n",
       "    </tr>\n",
       "  </tbody>\n",
       "</table>\n",
       "</div>"
      ],
      "text/plain": [
       "                   0               1               2  \\\n",
       "0              State         Capital    Largest City   \n",
       "1            Alabama      Montgomery      Birmingham   \n",
       "2             Alaska          Juneau       Anchorage   \n",
       "3            Arizona         Phoenix         Phoenix   \n",
       "4           Arkansas     Little Rock     Little Rock   \n",
       "5         California      Sacramento     Los Angeles   \n",
       "6           Colorado          Denver          Denver   \n",
       "7        Connecticut        Hartford      Bridgeport   \n",
       "8           Delaware           Dover      Wilmington   \n",
       "9            Florida     Tallahassee    Jacksonville   \n",
       "10           Georgia         Atlanta         Atlanta   \n",
       "11            Hawaii        Honolulu        Honolulu   \n",
       "12             Idaho           Boise           Boise   \n",
       "13          Illinois     Springfield         Chicago   \n",
       "14           Indiana    Indianapolis    Indianapolis   \n",
       "15              Iowa      Des Moines      Des Moines   \n",
       "16            Kansas          Topeka         Wichita   \n",
       "17          Kentucky       Frankfort      Louisville   \n",
       "18         Louisiana     Baton Rouge     New Orleans   \n",
       "19             Maine         Augusta        Portland   \n",
       "20          Maryland       Annapolis       Baltimore   \n",
       "21     Massachusetts          Boston          Boston   \n",
       "22          Michigan         Lansing         Detroit   \n",
       "23         Minnesota        St. Paul     Minneapolis   \n",
       "24       Mississippi         Jackson         Jackson   \n",
       "25          Missouri  Jefferson City     Kansas City   \n",
       "26           Montana          Helena        Billings   \n",
       "27          Nebraska         Lincoln           Omaha   \n",
       "28            Nevada     Carson City       Las Vegas   \n",
       "29     New Hampshire         Concord      Manchester   \n",
       "30        New Jersey         Trenton          Newark   \n",
       "31        New Mexico        Santa Fe     Albuquerque   \n",
       "32          New York          Albany        New York   \n",
       "33    North Carolina         Raleigh       Charlotte   \n",
       "34      North Dakota        Bismarck           Fargo   \n",
       "35              Ohio        Columbus        Columbus   \n",
       "36          Oklahoma   Oklahoma City   Oklahoma City   \n",
       "37            Oregon           Salem        Portland   \n",
       "38      Pennsylvania      Harrisburg    Philadelphia   \n",
       "39      Rhode Island      Providence      Providence   \n",
       "40    South Carolina        Columbia        Columbia   \n",
       "41      South Dakota          Pierre     Sioux Falls   \n",
       "42         Tennessee       Nashville         Memphis   \n",
       "43             Texas          Austin         Houston   \n",
       "44              Utah  Salt Lake City  Salt Lake City   \n",
       "45           Vermont      Montpelier      Burlington   \n",
       "46          Virginia        Richmond  Virginia Beach   \n",
       "47        Washington         Olympia         Seattle   \n",
       "48     West Virginia      Charleston      Charleston   \n",
       "49         Wisconsin         Madison       Milwaukee   \n",
       "50           Wyoming        Cheyenne        Cheyenne   \n",
       "51  Washington, D.C.            None      Washington   \n",
       "\n",
       "                            3                              4  \n",
       "0                        Bird                         Flower  \n",
       "1                Yellowhammer                       Camellia  \n",
       "2            Willow Ptarmigan                  Forget-me-not  \n",
       "3                 Cactus Wren         Saguaro Cactus Blossom  \n",
       "4                 Mockingbird                  Apple Blossom  \n",
       "5     California Valley Quail                   Golden Poppy  \n",
       "6                Lark Bunting                      Columbine  \n",
       "7              American Robin                Mountain Laurel  \n",
       "8            Blue Hen Chicken                  Peach Blossom  \n",
       "9                 Mockingbird                 Orange Blossom  \n",
       "10             Brown Thrasher                  Cherokee Rose  \n",
       "11      Nene (Hawaiian Goose)                       Hibiscus  \n",
       "12          Mountain Bluebird                        Syringa  \n",
       "13                   Cardinal                  Native violet  \n",
       "14                   Cardinal                          Peony  \n",
       "15          Eastern Goldfinch                      Wild Rose  \n",
       "16         Western Meadowlark               Native Sunflower  \n",
       "17          Kentucky Cardinal                      Goldenrod  \n",
       "18                    Pelican                       Magnolia  \n",
       "19                  Chickadee     White Pine Cone and Tassel  \n",
       "20           Baltimore Oriole               Black-Eyed Susan  \n",
       "21                  Chickadee                      Mayflower  \n",
       "22                      Robin                  Apple Blossom  \n",
       "23                Common Loon  Pink and White Lady's Slipper  \n",
       "24                Mockingbird                       Magnolia  \n",
       "25                   Bluebird                       Hawthorn  \n",
       "26         Western Meadowlark                     Bitterroot  \n",
       "27         Western Meadowlark                      Goldenrod  \n",
       "28          Mountain Bluebird                      Sagebrush  \n",
       "29               Purple Finch                   Purple Lilac  \n",
       "30          Eastern Goldfinch                  Purple Violet  \n",
       "31                 Roadrunner                   Yucca Flower  \n",
       "32                   Bluebird                           Rose  \n",
       "33                   Cardinal                        Dogwood  \n",
       "34         Western Meadowlark              Wild Prairie Rose  \n",
       "35                   Cardinal              Scarlet Carnation  \n",
       "36  Scissor-Tailed Flycatcher                      Mistletoe  \n",
       "37         Western Meadowlark                   Oregon Grape  \n",
       "38              Ruffed Grouse                Mountain Laurel  \n",
       "39           Rhode Island Red                         Violet  \n",
       "40              Carolina Wren               Yellow Jessamine  \n",
       "41       Ring-Necked Pheasant          American Pasqueflower  \n",
       "42                Mockingbird                           Iris  \n",
       "43                Mockingbird                     Bluebonnet  \n",
       "44            California Gull                      Sego Lily  \n",
       "45              Hermit Thrush                     Red Clover  \n",
       "46                   Cardinal                        Dogwood  \n",
       "47           Willow Goldfinch           Western Rhododendron  \n",
       "48                   Cardinal               Big Rhododendron  \n",
       "49                      Robin                    Wood Violet  \n",
       "50                 Meadowlark              Indian Paintbrush  \n",
       "51                 Woodthrush           American Beauty Rose  "
      ]
     },
     "execution_count": 217,
     "metadata": {},
     "output_type": "execute_result"
    }
   ],
   "source": [
    "import pandas as pd\n",
    "data_dataframe = pd.DataFrame(data)\n",
    "data_dataframe"
   ]
  },
  {
   "cell_type": "code",
   "execution_count": 218,
   "metadata": {},
   "outputs": [
    {
     "data": {
      "text/html": [
       "<div>\n",
       "<style scoped>\n",
       "    .dataframe tbody tr th:only-of-type {\n",
       "        vertical-align: middle;\n",
       "    }\n",
       "\n",
       "    .dataframe tbody tr th {\n",
       "        vertical-align: top;\n",
       "    }\n",
       "\n",
       "    .dataframe thead th {\n",
       "        text-align: right;\n",
       "    }\n",
       "</style>\n",
       "<table border=\"1\" class=\"dataframe\">\n",
       "  <thead>\n",
       "    <tr style=\"text-align: right;\">\n",
       "      <th></th>\n",
       "      <th>State</th>\n",
       "      <th>Capital</th>\n",
       "      <th>Largest City</th>\n",
       "      <th>Bird</th>\n",
       "      <th>Flower</th>\n",
       "    </tr>\n",
       "  </thead>\n",
       "  <tbody>\n",
       "    <tr>\n",
       "      <th>0</th>\n",
       "      <td>State</td>\n",
       "      <td>Capital</td>\n",
       "      <td>Largest City</td>\n",
       "      <td>Bird</td>\n",
       "      <td>Flower</td>\n",
       "    </tr>\n",
       "    <tr>\n",
       "      <th>1</th>\n",
       "      <td>Alabama</td>\n",
       "      <td>Montgomery</td>\n",
       "      <td>Birmingham</td>\n",
       "      <td>Yellowhammer</td>\n",
       "      <td>Camellia</td>\n",
       "    </tr>\n",
       "    <tr>\n",
       "      <th>2</th>\n",
       "      <td>Alaska</td>\n",
       "      <td>Juneau</td>\n",
       "      <td>Anchorage</td>\n",
       "      <td>Willow Ptarmigan</td>\n",
       "      <td>Forget-me-not</td>\n",
       "    </tr>\n",
       "    <tr>\n",
       "      <th>3</th>\n",
       "      <td>Arizona</td>\n",
       "      <td>Phoenix</td>\n",
       "      <td>Phoenix</td>\n",
       "      <td>Cactus Wren</td>\n",
       "      <td>Saguaro Cactus Blossom</td>\n",
       "    </tr>\n",
       "    <tr>\n",
       "      <th>4</th>\n",
       "      <td>Arkansas</td>\n",
       "      <td>Little Rock</td>\n",
       "      <td>Little Rock</td>\n",
       "      <td>Mockingbird</td>\n",
       "      <td>Apple Blossom</td>\n",
       "    </tr>\n",
       "    <tr>\n",
       "      <th>5</th>\n",
       "      <td>California</td>\n",
       "      <td>Sacramento</td>\n",
       "      <td>Los Angeles</td>\n",
       "      <td>California Valley Quail</td>\n",
       "      <td>Golden Poppy</td>\n",
       "    </tr>\n",
       "    <tr>\n",
       "      <th>6</th>\n",
       "      <td>Colorado</td>\n",
       "      <td>Denver</td>\n",
       "      <td>Denver</td>\n",
       "      <td>Lark Bunting</td>\n",
       "      <td>Columbine</td>\n",
       "    </tr>\n",
       "    <tr>\n",
       "      <th>7</th>\n",
       "      <td>Connecticut</td>\n",
       "      <td>Hartford</td>\n",
       "      <td>Bridgeport</td>\n",
       "      <td>American Robin</td>\n",
       "      <td>Mountain Laurel</td>\n",
       "    </tr>\n",
       "    <tr>\n",
       "      <th>8</th>\n",
       "      <td>Delaware</td>\n",
       "      <td>Dover</td>\n",
       "      <td>Wilmington</td>\n",
       "      <td>Blue Hen Chicken</td>\n",
       "      <td>Peach Blossom</td>\n",
       "    </tr>\n",
       "    <tr>\n",
       "      <th>9</th>\n",
       "      <td>Florida</td>\n",
       "      <td>Tallahassee</td>\n",
       "      <td>Jacksonville</td>\n",
       "      <td>Mockingbird</td>\n",
       "      <td>Orange Blossom</td>\n",
       "    </tr>\n",
       "    <tr>\n",
       "      <th>10</th>\n",
       "      <td>Georgia</td>\n",
       "      <td>Atlanta</td>\n",
       "      <td>Atlanta</td>\n",
       "      <td>Brown Thrasher</td>\n",
       "      <td>Cherokee Rose</td>\n",
       "    </tr>\n",
       "    <tr>\n",
       "      <th>11</th>\n",
       "      <td>Hawaii</td>\n",
       "      <td>Honolulu</td>\n",
       "      <td>Honolulu</td>\n",
       "      <td>Nene (Hawaiian Goose)</td>\n",
       "      <td>Hibiscus</td>\n",
       "    </tr>\n",
       "    <tr>\n",
       "      <th>12</th>\n",
       "      <td>Idaho</td>\n",
       "      <td>Boise</td>\n",
       "      <td>Boise</td>\n",
       "      <td>Mountain Bluebird</td>\n",
       "      <td>Syringa</td>\n",
       "    </tr>\n",
       "    <tr>\n",
       "      <th>13</th>\n",
       "      <td>Illinois</td>\n",
       "      <td>Springfield</td>\n",
       "      <td>Chicago</td>\n",
       "      <td>Cardinal</td>\n",
       "      <td>Native violet</td>\n",
       "    </tr>\n",
       "    <tr>\n",
       "      <th>14</th>\n",
       "      <td>Indiana</td>\n",
       "      <td>Indianapolis</td>\n",
       "      <td>Indianapolis</td>\n",
       "      <td>Cardinal</td>\n",
       "      <td>Peony</td>\n",
       "    </tr>\n",
       "    <tr>\n",
       "      <th>15</th>\n",
       "      <td>Iowa</td>\n",
       "      <td>Des Moines</td>\n",
       "      <td>Des Moines</td>\n",
       "      <td>Eastern Goldfinch</td>\n",
       "      <td>Wild Rose</td>\n",
       "    </tr>\n",
       "    <tr>\n",
       "      <th>16</th>\n",
       "      <td>Kansas</td>\n",
       "      <td>Topeka</td>\n",
       "      <td>Wichita</td>\n",
       "      <td>Western Meadowlark</td>\n",
       "      <td>Native Sunflower</td>\n",
       "    </tr>\n",
       "    <tr>\n",
       "      <th>17</th>\n",
       "      <td>Kentucky</td>\n",
       "      <td>Frankfort</td>\n",
       "      <td>Louisville</td>\n",
       "      <td>Kentucky Cardinal</td>\n",
       "      <td>Goldenrod</td>\n",
       "    </tr>\n",
       "    <tr>\n",
       "      <th>18</th>\n",
       "      <td>Louisiana</td>\n",
       "      <td>Baton Rouge</td>\n",
       "      <td>New Orleans</td>\n",
       "      <td>Pelican</td>\n",
       "      <td>Magnolia</td>\n",
       "    </tr>\n",
       "    <tr>\n",
       "      <th>19</th>\n",
       "      <td>Maine</td>\n",
       "      <td>Augusta</td>\n",
       "      <td>Portland</td>\n",
       "      <td>Chickadee</td>\n",
       "      <td>White Pine Cone and Tassel</td>\n",
       "    </tr>\n",
       "    <tr>\n",
       "      <th>20</th>\n",
       "      <td>Maryland</td>\n",
       "      <td>Annapolis</td>\n",
       "      <td>Baltimore</td>\n",
       "      <td>Baltimore Oriole</td>\n",
       "      <td>Black-Eyed Susan</td>\n",
       "    </tr>\n",
       "    <tr>\n",
       "      <th>21</th>\n",
       "      <td>Massachusetts</td>\n",
       "      <td>Boston</td>\n",
       "      <td>Boston</td>\n",
       "      <td>Chickadee</td>\n",
       "      <td>Mayflower</td>\n",
       "    </tr>\n",
       "    <tr>\n",
       "      <th>22</th>\n",
       "      <td>Michigan</td>\n",
       "      <td>Lansing</td>\n",
       "      <td>Detroit</td>\n",
       "      <td>Robin</td>\n",
       "      <td>Apple Blossom</td>\n",
       "    </tr>\n",
       "    <tr>\n",
       "      <th>23</th>\n",
       "      <td>Minnesota</td>\n",
       "      <td>St. Paul</td>\n",
       "      <td>Minneapolis</td>\n",
       "      <td>Common Loon</td>\n",
       "      <td>Pink and White Lady's Slipper</td>\n",
       "    </tr>\n",
       "    <tr>\n",
       "      <th>24</th>\n",
       "      <td>Mississippi</td>\n",
       "      <td>Jackson</td>\n",
       "      <td>Jackson</td>\n",
       "      <td>Mockingbird</td>\n",
       "      <td>Magnolia</td>\n",
       "    </tr>\n",
       "    <tr>\n",
       "      <th>25</th>\n",
       "      <td>Missouri</td>\n",
       "      <td>Jefferson City</td>\n",
       "      <td>Kansas City</td>\n",
       "      <td>Bluebird</td>\n",
       "      <td>Hawthorn</td>\n",
       "    </tr>\n",
       "    <tr>\n",
       "      <th>26</th>\n",
       "      <td>Montana</td>\n",
       "      <td>Helena</td>\n",
       "      <td>Billings</td>\n",
       "      <td>Western Meadowlark</td>\n",
       "      <td>Bitterroot</td>\n",
       "    </tr>\n",
       "    <tr>\n",
       "      <th>27</th>\n",
       "      <td>Nebraska</td>\n",
       "      <td>Lincoln</td>\n",
       "      <td>Omaha</td>\n",
       "      <td>Western Meadowlark</td>\n",
       "      <td>Goldenrod</td>\n",
       "    </tr>\n",
       "    <tr>\n",
       "      <th>28</th>\n",
       "      <td>Nevada</td>\n",
       "      <td>Carson City</td>\n",
       "      <td>Las Vegas</td>\n",
       "      <td>Mountain Bluebird</td>\n",
       "      <td>Sagebrush</td>\n",
       "    </tr>\n",
       "    <tr>\n",
       "      <th>29</th>\n",
       "      <td>New Hampshire</td>\n",
       "      <td>Concord</td>\n",
       "      <td>Manchester</td>\n",
       "      <td>Purple Finch</td>\n",
       "      <td>Purple Lilac</td>\n",
       "    </tr>\n",
       "    <tr>\n",
       "      <th>30</th>\n",
       "      <td>New Jersey</td>\n",
       "      <td>Trenton</td>\n",
       "      <td>Newark</td>\n",
       "      <td>Eastern Goldfinch</td>\n",
       "      <td>Purple Violet</td>\n",
       "    </tr>\n",
       "    <tr>\n",
       "      <th>31</th>\n",
       "      <td>New Mexico</td>\n",
       "      <td>Santa Fe</td>\n",
       "      <td>Albuquerque</td>\n",
       "      <td>Roadrunner</td>\n",
       "      <td>Yucca Flower</td>\n",
       "    </tr>\n",
       "    <tr>\n",
       "      <th>32</th>\n",
       "      <td>New York</td>\n",
       "      <td>Albany</td>\n",
       "      <td>New York</td>\n",
       "      <td>Bluebird</td>\n",
       "      <td>Rose</td>\n",
       "    </tr>\n",
       "    <tr>\n",
       "      <th>33</th>\n",
       "      <td>North Carolina</td>\n",
       "      <td>Raleigh</td>\n",
       "      <td>Charlotte</td>\n",
       "      <td>Cardinal</td>\n",
       "      <td>Dogwood</td>\n",
       "    </tr>\n",
       "    <tr>\n",
       "      <th>34</th>\n",
       "      <td>North Dakota</td>\n",
       "      <td>Bismarck</td>\n",
       "      <td>Fargo</td>\n",
       "      <td>Western Meadowlark</td>\n",
       "      <td>Wild Prairie Rose</td>\n",
       "    </tr>\n",
       "    <tr>\n",
       "      <th>35</th>\n",
       "      <td>Ohio</td>\n",
       "      <td>Columbus</td>\n",
       "      <td>Columbus</td>\n",
       "      <td>Cardinal</td>\n",
       "      <td>Scarlet Carnation</td>\n",
       "    </tr>\n",
       "    <tr>\n",
       "      <th>36</th>\n",
       "      <td>Oklahoma</td>\n",
       "      <td>Oklahoma City</td>\n",
       "      <td>Oklahoma City</td>\n",
       "      <td>Scissor-Tailed Flycatcher</td>\n",
       "      <td>Mistletoe</td>\n",
       "    </tr>\n",
       "    <tr>\n",
       "      <th>37</th>\n",
       "      <td>Oregon</td>\n",
       "      <td>Salem</td>\n",
       "      <td>Portland</td>\n",
       "      <td>Western Meadowlark</td>\n",
       "      <td>Oregon Grape</td>\n",
       "    </tr>\n",
       "    <tr>\n",
       "      <th>38</th>\n",
       "      <td>Pennsylvania</td>\n",
       "      <td>Harrisburg</td>\n",
       "      <td>Philadelphia</td>\n",
       "      <td>Ruffed Grouse</td>\n",
       "      <td>Mountain Laurel</td>\n",
       "    </tr>\n",
       "    <tr>\n",
       "      <th>39</th>\n",
       "      <td>Rhode Island</td>\n",
       "      <td>Providence</td>\n",
       "      <td>Providence</td>\n",
       "      <td>Rhode Island Red</td>\n",
       "      <td>Violet</td>\n",
       "    </tr>\n",
       "    <tr>\n",
       "      <th>40</th>\n",
       "      <td>South Carolina</td>\n",
       "      <td>Columbia</td>\n",
       "      <td>Columbia</td>\n",
       "      <td>Carolina Wren</td>\n",
       "      <td>Yellow Jessamine</td>\n",
       "    </tr>\n",
       "    <tr>\n",
       "      <th>41</th>\n",
       "      <td>South Dakota</td>\n",
       "      <td>Pierre</td>\n",
       "      <td>Sioux Falls</td>\n",
       "      <td>Ring-Necked Pheasant</td>\n",
       "      <td>American Pasqueflower</td>\n",
       "    </tr>\n",
       "    <tr>\n",
       "      <th>42</th>\n",
       "      <td>Tennessee</td>\n",
       "      <td>Nashville</td>\n",
       "      <td>Memphis</td>\n",
       "      <td>Mockingbird</td>\n",
       "      <td>Iris</td>\n",
       "    </tr>\n",
       "    <tr>\n",
       "      <th>43</th>\n",
       "      <td>Texas</td>\n",
       "      <td>Austin</td>\n",
       "      <td>Houston</td>\n",
       "      <td>Mockingbird</td>\n",
       "      <td>Bluebonnet</td>\n",
       "    </tr>\n",
       "    <tr>\n",
       "      <th>44</th>\n",
       "      <td>Utah</td>\n",
       "      <td>Salt Lake City</td>\n",
       "      <td>Salt Lake City</td>\n",
       "      <td>California Gull</td>\n",
       "      <td>Sego Lily</td>\n",
       "    </tr>\n",
       "    <tr>\n",
       "      <th>45</th>\n",
       "      <td>Vermont</td>\n",
       "      <td>Montpelier</td>\n",
       "      <td>Burlington</td>\n",
       "      <td>Hermit Thrush</td>\n",
       "      <td>Red Clover</td>\n",
       "    </tr>\n",
       "    <tr>\n",
       "      <th>46</th>\n",
       "      <td>Virginia</td>\n",
       "      <td>Richmond</td>\n",
       "      <td>Virginia Beach</td>\n",
       "      <td>Cardinal</td>\n",
       "      <td>Dogwood</td>\n",
       "    </tr>\n",
       "    <tr>\n",
       "      <th>47</th>\n",
       "      <td>Washington</td>\n",
       "      <td>Olympia</td>\n",
       "      <td>Seattle</td>\n",
       "      <td>Willow Goldfinch</td>\n",
       "      <td>Western Rhododendron</td>\n",
       "    </tr>\n",
       "    <tr>\n",
       "      <th>48</th>\n",
       "      <td>West Virginia</td>\n",
       "      <td>Charleston</td>\n",
       "      <td>Charleston</td>\n",
       "      <td>Cardinal</td>\n",
       "      <td>Big Rhododendron</td>\n",
       "    </tr>\n",
       "    <tr>\n",
       "      <th>49</th>\n",
       "      <td>Wisconsin</td>\n",
       "      <td>Madison</td>\n",
       "      <td>Milwaukee</td>\n",
       "      <td>Robin</td>\n",
       "      <td>Wood Violet</td>\n",
       "    </tr>\n",
       "    <tr>\n",
       "      <th>50</th>\n",
       "      <td>Wyoming</td>\n",
       "      <td>Cheyenne</td>\n",
       "      <td>Cheyenne</td>\n",
       "      <td>Meadowlark</td>\n",
       "      <td>Indian Paintbrush</td>\n",
       "    </tr>\n",
       "    <tr>\n",
       "      <th>51</th>\n",
       "      <td>Washington, D.C.</td>\n",
       "      <td>None</td>\n",
       "      <td>Washington</td>\n",
       "      <td>Woodthrush</td>\n",
       "      <td>American Beauty Rose</td>\n",
       "    </tr>\n",
       "  </tbody>\n",
       "</table>\n",
       "</div>"
      ],
      "text/plain": [
       "               State         Capital    Largest City  \\\n",
       "0              State         Capital    Largest City   \n",
       "1            Alabama      Montgomery      Birmingham   \n",
       "2             Alaska          Juneau       Anchorage   \n",
       "3            Arizona         Phoenix         Phoenix   \n",
       "4           Arkansas     Little Rock     Little Rock   \n",
       "5         California      Sacramento     Los Angeles   \n",
       "6           Colorado          Denver          Denver   \n",
       "7        Connecticut        Hartford      Bridgeport   \n",
       "8           Delaware           Dover      Wilmington   \n",
       "9            Florida     Tallahassee    Jacksonville   \n",
       "10           Georgia         Atlanta         Atlanta   \n",
       "11            Hawaii        Honolulu        Honolulu   \n",
       "12             Idaho           Boise           Boise   \n",
       "13          Illinois     Springfield         Chicago   \n",
       "14           Indiana    Indianapolis    Indianapolis   \n",
       "15              Iowa      Des Moines      Des Moines   \n",
       "16            Kansas          Topeka         Wichita   \n",
       "17          Kentucky       Frankfort      Louisville   \n",
       "18         Louisiana     Baton Rouge     New Orleans   \n",
       "19             Maine         Augusta        Portland   \n",
       "20          Maryland       Annapolis       Baltimore   \n",
       "21     Massachusetts          Boston          Boston   \n",
       "22          Michigan         Lansing         Detroit   \n",
       "23         Minnesota        St. Paul     Minneapolis   \n",
       "24       Mississippi         Jackson         Jackson   \n",
       "25          Missouri  Jefferson City     Kansas City   \n",
       "26           Montana          Helena        Billings   \n",
       "27          Nebraska         Lincoln           Omaha   \n",
       "28            Nevada     Carson City       Las Vegas   \n",
       "29     New Hampshire         Concord      Manchester   \n",
       "30        New Jersey         Trenton          Newark   \n",
       "31        New Mexico        Santa Fe     Albuquerque   \n",
       "32          New York          Albany        New York   \n",
       "33    North Carolina         Raleigh       Charlotte   \n",
       "34      North Dakota        Bismarck           Fargo   \n",
       "35              Ohio        Columbus        Columbus   \n",
       "36          Oklahoma   Oklahoma City   Oklahoma City   \n",
       "37            Oregon           Salem        Portland   \n",
       "38      Pennsylvania      Harrisburg    Philadelphia   \n",
       "39      Rhode Island      Providence      Providence   \n",
       "40    South Carolina        Columbia        Columbia   \n",
       "41      South Dakota          Pierre     Sioux Falls   \n",
       "42         Tennessee       Nashville         Memphis   \n",
       "43             Texas          Austin         Houston   \n",
       "44              Utah  Salt Lake City  Salt Lake City   \n",
       "45           Vermont      Montpelier      Burlington   \n",
       "46          Virginia        Richmond  Virginia Beach   \n",
       "47        Washington         Olympia         Seattle   \n",
       "48     West Virginia      Charleston      Charleston   \n",
       "49         Wisconsin         Madison       Milwaukee   \n",
       "50           Wyoming        Cheyenne        Cheyenne   \n",
       "51  Washington, D.C.            None      Washington   \n",
       "\n",
       "                         Bird                         Flower  \n",
       "0                        Bird                         Flower  \n",
       "1                Yellowhammer                       Camellia  \n",
       "2            Willow Ptarmigan                  Forget-me-not  \n",
       "3                 Cactus Wren         Saguaro Cactus Blossom  \n",
       "4                 Mockingbird                  Apple Blossom  \n",
       "5     California Valley Quail                   Golden Poppy  \n",
       "6                Lark Bunting                      Columbine  \n",
       "7              American Robin                Mountain Laurel  \n",
       "8            Blue Hen Chicken                  Peach Blossom  \n",
       "9                 Mockingbird                 Orange Blossom  \n",
       "10             Brown Thrasher                  Cherokee Rose  \n",
       "11      Nene (Hawaiian Goose)                       Hibiscus  \n",
       "12          Mountain Bluebird                        Syringa  \n",
       "13                   Cardinal                  Native violet  \n",
       "14                   Cardinal                          Peony  \n",
       "15          Eastern Goldfinch                      Wild Rose  \n",
       "16         Western Meadowlark               Native Sunflower  \n",
       "17          Kentucky Cardinal                      Goldenrod  \n",
       "18                    Pelican                       Magnolia  \n",
       "19                  Chickadee     White Pine Cone and Tassel  \n",
       "20           Baltimore Oriole               Black-Eyed Susan  \n",
       "21                  Chickadee                      Mayflower  \n",
       "22                      Robin                  Apple Blossom  \n",
       "23                Common Loon  Pink and White Lady's Slipper  \n",
       "24                Mockingbird                       Magnolia  \n",
       "25                   Bluebird                       Hawthorn  \n",
       "26         Western Meadowlark                     Bitterroot  \n",
       "27         Western Meadowlark                      Goldenrod  \n",
       "28          Mountain Bluebird                      Sagebrush  \n",
       "29               Purple Finch                   Purple Lilac  \n",
       "30          Eastern Goldfinch                  Purple Violet  \n",
       "31                 Roadrunner                   Yucca Flower  \n",
       "32                   Bluebird                           Rose  \n",
       "33                   Cardinal                        Dogwood  \n",
       "34         Western Meadowlark              Wild Prairie Rose  \n",
       "35                   Cardinal              Scarlet Carnation  \n",
       "36  Scissor-Tailed Flycatcher                      Mistletoe  \n",
       "37         Western Meadowlark                   Oregon Grape  \n",
       "38              Ruffed Grouse                Mountain Laurel  \n",
       "39           Rhode Island Red                         Violet  \n",
       "40              Carolina Wren               Yellow Jessamine  \n",
       "41       Ring-Necked Pheasant          American Pasqueflower  \n",
       "42                Mockingbird                           Iris  \n",
       "43                Mockingbird                     Bluebonnet  \n",
       "44            California Gull                      Sego Lily  \n",
       "45              Hermit Thrush                     Red Clover  \n",
       "46                   Cardinal                        Dogwood  \n",
       "47           Willow Goldfinch           Western Rhododendron  \n",
       "48                   Cardinal               Big Rhododendron  \n",
       "49                      Robin                    Wood Violet  \n",
       "50                 Meadowlark              Indian Paintbrush  \n",
       "51                 Woodthrush           American Beauty Rose  "
      ]
     },
     "execution_count": 218,
     "metadata": {},
     "output_type": "execute_result"
    }
   ],
   "source": [
    "data_dataframe.columns = ['State', 'Capital', 'Largest City', 'Bird', 'Flower']\n",
    "data_dataframe"
   ]
  },
  {
   "cell_type": "code",
   "execution_count": 222,
   "metadata": {},
   "outputs": [
    {
     "data": {
      "text/html": [
       "<div>\n",
       "<style scoped>\n",
       "    .dataframe tbody tr th:only-of-type {\n",
       "        vertical-align: middle;\n",
       "    }\n",
       "\n",
       "    .dataframe tbody tr th {\n",
       "        vertical-align: top;\n",
       "    }\n",
       "\n",
       "    .dataframe thead th {\n",
       "        text-align: right;\n",
       "    }\n",
       "</style>\n",
       "<table border=\"1\" class=\"dataframe\">\n",
       "  <thead>\n",
       "    <tr style=\"text-align: right;\">\n",
       "      <th></th>\n",
       "      <th>State</th>\n",
       "      <th>Capital</th>\n",
       "      <th>Largest City</th>\n",
       "      <th>Bird</th>\n",
       "      <th>Flower</th>\n",
       "    </tr>\n",
       "  </thead>\n",
       "  <tbody>\n",
       "    <tr>\n",
       "      <th>1</th>\n",
       "      <td>Alabama</td>\n",
       "      <td>Montgomery</td>\n",
       "      <td>Birmingham</td>\n",
       "      <td>Yellowhammer</td>\n",
       "      <td>Camellia</td>\n",
       "    </tr>\n",
       "    <tr>\n",
       "      <th>2</th>\n",
       "      <td>Alaska</td>\n",
       "      <td>Juneau</td>\n",
       "      <td>Anchorage</td>\n",
       "      <td>Willow Ptarmigan</td>\n",
       "      <td>Forget-me-not</td>\n",
       "    </tr>\n",
       "    <tr>\n",
       "      <th>3</th>\n",
       "      <td>Arizona</td>\n",
       "      <td>Phoenix</td>\n",
       "      <td>Phoenix</td>\n",
       "      <td>Cactus Wren</td>\n",
       "      <td>Saguaro Cactus Blossom</td>\n",
       "    </tr>\n",
       "    <tr>\n",
       "      <th>4</th>\n",
       "      <td>Arkansas</td>\n",
       "      <td>Little Rock</td>\n",
       "      <td>Little Rock</td>\n",
       "      <td>Mockingbird</td>\n",
       "      <td>Apple Blossom</td>\n",
       "    </tr>\n",
       "    <tr>\n",
       "      <th>5</th>\n",
       "      <td>California</td>\n",
       "      <td>Sacramento</td>\n",
       "      <td>Los Angeles</td>\n",
       "      <td>California Valley Quail</td>\n",
       "      <td>Golden Poppy</td>\n",
       "    </tr>\n",
       "    <tr>\n",
       "      <th>6</th>\n",
       "      <td>Colorado</td>\n",
       "      <td>Denver</td>\n",
       "      <td>Denver</td>\n",
       "      <td>Lark Bunting</td>\n",
       "      <td>Columbine</td>\n",
       "    </tr>\n",
       "    <tr>\n",
       "      <th>7</th>\n",
       "      <td>Connecticut</td>\n",
       "      <td>Hartford</td>\n",
       "      <td>Bridgeport</td>\n",
       "      <td>American Robin</td>\n",
       "      <td>Mountain Laurel</td>\n",
       "    </tr>\n",
       "    <tr>\n",
       "      <th>8</th>\n",
       "      <td>Delaware</td>\n",
       "      <td>Dover</td>\n",
       "      <td>Wilmington</td>\n",
       "      <td>Blue Hen Chicken</td>\n",
       "      <td>Peach Blossom</td>\n",
       "    </tr>\n",
       "    <tr>\n",
       "      <th>9</th>\n",
       "      <td>Florida</td>\n",
       "      <td>Tallahassee</td>\n",
       "      <td>Jacksonville</td>\n",
       "      <td>Mockingbird</td>\n",
       "      <td>Orange Blossom</td>\n",
       "    </tr>\n",
       "    <tr>\n",
       "      <th>10</th>\n",
       "      <td>Georgia</td>\n",
       "      <td>Atlanta</td>\n",
       "      <td>Atlanta</td>\n",
       "      <td>Brown Thrasher</td>\n",
       "      <td>Cherokee Rose</td>\n",
       "    </tr>\n",
       "    <tr>\n",
       "      <th>11</th>\n",
       "      <td>Hawaii</td>\n",
       "      <td>Honolulu</td>\n",
       "      <td>Honolulu</td>\n",
       "      <td>Nene (Hawaiian Goose)</td>\n",
       "      <td>Hibiscus</td>\n",
       "    </tr>\n",
       "    <tr>\n",
       "      <th>12</th>\n",
       "      <td>Idaho</td>\n",
       "      <td>Boise</td>\n",
       "      <td>Boise</td>\n",
       "      <td>Mountain Bluebird</td>\n",
       "      <td>Syringa</td>\n",
       "    </tr>\n",
       "    <tr>\n",
       "      <th>13</th>\n",
       "      <td>Illinois</td>\n",
       "      <td>Springfield</td>\n",
       "      <td>Chicago</td>\n",
       "      <td>Cardinal</td>\n",
       "      <td>Native violet</td>\n",
       "    </tr>\n",
       "    <tr>\n",
       "      <th>14</th>\n",
       "      <td>Indiana</td>\n",
       "      <td>Indianapolis</td>\n",
       "      <td>Indianapolis</td>\n",
       "      <td>Cardinal</td>\n",
       "      <td>Peony</td>\n",
       "    </tr>\n",
       "    <tr>\n",
       "      <th>15</th>\n",
       "      <td>Iowa</td>\n",
       "      <td>Des Moines</td>\n",
       "      <td>Des Moines</td>\n",
       "      <td>Eastern Goldfinch</td>\n",
       "      <td>Wild Rose</td>\n",
       "    </tr>\n",
       "    <tr>\n",
       "      <th>16</th>\n",
       "      <td>Kansas</td>\n",
       "      <td>Topeka</td>\n",
       "      <td>Wichita</td>\n",
       "      <td>Western Meadowlark</td>\n",
       "      <td>Native Sunflower</td>\n",
       "    </tr>\n",
       "    <tr>\n",
       "      <th>17</th>\n",
       "      <td>Kentucky</td>\n",
       "      <td>Frankfort</td>\n",
       "      <td>Louisville</td>\n",
       "      <td>Kentucky Cardinal</td>\n",
       "      <td>Goldenrod</td>\n",
       "    </tr>\n",
       "    <tr>\n",
       "      <th>18</th>\n",
       "      <td>Louisiana</td>\n",
       "      <td>Baton Rouge</td>\n",
       "      <td>New Orleans</td>\n",
       "      <td>Pelican</td>\n",
       "      <td>Magnolia</td>\n",
       "    </tr>\n",
       "    <tr>\n",
       "      <th>19</th>\n",
       "      <td>Maine</td>\n",
       "      <td>Augusta</td>\n",
       "      <td>Portland</td>\n",
       "      <td>Chickadee</td>\n",
       "      <td>White Pine Cone and Tassel</td>\n",
       "    </tr>\n",
       "    <tr>\n",
       "      <th>20</th>\n",
       "      <td>Maryland</td>\n",
       "      <td>Annapolis</td>\n",
       "      <td>Baltimore</td>\n",
       "      <td>Baltimore Oriole</td>\n",
       "      <td>Black-Eyed Susan</td>\n",
       "    </tr>\n",
       "    <tr>\n",
       "      <th>21</th>\n",
       "      <td>Massachusetts</td>\n",
       "      <td>Boston</td>\n",
       "      <td>Boston</td>\n",
       "      <td>Chickadee</td>\n",
       "      <td>Mayflower</td>\n",
       "    </tr>\n",
       "    <tr>\n",
       "      <th>22</th>\n",
       "      <td>Michigan</td>\n",
       "      <td>Lansing</td>\n",
       "      <td>Detroit</td>\n",
       "      <td>Robin</td>\n",
       "      <td>Apple Blossom</td>\n",
       "    </tr>\n",
       "    <tr>\n",
       "      <th>23</th>\n",
       "      <td>Minnesota</td>\n",
       "      <td>St. Paul</td>\n",
       "      <td>Minneapolis</td>\n",
       "      <td>Common Loon</td>\n",
       "      <td>Pink and White Lady's Slipper</td>\n",
       "    </tr>\n",
       "    <tr>\n",
       "      <th>24</th>\n",
       "      <td>Mississippi</td>\n",
       "      <td>Jackson</td>\n",
       "      <td>Jackson</td>\n",
       "      <td>Mockingbird</td>\n",
       "      <td>Magnolia</td>\n",
       "    </tr>\n",
       "    <tr>\n",
       "      <th>25</th>\n",
       "      <td>Missouri</td>\n",
       "      <td>Jefferson City</td>\n",
       "      <td>Kansas City</td>\n",
       "      <td>Bluebird</td>\n",
       "      <td>Hawthorn</td>\n",
       "    </tr>\n",
       "    <tr>\n",
       "      <th>26</th>\n",
       "      <td>Montana</td>\n",
       "      <td>Helena</td>\n",
       "      <td>Billings</td>\n",
       "      <td>Western Meadowlark</td>\n",
       "      <td>Bitterroot</td>\n",
       "    </tr>\n",
       "    <tr>\n",
       "      <th>27</th>\n",
       "      <td>Nebraska</td>\n",
       "      <td>Lincoln</td>\n",
       "      <td>Omaha</td>\n",
       "      <td>Western Meadowlark</td>\n",
       "      <td>Goldenrod</td>\n",
       "    </tr>\n",
       "    <tr>\n",
       "      <th>28</th>\n",
       "      <td>Nevada</td>\n",
       "      <td>Carson City</td>\n",
       "      <td>Las Vegas</td>\n",
       "      <td>Mountain Bluebird</td>\n",
       "      <td>Sagebrush</td>\n",
       "    </tr>\n",
       "    <tr>\n",
       "      <th>29</th>\n",
       "      <td>New Hampshire</td>\n",
       "      <td>Concord</td>\n",
       "      <td>Manchester</td>\n",
       "      <td>Purple Finch</td>\n",
       "      <td>Purple Lilac</td>\n",
       "    </tr>\n",
       "    <tr>\n",
       "      <th>30</th>\n",
       "      <td>New Jersey</td>\n",
       "      <td>Trenton</td>\n",
       "      <td>Newark</td>\n",
       "      <td>Eastern Goldfinch</td>\n",
       "      <td>Purple Violet</td>\n",
       "    </tr>\n",
       "    <tr>\n",
       "      <th>31</th>\n",
       "      <td>New Mexico</td>\n",
       "      <td>Santa Fe</td>\n",
       "      <td>Albuquerque</td>\n",
       "      <td>Roadrunner</td>\n",
       "      <td>Yucca Flower</td>\n",
       "    </tr>\n",
       "    <tr>\n",
       "      <th>32</th>\n",
       "      <td>New York</td>\n",
       "      <td>Albany</td>\n",
       "      <td>New York</td>\n",
       "      <td>Bluebird</td>\n",
       "      <td>Rose</td>\n",
       "    </tr>\n",
       "    <tr>\n",
       "      <th>33</th>\n",
       "      <td>North Carolina</td>\n",
       "      <td>Raleigh</td>\n",
       "      <td>Charlotte</td>\n",
       "      <td>Cardinal</td>\n",
       "      <td>Dogwood</td>\n",
       "    </tr>\n",
       "    <tr>\n",
       "      <th>34</th>\n",
       "      <td>North Dakota</td>\n",
       "      <td>Bismarck</td>\n",
       "      <td>Fargo</td>\n",
       "      <td>Western Meadowlark</td>\n",
       "      <td>Wild Prairie Rose</td>\n",
       "    </tr>\n",
       "    <tr>\n",
       "      <th>35</th>\n",
       "      <td>Ohio</td>\n",
       "      <td>Columbus</td>\n",
       "      <td>Columbus</td>\n",
       "      <td>Cardinal</td>\n",
       "      <td>Scarlet Carnation</td>\n",
       "    </tr>\n",
       "    <tr>\n",
       "      <th>36</th>\n",
       "      <td>Oklahoma</td>\n",
       "      <td>Oklahoma City</td>\n",
       "      <td>Oklahoma City</td>\n",
       "      <td>Scissor-Tailed Flycatcher</td>\n",
       "      <td>Mistletoe</td>\n",
       "    </tr>\n",
       "    <tr>\n",
       "      <th>37</th>\n",
       "      <td>Oregon</td>\n",
       "      <td>Salem</td>\n",
       "      <td>Portland</td>\n",
       "      <td>Western Meadowlark</td>\n",
       "      <td>Oregon Grape</td>\n",
       "    </tr>\n",
       "    <tr>\n",
       "      <th>38</th>\n",
       "      <td>Pennsylvania</td>\n",
       "      <td>Harrisburg</td>\n",
       "      <td>Philadelphia</td>\n",
       "      <td>Ruffed Grouse</td>\n",
       "      <td>Mountain Laurel</td>\n",
       "    </tr>\n",
       "    <tr>\n",
       "      <th>39</th>\n",
       "      <td>Rhode Island</td>\n",
       "      <td>Providence</td>\n",
       "      <td>Providence</td>\n",
       "      <td>Rhode Island Red</td>\n",
       "      <td>Violet</td>\n",
       "    </tr>\n",
       "    <tr>\n",
       "      <th>40</th>\n",
       "      <td>South Carolina</td>\n",
       "      <td>Columbia</td>\n",
       "      <td>Columbia</td>\n",
       "      <td>Carolina Wren</td>\n",
       "      <td>Yellow Jessamine</td>\n",
       "    </tr>\n",
       "    <tr>\n",
       "      <th>41</th>\n",
       "      <td>South Dakota</td>\n",
       "      <td>Pierre</td>\n",
       "      <td>Sioux Falls</td>\n",
       "      <td>Ring-Necked Pheasant</td>\n",
       "      <td>American Pasqueflower</td>\n",
       "    </tr>\n",
       "    <tr>\n",
       "      <th>42</th>\n",
       "      <td>Tennessee</td>\n",
       "      <td>Nashville</td>\n",
       "      <td>Memphis</td>\n",
       "      <td>Mockingbird</td>\n",
       "      <td>Iris</td>\n",
       "    </tr>\n",
       "    <tr>\n",
       "      <th>43</th>\n",
       "      <td>Texas</td>\n",
       "      <td>Austin</td>\n",
       "      <td>Houston</td>\n",
       "      <td>Mockingbird</td>\n",
       "      <td>Bluebonnet</td>\n",
       "    </tr>\n",
       "    <tr>\n",
       "      <th>44</th>\n",
       "      <td>Utah</td>\n",
       "      <td>Salt Lake City</td>\n",
       "      <td>Salt Lake City</td>\n",
       "      <td>California Gull</td>\n",
       "      <td>Sego Lily</td>\n",
       "    </tr>\n",
       "    <tr>\n",
       "      <th>45</th>\n",
       "      <td>Vermont</td>\n",
       "      <td>Montpelier</td>\n",
       "      <td>Burlington</td>\n",
       "      <td>Hermit Thrush</td>\n",
       "      <td>Red Clover</td>\n",
       "    </tr>\n",
       "    <tr>\n",
       "      <th>46</th>\n",
       "      <td>Virginia</td>\n",
       "      <td>Richmond</td>\n",
       "      <td>Virginia Beach</td>\n",
       "      <td>Cardinal</td>\n",
       "      <td>Dogwood</td>\n",
       "    </tr>\n",
       "    <tr>\n",
       "      <th>47</th>\n",
       "      <td>Washington</td>\n",
       "      <td>Olympia</td>\n",
       "      <td>Seattle</td>\n",
       "      <td>Willow Goldfinch</td>\n",
       "      <td>Western Rhododendron</td>\n",
       "    </tr>\n",
       "    <tr>\n",
       "      <th>48</th>\n",
       "      <td>West Virginia</td>\n",
       "      <td>Charleston</td>\n",
       "      <td>Charleston</td>\n",
       "      <td>Cardinal</td>\n",
       "      <td>Big Rhododendron</td>\n",
       "    </tr>\n",
       "    <tr>\n",
       "      <th>49</th>\n",
       "      <td>Wisconsin</td>\n",
       "      <td>Madison</td>\n",
       "      <td>Milwaukee</td>\n",
       "      <td>Robin</td>\n",
       "      <td>Wood Violet</td>\n",
       "    </tr>\n",
       "    <tr>\n",
       "      <th>50</th>\n",
       "      <td>Wyoming</td>\n",
       "      <td>Cheyenne</td>\n",
       "      <td>Cheyenne</td>\n",
       "      <td>Meadowlark</td>\n",
       "      <td>Indian Paintbrush</td>\n",
       "    </tr>\n",
       "    <tr>\n",
       "      <th>51</th>\n",
       "      <td>Washington, D.C.</td>\n",
       "      <td>None</td>\n",
       "      <td>Washington</td>\n",
       "      <td>Woodthrush</td>\n",
       "      <td>American Beauty Rose</td>\n",
       "    </tr>\n",
       "  </tbody>\n",
       "</table>\n",
       "</div>"
      ],
      "text/plain": [
       "               State         Capital    Largest City  \\\n",
       "1            Alabama      Montgomery      Birmingham   \n",
       "2             Alaska          Juneau       Anchorage   \n",
       "3            Arizona         Phoenix         Phoenix   \n",
       "4           Arkansas     Little Rock     Little Rock   \n",
       "5         California      Sacramento     Los Angeles   \n",
       "6           Colorado          Denver          Denver   \n",
       "7        Connecticut        Hartford      Bridgeport   \n",
       "8           Delaware           Dover      Wilmington   \n",
       "9            Florida     Tallahassee    Jacksonville   \n",
       "10           Georgia         Atlanta         Atlanta   \n",
       "11            Hawaii        Honolulu        Honolulu   \n",
       "12             Idaho           Boise           Boise   \n",
       "13          Illinois     Springfield         Chicago   \n",
       "14           Indiana    Indianapolis    Indianapolis   \n",
       "15              Iowa      Des Moines      Des Moines   \n",
       "16            Kansas          Topeka         Wichita   \n",
       "17          Kentucky       Frankfort      Louisville   \n",
       "18         Louisiana     Baton Rouge     New Orleans   \n",
       "19             Maine         Augusta        Portland   \n",
       "20          Maryland       Annapolis       Baltimore   \n",
       "21     Massachusetts          Boston          Boston   \n",
       "22          Michigan         Lansing         Detroit   \n",
       "23         Minnesota        St. Paul     Minneapolis   \n",
       "24       Mississippi         Jackson         Jackson   \n",
       "25          Missouri  Jefferson City     Kansas City   \n",
       "26           Montana          Helena        Billings   \n",
       "27          Nebraska         Lincoln           Omaha   \n",
       "28            Nevada     Carson City       Las Vegas   \n",
       "29     New Hampshire         Concord      Manchester   \n",
       "30        New Jersey         Trenton          Newark   \n",
       "31        New Mexico        Santa Fe     Albuquerque   \n",
       "32          New York          Albany        New York   \n",
       "33    North Carolina         Raleigh       Charlotte   \n",
       "34      North Dakota        Bismarck           Fargo   \n",
       "35              Ohio        Columbus        Columbus   \n",
       "36          Oklahoma   Oklahoma City   Oklahoma City   \n",
       "37            Oregon           Salem        Portland   \n",
       "38      Pennsylvania      Harrisburg    Philadelphia   \n",
       "39      Rhode Island      Providence      Providence   \n",
       "40    South Carolina        Columbia        Columbia   \n",
       "41      South Dakota          Pierre     Sioux Falls   \n",
       "42         Tennessee       Nashville         Memphis   \n",
       "43             Texas          Austin         Houston   \n",
       "44              Utah  Salt Lake City  Salt Lake City   \n",
       "45           Vermont      Montpelier      Burlington   \n",
       "46          Virginia        Richmond  Virginia Beach   \n",
       "47        Washington         Olympia         Seattle   \n",
       "48     West Virginia      Charleston      Charleston   \n",
       "49         Wisconsin         Madison       Milwaukee   \n",
       "50           Wyoming        Cheyenne        Cheyenne   \n",
       "51  Washington, D.C.            None      Washington   \n",
       "\n",
       "                         Bird                         Flower  \n",
       "1                Yellowhammer                       Camellia  \n",
       "2            Willow Ptarmigan                  Forget-me-not  \n",
       "3                 Cactus Wren         Saguaro Cactus Blossom  \n",
       "4                 Mockingbird                  Apple Blossom  \n",
       "5     California Valley Quail                   Golden Poppy  \n",
       "6                Lark Bunting                      Columbine  \n",
       "7              American Robin                Mountain Laurel  \n",
       "8            Blue Hen Chicken                  Peach Blossom  \n",
       "9                 Mockingbird                 Orange Blossom  \n",
       "10             Brown Thrasher                  Cherokee Rose  \n",
       "11      Nene (Hawaiian Goose)                       Hibiscus  \n",
       "12          Mountain Bluebird                        Syringa  \n",
       "13                   Cardinal                  Native violet  \n",
       "14                   Cardinal                          Peony  \n",
       "15          Eastern Goldfinch                      Wild Rose  \n",
       "16         Western Meadowlark               Native Sunflower  \n",
       "17          Kentucky Cardinal                      Goldenrod  \n",
       "18                    Pelican                       Magnolia  \n",
       "19                  Chickadee     White Pine Cone and Tassel  \n",
       "20           Baltimore Oriole               Black-Eyed Susan  \n",
       "21                  Chickadee                      Mayflower  \n",
       "22                      Robin                  Apple Blossom  \n",
       "23                Common Loon  Pink and White Lady's Slipper  \n",
       "24                Mockingbird                       Magnolia  \n",
       "25                   Bluebird                       Hawthorn  \n",
       "26         Western Meadowlark                     Bitterroot  \n",
       "27         Western Meadowlark                      Goldenrod  \n",
       "28          Mountain Bluebird                      Sagebrush  \n",
       "29               Purple Finch                   Purple Lilac  \n",
       "30          Eastern Goldfinch                  Purple Violet  \n",
       "31                 Roadrunner                   Yucca Flower  \n",
       "32                   Bluebird                           Rose  \n",
       "33                   Cardinal                        Dogwood  \n",
       "34         Western Meadowlark              Wild Prairie Rose  \n",
       "35                   Cardinal              Scarlet Carnation  \n",
       "36  Scissor-Tailed Flycatcher                      Mistletoe  \n",
       "37         Western Meadowlark                   Oregon Grape  \n",
       "38              Ruffed Grouse                Mountain Laurel  \n",
       "39           Rhode Island Red                         Violet  \n",
       "40              Carolina Wren               Yellow Jessamine  \n",
       "41       Ring-Necked Pheasant          American Pasqueflower  \n",
       "42                Mockingbird                           Iris  \n",
       "43                Mockingbird                     Bluebonnet  \n",
       "44            California Gull                      Sego Lily  \n",
       "45              Hermit Thrush                     Red Clover  \n",
       "46                   Cardinal                        Dogwood  \n",
       "47           Willow Goldfinch           Western Rhododendron  \n",
       "48                   Cardinal               Big Rhododendron  \n",
       "49                      Robin                    Wood Violet  \n",
       "50                 Meadowlark              Indian Paintbrush  \n",
       "51                 Woodthrush           American Beauty Rose  "
      ]
     },
     "execution_count": 222,
     "metadata": {},
     "output_type": "execute_result"
    }
   ],
   "source": [
    "df = data_dataframe.iloc[1:,:]  # for sub dataframes - gives a copy of the data\n",
    "df"
   ]
  },
  {
   "cell_type": "code",
   "execution_count": 223,
   "metadata": {},
   "outputs": [
    {
     "name": "stdout",
     "output_type": "stream",
     "text": [
      "<class 'pandas.core.frame.DataFrame'>\n",
      "RangeIndex: 51 entries, 1 to 51\n",
      "Data columns (total 5 columns):\n",
      "State           51 non-null object\n",
      "Capital         51 non-null object\n",
      "Largest City    51 non-null object\n",
      "Bird            51 non-null object\n",
      "Flower          51 non-null object\n",
      "dtypes: object(5)\n",
      "memory usage: 2.1+ KB\n"
     ]
    }
   ],
   "source": [
    "df.info()"
   ]
  },
  {
   "cell_type": "code",
   "execution_count": 224,
   "metadata": {},
   "outputs": [
    {
     "data": {
      "text/html": [
       "<div>\n",
       "<style scoped>\n",
       "    .dataframe tbody tr th:only-of-type {\n",
       "        vertical-align: middle;\n",
       "    }\n",
       "\n",
       "    .dataframe tbody tr th {\n",
       "        vertical-align: top;\n",
       "    }\n",
       "\n",
       "    .dataframe thead th {\n",
       "        text-align: right;\n",
       "    }\n",
       "</style>\n",
       "<table border=\"1\" class=\"dataframe\">\n",
       "  <thead>\n",
       "    <tr style=\"text-align: right;\">\n",
       "      <th></th>\n",
       "      <th>State</th>\n",
       "      <th>Capital</th>\n",
       "      <th>Largest City</th>\n",
       "      <th>Bird</th>\n",
       "      <th>Flower</th>\n",
       "    </tr>\n",
       "  </thead>\n",
       "  <tbody>\n",
       "    <tr>\n",
       "      <th>count</th>\n",
       "      <td>51</td>\n",
       "      <td>51</td>\n",
       "      <td>51</td>\n",
       "      <td>51</td>\n",
       "      <td>51</td>\n",
       "    </tr>\n",
       "    <tr>\n",
       "      <th>unique</th>\n",
       "      <td>51</td>\n",
       "      <td>51</td>\n",
       "      <td>50</td>\n",
       "      <td>33</td>\n",
       "      <td>46</td>\n",
       "    </tr>\n",
       "    <tr>\n",
       "      <th>top</th>\n",
       "      <td>Washington, D.C.</td>\n",
       "      <td>Austin</td>\n",
       "      <td>Portland</td>\n",
       "      <td>Cardinal</td>\n",
       "      <td>Apple Blossom</td>\n",
       "    </tr>\n",
       "    <tr>\n",
       "      <th>freq</th>\n",
       "      <td>1</td>\n",
       "      <td>1</td>\n",
       "      <td>2</td>\n",
       "      <td>6</td>\n",
       "      <td>2</td>\n",
       "    </tr>\n",
       "  </tbody>\n",
       "</table>\n",
       "</div>"
      ],
      "text/plain": [
       "                   State Capital Largest City      Bird         Flower\n",
       "count                 51      51           51        51             51\n",
       "unique                51      51           50        33             46\n",
       "top     Washington, D.C.  Austin     Portland  Cardinal  Apple Blossom\n",
       "freq                   1       1            2         6              2"
      ]
     },
     "execution_count": 224,
     "metadata": {},
     "output_type": "execute_result"
    }
   ],
   "source": [
    "df.describe()"
   ]
  },
  {
   "cell_type": "code",
   "execution_count": 225,
   "metadata": {},
   "outputs": [
    {
     "data": {
      "text/html": [
       "<div>\n",
       "<style scoped>\n",
       "    .dataframe tbody tr th:only-of-type {\n",
       "        vertical-align: middle;\n",
       "    }\n",
       "\n",
       "    .dataframe tbody tr th {\n",
       "        vertical-align: top;\n",
       "    }\n",
       "\n",
       "    .dataframe thead th {\n",
       "        text-align: right;\n",
       "    }\n",
       "</style>\n",
       "<table border=\"1\" class=\"dataframe\">\n",
       "  <thead>\n",
       "    <tr style=\"text-align: right;\">\n",
       "      <th></th>\n",
       "      <th>State</th>\n",
       "      <th>Capital</th>\n",
       "      <th>Largest City</th>\n",
       "      <th>Bird</th>\n",
       "      <th>Flower</th>\n",
       "    </tr>\n",
       "  </thead>\n",
       "  <tbody>\n",
       "    <tr>\n",
       "      <th>1</th>\n",
       "      <td>Alabama</td>\n",
       "      <td>Montgomery</td>\n",
       "      <td>Birmingham</td>\n",
       "      <td>Yellowhammer</td>\n",
       "      <td>Camellia</td>\n",
       "    </tr>\n",
       "    <tr>\n",
       "      <th>2</th>\n",
       "      <td>Alaska</td>\n",
       "      <td>Juneau</td>\n",
       "      <td>Anchorage</td>\n",
       "      <td>Willow Ptarmigan</td>\n",
       "      <td>Forget-me-not</td>\n",
       "    </tr>\n",
       "    <tr>\n",
       "      <th>3</th>\n",
       "      <td>Arizona</td>\n",
       "      <td>Phoenix</td>\n",
       "      <td>Phoenix</td>\n",
       "      <td>Cactus Wren</td>\n",
       "      <td>Saguaro Cactus Blossom</td>\n",
       "    </tr>\n",
       "    <tr>\n",
       "      <th>4</th>\n",
       "      <td>Arkansas</td>\n",
       "      <td>Little Rock</td>\n",
       "      <td>Little Rock</td>\n",
       "      <td>Mockingbird</td>\n",
       "      <td>Apple Blossom</td>\n",
       "    </tr>\n",
       "    <tr>\n",
       "      <th>5</th>\n",
       "      <td>California</td>\n",
       "      <td>Sacramento</td>\n",
       "      <td>Los Angeles</td>\n",
       "      <td>California Valley Quail</td>\n",
       "      <td>Golden Poppy</td>\n",
       "    </tr>\n",
       "  </tbody>\n",
       "</table>\n",
       "</div>"
      ],
      "text/plain": [
       "        State      Capital Largest City                     Bird  \\\n",
       "1     Alabama   Montgomery   Birmingham             Yellowhammer   \n",
       "2      Alaska       Juneau    Anchorage         Willow Ptarmigan   \n",
       "3     Arizona      Phoenix      Phoenix              Cactus Wren   \n",
       "4    Arkansas  Little Rock  Little Rock              Mockingbird   \n",
       "5  California   Sacramento  Los Angeles  California Valley Quail   \n",
       "\n",
       "                   Flower  \n",
       "1                Camellia  \n",
       "2           Forget-me-not  \n",
       "3  Saguaro Cactus Blossom  \n",
       "4           Apple Blossom  \n",
       "5            Golden Poppy  "
      ]
     },
     "execution_count": 225,
     "metadata": {},
     "output_type": "execute_result"
    }
   ],
   "source": [
    "df.head()"
   ]
  },
  {
   "cell_type": "code",
   "execution_count": 226,
   "metadata": {},
   "outputs": [
    {
     "ename": "NameError",
     "evalue": "name 'State' is not defined",
     "output_type": "error",
     "traceback": [
      "\u001b[0;31m---------------------------------------------------------------------------\u001b[0m",
      "\u001b[0;31mNameError\u001b[0m                                 Traceback (most recent call last)",
      "\u001b[0;32m<ipython-input-226-46dc47a07b2e>\u001b[0m in \u001b[0;36m<module>\u001b[0;34m\u001b[0m\n\u001b[0;32m----> 1\u001b[0;31m \u001b[0mdf\u001b[0m\u001b[0;34m[\u001b[0m\u001b[0mState\u001b[0m\u001b[0;34m==\u001b[0m\u001b[0;34m'Nebraska'\u001b[0m\u001b[0;34m]\u001b[0m\u001b[0;34m\u001b[0m\u001b[0;34m\u001b[0m\u001b[0m\n\u001b[0m",
      "\u001b[0;31mNameError\u001b[0m: name 'State' is not defined"
     ]
    }
   ],
   "source": [
    "df[State=='Nebraska']"
   ]
  },
  {
   "cell_type": "code",
   "execution_count": 227,
   "metadata": {},
   "outputs": [
    {
     "ename": "KeyError",
     "evalue": "'Nebraska'",
     "output_type": "error",
     "traceback": [
      "\u001b[0;31m---------------------------------------------------------------------------\u001b[0m",
      "\u001b[0;31mKeyError\u001b[0m                                  Traceback (most recent call last)",
      "\u001b[0;32m/miniconda3/lib/python3.7/site-packages/pandas/core/indexes/base.py\u001b[0m in \u001b[0;36mget_loc\u001b[0;34m(self, key, method, tolerance)\u001b[0m\n\u001b[1;32m   2656\u001b[0m             \u001b[0;32mtry\u001b[0m\u001b[0;34m:\u001b[0m\u001b[0;34m\u001b[0m\u001b[0;34m\u001b[0m\u001b[0m\n\u001b[0;32m-> 2657\u001b[0;31m                 \u001b[0;32mreturn\u001b[0m \u001b[0mself\u001b[0m\u001b[0;34m.\u001b[0m\u001b[0m_engine\u001b[0m\u001b[0;34m.\u001b[0m\u001b[0mget_loc\u001b[0m\u001b[0;34m(\u001b[0m\u001b[0mkey\u001b[0m\u001b[0;34m)\u001b[0m\u001b[0;34m\u001b[0m\u001b[0;34m\u001b[0m\u001b[0m\n\u001b[0m\u001b[1;32m   2658\u001b[0m             \u001b[0;32mexcept\u001b[0m \u001b[0mKeyError\u001b[0m\u001b[0;34m:\u001b[0m\u001b[0;34m\u001b[0m\u001b[0;34m\u001b[0m\u001b[0m\n",
      "\u001b[0;32mpandas/_libs/index.pyx\u001b[0m in \u001b[0;36mpandas._libs.index.IndexEngine.get_loc\u001b[0;34m()\u001b[0m\n",
      "\u001b[0;32mpandas/_libs/index.pyx\u001b[0m in \u001b[0;36mpandas._libs.index.IndexEngine.get_loc\u001b[0;34m()\u001b[0m\n",
      "\u001b[0;32mpandas/_libs/index_class_helper.pxi\u001b[0m in \u001b[0;36mpandas._libs.index.Int64Engine._check_type\u001b[0;34m()\u001b[0m\n",
      "\u001b[0;31mKeyError\u001b[0m: 'Nebraska'",
      "\nDuring handling of the above exception, another exception occurred:\n",
      "\u001b[0;31mKeyError\u001b[0m                                  Traceback (most recent call last)",
      "\u001b[0;32m<ipython-input-227-3e4d40b4f6f1>\u001b[0m in \u001b[0;36m<module>\u001b[0;34m\u001b[0m\n\u001b[0;32m----> 1\u001b[0;31m \u001b[0mdf\u001b[0m\u001b[0;34m.\u001b[0m\u001b[0mloc\u001b[0m\u001b[0;34m[\u001b[0m\u001b[0;34m\"Nebraska\"\u001b[0m\u001b[0;34m]\u001b[0m\u001b[0;34m\u001b[0m\u001b[0;34m\u001b[0m\u001b[0m\n\u001b[0m",
      "\u001b[0;32m/miniconda3/lib/python3.7/site-packages/pandas/core/indexing.py\u001b[0m in \u001b[0;36m__getitem__\u001b[0;34m(self, key)\u001b[0m\n\u001b[1;32m   1498\u001b[0m \u001b[0;34m\u001b[0m\u001b[0m\n\u001b[1;32m   1499\u001b[0m             \u001b[0mmaybe_callable\u001b[0m \u001b[0;34m=\u001b[0m \u001b[0mcom\u001b[0m\u001b[0;34m.\u001b[0m\u001b[0mapply_if_callable\u001b[0m\u001b[0;34m(\u001b[0m\u001b[0mkey\u001b[0m\u001b[0;34m,\u001b[0m \u001b[0mself\u001b[0m\u001b[0;34m.\u001b[0m\u001b[0mobj\u001b[0m\u001b[0;34m)\u001b[0m\u001b[0;34m\u001b[0m\u001b[0;34m\u001b[0m\u001b[0m\n\u001b[0;32m-> 1500\u001b[0;31m             \u001b[0;32mreturn\u001b[0m \u001b[0mself\u001b[0m\u001b[0;34m.\u001b[0m\u001b[0m_getitem_axis\u001b[0m\u001b[0;34m(\u001b[0m\u001b[0mmaybe_callable\u001b[0m\u001b[0;34m,\u001b[0m \u001b[0maxis\u001b[0m\u001b[0;34m=\u001b[0m\u001b[0maxis\u001b[0m\u001b[0;34m)\u001b[0m\u001b[0;34m\u001b[0m\u001b[0;34m\u001b[0m\u001b[0m\n\u001b[0m\u001b[1;32m   1501\u001b[0m \u001b[0;34m\u001b[0m\u001b[0m\n\u001b[1;32m   1502\u001b[0m     \u001b[0;32mdef\u001b[0m \u001b[0m_is_scalar_access\u001b[0m\u001b[0;34m(\u001b[0m\u001b[0mself\u001b[0m\u001b[0;34m,\u001b[0m \u001b[0mkey\u001b[0m\u001b[0;34m)\u001b[0m\u001b[0;34m:\u001b[0m\u001b[0;34m\u001b[0m\u001b[0;34m\u001b[0m\u001b[0m\n",
      "\u001b[0;32m/miniconda3/lib/python3.7/site-packages/pandas/core/indexing.py\u001b[0m in \u001b[0;36m_getitem_axis\u001b[0;34m(self, key, axis)\u001b[0m\n\u001b[1;32m   1911\u001b[0m         \u001b[0;31m# fall thru to straight lookup\u001b[0m\u001b[0;34m\u001b[0m\u001b[0;34m\u001b[0m\u001b[0;34m\u001b[0m\u001b[0m\n\u001b[1;32m   1912\u001b[0m         \u001b[0mself\u001b[0m\u001b[0;34m.\u001b[0m\u001b[0m_validate_key\u001b[0m\u001b[0;34m(\u001b[0m\u001b[0mkey\u001b[0m\u001b[0;34m,\u001b[0m \u001b[0maxis\u001b[0m\u001b[0;34m)\u001b[0m\u001b[0;34m\u001b[0m\u001b[0;34m\u001b[0m\u001b[0m\n\u001b[0;32m-> 1913\u001b[0;31m         \u001b[0;32mreturn\u001b[0m \u001b[0mself\u001b[0m\u001b[0;34m.\u001b[0m\u001b[0m_get_label\u001b[0m\u001b[0;34m(\u001b[0m\u001b[0mkey\u001b[0m\u001b[0;34m,\u001b[0m \u001b[0maxis\u001b[0m\u001b[0;34m=\u001b[0m\u001b[0maxis\u001b[0m\u001b[0;34m)\u001b[0m\u001b[0;34m\u001b[0m\u001b[0;34m\u001b[0m\u001b[0m\n\u001b[0m\u001b[1;32m   1914\u001b[0m \u001b[0;34m\u001b[0m\u001b[0m\n\u001b[1;32m   1915\u001b[0m \u001b[0;34m\u001b[0m\u001b[0m\n",
      "\u001b[0;32m/miniconda3/lib/python3.7/site-packages/pandas/core/indexing.py\u001b[0m in \u001b[0;36m_get_label\u001b[0;34m(self, label, axis)\u001b[0m\n\u001b[1;32m    139\u001b[0m             \u001b[0;32mraise\u001b[0m \u001b[0mIndexingError\u001b[0m\u001b[0;34m(\u001b[0m\u001b[0;34m'no slices here, handle elsewhere'\u001b[0m\u001b[0;34m)\u001b[0m\u001b[0;34m\u001b[0m\u001b[0;34m\u001b[0m\u001b[0m\n\u001b[1;32m    140\u001b[0m \u001b[0;34m\u001b[0m\u001b[0m\n\u001b[0;32m--> 141\u001b[0;31m         \u001b[0;32mreturn\u001b[0m \u001b[0mself\u001b[0m\u001b[0;34m.\u001b[0m\u001b[0mobj\u001b[0m\u001b[0;34m.\u001b[0m\u001b[0m_xs\u001b[0m\u001b[0;34m(\u001b[0m\u001b[0mlabel\u001b[0m\u001b[0;34m,\u001b[0m \u001b[0maxis\u001b[0m\u001b[0;34m=\u001b[0m\u001b[0maxis\u001b[0m\u001b[0;34m)\u001b[0m\u001b[0;34m\u001b[0m\u001b[0;34m\u001b[0m\u001b[0m\n\u001b[0m\u001b[1;32m    142\u001b[0m \u001b[0;34m\u001b[0m\u001b[0m\n\u001b[1;32m    143\u001b[0m     \u001b[0;32mdef\u001b[0m \u001b[0m_get_loc\u001b[0m\u001b[0;34m(\u001b[0m\u001b[0mself\u001b[0m\u001b[0;34m,\u001b[0m \u001b[0mkey\u001b[0m\u001b[0;34m,\u001b[0m \u001b[0maxis\u001b[0m\u001b[0;34m=\u001b[0m\u001b[0;32mNone\u001b[0m\u001b[0;34m)\u001b[0m\u001b[0;34m:\u001b[0m\u001b[0;34m\u001b[0m\u001b[0;34m\u001b[0m\u001b[0m\n",
      "\u001b[0;32m/miniconda3/lib/python3.7/site-packages/pandas/core/generic.py\u001b[0m in \u001b[0;36mxs\u001b[0;34m(self, key, axis, level, drop_level)\u001b[0m\n\u001b[1;32m   3583\u001b[0m                                                       drop_level=drop_level)\n\u001b[1;32m   3584\u001b[0m         \u001b[0;32melse\u001b[0m\u001b[0;34m:\u001b[0m\u001b[0;34m\u001b[0m\u001b[0;34m\u001b[0m\u001b[0m\n\u001b[0;32m-> 3585\u001b[0;31m             \u001b[0mloc\u001b[0m \u001b[0;34m=\u001b[0m \u001b[0mself\u001b[0m\u001b[0;34m.\u001b[0m\u001b[0mindex\u001b[0m\u001b[0;34m.\u001b[0m\u001b[0mget_loc\u001b[0m\u001b[0;34m(\u001b[0m\u001b[0mkey\u001b[0m\u001b[0;34m)\u001b[0m\u001b[0;34m\u001b[0m\u001b[0;34m\u001b[0m\u001b[0m\n\u001b[0m\u001b[1;32m   3586\u001b[0m \u001b[0;34m\u001b[0m\u001b[0m\n\u001b[1;32m   3587\u001b[0m             \u001b[0;32mif\u001b[0m \u001b[0misinstance\u001b[0m\u001b[0;34m(\u001b[0m\u001b[0mloc\u001b[0m\u001b[0;34m,\u001b[0m \u001b[0mnp\u001b[0m\u001b[0;34m.\u001b[0m\u001b[0mndarray\u001b[0m\u001b[0;34m)\u001b[0m\u001b[0;34m:\u001b[0m\u001b[0;34m\u001b[0m\u001b[0;34m\u001b[0m\u001b[0m\n",
      "\u001b[0;32m/miniconda3/lib/python3.7/site-packages/pandas/core/indexes/base.py\u001b[0m in \u001b[0;36mget_loc\u001b[0;34m(self, key, method, tolerance)\u001b[0m\n\u001b[1;32m   2657\u001b[0m                 \u001b[0;32mreturn\u001b[0m \u001b[0mself\u001b[0m\u001b[0;34m.\u001b[0m\u001b[0m_engine\u001b[0m\u001b[0;34m.\u001b[0m\u001b[0mget_loc\u001b[0m\u001b[0;34m(\u001b[0m\u001b[0mkey\u001b[0m\u001b[0;34m)\u001b[0m\u001b[0;34m\u001b[0m\u001b[0;34m\u001b[0m\u001b[0m\n\u001b[1;32m   2658\u001b[0m             \u001b[0;32mexcept\u001b[0m \u001b[0mKeyError\u001b[0m\u001b[0;34m:\u001b[0m\u001b[0;34m\u001b[0m\u001b[0;34m\u001b[0m\u001b[0m\n\u001b[0;32m-> 2659\u001b[0;31m                 \u001b[0;32mreturn\u001b[0m \u001b[0mself\u001b[0m\u001b[0;34m.\u001b[0m\u001b[0m_engine\u001b[0m\u001b[0;34m.\u001b[0m\u001b[0mget_loc\u001b[0m\u001b[0;34m(\u001b[0m\u001b[0mself\u001b[0m\u001b[0;34m.\u001b[0m\u001b[0m_maybe_cast_indexer\u001b[0m\u001b[0;34m(\u001b[0m\u001b[0mkey\u001b[0m\u001b[0;34m)\u001b[0m\u001b[0;34m)\u001b[0m\u001b[0;34m\u001b[0m\u001b[0;34m\u001b[0m\u001b[0m\n\u001b[0m\u001b[1;32m   2660\u001b[0m         \u001b[0mindexer\u001b[0m \u001b[0;34m=\u001b[0m \u001b[0mself\u001b[0m\u001b[0;34m.\u001b[0m\u001b[0mget_indexer\u001b[0m\u001b[0;34m(\u001b[0m\u001b[0;34m[\u001b[0m\u001b[0mkey\u001b[0m\u001b[0;34m]\u001b[0m\u001b[0;34m,\u001b[0m \u001b[0mmethod\u001b[0m\u001b[0;34m=\u001b[0m\u001b[0mmethod\u001b[0m\u001b[0;34m,\u001b[0m \u001b[0mtolerance\u001b[0m\u001b[0;34m=\u001b[0m\u001b[0mtolerance\u001b[0m\u001b[0;34m)\u001b[0m\u001b[0;34m\u001b[0m\u001b[0;34m\u001b[0m\u001b[0m\n\u001b[1;32m   2661\u001b[0m         \u001b[0;32mif\u001b[0m \u001b[0mindexer\u001b[0m\u001b[0;34m.\u001b[0m\u001b[0mndim\u001b[0m \u001b[0;34m>\u001b[0m \u001b[0;36m1\u001b[0m \u001b[0;32mor\u001b[0m \u001b[0mindexer\u001b[0m\u001b[0;34m.\u001b[0m\u001b[0msize\u001b[0m \u001b[0;34m>\u001b[0m \u001b[0;36m1\u001b[0m\u001b[0;34m:\u001b[0m\u001b[0;34m\u001b[0m\u001b[0;34m\u001b[0m\u001b[0m\n",
      "\u001b[0;32mpandas/_libs/index.pyx\u001b[0m in \u001b[0;36mpandas._libs.index.IndexEngine.get_loc\u001b[0;34m()\u001b[0m\n",
      "\u001b[0;32mpandas/_libs/index.pyx\u001b[0m in \u001b[0;36mpandas._libs.index.IndexEngine.get_loc\u001b[0;34m()\u001b[0m\n",
      "\u001b[0;32mpandas/_libs/index_class_helper.pxi\u001b[0m in \u001b[0;36mpandas._libs.index.Int64Engine._check_type\u001b[0;34m()\u001b[0m\n",
      "\u001b[0;31mKeyError\u001b[0m: 'Nebraska'"
     ]
    }
   ],
   "source": [
    "df.loc[\"Nebraska\"]"
   ]
  },
  {
   "cell_type": "code",
   "execution_count": 229,
   "metadata": {},
   "outputs": [
    {
     "ename": "TypeError",
     "evalue": "cannot do slice indexing on <class 'pandas.core.indexes.range.RangeIndex'> with these indexers [Nebraska] of <class 'str'>",
     "output_type": "error",
     "traceback": [
      "\u001b[0;31m---------------------------------------------------------------------------\u001b[0m",
      "\u001b[0;31mTypeError\u001b[0m                                 Traceback (most recent call last)",
      "\u001b[0;32m<ipython-input-229-a1a7c783bac9>\u001b[0m in \u001b[0;36m<module>\u001b[0;34m\u001b[0m\n\u001b[0;32m----> 1\u001b[0;31m \u001b[0mdf\u001b[0m\u001b[0;34m[\u001b[0m\u001b[0;34m'Nebraska'\u001b[0m\u001b[0;34m:\u001b[0m\u001b[0;34m'Capital'\u001b[0m\u001b[0;34m]\u001b[0m\u001b[0;34m\u001b[0m\u001b[0;34m\u001b[0m\u001b[0m\n\u001b[0m",
      "\u001b[0;32m/miniconda3/lib/python3.7/site-packages/pandas/core/frame.py\u001b[0m in \u001b[0;36m__getitem__\u001b[0;34m(self, key)\u001b[0m\n\u001b[1;32m   2906\u001b[0m \u001b[0;34m\u001b[0m\u001b[0m\n\u001b[1;32m   2907\u001b[0m         \u001b[0;31m# Do we have a slicer (on rows)?\u001b[0m\u001b[0;34m\u001b[0m\u001b[0;34m\u001b[0m\u001b[0;34m\u001b[0m\u001b[0m\n\u001b[0;32m-> 2908\u001b[0;31m         \u001b[0mindexer\u001b[0m \u001b[0;34m=\u001b[0m \u001b[0mconvert_to_index_sliceable\u001b[0m\u001b[0;34m(\u001b[0m\u001b[0mself\u001b[0m\u001b[0;34m,\u001b[0m \u001b[0mkey\u001b[0m\u001b[0;34m)\u001b[0m\u001b[0;34m\u001b[0m\u001b[0;34m\u001b[0m\u001b[0m\n\u001b[0m\u001b[1;32m   2909\u001b[0m         \u001b[0;32mif\u001b[0m \u001b[0mindexer\u001b[0m \u001b[0;32mis\u001b[0m \u001b[0;32mnot\u001b[0m \u001b[0;32mNone\u001b[0m\u001b[0;34m:\u001b[0m\u001b[0;34m\u001b[0m\u001b[0;34m\u001b[0m\u001b[0m\n\u001b[1;32m   2910\u001b[0m             \u001b[0;32mreturn\u001b[0m \u001b[0mself\u001b[0m\u001b[0;34m.\u001b[0m\u001b[0m_slice\u001b[0m\u001b[0;34m(\u001b[0m\u001b[0mindexer\u001b[0m\u001b[0;34m,\u001b[0m \u001b[0maxis\u001b[0m\u001b[0;34m=\u001b[0m\u001b[0;36m0\u001b[0m\u001b[0;34m)\u001b[0m\u001b[0;34m\u001b[0m\u001b[0;34m\u001b[0m\u001b[0m\n",
      "\u001b[0;32m/miniconda3/lib/python3.7/site-packages/pandas/core/indexing.py\u001b[0m in \u001b[0;36mconvert_to_index_sliceable\u001b[0;34m(obj, key)\u001b[0m\n\u001b[1;32m   2454\u001b[0m     \u001b[0midx\u001b[0m \u001b[0;34m=\u001b[0m \u001b[0mobj\u001b[0m\u001b[0;34m.\u001b[0m\u001b[0mindex\u001b[0m\u001b[0;34m\u001b[0m\u001b[0;34m\u001b[0m\u001b[0m\n\u001b[1;32m   2455\u001b[0m     \u001b[0;32mif\u001b[0m \u001b[0misinstance\u001b[0m\u001b[0;34m(\u001b[0m\u001b[0mkey\u001b[0m\u001b[0;34m,\u001b[0m \u001b[0mslice\u001b[0m\u001b[0;34m)\u001b[0m\u001b[0;34m:\u001b[0m\u001b[0;34m\u001b[0m\u001b[0;34m\u001b[0m\u001b[0m\n\u001b[0;32m-> 2456\u001b[0;31m         \u001b[0;32mreturn\u001b[0m \u001b[0midx\u001b[0m\u001b[0;34m.\u001b[0m\u001b[0m_convert_slice_indexer\u001b[0m\u001b[0;34m(\u001b[0m\u001b[0mkey\u001b[0m\u001b[0;34m,\u001b[0m \u001b[0mkind\u001b[0m\u001b[0;34m=\u001b[0m\u001b[0;34m'getitem'\u001b[0m\u001b[0;34m)\u001b[0m\u001b[0;34m\u001b[0m\u001b[0;34m\u001b[0m\u001b[0m\n\u001b[0m\u001b[1;32m   2457\u001b[0m \u001b[0;34m\u001b[0m\u001b[0m\n\u001b[1;32m   2458\u001b[0m     \u001b[0;32melif\u001b[0m \u001b[0misinstance\u001b[0m\u001b[0;34m(\u001b[0m\u001b[0mkey\u001b[0m\u001b[0;34m,\u001b[0m \u001b[0mcompat\u001b[0m\u001b[0;34m.\u001b[0m\u001b[0mstring_types\u001b[0m\u001b[0;34m)\u001b[0m\u001b[0;34m:\u001b[0m\u001b[0;34m\u001b[0m\u001b[0;34m\u001b[0m\u001b[0m\n",
      "\u001b[0;32m/miniconda3/lib/python3.7/site-packages/pandas/core/indexes/base.py\u001b[0m in \u001b[0;36m_convert_slice_indexer\u001b[0;34m(self, key, kind)\u001b[0m\n\u001b[1;32m   2926\u001b[0m             \"\"\"\n\u001b[1;32m   2927\u001b[0m             \u001b[0;32mif\u001b[0m \u001b[0mself\u001b[0m\u001b[0;34m.\u001b[0m\u001b[0mis_integer\u001b[0m\u001b[0;34m(\u001b[0m\u001b[0;34m)\u001b[0m \u001b[0;32mor\u001b[0m \u001b[0mis_index_slice\u001b[0m\u001b[0;34m:\u001b[0m\u001b[0;34m\u001b[0m\u001b[0;34m\u001b[0m\u001b[0m\n\u001b[0;32m-> 2928\u001b[0;31m                 return slice(self._validate_indexer('slice', key.start, kind),\n\u001b[0m\u001b[1;32m   2929\u001b[0m                              \u001b[0mself\u001b[0m\u001b[0;34m.\u001b[0m\u001b[0m_validate_indexer\u001b[0m\u001b[0;34m(\u001b[0m\u001b[0;34m'slice'\u001b[0m\u001b[0;34m,\u001b[0m \u001b[0mkey\u001b[0m\u001b[0;34m.\u001b[0m\u001b[0mstop\u001b[0m\u001b[0;34m,\u001b[0m \u001b[0mkind\u001b[0m\u001b[0;34m)\u001b[0m\u001b[0;34m,\u001b[0m\u001b[0;34m\u001b[0m\u001b[0;34m\u001b[0m\u001b[0m\n\u001b[1;32m   2930\u001b[0m                              self._validate_indexer('slice', key.step, kind))\n",
      "\u001b[0;32m/miniconda3/lib/python3.7/site-packages/pandas/core/indexes/base.py\u001b[0m in \u001b[0;36m_validate_indexer\u001b[0;34m(self, form, key, kind)\u001b[0m\n\u001b[1;32m   4708\u001b[0m             \u001b[0;32mpass\u001b[0m\u001b[0;34m\u001b[0m\u001b[0;34m\u001b[0m\u001b[0m\n\u001b[1;32m   4709\u001b[0m         \u001b[0;32melif\u001b[0m \u001b[0mkind\u001b[0m \u001b[0;32min\u001b[0m \u001b[0;34m[\u001b[0m\u001b[0;34m'iloc'\u001b[0m\u001b[0;34m,\u001b[0m \u001b[0;34m'getitem'\u001b[0m\u001b[0;34m]\u001b[0m\u001b[0;34m:\u001b[0m\u001b[0;34m\u001b[0m\u001b[0;34m\u001b[0m\u001b[0m\n\u001b[0;32m-> 4710\u001b[0;31m             \u001b[0mself\u001b[0m\u001b[0;34m.\u001b[0m\u001b[0m_invalid_indexer\u001b[0m\u001b[0;34m(\u001b[0m\u001b[0mform\u001b[0m\u001b[0;34m,\u001b[0m \u001b[0mkey\u001b[0m\u001b[0;34m)\u001b[0m\u001b[0;34m\u001b[0m\u001b[0;34m\u001b[0m\u001b[0m\n\u001b[0m\u001b[1;32m   4711\u001b[0m         \u001b[0;32mreturn\u001b[0m \u001b[0mkey\u001b[0m\u001b[0;34m\u001b[0m\u001b[0;34m\u001b[0m\u001b[0m\n\u001b[1;32m   4712\u001b[0m \u001b[0;34m\u001b[0m\u001b[0m\n",
      "\u001b[0;32m/miniconda3/lib/python3.7/site-packages/pandas/core/indexes/base.py\u001b[0m in \u001b[0;36m_invalid_indexer\u001b[0;34m(self, form, key)\u001b[0m\n\u001b[1;32m   3065\u001b[0m                         \"indexers [{key}] of {kind}\".format(\n\u001b[1;32m   3066\u001b[0m                             \u001b[0mform\u001b[0m\u001b[0;34m=\u001b[0m\u001b[0mform\u001b[0m\u001b[0;34m,\u001b[0m \u001b[0mklass\u001b[0m\u001b[0;34m=\u001b[0m\u001b[0mtype\u001b[0m\u001b[0;34m(\u001b[0m\u001b[0mself\u001b[0m\u001b[0;34m)\u001b[0m\u001b[0;34m,\u001b[0m \u001b[0mkey\u001b[0m\u001b[0;34m=\u001b[0m\u001b[0mkey\u001b[0m\u001b[0;34m,\u001b[0m\u001b[0;34m\u001b[0m\u001b[0;34m\u001b[0m\u001b[0m\n\u001b[0;32m-> 3067\u001b[0;31m                             kind=type(key)))\n\u001b[0m\u001b[1;32m   3068\u001b[0m \u001b[0;34m\u001b[0m\u001b[0m\n\u001b[1;32m   3069\u001b[0m     \u001b[0;31m# --------------------------------------------------------------------\u001b[0m\u001b[0;34m\u001b[0m\u001b[0;34m\u001b[0m\u001b[0;34m\u001b[0m\u001b[0m\n",
      "\u001b[0;31mTypeError\u001b[0m: cannot do slice indexing on <class 'pandas.core.indexes.range.RangeIndex'> with these indexers [Nebraska] of <class 'str'>"
     ]
    }
   ],
   "source": [
    "df['Nebraska':'Capital']"
   ]
  },
  {
   "cell_type": "code",
   "execution_count": 233,
   "metadata": {},
   "outputs": [
    {
     "data": {
      "text/html": [
       "<div>\n",
       "<style scoped>\n",
       "    .dataframe tbody tr th:only-of-type {\n",
       "        vertical-align: middle;\n",
       "    }\n",
       "\n",
       "    .dataframe tbody tr th {\n",
       "        vertical-align: top;\n",
       "    }\n",
       "\n",
       "    .dataframe thead th {\n",
       "        text-align: right;\n",
       "    }\n",
       "</style>\n",
       "<table border=\"1\" class=\"dataframe\">\n",
       "  <thead>\n",
       "    <tr style=\"text-align: right;\">\n",
       "      <th></th>\n",
       "      <th>Capital</th>\n",
       "      <th>Largest City</th>\n",
       "      <th>Bird</th>\n",
       "      <th>Flower</th>\n",
       "    </tr>\n",
       "    <tr>\n",
       "      <th>State</th>\n",
       "      <th></th>\n",
       "      <th></th>\n",
       "      <th></th>\n",
       "      <th></th>\n",
       "    </tr>\n",
       "  </thead>\n",
       "  <tbody>\n",
       "    <tr>\n",
       "      <th>Alabama</th>\n",
       "      <td>Montgomery</td>\n",
       "      <td>Birmingham</td>\n",
       "      <td>Yellowhammer</td>\n",
       "      <td>Camellia</td>\n",
       "    </tr>\n",
       "    <tr>\n",
       "      <th>Alaska</th>\n",
       "      <td>Juneau</td>\n",
       "      <td>Anchorage</td>\n",
       "      <td>Willow Ptarmigan</td>\n",
       "      <td>Forget-me-not</td>\n",
       "    </tr>\n",
       "    <tr>\n",
       "      <th>Arizona</th>\n",
       "      <td>Phoenix</td>\n",
       "      <td>Phoenix</td>\n",
       "      <td>Cactus Wren</td>\n",
       "      <td>Saguaro Cactus Blossom</td>\n",
       "    </tr>\n",
       "    <tr>\n",
       "      <th>Arkansas</th>\n",
       "      <td>Little Rock</td>\n",
       "      <td>Little Rock</td>\n",
       "      <td>Mockingbird</td>\n",
       "      <td>Apple Blossom</td>\n",
       "    </tr>\n",
       "    <tr>\n",
       "      <th>California</th>\n",
       "      <td>Sacramento</td>\n",
       "      <td>Los Angeles</td>\n",
       "      <td>California Valley Quail</td>\n",
       "      <td>Golden Poppy</td>\n",
       "    </tr>\n",
       "    <tr>\n",
       "      <th>Colorado</th>\n",
       "      <td>Denver</td>\n",
       "      <td>Denver</td>\n",
       "      <td>Lark Bunting</td>\n",
       "      <td>Columbine</td>\n",
       "    </tr>\n",
       "    <tr>\n",
       "      <th>Connecticut</th>\n",
       "      <td>Hartford</td>\n",
       "      <td>Bridgeport</td>\n",
       "      <td>American Robin</td>\n",
       "      <td>Mountain Laurel</td>\n",
       "    </tr>\n",
       "    <tr>\n",
       "      <th>Delaware</th>\n",
       "      <td>Dover</td>\n",
       "      <td>Wilmington</td>\n",
       "      <td>Blue Hen Chicken</td>\n",
       "      <td>Peach Blossom</td>\n",
       "    </tr>\n",
       "    <tr>\n",
       "      <th>Florida</th>\n",
       "      <td>Tallahassee</td>\n",
       "      <td>Jacksonville</td>\n",
       "      <td>Mockingbird</td>\n",
       "      <td>Orange Blossom</td>\n",
       "    </tr>\n",
       "    <tr>\n",
       "      <th>Georgia</th>\n",
       "      <td>Atlanta</td>\n",
       "      <td>Atlanta</td>\n",
       "      <td>Brown Thrasher</td>\n",
       "      <td>Cherokee Rose</td>\n",
       "    </tr>\n",
       "    <tr>\n",
       "      <th>Hawaii</th>\n",
       "      <td>Honolulu</td>\n",
       "      <td>Honolulu</td>\n",
       "      <td>Nene (Hawaiian Goose)</td>\n",
       "      <td>Hibiscus</td>\n",
       "    </tr>\n",
       "    <tr>\n",
       "      <th>Idaho</th>\n",
       "      <td>Boise</td>\n",
       "      <td>Boise</td>\n",
       "      <td>Mountain Bluebird</td>\n",
       "      <td>Syringa</td>\n",
       "    </tr>\n",
       "    <tr>\n",
       "      <th>Illinois</th>\n",
       "      <td>Springfield</td>\n",
       "      <td>Chicago</td>\n",
       "      <td>Cardinal</td>\n",
       "      <td>Native violet</td>\n",
       "    </tr>\n",
       "    <tr>\n",
       "      <th>Indiana</th>\n",
       "      <td>Indianapolis</td>\n",
       "      <td>Indianapolis</td>\n",
       "      <td>Cardinal</td>\n",
       "      <td>Peony</td>\n",
       "    </tr>\n",
       "    <tr>\n",
       "      <th>Iowa</th>\n",
       "      <td>Des Moines</td>\n",
       "      <td>Des Moines</td>\n",
       "      <td>Eastern Goldfinch</td>\n",
       "      <td>Wild Rose</td>\n",
       "    </tr>\n",
       "    <tr>\n",
       "      <th>Kansas</th>\n",
       "      <td>Topeka</td>\n",
       "      <td>Wichita</td>\n",
       "      <td>Western Meadowlark</td>\n",
       "      <td>Native Sunflower</td>\n",
       "    </tr>\n",
       "    <tr>\n",
       "      <th>Kentucky</th>\n",
       "      <td>Frankfort</td>\n",
       "      <td>Louisville</td>\n",
       "      <td>Kentucky Cardinal</td>\n",
       "      <td>Goldenrod</td>\n",
       "    </tr>\n",
       "    <tr>\n",
       "      <th>Louisiana</th>\n",
       "      <td>Baton Rouge</td>\n",
       "      <td>New Orleans</td>\n",
       "      <td>Pelican</td>\n",
       "      <td>Magnolia</td>\n",
       "    </tr>\n",
       "    <tr>\n",
       "      <th>Maine</th>\n",
       "      <td>Augusta</td>\n",
       "      <td>Portland</td>\n",
       "      <td>Chickadee</td>\n",
       "      <td>White Pine Cone and Tassel</td>\n",
       "    </tr>\n",
       "    <tr>\n",
       "      <th>Maryland</th>\n",
       "      <td>Annapolis</td>\n",
       "      <td>Baltimore</td>\n",
       "      <td>Baltimore Oriole</td>\n",
       "      <td>Black-Eyed Susan</td>\n",
       "    </tr>\n",
       "    <tr>\n",
       "      <th>Massachusetts</th>\n",
       "      <td>Boston</td>\n",
       "      <td>Boston</td>\n",
       "      <td>Chickadee</td>\n",
       "      <td>Mayflower</td>\n",
       "    </tr>\n",
       "    <tr>\n",
       "      <th>Michigan</th>\n",
       "      <td>Lansing</td>\n",
       "      <td>Detroit</td>\n",
       "      <td>Robin</td>\n",
       "      <td>Apple Blossom</td>\n",
       "    </tr>\n",
       "    <tr>\n",
       "      <th>Minnesota</th>\n",
       "      <td>St. Paul</td>\n",
       "      <td>Minneapolis</td>\n",
       "      <td>Common Loon</td>\n",
       "      <td>Pink and White Lady's Slipper</td>\n",
       "    </tr>\n",
       "    <tr>\n",
       "      <th>Mississippi</th>\n",
       "      <td>Jackson</td>\n",
       "      <td>Jackson</td>\n",
       "      <td>Mockingbird</td>\n",
       "      <td>Magnolia</td>\n",
       "    </tr>\n",
       "    <tr>\n",
       "      <th>Missouri</th>\n",
       "      <td>Jefferson City</td>\n",
       "      <td>Kansas City</td>\n",
       "      <td>Bluebird</td>\n",
       "      <td>Hawthorn</td>\n",
       "    </tr>\n",
       "    <tr>\n",
       "      <th>Montana</th>\n",
       "      <td>Helena</td>\n",
       "      <td>Billings</td>\n",
       "      <td>Western Meadowlark</td>\n",
       "      <td>Bitterroot</td>\n",
       "    </tr>\n",
       "    <tr>\n",
       "      <th>Nebraska</th>\n",
       "      <td>Lincoln</td>\n",
       "      <td>Omaha</td>\n",
       "      <td>Western Meadowlark</td>\n",
       "      <td>Goldenrod</td>\n",
       "    </tr>\n",
       "    <tr>\n",
       "      <th>Nevada</th>\n",
       "      <td>Carson City</td>\n",
       "      <td>Las Vegas</td>\n",
       "      <td>Mountain Bluebird</td>\n",
       "      <td>Sagebrush</td>\n",
       "    </tr>\n",
       "    <tr>\n",
       "      <th>New Hampshire</th>\n",
       "      <td>Concord</td>\n",
       "      <td>Manchester</td>\n",
       "      <td>Purple Finch</td>\n",
       "      <td>Purple Lilac</td>\n",
       "    </tr>\n",
       "    <tr>\n",
       "      <th>New Jersey</th>\n",
       "      <td>Trenton</td>\n",
       "      <td>Newark</td>\n",
       "      <td>Eastern Goldfinch</td>\n",
       "      <td>Purple Violet</td>\n",
       "    </tr>\n",
       "    <tr>\n",
       "      <th>New Mexico</th>\n",
       "      <td>Santa Fe</td>\n",
       "      <td>Albuquerque</td>\n",
       "      <td>Roadrunner</td>\n",
       "      <td>Yucca Flower</td>\n",
       "    </tr>\n",
       "    <tr>\n",
       "      <th>New York</th>\n",
       "      <td>Albany</td>\n",
       "      <td>New York</td>\n",
       "      <td>Bluebird</td>\n",
       "      <td>Rose</td>\n",
       "    </tr>\n",
       "    <tr>\n",
       "      <th>North Carolina</th>\n",
       "      <td>Raleigh</td>\n",
       "      <td>Charlotte</td>\n",
       "      <td>Cardinal</td>\n",
       "      <td>Dogwood</td>\n",
       "    </tr>\n",
       "    <tr>\n",
       "      <th>North Dakota</th>\n",
       "      <td>Bismarck</td>\n",
       "      <td>Fargo</td>\n",
       "      <td>Western Meadowlark</td>\n",
       "      <td>Wild Prairie Rose</td>\n",
       "    </tr>\n",
       "    <tr>\n",
       "      <th>Ohio</th>\n",
       "      <td>Columbus</td>\n",
       "      <td>Columbus</td>\n",
       "      <td>Cardinal</td>\n",
       "      <td>Scarlet Carnation</td>\n",
       "    </tr>\n",
       "    <tr>\n",
       "      <th>Oklahoma</th>\n",
       "      <td>Oklahoma City</td>\n",
       "      <td>Oklahoma City</td>\n",
       "      <td>Scissor-Tailed Flycatcher</td>\n",
       "      <td>Mistletoe</td>\n",
       "    </tr>\n",
       "    <tr>\n",
       "      <th>Oregon</th>\n",
       "      <td>Salem</td>\n",
       "      <td>Portland</td>\n",
       "      <td>Western Meadowlark</td>\n",
       "      <td>Oregon Grape</td>\n",
       "    </tr>\n",
       "    <tr>\n",
       "      <th>Pennsylvania</th>\n",
       "      <td>Harrisburg</td>\n",
       "      <td>Philadelphia</td>\n",
       "      <td>Ruffed Grouse</td>\n",
       "      <td>Mountain Laurel</td>\n",
       "    </tr>\n",
       "    <tr>\n",
       "      <th>Rhode Island</th>\n",
       "      <td>Providence</td>\n",
       "      <td>Providence</td>\n",
       "      <td>Rhode Island Red</td>\n",
       "      <td>Violet</td>\n",
       "    </tr>\n",
       "    <tr>\n",
       "      <th>South Carolina</th>\n",
       "      <td>Columbia</td>\n",
       "      <td>Columbia</td>\n",
       "      <td>Carolina Wren</td>\n",
       "      <td>Yellow Jessamine</td>\n",
       "    </tr>\n",
       "    <tr>\n",
       "      <th>South Dakota</th>\n",
       "      <td>Pierre</td>\n",
       "      <td>Sioux Falls</td>\n",
       "      <td>Ring-Necked Pheasant</td>\n",
       "      <td>American Pasqueflower</td>\n",
       "    </tr>\n",
       "    <tr>\n",
       "      <th>Tennessee</th>\n",
       "      <td>Nashville</td>\n",
       "      <td>Memphis</td>\n",
       "      <td>Mockingbird</td>\n",
       "      <td>Iris</td>\n",
       "    </tr>\n",
       "    <tr>\n",
       "      <th>Texas</th>\n",
       "      <td>Austin</td>\n",
       "      <td>Houston</td>\n",
       "      <td>Mockingbird</td>\n",
       "      <td>Bluebonnet</td>\n",
       "    </tr>\n",
       "    <tr>\n",
       "      <th>Utah</th>\n",
       "      <td>Salt Lake City</td>\n",
       "      <td>Salt Lake City</td>\n",
       "      <td>California Gull</td>\n",
       "      <td>Sego Lily</td>\n",
       "    </tr>\n",
       "    <tr>\n",
       "      <th>Vermont</th>\n",
       "      <td>Montpelier</td>\n",
       "      <td>Burlington</td>\n",
       "      <td>Hermit Thrush</td>\n",
       "      <td>Red Clover</td>\n",
       "    </tr>\n",
       "    <tr>\n",
       "      <th>Virginia</th>\n",
       "      <td>Richmond</td>\n",
       "      <td>Virginia Beach</td>\n",
       "      <td>Cardinal</td>\n",
       "      <td>Dogwood</td>\n",
       "    </tr>\n",
       "    <tr>\n",
       "      <th>Washington</th>\n",
       "      <td>Olympia</td>\n",
       "      <td>Seattle</td>\n",
       "      <td>Willow Goldfinch</td>\n",
       "      <td>Western Rhododendron</td>\n",
       "    </tr>\n",
       "    <tr>\n",
       "      <th>West Virginia</th>\n",
       "      <td>Charleston</td>\n",
       "      <td>Charleston</td>\n",
       "      <td>Cardinal</td>\n",
       "      <td>Big Rhododendron</td>\n",
       "    </tr>\n",
       "    <tr>\n",
       "      <th>Wisconsin</th>\n",
       "      <td>Madison</td>\n",
       "      <td>Milwaukee</td>\n",
       "      <td>Robin</td>\n",
       "      <td>Wood Violet</td>\n",
       "    </tr>\n",
       "    <tr>\n",
       "      <th>Wyoming</th>\n",
       "      <td>Cheyenne</td>\n",
       "      <td>Cheyenne</td>\n",
       "      <td>Meadowlark</td>\n",
       "      <td>Indian Paintbrush</td>\n",
       "    </tr>\n",
       "    <tr>\n",
       "      <th>Washington, D.C.</th>\n",
       "      <td>None</td>\n",
       "      <td>Washington</td>\n",
       "      <td>Woodthrush</td>\n",
       "      <td>American Beauty Rose</td>\n",
       "    </tr>\n",
       "  </tbody>\n",
       "</table>\n",
       "</div>"
      ],
      "text/plain": [
       "                         Capital    Largest City                       Bird  \\\n",
       "State                                                                         \n",
       "Alabama               Montgomery      Birmingham               Yellowhammer   \n",
       "Alaska                    Juneau       Anchorage           Willow Ptarmigan   \n",
       "Arizona                  Phoenix         Phoenix                Cactus Wren   \n",
       "Arkansas             Little Rock     Little Rock                Mockingbird   \n",
       "California            Sacramento     Los Angeles    California Valley Quail   \n",
       "Colorado                  Denver          Denver               Lark Bunting   \n",
       "Connecticut             Hartford      Bridgeport             American Robin   \n",
       "Delaware                   Dover      Wilmington           Blue Hen Chicken   \n",
       "Florida              Tallahassee    Jacksonville                Mockingbird   \n",
       "Georgia                  Atlanta         Atlanta             Brown Thrasher   \n",
       "Hawaii                  Honolulu        Honolulu      Nene (Hawaiian Goose)   \n",
       "Idaho                      Boise           Boise          Mountain Bluebird   \n",
       "Illinois             Springfield         Chicago                   Cardinal   \n",
       "Indiana             Indianapolis    Indianapolis                   Cardinal   \n",
       "Iowa                  Des Moines      Des Moines          Eastern Goldfinch   \n",
       "Kansas                    Topeka         Wichita         Western Meadowlark   \n",
       "Kentucky               Frankfort      Louisville          Kentucky Cardinal   \n",
       "Louisiana            Baton Rouge     New Orleans                    Pelican   \n",
       "Maine                    Augusta        Portland                  Chickadee   \n",
       "Maryland               Annapolis       Baltimore           Baltimore Oriole   \n",
       "Massachusetts             Boston          Boston                  Chickadee   \n",
       "Michigan                 Lansing         Detroit                      Robin   \n",
       "Minnesota               St. Paul     Minneapolis                Common Loon   \n",
       "Mississippi              Jackson         Jackson                Mockingbird   \n",
       "Missouri          Jefferson City     Kansas City                   Bluebird   \n",
       "Montana                   Helena        Billings         Western Meadowlark   \n",
       "Nebraska                 Lincoln           Omaha         Western Meadowlark   \n",
       "Nevada               Carson City       Las Vegas          Mountain Bluebird   \n",
       "New Hampshire            Concord      Manchester               Purple Finch   \n",
       "New Jersey               Trenton          Newark          Eastern Goldfinch   \n",
       "New Mexico              Santa Fe     Albuquerque                 Roadrunner   \n",
       "New York                  Albany        New York                   Bluebird   \n",
       "North Carolina           Raleigh       Charlotte                   Cardinal   \n",
       "North Dakota            Bismarck           Fargo         Western Meadowlark   \n",
       "Ohio                    Columbus        Columbus                   Cardinal   \n",
       "Oklahoma           Oklahoma City   Oklahoma City  Scissor-Tailed Flycatcher   \n",
       "Oregon                     Salem        Portland         Western Meadowlark   \n",
       "Pennsylvania          Harrisburg    Philadelphia              Ruffed Grouse   \n",
       "Rhode Island          Providence      Providence           Rhode Island Red   \n",
       "South Carolina          Columbia        Columbia              Carolina Wren   \n",
       "South Dakota              Pierre     Sioux Falls       Ring-Necked Pheasant   \n",
       "Tennessee              Nashville         Memphis                Mockingbird   \n",
       "Texas                     Austin         Houston                Mockingbird   \n",
       "Utah              Salt Lake City  Salt Lake City            California Gull   \n",
       "Vermont               Montpelier      Burlington              Hermit Thrush   \n",
       "Virginia                Richmond  Virginia Beach                   Cardinal   \n",
       "Washington               Olympia         Seattle           Willow Goldfinch   \n",
       "West Virginia         Charleston      Charleston                   Cardinal   \n",
       "Wisconsin                Madison       Milwaukee                      Robin   \n",
       "Wyoming                 Cheyenne        Cheyenne                 Meadowlark   \n",
       "Washington, D.C.            None      Washington                 Woodthrush   \n",
       "\n",
       "                                         Flower  \n",
       "State                                            \n",
       "Alabama                                Camellia  \n",
       "Alaska                            Forget-me-not  \n",
       "Arizona                  Saguaro Cactus Blossom  \n",
       "Arkansas                          Apple Blossom  \n",
       "California                         Golden Poppy  \n",
       "Colorado                              Columbine  \n",
       "Connecticut                     Mountain Laurel  \n",
       "Delaware                          Peach Blossom  \n",
       "Florida                          Orange Blossom  \n",
       "Georgia                           Cherokee Rose  \n",
       "Hawaii                                 Hibiscus  \n",
       "Idaho                                   Syringa  \n",
       "Illinois                          Native violet  \n",
       "Indiana                                   Peony  \n",
       "Iowa                                  Wild Rose  \n",
       "Kansas                         Native Sunflower  \n",
       "Kentucky                              Goldenrod  \n",
       "Louisiana                              Magnolia  \n",
       "Maine                White Pine Cone and Tassel  \n",
       "Maryland                       Black-Eyed Susan  \n",
       "Massachusetts                         Mayflower  \n",
       "Michigan                          Apple Blossom  \n",
       "Minnesota         Pink and White Lady's Slipper  \n",
       "Mississippi                            Magnolia  \n",
       "Missouri                               Hawthorn  \n",
       "Montana                              Bitterroot  \n",
       "Nebraska                              Goldenrod  \n",
       "Nevada                                Sagebrush  \n",
       "New Hampshire                      Purple Lilac  \n",
       "New Jersey                        Purple Violet  \n",
       "New Mexico                         Yucca Flower  \n",
       "New York                                   Rose  \n",
       "North Carolina                          Dogwood  \n",
       "North Dakota                  Wild Prairie Rose  \n",
       "Ohio                          Scarlet Carnation  \n",
       "Oklahoma                              Mistletoe  \n",
       "Oregon                             Oregon Grape  \n",
       "Pennsylvania                    Mountain Laurel  \n",
       "Rhode Island                             Violet  \n",
       "South Carolina                 Yellow Jessamine  \n",
       "South Dakota              American Pasqueflower  \n",
       "Tennessee                                  Iris  \n",
       "Texas                                Bluebonnet  \n",
       "Utah                                  Sego Lily  \n",
       "Vermont                              Red Clover  \n",
       "Virginia                                Dogwood  \n",
       "Washington                 Western Rhododendron  \n",
       "West Virginia                  Big Rhododendron  \n",
       "Wisconsin                           Wood Violet  \n",
       "Wyoming                       Indian Paintbrush  \n",
       "Washington, D.C.           American Beauty Rose  "
      ]
     },
     "execution_count": 233,
     "metadata": {},
     "output_type": "execute_result"
    }
   ],
   "source": [
    "import pandas as pd\n",
    "df = pd.DataFrame(data[1:], columns=data[0])\n",
    "df = df.set_index(\"State\")\n",
    "df"
   ]
  },
  {
   "cell_type": "code",
   "execution_count": 236,
   "metadata": {},
   "outputs": [
    {
     "ename": "NameError",
     "evalue": "name 'State' is not defined",
     "output_type": "error",
     "traceback": [
      "\u001b[0;31m---------------------------------------------------------------------------\u001b[0m",
      "\u001b[0;31mNameError\u001b[0m                                 Traceback (most recent call last)",
      "\u001b[0;32m<ipython-input-236-9bf5bd70dfd9>\u001b[0m in \u001b[0;36m<module>\u001b[0;34m\u001b[0m\n\u001b[0;32m----> 1\u001b[0;31m \u001b[0mdf\u001b[0m\u001b[0;34m[\u001b[0m\u001b[0mState\u001b[0m\u001b[0;34m==\u001b[0m\u001b[0;34m\"Nebraska\"\u001b[0m\u001b[0;34m]\u001b[0m\u001b[0;34m\u001b[0m\u001b[0;34m\u001b[0m\u001b[0m\n\u001b[0m",
      "\u001b[0;31mNameError\u001b[0m: name 'State' is not defined"
     ]
    }
   ],
   "source": [
    "df[State==\"Nebraska\"]"
   ]
  },
  {
   "cell_type": "code",
   "execution_count": 237,
   "metadata": {},
   "outputs": [
    {
     "ename": "KeyError",
     "evalue": "'State'",
     "output_type": "error",
     "traceback": [
      "\u001b[0;31m---------------------------------------------------------------------------\u001b[0m",
      "\u001b[0;31mKeyError\u001b[0m                                  Traceback (most recent call last)",
      "\u001b[0;32m/miniconda3/lib/python3.7/site-packages/pandas/core/indexes/base.py\u001b[0m in \u001b[0;36mget_loc\u001b[0;34m(self, key, method, tolerance)\u001b[0m\n\u001b[1;32m   2656\u001b[0m             \u001b[0;32mtry\u001b[0m\u001b[0;34m:\u001b[0m\u001b[0;34m\u001b[0m\u001b[0;34m\u001b[0m\u001b[0m\n\u001b[0;32m-> 2657\u001b[0;31m                 \u001b[0;32mreturn\u001b[0m \u001b[0mself\u001b[0m\u001b[0;34m.\u001b[0m\u001b[0m_engine\u001b[0m\u001b[0;34m.\u001b[0m\u001b[0mget_loc\u001b[0m\u001b[0;34m(\u001b[0m\u001b[0mkey\u001b[0m\u001b[0;34m)\u001b[0m\u001b[0;34m\u001b[0m\u001b[0;34m\u001b[0m\u001b[0m\n\u001b[0m\u001b[1;32m   2658\u001b[0m             \u001b[0;32mexcept\u001b[0m \u001b[0mKeyError\u001b[0m\u001b[0;34m:\u001b[0m\u001b[0;34m\u001b[0m\u001b[0;34m\u001b[0m\u001b[0m\n",
      "\u001b[0;32mpandas/_libs/index.pyx\u001b[0m in \u001b[0;36mpandas._libs.index.IndexEngine.get_loc\u001b[0;34m()\u001b[0m\n",
      "\u001b[0;32mpandas/_libs/index.pyx\u001b[0m in \u001b[0;36mpandas._libs.index.IndexEngine.get_loc\u001b[0;34m()\u001b[0m\n",
      "\u001b[0;32mpandas/_libs/hashtable_class_helper.pxi\u001b[0m in \u001b[0;36mpandas._libs.hashtable.PyObjectHashTable.get_item\u001b[0;34m()\u001b[0m\n",
      "\u001b[0;32mpandas/_libs/hashtable_class_helper.pxi\u001b[0m in \u001b[0;36mpandas._libs.hashtable.PyObjectHashTable.get_item\u001b[0;34m()\u001b[0m\n",
      "\u001b[0;31mKeyError\u001b[0m: 'State'",
      "\nDuring handling of the above exception, another exception occurred:\n",
      "\u001b[0;31mKeyError\u001b[0m                                  Traceback (most recent call last)",
      "\u001b[0;32m<ipython-input-237-88de5d7f4b86>\u001b[0m in \u001b[0;36m<module>\u001b[0;34m\u001b[0m\n\u001b[0;32m----> 1\u001b[0;31m \u001b[0mdf\u001b[0m\u001b[0;34m[\u001b[0m\u001b[0;34m\"State\"\u001b[0m\u001b[0;34m]\u001b[0m\u001b[0;34m\u001b[0m\u001b[0;34m\u001b[0m\u001b[0m\n\u001b[0m",
      "\u001b[0;32m/miniconda3/lib/python3.7/site-packages/pandas/core/frame.py\u001b[0m in \u001b[0;36m__getitem__\u001b[0;34m(self, key)\u001b[0m\n\u001b[1;32m   2925\u001b[0m             \u001b[0;32mif\u001b[0m \u001b[0mself\u001b[0m\u001b[0;34m.\u001b[0m\u001b[0mcolumns\u001b[0m\u001b[0;34m.\u001b[0m\u001b[0mnlevels\u001b[0m \u001b[0;34m>\u001b[0m \u001b[0;36m1\u001b[0m\u001b[0;34m:\u001b[0m\u001b[0;34m\u001b[0m\u001b[0;34m\u001b[0m\u001b[0m\n\u001b[1;32m   2926\u001b[0m                 \u001b[0;32mreturn\u001b[0m \u001b[0mself\u001b[0m\u001b[0;34m.\u001b[0m\u001b[0m_getitem_multilevel\u001b[0m\u001b[0;34m(\u001b[0m\u001b[0mkey\u001b[0m\u001b[0;34m)\u001b[0m\u001b[0;34m\u001b[0m\u001b[0;34m\u001b[0m\u001b[0m\n\u001b[0;32m-> 2927\u001b[0;31m             \u001b[0mindexer\u001b[0m \u001b[0;34m=\u001b[0m \u001b[0mself\u001b[0m\u001b[0;34m.\u001b[0m\u001b[0mcolumns\u001b[0m\u001b[0;34m.\u001b[0m\u001b[0mget_loc\u001b[0m\u001b[0;34m(\u001b[0m\u001b[0mkey\u001b[0m\u001b[0;34m)\u001b[0m\u001b[0;34m\u001b[0m\u001b[0;34m\u001b[0m\u001b[0m\n\u001b[0m\u001b[1;32m   2928\u001b[0m             \u001b[0;32mif\u001b[0m \u001b[0mis_integer\u001b[0m\u001b[0;34m(\u001b[0m\u001b[0mindexer\u001b[0m\u001b[0;34m)\u001b[0m\u001b[0;34m:\u001b[0m\u001b[0;34m\u001b[0m\u001b[0;34m\u001b[0m\u001b[0m\n\u001b[1;32m   2929\u001b[0m                 \u001b[0mindexer\u001b[0m \u001b[0;34m=\u001b[0m \u001b[0;34m[\u001b[0m\u001b[0mindexer\u001b[0m\u001b[0;34m]\u001b[0m\u001b[0;34m\u001b[0m\u001b[0;34m\u001b[0m\u001b[0m\n",
      "\u001b[0;32m/miniconda3/lib/python3.7/site-packages/pandas/core/indexes/base.py\u001b[0m in \u001b[0;36mget_loc\u001b[0;34m(self, key, method, tolerance)\u001b[0m\n\u001b[1;32m   2657\u001b[0m                 \u001b[0;32mreturn\u001b[0m \u001b[0mself\u001b[0m\u001b[0;34m.\u001b[0m\u001b[0m_engine\u001b[0m\u001b[0;34m.\u001b[0m\u001b[0mget_loc\u001b[0m\u001b[0;34m(\u001b[0m\u001b[0mkey\u001b[0m\u001b[0;34m)\u001b[0m\u001b[0;34m\u001b[0m\u001b[0;34m\u001b[0m\u001b[0m\n\u001b[1;32m   2658\u001b[0m             \u001b[0;32mexcept\u001b[0m \u001b[0mKeyError\u001b[0m\u001b[0;34m:\u001b[0m\u001b[0;34m\u001b[0m\u001b[0;34m\u001b[0m\u001b[0m\n\u001b[0;32m-> 2659\u001b[0;31m                 \u001b[0;32mreturn\u001b[0m \u001b[0mself\u001b[0m\u001b[0;34m.\u001b[0m\u001b[0m_engine\u001b[0m\u001b[0;34m.\u001b[0m\u001b[0mget_loc\u001b[0m\u001b[0;34m(\u001b[0m\u001b[0mself\u001b[0m\u001b[0;34m.\u001b[0m\u001b[0m_maybe_cast_indexer\u001b[0m\u001b[0;34m(\u001b[0m\u001b[0mkey\u001b[0m\u001b[0;34m)\u001b[0m\u001b[0;34m)\u001b[0m\u001b[0;34m\u001b[0m\u001b[0;34m\u001b[0m\u001b[0m\n\u001b[0m\u001b[1;32m   2660\u001b[0m         \u001b[0mindexer\u001b[0m \u001b[0;34m=\u001b[0m \u001b[0mself\u001b[0m\u001b[0;34m.\u001b[0m\u001b[0mget_indexer\u001b[0m\u001b[0;34m(\u001b[0m\u001b[0;34m[\u001b[0m\u001b[0mkey\u001b[0m\u001b[0;34m]\u001b[0m\u001b[0;34m,\u001b[0m \u001b[0mmethod\u001b[0m\u001b[0;34m=\u001b[0m\u001b[0mmethod\u001b[0m\u001b[0;34m,\u001b[0m \u001b[0mtolerance\u001b[0m\u001b[0;34m=\u001b[0m\u001b[0mtolerance\u001b[0m\u001b[0;34m)\u001b[0m\u001b[0;34m\u001b[0m\u001b[0;34m\u001b[0m\u001b[0m\n\u001b[1;32m   2661\u001b[0m         \u001b[0;32mif\u001b[0m \u001b[0mindexer\u001b[0m\u001b[0;34m.\u001b[0m\u001b[0mndim\u001b[0m \u001b[0;34m>\u001b[0m \u001b[0;36m1\u001b[0m \u001b[0;32mor\u001b[0m \u001b[0mindexer\u001b[0m\u001b[0;34m.\u001b[0m\u001b[0msize\u001b[0m \u001b[0;34m>\u001b[0m \u001b[0;36m1\u001b[0m\u001b[0;34m:\u001b[0m\u001b[0;34m\u001b[0m\u001b[0;34m\u001b[0m\u001b[0m\n",
      "\u001b[0;32mpandas/_libs/index.pyx\u001b[0m in \u001b[0;36mpandas._libs.index.IndexEngine.get_loc\u001b[0;34m()\u001b[0m\n",
      "\u001b[0;32mpandas/_libs/index.pyx\u001b[0m in \u001b[0;36mpandas._libs.index.IndexEngine.get_loc\u001b[0;34m()\u001b[0m\n",
      "\u001b[0;32mpandas/_libs/hashtable_class_helper.pxi\u001b[0m in \u001b[0;36mpandas._libs.hashtable.PyObjectHashTable.get_item\u001b[0;34m()\u001b[0m\n",
      "\u001b[0;32mpandas/_libs/hashtable_class_helper.pxi\u001b[0m in \u001b[0;36mpandas._libs.hashtable.PyObjectHashTable.get_item\u001b[0;34m()\u001b[0m\n",
      "\u001b[0;31mKeyError\u001b[0m: 'State'"
     ]
    }
   ],
   "source": [
    "df[\"State\"]"
   ]
  },
  {
   "cell_type": "code",
   "execution_count": 238,
   "metadata": {},
   "outputs": [
    {
     "ename": "TypeError",
     "evalue": "__call__() takes from 1 to 2 positional arguments but 3 were given",
     "output_type": "error",
     "traceback": [
      "\u001b[0;31m---------------------------------------------------------------------------\u001b[0m",
      "\u001b[0;31mTypeError\u001b[0m                                 Traceback (most recent call last)",
      "\u001b[0;32m<ipython-input-238-afd7936c6534>\u001b[0m in \u001b[0;36m<module>\u001b[0;34m\u001b[0m\n\u001b[0;32m----> 1\u001b[0;31m \u001b[0mdf\u001b[0m\u001b[0;34m.\u001b[0m\u001b[0mloc\u001b[0m\u001b[0;34m(\u001b[0m\u001b[0;34m\"Nebraska\"\u001b[0m\u001b[0;34m,\u001b[0m\u001b[0;34m\"Capital\"\u001b[0m\u001b[0;34m)\u001b[0m\u001b[0;34m\u001b[0m\u001b[0;34m\u001b[0m\u001b[0m\n\u001b[0m",
      "\u001b[0;31mTypeError\u001b[0m: __call__() takes from 1 to 2 positional arguments but 3 were given"
     ]
    }
   ],
   "source": [
    "df.loc(\"Nebraska\",\"Capital\")"
   ]
  },
  {
   "cell_type": "code",
   "execution_count": 239,
   "metadata": {},
   "outputs": [
    {
     "data": {
      "text/plain": [
       "'Lincoln'"
      ]
     },
     "execution_count": 239,
     "metadata": {},
     "output_type": "execute_result"
    }
   ],
   "source": [
    "df.loc[\"Nebraska\",\"Capital\"]"
   ]
  },
  {
   "cell_type": "code",
   "execution_count": 259,
   "metadata": {},
   "outputs": [
    {
     "data": {
      "text/html": [
       "<div>\n",
       "<style scoped>\n",
       "    .dataframe tbody tr th:only-of-type {\n",
       "        vertical-align: middle;\n",
       "    }\n",
       "\n",
       "    .dataframe tbody tr th {\n",
       "        vertical-align: top;\n",
       "    }\n",
       "\n",
       "    .dataframe thead th {\n",
       "        text-align: right;\n",
       "    }\n",
       "</style>\n",
       "<table border=\"1\" class=\"dataframe\">\n",
       "  <thead>\n",
       "    <tr style=\"text-align: right;\">\n",
       "      <th></th>\n",
       "      <th>Bird</th>\n",
       "      <th>Flower</th>\n",
       "    </tr>\n",
       "    <tr>\n",
       "      <th>State</th>\n",
       "      <th></th>\n",
       "      <th></th>\n",
       "    </tr>\n",
       "  </thead>\n",
       "  <tbody>\n",
       "    <tr>\n",
       "      <th>Arizona</th>\n",
       "      <td>Cactus Wren</td>\n",
       "      <td>Saguaro Cactus Blossom</td>\n",
       "    </tr>\n",
       "    <tr>\n",
       "      <th>Colorado</th>\n",
       "      <td>Lark Bunting</td>\n",
       "      <td>Columbine</td>\n",
       "    </tr>\n",
       "    <tr>\n",
       "      <th>New Mexico</th>\n",
       "      <td>Roadrunner</td>\n",
       "      <td>Yucca Flower</td>\n",
       "    </tr>\n",
       "    <tr>\n",
       "      <th>Utah</th>\n",
       "      <td>California Gull</td>\n",
       "      <td>Sego Lily</td>\n",
       "    </tr>\n",
       "  </tbody>\n",
       "</table>\n",
       "</div>"
      ],
      "text/plain": [
       "                       Bird                  Flower\n",
       "State                                              \n",
       "Arizona         Cactus Wren  Saguaro Cactus Blossom\n",
       "Colorado       Lark Bunting               Columbine\n",
       "New Mexico       Roadrunner            Yucca Flower\n",
       "Utah        California Gull               Sego Lily"
      ]
     },
     "execution_count": 259,
     "metadata": {},
     "output_type": "execute_result"
    }
   ],
   "source": [
    "four_corners= df.loc[[\"Arizona\",\"Colorado\",\"New Mexico\",\"Utah\"],[\"Bird\",\"Flower\"]]\n",
    "four_corners"
   ]
  },
  {
   "cell_type": "code",
   "execution_count": 261,
   "metadata": {},
   "outputs": [
    {
     "data": {
      "text/html": [
       "<div>\n",
       "<style scoped>\n",
       "    .dataframe tbody tr th:only-of-type {\n",
       "        vertical-align: middle;\n",
       "    }\n",
       "\n",
       "    .dataframe tbody tr th {\n",
       "        vertical-align: top;\n",
       "    }\n",
       "\n",
       "    .dataframe thead th {\n",
       "        text-align: right;\n",
       "    }\n",
       "</style>\n",
       "<table border=\"1\" class=\"dataframe\">\n",
       "  <thead>\n",
       "    <tr style=\"text-align: right;\">\n",
       "      <th></th>\n",
       "      <th>Bird</th>\n",
       "      <th>Flower</th>\n",
       "    </tr>\n",
       "    <tr>\n",
       "      <th>State</th>\n",
       "      <th></th>\n",
       "      <th></th>\n",
       "    </tr>\n",
       "  </thead>\n",
       "  <tbody>\n",
       "    <tr>\n",
       "      <th>Arizona</th>\n",
       "      <td>Cactus Wren</td>\n",
       "      <td>Saguaro Cactus Blossom</td>\n",
       "    </tr>\n",
       "    <tr>\n",
       "      <th>Colorado</th>\n",
       "      <td>Lark Bunting</td>\n",
       "      <td>Columbine</td>\n",
       "    </tr>\n",
       "    <tr>\n",
       "      <th>New Mexico</th>\n",
       "      <td>Roadrunner</td>\n",
       "      <td>Ocotillo</td>\n",
       "    </tr>\n",
       "    <tr>\n",
       "      <th>Utah</th>\n",
       "      <td>California Gull</td>\n",
       "      <td>Sego Lily</td>\n",
       "    </tr>\n",
       "  </tbody>\n",
       "</table>\n",
       "</div>"
      ],
      "text/plain": [
       "                       Bird                  Flower\n",
       "State                                              \n",
       "Arizona         Cactus Wren  Saguaro Cactus Blossom\n",
       "Colorado       Lark Bunting               Columbine\n",
       "New Mexico       Roadrunner                Ocotillo\n",
       "Utah        California Gull               Sego Lily"
      ]
     },
     "execution_count": 261,
     "metadata": {},
     "output_type": "execute_result"
    }
   ],
   "source": [
    "four_corners.loc[\"New Mexico\",\"Flower\"] = \"Ocotillo\"\n",
    "four_corners"
   ]
  },
  {
   "cell_type": "code",
   "execution_count": 262,
   "metadata": {},
   "outputs": [
    {
     "data": {
      "text/html": [
       "<div>\n",
       "<style scoped>\n",
       "    .dataframe tbody tr th:only-of-type {\n",
       "        vertical-align: middle;\n",
       "    }\n",
       "\n",
       "    .dataframe tbody tr th {\n",
       "        vertical-align: top;\n",
       "    }\n",
       "\n",
       "    .dataframe thead th {\n",
       "        text-align: right;\n",
       "    }\n",
       "</style>\n",
       "<table border=\"1\" class=\"dataframe\">\n",
       "  <thead>\n",
       "    <tr style=\"text-align: right;\">\n",
       "      <th></th>\n",
       "      <th>Bird</th>\n",
       "      <th>Flower</th>\n",
       "    </tr>\n",
       "    <tr>\n",
       "      <th>State</th>\n",
       "      <th></th>\n",
       "      <th></th>\n",
       "    </tr>\n",
       "  </thead>\n",
       "  <tbody>\n",
       "    <tr>\n",
       "      <th>Arizona</th>\n",
       "      <td>Cactus Wren</td>\n",
       "      <td>Saguaro Cactus Blossom</td>\n",
       "    </tr>\n",
       "    <tr>\n",
       "      <th>Colorado</th>\n",
       "      <td>Lark Bunting</td>\n",
       "      <td>Columbine</td>\n",
       "    </tr>\n",
       "    <tr>\n",
       "      <th>New Mexico</th>\n",
       "      <td>Roadrunner</td>\n",
       "      <td>Yucca Flower</td>\n",
       "    </tr>\n",
       "    <tr>\n",
       "      <th>Utah</th>\n",
       "      <td>California Gull</td>\n",
       "      <td>Sego Lily</td>\n",
       "    </tr>\n",
       "  </tbody>\n",
       "</table>\n",
       "</div>"
      ],
      "text/plain": [
       "                       Bird                  Flower\n",
       "State                                              \n",
       "Arizona         Cactus Wren  Saguaro Cactus Blossom\n",
       "Colorado       Lark Bunting               Columbine\n",
       "New Mexico       Roadrunner            Yucca Flower\n",
       "Utah        California Gull               Sego Lily"
      ]
     },
     "execution_count": 262,
     "metadata": {},
     "output_type": "execute_result"
    }
   ],
   "source": [
    "four_corners.loc[\"New Mexico\",\"Flower\"] = \"Yucca Flower\"\n",
    "four_corners"
   ]
  },
  {
   "cell_type": "code",
   "execution_count": 269,
   "metadata": {},
   "outputs": [
    {
     "data": {
      "text/plain": [
       "'Chicken'"
      ]
     },
     "execution_count": 269,
     "metadata": {},
     "output_type": "execute_result"
    }
   ],
   "source": [
    "df.loc[\"Delaware\",\"Bird\"].split()[-1]"
   ]
  },
  {
   "cell_type": "code",
   "execution_count": 271,
   "metadata": {},
   "outputs": [
    {
     "data": {
      "text/plain": [
       "'toe'"
      ]
     },
     "execution_count": 271,
     "metadata": {},
     "output_type": "execute_result"
    }
   ],
   "source": [
    "df.loc[\"Oklahoma\",\"Flower\"][-3:]"
   ]
  },
  {
   "cell_type": "code",
   "execution_count": 272,
   "metadata": {},
   "outputs": [],
   "source": [
    "numbers = [[15, 13, 11, 15, 10, 18,  3],\n",
    "       [19, 12,  5, 16,  7,  3, 15],\n",
    "       [15, 10,  1,  0,  9,  0,  8],\n",
    "       [ 0,  7, 11, 14,  8,  5, 17],\n",
    "       [ 5,  4,  9,  0, 16,  9, 15],\n",
    "       [12, 13,  7, 13, 11, 12,  7],\n",
    "       [ 4,  3,  1,  9, 18, 18,  6],\n",
    "       [ 7,  1, 13,  0,  9,  2,  0],\n",
    "       [ 8, 18,  9, 15,  5,  9, 15],\n",
    "       [ 0, 14, 17,  8, 10,  7,  0],\n",
    "       [12,  4,  7,  3,  0,  9, 11],\n",
    "       [ 3,  8, 19,  8,  8, 19,  3],\n",
    "       [13, 12,  8,  2,  4,  6, 18],\n",
    "       [16, 15,  8,  4, 11, 18, 12],\n",
    "       [10, 18,  3, 18,  4, 13,  8],\n",
    "       [17,  4, 17,  1, 11, 12, 11],\n",
    "       [ 7, 11, 14, 11,  4, 14, 18],\n",
    "       [ 6, 10,  4,  9,  6, 19, 16],\n",
    "       [16, 13,  0, 19, 18, 19, 17],\n",
    "       [ 1, 11,  0, 12, 12,  8,  1],\n",
    "       [11,  3, 14,  9,  6,  0, 19],\n",
    "       [14, 14, 15, 19, 12,  9,  3],\n",
    "       [14,  1,  7,  5,  1, 18, 18],\n",
    "       [18,  5, 16, 18, 14,  6, 16]]"
   ]
  },
  {
   "cell_type": "code",
   "execution_count": 273,
   "metadata": {},
   "outputs": [
    {
     "data": {
      "text/plain": [
       "[[15, 13, 11, 15, 10, 18, 3],\n",
       " [19, 12, 5, 16, 7, 3, 15],\n",
       " [15, 10, 1, 0, 9, 0, 8],\n",
       " [0, 7, 11, 14, 8, 5, 17],\n",
       " [5, 4, 9, 0, 16, 9, 15],\n",
       " [12, 13, 7, 13, 11, 12, 7],\n",
       " [4, 3, 1, 9, 18, 18, 6],\n",
       " [7, 1, 13, 0, 9, 2, 0],\n",
       " [8, 18, 9, 15, 5, 9, 15],\n",
       " [0, 14, 17, 8, 10, 7, 0],\n",
       " [12, 4, 7, 3, 0, 9, 11],\n",
       " [3, 8, 19, 8, 8, 19, 3],\n",
       " [13, 12, 8, 2, 4, 6, 18],\n",
       " [16, 15, 8, 4, 11, 18, 12],\n",
       " [10, 18, 3, 18, 4, 13, 8],\n",
       " [17, 4, 17, 1, 11, 12, 11],\n",
       " [7, 11, 14, 11, 4, 14, 18],\n",
       " [6, 10, 4, 9, 6, 19, 16],\n",
       " [16, 13, 0, 19, 18, 19, 17],\n",
       " [1, 11, 0, 12, 12, 8, 1],\n",
       " [11, 3, 14, 9, 6, 0, 19],\n",
       " [14, 14, 15, 19, 12, 9, 3],\n",
       " [14, 1, 7, 5, 1, 18, 18],\n",
       " [18, 5, 16, 18, 14, 6, 16]]"
      ]
     },
     "execution_count": 273,
     "metadata": {},
     "output_type": "execute_result"
    }
   ],
   "source": [
    "numbers\n"
   ]
  },
  {
   "cell_type": "code",
   "execution_count": 278,
   "metadata": {},
   "outputs": [],
   "source": [
    "mylist= [8, 3, 10, 2]"
   ]
  },
  {
   "cell_type": "code",
   "execution_count": 283,
   "metadata": {},
   "outputs": [],
   "source": [
    "mylist.sort()"
   ]
  },
  {
   "cell_type": "code",
   "execution_count": 284,
   "metadata": {},
   "outputs": [
    {
     "data": {
      "text/plain": [
       "[2, 3, 8, 10]"
      ]
     },
     "execution_count": 284,
     "metadata": {},
     "output_type": "execute_result"
    }
   ],
   "source": [
    "mylist"
   ]
  },
  {
   "cell_type": "code",
   "execution_count": 285,
   "metadata": {},
   "outputs": [
    {
     "data": {
      "text/plain": [
       "[2, 3, 8, 10]"
      ]
     },
     "execution_count": 285,
     "metadata": {},
     "output_type": "execute_result"
    }
   ],
   "source": [
    "sorted(mylist)"
   ]
  },
  {
   "cell_type": "code",
   "execution_count": 286,
   "metadata": {},
   "outputs": [
    {
     "data": {
      "text/plain": [
       "[2, 3, 8, 10]"
      ]
     },
     "execution_count": 286,
     "metadata": {},
     "output_type": "execute_result"
    }
   ],
   "source": [
    "sorted([8, 3, 10, 2])"
   ]
  },
  {
   "cell_type": "code",
   "execution_count": 287,
   "metadata": {},
   "outputs": [],
   "source": [
    "names =  [\"Aaron\", \"Zoe\", \"Leonard\", \"Josephine\", \"Sebastian\"] \n"
   ]
  },
  {
   "cell_type": "code",
   "execution_count": 288,
   "metadata": {},
   "outputs": [],
   "source": [
    "names.sort()\n"
   ]
  },
  {
   "cell_type": "code",
   "execution_count": 289,
   "metadata": {},
   "outputs": [
    {
     "data": {
      "text/plain": [
       "['Aaron', 'Josephine', 'Leonard', 'Sebastian', 'Zoe']"
      ]
     },
     "execution_count": 289,
     "metadata": {},
     "output_type": "execute_result"
    }
   ],
   "source": [
    "names"
   ]
  },
  {
   "cell_type": "code",
   "execution_count": 290,
   "metadata": {},
   "outputs": [],
   "source": [
    "people_data = [['Tommy Savage', '408-724-0140', 'Sunnyvale, CA 94087', '5/19/16', 68400], \n",
    "               ['Lesle Kerstin', '408-456-1234', 'Boston, MA 02133', '4/22/12', 105200], \n",
    "               ['JonDeLoach', '408-253-3122', 'San Jose, CA 94086', '7/25/03', 170200], \n",
    "               ['Ephram Hardy', '293-259-5395', 'Joliet, IL 73858', '8/12/70', 113400], \n",
    "               ['Betty Boop', '245-836-2837', 'Milton, PA 93756', '9/21/96', 87000], \n",
    "               ['Wilhelm Kopf', '846-836-2837', 'Milton, PA 93756', '9/21/96', 87000], \n",
    "               ['Norma Corder', '397-857-2735', 'Dearborn, MI 23874', '3/28/95', 491400], \n",
    "               ['James Ikeda', '834-938-8376', 'Allentown, NJ 83745', '12/1/88', 90000], \n",
    "               ['Lori Gortz', '327-832-5728', 'Peabody, MA 34756', '10/2/02', 70400], \n",
    "               ['Barbara Kerz', '385-573-8326', 'Gary, IN 83756', '12/15/96', 53700]]"
   ]
  },
  {
   "cell_type": "code",
   "execution_count": 291,
   "metadata": {},
   "outputs": [
    {
     "data": {
      "text/html": [
       "<div>\n",
       "<style scoped>\n",
       "    .dataframe tbody tr th:only-of-type {\n",
       "        vertical-align: middle;\n",
       "    }\n",
       "\n",
       "    .dataframe tbody tr th {\n",
       "        vertical-align: top;\n",
       "    }\n",
       "\n",
       "    .dataframe thead th {\n",
       "        text-align: right;\n",
       "    }\n",
       "</style>\n",
       "<table border=\"1\" class=\"dataframe\">\n",
       "  <thead>\n",
       "    <tr style=\"text-align: right;\">\n",
       "      <th></th>\n",
       "      <th>0</th>\n",
       "      <th>1</th>\n",
       "      <th>2</th>\n",
       "      <th>3</th>\n",
       "      <th>4</th>\n",
       "    </tr>\n",
       "  </thead>\n",
       "  <tbody>\n",
       "    <tr>\n",
       "      <th>0</th>\n",
       "      <td>Tommy Savage</td>\n",
       "      <td>408-724-0140</td>\n",
       "      <td>Sunnyvale, CA 94087</td>\n",
       "      <td>5/19/16</td>\n",
       "      <td>68400</td>\n",
       "    </tr>\n",
       "    <tr>\n",
       "      <th>1</th>\n",
       "      <td>Lesle Kerstin</td>\n",
       "      <td>408-456-1234</td>\n",
       "      <td>Boston, MA 02133</td>\n",
       "      <td>4/22/12</td>\n",
       "      <td>105200</td>\n",
       "    </tr>\n",
       "    <tr>\n",
       "      <th>2</th>\n",
       "      <td>JonDeLoach</td>\n",
       "      <td>408-253-3122</td>\n",
       "      <td>San Jose, CA 94086</td>\n",
       "      <td>7/25/03</td>\n",
       "      <td>170200</td>\n",
       "    </tr>\n",
       "    <tr>\n",
       "      <th>3</th>\n",
       "      <td>Ephram Hardy</td>\n",
       "      <td>293-259-5395</td>\n",
       "      <td>Joliet, IL 73858</td>\n",
       "      <td>8/12/70</td>\n",
       "      <td>113400</td>\n",
       "    </tr>\n",
       "    <tr>\n",
       "      <th>4</th>\n",
       "      <td>Betty Boop</td>\n",
       "      <td>245-836-2837</td>\n",
       "      <td>Milton, PA 93756</td>\n",
       "      <td>9/21/96</td>\n",
       "      <td>87000</td>\n",
       "    </tr>\n",
       "    <tr>\n",
       "      <th>5</th>\n",
       "      <td>Wilhelm Kopf</td>\n",
       "      <td>846-836-2837</td>\n",
       "      <td>Milton, PA 93756</td>\n",
       "      <td>9/21/96</td>\n",
       "      <td>87000</td>\n",
       "    </tr>\n",
       "    <tr>\n",
       "      <th>6</th>\n",
       "      <td>Norma Corder</td>\n",
       "      <td>397-857-2735</td>\n",
       "      <td>Dearborn, MI 23874</td>\n",
       "      <td>3/28/95</td>\n",
       "      <td>491400</td>\n",
       "    </tr>\n",
       "    <tr>\n",
       "      <th>7</th>\n",
       "      <td>James Ikeda</td>\n",
       "      <td>834-938-8376</td>\n",
       "      <td>Allentown, NJ 83745</td>\n",
       "      <td>12/1/88</td>\n",
       "      <td>90000</td>\n",
       "    </tr>\n",
       "    <tr>\n",
       "      <th>8</th>\n",
       "      <td>Lori Gortz</td>\n",
       "      <td>327-832-5728</td>\n",
       "      <td>Peabody, MA 34756</td>\n",
       "      <td>10/2/02</td>\n",
       "      <td>70400</td>\n",
       "    </tr>\n",
       "    <tr>\n",
       "      <th>9</th>\n",
       "      <td>Barbara Kerz</td>\n",
       "      <td>385-573-8326</td>\n",
       "      <td>Gary, IN 83756</td>\n",
       "      <td>12/15/96</td>\n",
       "      <td>53700</td>\n",
       "    </tr>\n",
       "  </tbody>\n",
       "</table>\n",
       "</div>"
      ],
      "text/plain": [
       "               0             1                    2         3       4\n",
       "0   Tommy Savage  408-724-0140  Sunnyvale, CA 94087   5/19/16   68400\n",
       "1  Lesle Kerstin  408-456-1234     Boston, MA 02133   4/22/12  105200\n",
       "2     JonDeLoach  408-253-3122   San Jose, CA 94086   7/25/03  170200\n",
       "3   Ephram Hardy  293-259-5395     Joliet, IL 73858   8/12/70  113400\n",
       "4     Betty Boop  245-836-2837     Milton, PA 93756   9/21/96   87000\n",
       "5   Wilhelm Kopf  846-836-2837     Milton, PA 93756   9/21/96   87000\n",
       "6   Norma Corder  397-857-2735   Dearborn, MI 23874   3/28/95  491400\n",
       "7    James Ikeda  834-938-8376  Allentown, NJ 83745   12/1/88   90000\n",
       "8     Lori Gortz  327-832-5728    Peabody, MA 34756   10/2/02   70400\n",
       "9   Barbara Kerz  385-573-8326       Gary, IN 83756  12/15/96   53700"
      ]
     },
     "execution_count": 291,
     "metadata": {},
     "output_type": "execute_result"
    }
   ],
   "source": [
    "import pandas as pd\n",
    "df = pd.DataFrame(people_data)\n",
    "df"
   ]
  },
  {
   "cell_type": "code",
   "execution_count": 293,
   "metadata": {},
   "outputs": [
    {
     "data": {
      "text/html": [
       "<div>\n",
       "<style scoped>\n",
       "    .dataframe tbody tr th:only-of-type {\n",
       "        vertical-align: middle;\n",
       "    }\n",
       "\n",
       "    .dataframe tbody tr th {\n",
       "        vertical-align: top;\n",
       "    }\n",
       "\n",
       "    .dataframe thead th {\n",
       "        text-align: right;\n",
       "    }\n",
       "</style>\n",
       "<table border=\"1\" class=\"dataframe\">\n",
       "  <thead>\n",
       "    <tr style=\"text-align: right;\">\n",
       "      <th></th>\n",
       "      <th>0</th>\n",
       "      <th>1</th>\n",
       "      <th>2</th>\n",
       "      <th>3</th>\n",
       "      <th>4</th>\n",
       "    </tr>\n",
       "  </thead>\n",
       "  <tbody>\n",
       "    <tr>\n",
       "      <th>9</th>\n",
       "      <td>Barbara Kerz</td>\n",
       "      <td>385-573-8326</td>\n",
       "      <td>Gary, IN 83756</td>\n",
       "      <td>12/15/96</td>\n",
       "      <td>53700</td>\n",
       "    </tr>\n",
       "    <tr>\n",
       "      <th>0</th>\n",
       "      <td>Tommy Savage</td>\n",
       "      <td>408-724-0140</td>\n",
       "      <td>Sunnyvale, CA 94087</td>\n",
       "      <td>5/19/16</td>\n",
       "      <td>68400</td>\n",
       "    </tr>\n",
       "    <tr>\n",
       "      <th>8</th>\n",
       "      <td>Lori Gortz</td>\n",
       "      <td>327-832-5728</td>\n",
       "      <td>Peabody, MA 34756</td>\n",
       "      <td>10/2/02</td>\n",
       "      <td>70400</td>\n",
       "    </tr>\n",
       "    <tr>\n",
       "      <th>4</th>\n",
       "      <td>Betty Boop</td>\n",
       "      <td>245-836-2837</td>\n",
       "      <td>Milton, PA 93756</td>\n",
       "      <td>9/21/96</td>\n",
       "      <td>87000</td>\n",
       "    </tr>\n",
       "    <tr>\n",
       "      <th>5</th>\n",
       "      <td>Wilhelm Kopf</td>\n",
       "      <td>846-836-2837</td>\n",
       "      <td>Milton, PA 93756</td>\n",
       "      <td>9/21/96</td>\n",
       "      <td>87000</td>\n",
       "    </tr>\n",
       "    <tr>\n",
       "      <th>7</th>\n",
       "      <td>James Ikeda</td>\n",
       "      <td>834-938-8376</td>\n",
       "      <td>Allentown, NJ 83745</td>\n",
       "      <td>12/1/88</td>\n",
       "      <td>90000</td>\n",
       "    </tr>\n",
       "    <tr>\n",
       "      <th>1</th>\n",
       "      <td>Lesle Kerstin</td>\n",
       "      <td>408-456-1234</td>\n",
       "      <td>Boston, MA 02133</td>\n",
       "      <td>4/22/12</td>\n",
       "      <td>105200</td>\n",
       "    </tr>\n",
       "    <tr>\n",
       "      <th>3</th>\n",
       "      <td>Ephram Hardy</td>\n",
       "      <td>293-259-5395</td>\n",
       "      <td>Joliet, IL 73858</td>\n",
       "      <td>8/12/70</td>\n",
       "      <td>113400</td>\n",
       "    </tr>\n",
       "    <tr>\n",
       "      <th>2</th>\n",
       "      <td>JonDeLoach</td>\n",
       "      <td>408-253-3122</td>\n",
       "      <td>San Jose, CA 94086</td>\n",
       "      <td>7/25/03</td>\n",
       "      <td>170200</td>\n",
       "    </tr>\n",
       "    <tr>\n",
       "      <th>6</th>\n",
       "      <td>Norma Corder</td>\n",
       "      <td>397-857-2735</td>\n",
       "      <td>Dearborn, MI 23874</td>\n",
       "      <td>3/28/95</td>\n",
       "      <td>491400</td>\n",
       "    </tr>\n",
       "  </tbody>\n",
       "</table>\n",
       "</div>"
      ],
      "text/plain": [
       "               0             1                    2         3       4\n",
       "9   Barbara Kerz  385-573-8326       Gary, IN 83756  12/15/96   53700\n",
       "0   Tommy Savage  408-724-0140  Sunnyvale, CA 94087   5/19/16   68400\n",
       "8     Lori Gortz  327-832-5728    Peabody, MA 34756   10/2/02   70400\n",
       "4     Betty Boop  245-836-2837     Milton, PA 93756   9/21/96   87000\n",
       "5   Wilhelm Kopf  846-836-2837     Milton, PA 93756   9/21/96   87000\n",
       "7    James Ikeda  834-938-8376  Allentown, NJ 83745   12/1/88   90000\n",
       "1  Lesle Kerstin  408-456-1234     Boston, MA 02133   4/22/12  105200\n",
       "3   Ephram Hardy  293-259-5395     Joliet, IL 73858   8/12/70  113400\n",
       "2     JonDeLoach  408-253-3122   San Jose, CA 94086   7/25/03  170200\n",
       "6   Norma Corder  397-857-2735   Dearborn, MI 23874   3/28/95  491400"
      ]
     },
     "execution_count": 293,
     "metadata": {},
     "output_type": "execute_result"
    }
   ],
   "source": [
    "df.sort_values(4)"
   ]
  },
  {
   "cell_type": "code",
   "execution_count": 294,
   "metadata": {},
   "outputs": [
    {
     "name": "stdout",
     "output_type": "stream",
     "text": [
      "Object `sort_values` not found.\n"
     ]
    }
   ],
   "source": [
    "?sort_values"
   ]
  },
  {
   "cell_type": "code",
   "execution_count": 301,
   "metadata": {},
   "outputs": [],
   "source": [
    "?df.sort_values"
   ]
  },
  {
   "cell_type": "code",
   "execution_count": 299,
   "metadata": {},
   "outputs": [
    {
     "data": {
      "text/html": [
       "<div>\n",
       "<style scoped>\n",
       "    .dataframe tbody tr th:only-of-type {\n",
       "        vertical-align: middle;\n",
       "    }\n",
       "\n",
       "    .dataframe tbody tr th {\n",
       "        vertical-align: top;\n",
       "    }\n",
       "\n",
       "    .dataframe thead th {\n",
       "        text-align: right;\n",
       "    }\n",
       "</style>\n",
       "<table border=\"1\" class=\"dataframe\">\n",
       "  <thead>\n",
       "    <tr style=\"text-align: right;\">\n",
       "      <th></th>\n",
       "      <th>0</th>\n",
       "      <th>1</th>\n",
       "      <th>2</th>\n",
       "      <th>3</th>\n",
       "      <th>4</th>\n",
       "    </tr>\n",
       "  </thead>\n",
       "  <tbody>\n",
       "    <tr>\n",
       "      <th>6</th>\n",
       "      <td>Norma Corder</td>\n",
       "      <td>397-857-2735</td>\n",
       "      <td>Dearborn, MI 23874</td>\n",
       "      <td>3/28/95</td>\n",
       "      <td>491400</td>\n",
       "    </tr>\n",
       "    <tr>\n",
       "      <th>2</th>\n",
       "      <td>JonDeLoach</td>\n",
       "      <td>408-253-3122</td>\n",
       "      <td>San Jose, CA 94086</td>\n",
       "      <td>7/25/03</td>\n",
       "      <td>170200</td>\n",
       "    </tr>\n",
       "    <tr>\n",
       "      <th>3</th>\n",
       "      <td>Ephram Hardy</td>\n",
       "      <td>293-259-5395</td>\n",
       "      <td>Joliet, IL 73858</td>\n",
       "      <td>8/12/70</td>\n",
       "      <td>113400</td>\n",
       "    </tr>\n",
       "    <tr>\n",
       "      <th>1</th>\n",
       "      <td>Lesle Kerstin</td>\n",
       "      <td>408-456-1234</td>\n",
       "      <td>Boston, MA 02133</td>\n",
       "      <td>4/22/12</td>\n",
       "      <td>105200</td>\n",
       "    </tr>\n",
       "    <tr>\n",
       "      <th>7</th>\n",
       "      <td>James Ikeda</td>\n",
       "      <td>834-938-8376</td>\n",
       "      <td>Allentown, NJ 83745</td>\n",
       "      <td>12/1/88</td>\n",
       "      <td>90000</td>\n",
       "    </tr>\n",
       "    <tr>\n",
       "      <th>4</th>\n",
       "      <td>Betty Boop</td>\n",
       "      <td>245-836-2837</td>\n",
       "      <td>Milton, PA 93756</td>\n",
       "      <td>9/21/96</td>\n",
       "      <td>87000</td>\n",
       "    </tr>\n",
       "    <tr>\n",
       "      <th>5</th>\n",
       "      <td>Wilhelm Kopf</td>\n",
       "      <td>846-836-2837</td>\n",
       "      <td>Milton, PA 93756</td>\n",
       "      <td>9/21/96</td>\n",
       "      <td>87000</td>\n",
       "    </tr>\n",
       "    <tr>\n",
       "      <th>8</th>\n",
       "      <td>Lori Gortz</td>\n",
       "      <td>327-832-5728</td>\n",
       "      <td>Peabody, MA 34756</td>\n",
       "      <td>10/2/02</td>\n",
       "      <td>70400</td>\n",
       "    </tr>\n",
       "    <tr>\n",
       "      <th>0</th>\n",
       "      <td>Tommy Savage</td>\n",
       "      <td>408-724-0140</td>\n",
       "      <td>Sunnyvale, CA 94087</td>\n",
       "      <td>5/19/16</td>\n",
       "      <td>68400</td>\n",
       "    </tr>\n",
       "    <tr>\n",
       "      <th>9</th>\n",
       "      <td>Barbara Kerz</td>\n",
       "      <td>385-573-8326</td>\n",
       "      <td>Gary, IN 83756</td>\n",
       "      <td>12/15/96</td>\n",
       "      <td>53700</td>\n",
       "    </tr>\n",
       "  </tbody>\n",
       "</table>\n",
       "</div>"
      ],
      "text/plain": [
       "               0             1                    2         3       4\n",
       "6   Norma Corder  397-857-2735   Dearborn, MI 23874   3/28/95  491400\n",
       "2     JonDeLoach  408-253-3122   San Jose, CA 94086   7/25/03  170200\n",
       "3   Ephram Hardy  293-259-5395     Joliet, IL 73858   8/12/70  113400\n",
       "1  Lesle Kerstin  408-456-1234     Boston, MA 02133   4/22/12  105200\n",
       "7    James Ikeda  834-938-8376  Allentown, NJ 83745   12/1/88   90000\n",
       "4     Betty Boop  245-836-2837     Milton, PA 93756   9/21/96   87000\n",
       "5   Wilhelm Kopf  846-836-2837     Milton, PA 93756   9/21/96   87000\n",
       "8     Lori Gortz  327-832-5728    Peabody, MA 34756   10/2/02   70400\n",
       "0   Tommy Savage  408-724-0140  Sunnyvale, CA 94087   5/19/16   68400\n",
       "9   Barbara Kerz  385-573-8326       Gary, IN 83756  12/15/96   53700"
      ]
     },
     "execution_count": 299,
     "metadata": {},
     "output_type": "execute_result"
    }
   ],
   "source": [
    "df.sort_values(4,ascending=False)"
   ]
  },
  {
   "cell_type": "code",
   "execution_count": 300,
   "metadata": {},
   "outputs": [],
   "source": [
    "df.sort_values(4,ascending=False,inplace=True)"
   ]
  },
  {
   "cell_type": "code",
   "execution_count": 302,
   "metadata": {},
   "outputs": [
    {
     "data": {
      "text/html": [
       "<div>\n",
       "<style scoped>\n",
       "    .dataframe tbody tr th:only-of-type {\n",
       "        vertical-align: middle;\n",
       "    }\n",
       "\n",
       "    .dataframe tbody tr th {\n",
       "        vertical-align: top;\n",
       "    }\n",
       "\n",
       "    .dataframe thead th {\n",
       "        text-align: right;\n",
       "    }\n",
       "</style>\n",
       "<table border=\"1\" class=\"dataframe\">\n",
       "  <thead>\n",
       "    <tr style=\"text-align: right;\">\n",
       "      <th></th>\n",
       "      <th>Mon</th>\n",
       "      <th>Tues</th>\n",
       "      <th>Wed</th>\n",
       "      <th>Thurs</th>\n",
       "      <th>Fri</th>\n",
       "      <th>Sat</th>\n",
       "      <th>Sun</th>\n",
       "    </tr>\n",
       "    <tr>\n",
       "      <th>Hour</th>\n",
       "      <th></th>\n",
       "      <th></th>\n",
       "      <th></th>\n",
       "      <th></th>\n",
       "      <th></th>\n",
       "      <th></th>\n",
       "      <th></th>\n",
       "    </tr>\n",
       "  </thead>\n",
       "  <tbody>\n",
       "    <tr>\n",
       "      <th>0</th>\n",
       "      <td>15</td>\n",
       "      <td>13</td>\n",
       "      <td>11</td>\n",
       "      <td>15</td>\n",
       "      <td>10</td>\n",
       "      <td>18</td>\n",
       "      <td>3</td>\n",
       "    </tr>\n",
       "    <tr>\n",
       "      <th>1</th>\n",
       "      <td>19</td>\n",
       "      <td>12</td>\n",
       "      <td>5</td>\n",
       "      <td>16</td>\n",
       "      <td>7</td>\n",
       "      <td>3</td>\n",
       "      <td>15</td>\n",
       "    </tr>\n",
       "    <tr>\n",
       "      <th>2</th>\n",
       "      <td>15</td>\n",
       "      <td>10</td>\n",
       "      <td>1</td>\n",
       "      <td>0</td>\n",
       "      <td>9</td>\n",
       "      <td>0</td>\n",
       "      <td>8</td>\n",
       "    </tr>\n",
       "    <tr>\n",
       "      <th>3</th>\n",
       "      <td>0</td>\n",
       "      <td>7</td>\n",
       "      <td>11</td>\n",
       "      <td>14</td>\n",
       "      <td>8</td>\n",
       "      <td>5</td>\n",
       "      <td>17</td>\n",
       "    </tr>\n",
       "    <tr>\n",
       "      <th>4</th>\n",
       "      <td>5</td>\n",
       "      <td>4</td>\n",
       "      <td>9</td>\n",
       "      <td>0</td>\n",
       "      <td>16</td>\n",
       "      <td>9</td>\n",
       "      <td>15</td>\n",
       "    </tr>\n",
       "    <tr>\n",
       "      <th>5</th>\n",
       "      <td>12</td>\n",
       "      <td>13</td>\n",
       "      <td>7</td>\n",
       "      <td>13</td>\n",
       "      <td>11</td>\n",
       "      <td>12</td>\n",
       "      <td>7</td>\n",
       "    </tr>\n",
       "    <tr>\n",
       "      <th>6</th>\n",
       "      <td>4</td>\n",
       "      <td>3</td>\n",
       "      <td>1</td>\n",
       "      <td>9</td>\n",
       "      <td>18</td>\n",
       "      <td>18</td>\n",
       "      <td>6</td>\n",
       "    </tr>\n",
       "    <tr>\n",
       "      <th>7</th>\n",
       "      <td>7</td>\n",
       "      <td>1</td>\n",
       "      <td>13</td>\n",
       "      <td>0</td>\n",
       "      <td>9</td>\n",
       "      <td>2</td>\n",
       "      <td>0</td>\n",
       "    </tr>\n",
       "    <tr>\n",
       "      <th>8</th>\n",
       "      <td>8</td>\n",
       "      <td>18</td>\n",
       "      <td>9</td>\n",
       "      <td>15</td>\n",
       "      <td>5</td>\n",
       "      <td>9</td>\n",
       "      <td>15</td>\n",
       "    </tr>\n",
       "    <tr>\n",
       "      <th>9</th>\n",
       "      <td>0</td>\n",
       "      <td>14</td>\n",
       "      <td>17</td>\n",
       "      <td>8</td>\n",
       "      <td>10</td>\n",
       "      <td>7</td>\n",
       "      <td>0</td>\n",
       "    </tr>\n",
       "    <tr>\n",
       "      <th>10</th>\n",
       "      <td>12</td>\n",
       "      <td>4</td>\n",
       "      <td>7</td>\n",
       "      <td>3</td>\n",
       "      <td>0</td>\n",
       "      <td>9</td>\n",
       "      <td>11</td>\n",
       "    </tr>\n",
       "    <tr>\n",
       "      <th>11</th>\n",
       "      <td>3</td>\n",
       "      <td>8</td>\n",
       "      <td>19</td>\n",
       "      <td>8</td>\n",
       "      <td>8</td>\n",
       "      <td>19</td>\n",
       "      <td>3</td>\n",
       "    </tr>\n",
       "    <tr>\n",
       "      <th>12</th>\n",
       "      <td>13</td>\n",
       "      <td>12</td>\n",
       "      <td>8</td>\n",
       "      <td>2</td>\n",
       "      <td>4</td>\n",
       "      <td>6</td>\n",
       "      <td>18</td>\n",
       "    </tr>\n",
       "    <tr>\n",
       "      <th>13</th>\n",
       "      <td>16</td>\n",
       "      <td>15</td>\n",
       "      <td>8</td>\n",
       "      <td>4</td>\n",
       "      <td>11</td>\n",
       "      <td>18</td>\n",
       "      <td>12</td>\n",
       "    </tr>\n",
       "    <tr>\n",
       "      <th>14</th>\n",
       "      <td>10</td>\n",
       "      <td>18</td>\n",
       "      <td>3</td>\n",
       "      <td>18</td>\n",
       "      <td>4</td>\n",
       "      <td>13</td>\n",
       "      <td>8</td>\n",
       "    </tr>\n",
       "    <tr>\n",
       "      <th>15</th>\n",
       "      <td>17</td>\n",
       "      <td>4</td>\n",
       "      <td>17</td>\n",
       "      <td>1</td>\n",
       "      <td>11</td>\n",
       "      <td>12</td>\n",
       "      <td>11</td>\n",
       "    </tr>\n",
       "    <tr>\n",
       "      <th>16</th>\n",
       "      <td>7</td>\n",
       "      <td>11</td>\n",
       "      <td>14</td>\n",
       "      <td>11</td>\n",
       "      <td>4</td>\n",
       "      <td>14</td>\n",
       "      <td>18</td>\n",
       "    </tr>\n",
       "    <tr>\n",
       "      <th>17</th>\n",
       "      <td>6</td>\n",
       "      <td>10</td>\n",
       "      <td>4</td>\n",
       "      <td>9</td>\n",
       "      <td>6</td>\n",
       "      <td>19</td>\n",
       "      <td>16</td>\n",
       "    </tr>\n",
       "    <tr>\n",
       "      <th>18</th>\n",
       "      <td>16</td>\n",
       "      <td>13</td>\n",
       "      <td>0</td>\n",
       "      <td>19</td>\n",
       "      <td>18</td>\n",
       "      <td>19</td>\n",
       "      <td>17</td>\n",
       "    </tr>\n",
       "    <tr>\n",
       "      <th>19</th>\n",
       "      <td>1</td>\n",
       "      <td>11</td>\n",
       "      <td>0</td>\n",
       "      <td>12</td>\n",
       "      <td>12</td>\n",
       "      <td>8</td>\n",
       "      <td>1</td>\n",
       "    </tr>\n",
       "    <tr>\n",
       "      <th>20</th>\n",
       "      <td>11</td>\n",
       "      <td>3</td>\n",
       "      <td>14</td>\n",
       "      <td>9</td>\n",
       "      <td>6</td>\n",
       "      <td>0</td>\n",
       "      <td>19</td>\n",
       "    </tr>\n",
       "    <tr>\n",
       "      <th>21</th>\n",
       "      <td>14</td>\n",
       "      <td>14</td>\n",
       "      <td>15</td>\n",
       "      <td>19</td>\n",
       "      <td>12</td>\n",
       "      <td>9</td>\n",
       "      <td>3</td>\n",
       "    </tr>\n",
       "    <tr>\n",
       "      <th>22</th>\n",
       "      <td>14</td>\n",
       "      <td>1</td>\n",
       "      <td>7</td>\n",
       "      <td>5</td>\n",
       "      <td>1</td>\n",
       "      <td>18</td>\n",
       "      <td>18</td>\n",
       "    </tr>\n",
       "    <tr>\n",
       "      <th>23</th>\n",
       "      <td>18</td>\n",
       "      <td>5</td>\n",
       "      <td>16</td>\n",
       "      <td>18</td>\n",
       "      <td>14</td>\n",
       "      <td>6</td>\n",
       "      <td>16</td>\n",
       "    </tr>\n",
       "  </tbody>\n",
       "</table>\n",
       "</div>"
      ],
      "text/plain": [
       "      Mon  Tues  Wed  Thurs  Fri  Sat  Sun\n",
       "Hour                                      \n",
       "0      15    13   11     15   10   18    3\n",
       "1      19    12    5     16    7    3   15\n",
       "2      15    10    1      0    9    0    8\n",
       "3       0     7   11     14    8    5   17\n",
       "4       5     4    9      0   16    9   15\n",
       "5      12    13    7     13   11   12    7\n",
       "6       4     3    1      9   18   18    6\n",
       "7       7     1   13      0    9    2    0\n",
       "8       8    18    9     15    5    9   15\n",
       "9       0    14   17      8   10    7    0\n",
       "10     12     4    7      3    0    9   11\n",
       "11      3     8   19      8    8   19    3\n",
       "12     13    12    8      2    4    6   18\n",
       "13     16    15    8      4   11   18   12\n",
       "14     10    18    3     18    4   13    8\n",
       "15     17     4   17      1   11   12   11\n",
       "16      7    11   14     11    4   14   18\n",
       "17      6    10    4      9    6   19   16\n",
       "18     16    13    0     19   18   19   17\n",
       "19      1    11    0     12   12    8    1\n",
       "20     11     3   14      9    6    0   19\n",
       "21     14    14   15     19   12    9    3\n",
       "22     14     1    7      5    1   18   18\n",
       "23     18     5   16     18   14    6   16"
      ]
     },
     "execution_count": 302,
     "metadata": {},
     "output_type": "execute_result"
    }
   ],
   "source": [
    "number_frame = pd.DataFrame(numbers, columns = [\"Mon\",\"Tues\",\"Wed\",\"Thurs\",\"Fri\",\"Sat\",\"Sun\"])\n",
    "number_frame.index.name = \"Hour\"\n",
    "number_frame"
   ]
  },
  {
   "cell_type": "code",
   "execution_count": 303,
   "metadata": {},
   "outputs": [
    {
     "data": {
      "text/html": [
       "<div>\n",
       "<style scoped>\n",
       "    .dataframe tbody tr th:only-of-type {\n",
       "        vertical-align: middle;\n",
       "    }\n",
       "\n",
       "    .dataframe tbody tr th {\n",
       "        vertical-align: top;\n",
       "    }\n",
       "\n",
       "    .dataframe thead th {\n",
       "        text-align: right;\n",
       "    }\n",
       "</style>\n",
       "<table border=\"1\" class=\"dataframe\">\n",
       "  <thead>\n",
       "    <tr style=\"text-align: right;\">\n",
       "      <th></th>\n",
       "      <th>Mon</th>\n",
       "      <th>Tues</th>\n",
       "      <th>Wed</th>\n",
       "      <th>Thurs</th>\n",
       "      <th>Fri</th>\n",
       "      <th>Sat</th>\n",
       "      <th>Sun</th>\n",
       "    </tr>\n",
       "    <tr>\n",
       "      <th>Hour</th>\n",
       "      <th></th>\n",
       "      <th></th>\n",
       "      <th></th>\n",
       "      <th></th>\n",
       "      <th></th>\n",
       "      <th></th>\n",
       "      <th></th>\n",
       "    </tr>\n",
       "  </thead>\n",
       "  <tbody>\n",
       "    <tr>\n",
       "      <th>6</th>\n",
       "      <td>4</td>\n",
       "      <td>3</td>\n",
       "      <td>1</td>\n",
       "      <td>9</td>\n",
       "      <td>18</td>\n",
       "      <td>18</td>\n",
       "      <td>6</td>\n",
       "    </tr>\n",
       "    <tr>\n",
       "      <th>18</th>\n",
       "      <td>16</td>\n",
       "      <td>13</td>\n",
       "      <td>0</td>\n",
       "      <td>19</td>\n",
       "      <td>18</td>\n",
       "      <td>19</td>\n",
       "      <td>17</td>\n",
       "    </tr>\n",
       "    <tr>\n",
       "      <th>4</th>\n",
       "      <td>5</td>\n",
       "      <td>4</td>\n",
       "      <td>9</td>\n",
       "      <td>0</td>\n",
       "      <td>16</td>\n",
       "      <td>9</td>\n",
       "      <td>15</td>\n",
       "    </tr>\n",
       "    <tr>\n",
       "      <th>23</th>\n",
       "      <td>18</td>\n",
       "      <td>5</td>\n",
       "      <td>16</td>\n",
       "      <td>18</td>\n",
       "      <td>14</td>\n",
       "      <td>6</td>\n",
       "      <td>16</td>\n",
       "    </tr>\n",
       "    <tr>\n",
       "      <th>21</th>\n",
       "      <td>14</td>\n",
       "      <td>14</td>\n",
       "      <td>15</td>\n",
       "      <td>19</td>\n",
       "      <td>12</td>\n",
       "      <td>9</td>\n",
       "      <td>3</td>\n",
       "    </tr>\n",
       "    <tr>\n",
       "      <th>19</th>\n",
       "      <td>1</td>\n",
       "      <td>11</td>\n",
       "      <td>0</td>\n",
       "      <td>12</td>\n",
       "      <td>12</td>\n",
       "      <td>8</td>\n",
       "      <td>1</td>\n",
       "    </tr>\n",
       "    <tr>\n",
       "      <th>13</th>\n",
       "      <td>16</td>\n",
       "      <td>15</td>\n",
       "      <td>8</td>\n",
       "      <td>4</td>\n",
       "      <td>11</td>\n",
       "      <td>18</td>\n",
       "      <td>12</td>\n",
       "    </tr>\n",
       "    <tr>\n",
       "      <th>5</th>\n",
       "      <td>12</td>\n",
       "      <td>13</td>\n",
       "      <td>7</td>\n",
       "      <td>13</td>\n",
       "      <td>11</td>\n",
       "      <td>12</td>\n",
       "      <td>7</td>\n",
       "    </tr>\n",
       "    <tr>\n",
       "      <th>15</th>\n",
       "      <td>17</td>\n",
       "      <td>4</td>\n",
       "      <td>17</td>\n",
       "      <td>1</td>\n",
       "      <td>11</td>\n",
       "      <td>12</td>\n",
       "      <td>11</td>\n",
       "    </tr>\n",
       "    <tr>\n",
       "      <th>0</th>\n",
       "      <td>15</td>\n",
       "      <td>13</td>\n",
       "      <td>11</td>\n",
       "      <td>15</td>\n",
       "      <td>10</td>\n",
       "      <td>18</td>\n",
       "      <td>3</td>\n",
       "    </tr>\n",
       "    <tr>\n",
       "      <th>9</th>\n",
       "      <td>0</td>\n",
       "      <td>14</td>\n",
       "      <td>17</td>\n",
       "      <td>8</td>\n",
       "      <td>10</td>\n",
       "      <td>7</td>\n",
       "      <td>0</td>\n",
       "    </tr>\n",
       "    <tr>\n",
       "      <th>7</th>\n",
       "      <td>7</td>\n",
       "      <td>1</td>\n",
       "      <td>13</td>\n",
       "      <td>0</td>\n",
       "      <td>9</td>\n",
       "      <td>2</td>\n",
       "      <td>0</td>\n",
       "    </tr>\n",
       "    <tr>\n",
       "      <th>2</th>\n",
       "      <td>15</td>\n",
       "      <td>10</td>\n",
       "      <td>1</td>\n",
       "      <td>0</td>\n",
       "      <td>9</td>\n",
       "      <td>0</td>\n",
       "      <td>8</td>\n",
       "    </tr>\n",
       "    <tr>\n",
       "      <th>11</th>\n",
       "      <td>3</td>\n",
       "      <td>8</td>\n",
       "      <td>19</td>\n",
       "      <td>8</td>\n",
       "      <td>8</td>\n",
       "      <td>19</td>\n",
       "      <td>3</td>\n",
       "    </tr>\n",
       "    <tr>\n",
       "      <th>3</th>\n",
       "      <td>0</td>\n",
       "      <td>7</td>\n",
       "      <td>11</td>\n",
       "      <td>14</td>\n",
       "      <td>8</td>\n",
       "      <td>5</td>\n",
       "      <td>17</td>\n",
       "    </tr>\n",
       "    <tr>\n",
       "      <th>1</th>\n",
       "      <td>19</td>\n",
       "      <td>12</td>\n",
       "      <td>5</td>\n",
       "      <td>16</td>\n",
       "      <td>7</td>\n",
       "      <td>3</td>\n",
       "      <td>15</td>\n",
       "    </tr>\n",
       "    <tr>\n",
       "      <th>17</th>\n",
       "      <td>6</td>\n",
       "      <td>10</td>\n",
       "      <td>4</td>\n",
       "      <td>9</td>\n",
       "      <td>6</td>\n",
       "      <td>19</td>\n",
       "      <td>16</td>\n",
       "    </tr>\n",
       "    <tr>\n",
       "      <th>20</th>\n",
       "      <td>11</td>\n",
       "      <td>3</td>\n",
       "      <td>14</td>\n",
       "      <td>9</td>\n",
       "      <td>6</td>\n",
       "      <td>0</td>\n",
       "      <td>19</td>\n",
       "    </tr>\n",
       "    <tr>\n",
       "      <th>8</th>\n",
       "      <td>8</td>\n",
       "      <td>18</td>\n",
       "      <td>9</td>\n",
       "      <td>15</td>\n",
       "      <td>5</td>\n",
       "      <td>9</td>\n",
       "      <td>15</td>\n",
       "    </tr>\n",
       "    <tr>\n",
       "      <th>14</th>\n",
       "      <td>10</td>\n",
       "      <td>18</td>\n",
       "      <td>3</td>\n",
       "      <td>18</td>\n",
       "      <td>4</td>\n",
       "      <td>13</td>\n",
       "      <td>8</td>\n",
       "    </tr>\n",
       "    <tr>\n",
       "      <th>16</th>\n",
       "      <td>7</td>\n",
       "      <td>11</td>\n",
       "      <td>14</td>\n",
       "      <td>11</td>\n",
       "      <td>4</td>\n",
       "      <td>14</td>\n",
       "      <td>18</td>\n",
       "    </tr>\n",
       "    <tr>\n",
       "      <th>12</th>\n",
       "      <td>13</td>\n",
       "      <td>12</td>\n",
       "      <td>8</td>\n",
       "      <td>2</td>\n",
       "      <td>4</td>\n",
       "      <td>6</td>\n",
       "      <td>18</td>\n",
       "    </tr>\n",
       "    <tr>\n",
       "      <th>22</th>\n",
       "      <td>14</td>\n",
       "      <td>1</td>\n",
       "      <td>7</td>\n",
       "      <td>5</td>\n",
       "      <td>1</td>\n",
       "      <td>18</td>\n",
       "      <td>18</td>\n",
       "    </tr>\n",
       "    <tr>\n",
       "      <th>10</th>\n",
       "      <td>12</td>\n",
       "      <td>4</td>\n",
       "      <td>7</td>\n",
       "      <td>3</td>\n",
       "      <td>0</td>\n",
       "      <td>9</td>\n",
       "      <td>11</td>\n",
       "    </tr>\n",
       "  </tbody>\n",
       "</table>\n",
       "</div>"
      ],
      "text/plain": [
       "      Mon  Tues  Wed  Thurs  Fri  Sat  Sun\n",
       "Hour                                      \n",
       "6       4     3    1      9   18   18    6\n",
       "18     16    13    0     19   18   19   17\n",
       "4       5     4    9      0   16    9   15\n",
       "23     18     5   16     18   14    6   16\n",
       "21     14    14   15     19   12    9    3\n",
       "19      1    11    0     12   12    8    1\n",
       "13     16    15    8      4   11   18   12\n",
       "5      12    13    7     13   11   12    7\n",
       "15     17     4   17      1   11   12   11\n",
       "0      15    13   11     15   10   18    3\n",
       "9       0    14   17      8   10    7    0\n",
       "7       7     1   13      0    9    2    0\n",
       "2      15    10    1      0    9    0    8\n",
       "11      3     8   19      8    8   19    3\n",
       "3       0     7   11     14    8    5   17\n",
       "1      19    12    5     16    7    3   15\n",
       "17      6    10    4      9    6   19   16\n",
       "20     11     3   14      9    6    0   19\n",
       "8       8    18    9     15    5    9   15\n",
       "14     10    18    3     18    4   13    8\n",
       "16      7    11   14     11    4   14   18\n",
       "12     13    12    8      2    4    6   18\n",
       "22     14     1    7      5    1   18   18\n",
       "10     12     4    7      3    0    9   11"
      ]
     },
     "execution_count": 303,
     "metadata": {},
     "output_type": "execute_result"
    }
   ],
   "source": [
    "number_frame.sort_values(\"Fri\",ascending=False)"
   ]
  },
  {
   "cell_type": "code",
   "execution_count": 304,
   "metadata": {},
   "outputs": [],
   "source": [
    "?df"
   ]
  },
  {
   "cell_type": "code",
   "execution_count": 305,
   "metadata": {},
   "outputs": [
    {
     "data": {
      "text/plain": [
       "['',\n",
       " 'type(1)',\n",
       " 'color = \"blue\"',\n",
       " 'color = \"blue\"',\n",
       " 'color',\n",
       " '3+4',\n",
       " '3/4',\n",
       " 'type(3/4)',\n",
       " 'upper(color)',\n",
       " 'color.upper()',\n",
       " 'a --',\n",
       " \"get_ipython().run_line_magic('pinfo', 'color.upper()')\",\n",
       " \"get_ipython().run_line_magic('pinfo', 'color')\",\n",
       " 'color.length()',\n",
       " \"get_ipython().system('ls')\",\n",
       " \"get_ipython().system(' ./find_this.py JSON')\",\n",
       " 'dir(1)',\n",
       " \"','.join(dir(1))\",\n",
       " \"','.join(dir(1))\",\n",
       " \"get_ipython().system(' ./find_this.py JSON')\",\n",
       " \"','.join(dir(1))\",\n",
       " 'dir(1)',\n",
       " 'type(\"There will be an answer.\")',\n",
       " \"','.join(dir(str))\",\n",
       " 'mystr = \"There will be an answer.\"',\n",
       " 'my2str = \"Let it be.\"',\n",
       " 'mystr.lower()',\n",
       " 'mystr+my2str',\n",
       " 'mystr.islower()',\n",
       " 'mystr.split()',\n",
       " '3*\"button\"',\n",
       " 'dir(true)',\n",
       " 'dir(boolean)',\n",
       " 'log(10)',\n",
       " 'help(log)',\n",
       " 'help(math)',\n",
       " 'type(true)',\n",
       " \"type('true')\",\n",
       " 'mystr.split(0,1)',\n",
       " \"get_ipython().run_line_magic('pinfo', 'split()')\",\n",
       " \"get_ipython().run_line_magic('pinfo', 'split')\",\n",
       " \"get_ipython().run_line_magic('pinfo', 'str.split()')\",\n",
       " \"get_ipython().run_line_magic('pinfo', 'print')\",\n",
       " 'len(mystr)',\n",
       " 'import(math)',\n",
       " 'import math',\n",
       " \"get_ipython().run_line_magic('pinfo', 'math.log')\",\n",
       " 'math.log(10)',\n",
       " 'import mathplotlib.pyplot as plt',\n",
       " 'import mathplotlib.pyplot',\n",
       " 'import matplotlib.pyplot as plt',\n",
       " 'x_numbers = .2, .4, .6, .8, 1.\\ny_numbers = .125, .489, 1.064, 1.803, 2.654\\nplt.plot(x_numbers, y_numbers)\\nplt.show()',\n",
       " 'print(He said \"She said \\'Hello world\\'\")',\n",
       " 'print(\"He said \"She said \\'Hello world\\'\"\")',\n",
       " 'print(\\'\\'\\'He said \"She said \\'Hello world\\'\"\\'\\'\\')',\n",
       " 'print(\\'\\'\\'She said \\'He said \"Hello sky\"\\'\\'\\'\\')',\n",
       " 'print(\"She said \\'He said \"Hello sky\"\")',\n",
       " 'print(\"She said \\'He said \"Hello sky\"\\'\")',\n",
       " 'print(\\'\\'\\'She said \\'He said \"Hello sky\"\\'\\'\\'\\')',\n",
       " 'print(\"He said \"She said \\'Hello world\\'\"\\nShe said \\'He said \"Hello sky\"\\'\")',\n",
       " 'print(\"\"He said \"She said \\'Hello world\\'\"\\nShe said \\'He said \"Hello sky\"\\'\"\")',\n",
       " 'print(\"\"\"\"\"\"He said \"She said \\'Hello world\\'\"\\nShe said \\'He said \"Hello sky\"\\'\"\"\")',\n",
       " 'print(\"\"\"\"He said \"She said \\'Hello world\\'\"\\nShe said \\'He said \"Hello sky\"\\'\"\"\")',\n",
       " 'print(\\'\\'\\'He said \"She said \\'Hello world\\'\"\\'\\'\\') print(\"\"\"She said \\'He said \"Hello sky\"\\'\"\"\")',\n",
       " 'print(\\'\\'\\'He said \"She said \\'Hello world\\'\"\\'\\'\\') \\nprint(\"\"\"She said \\'He said \"Hello sky\"\\'\"\"\")',\n",
       " \"get_ipython().run_line_magic('pinfo', 'namespace')\",\n",
       " \"get_ipython().run_line_magic('pinfo', 'str')\",\n",
       " 'who = \"Hazel\"\\nwhat = \"Witch\"\\nprint(what, who)',\n",
       " 'who = \"He said \"She said \\'Hello world\\'\"',\n",
       " 'who = \"Hazel\"\\nwhat = \"Witch\"\\nprint(what,who)',\n",
       " 'who = \"Hazel\"\\nwhat = \"Witch\"\\nprint(what,who)',\n",
       " 'print(what+who)',\n",
       " 'print(\"WitchHazel\")',\n",
       " 'print(\"Witch\",ends(\\'\\'),\"Hazel\")',\n",
       " 'print(\"Witch\",ends(\\'\\'))',\n",
       " 'print(\"Witch\",end(\\'\\'),\"Hazel\")',\n",
       " 'print(\"Witch\",end(\\'\\'))',\n",
       " 'print(\"Witch\",end=\\'\\',\"Hazel\")',\n",
       " 'print(\"Witch\",,end=\\'\\'',\n",
       " 'print(\"Witch\",\"Hazel\",end=\\'\\',sep=\\'\\')',\n",
       " 'print(\"Witch\",\"Hazel\",end=\\'\\')',\n",
       " 'math.sin(40)',\n",
       " 'math.random(1..100)',\n",
       " \"get_ipython().run_line_magic('pinfo', 'math.random')\",\n",
       " \"get_ipython().run_line_magic('pinfo', 'math.rand')\",\n",
       " \"get_ipython().run_line_magic('pinfo', 'math.rand()')\",\n",
       " 'import random',\n",
       " 'print(random(1,100))',\n",
       " 'import randint',\n",
       " 'import randint',\n",
       " 'print(randint(1,100))',\n",
       " 'from random import randint',\n",
       " 'print(randint(1,100))',\n",
       " 'print(randint(1,100))',\n",
       " 'plt.plot(x_numbers, y_numbers, color=\"purple\",linewidth=3 and linestyle=\"dashed\")',\n",
       " \"get_ipython().run_line_magic('pinfo', 'plt.plot')\",\n",
       " 'plt.plot(x_numbers, y_numbers, color=\"purple\",linewidth=3,linestyle=\"dashed\")',\n",
       " 'print(\"{}{}\".format(what, who))',\n",
       " 'print(\"Witch\",\"Hazel\",sep=\\'\\')',\n",
       " 'plt.show()',\n",
       " 'number_of_lives = 4\\nprint(\"If I had\", number_of_lives, \"lives,\")\\nprint(\"I would live {} lives for you.\".format(number_of_lives))',\n",
       " 'number_of_lives = 4\\nprint(\"If I had\", number_of_lives, \"lives,\")\\nprint(\"I would live {} lives for you.\".format(number_of_lives=6))',\n",
       " 'number_of_lives = 4\\nprint(\"If I had\", number_of_lives, \"lives,\")\\nprint(\"I would live {number_of_lives} lives for you.\".format(number_of_lives=6))',\n",
       " 'number_of_lives',\n",
       " 'print({0}{3:>8}.format(8,9,10,11))',\n",
       " 'print(\"\"{0}{3:>8}\"\".format(8,9,10,11))',\n",
       " 'print(\"{0}{3:>8}\".format(8,9,10,11))',\n",
       " 'print(\"{0}{3:>8:2f}\".format(8,9,10,11))',\n",
       " 'print(\"{0:2f}{3:>8}\".format(8,9,10,11))',\n",
       " 'print(\"{0:.2f}{3:>8}\".format(8,9,10,11))',\n",
       " 'dir(list)',\n",
       " \"','.join(dir(list))\",\n",
       " 'a = [1,2,3]',\n",
       " 'type(a)',\n",
       " \"','.join(dir(list)).split()\",\n",
       " 'dir(list)',\n",
       " 'band = [\"Javier\", \"Chave\", \"Jose\", \"Martha\"]',\n",
       " 'band[1]',\n",
       " 'band[3]',\n",
       " 'band[-1]',\n",
       " 'band[2]',\n",
       " 'band[2:3]',\n",
       " 'song = \"See her how she flies\"',\n",
       " 'list(song)',\n",
       " 'words = song.split()',\n",
       " 'words',\n",
       " 'print(words)',\n",
       " 'says = \"Hello moon\"',\n",
       " 'says[:]',\n",
       " 'says[-3:]',\n",
       " 'says[-4:]',\n",
       " 'says[:6] + \"World\"',\n",
       " 'says[:6]+\"World\"',\n",
       " 'says[:5]+\"World\"',\n",
       " 'says[:6]+\"World\"',\n",
       " 'says[6:]',\n",
       " '\"birthday cake\"[8:]',\n",
       " '\"birthday cake\"[9:]',\n",
       " '\"birthday cake\"[-4:]',\n",
       " '\"birthday cake\"[9:12]',\n",
       " '\"birthday cake\"[9:13]',\n",
       " \"','.join(dir(str))\",\n",
       " '\"supercalifragilisticexpialidocious\".find(\\'li\\')',\n",
       " '\\'and\\'.join(\"silver gold copper platinum\")',\n",
       " 'list(\"silver gold copper platinum\")',\n",
       " 'split(\"silver gold copper platinum\")',\n",
       " '\"silver gold copper platinum\".split()',\n",
       " '\\'and\\'.join(\"silver gold copper platinum\".split())',\n",
       " 'print(\"\\'and\\'.join(\"silver gold copper platinum\".split()),\"are only worth money.\",sep=\\' \\'\")',\n",
       " 'print(\\'and\\'.join(\"silver gold copper platinum\".split()),\"are only worth money.\",sep=\\' \\')',\n",
       " 'print(\"\\'and\\'.join(\"silver gold copper platinum\".split()),\"are only worth money.\"\",sep=\\' \\')',\n",
       " 'print(\"\"\"\\'and\\'.join(\"silver gold copper platinum\".split()),\"are only worth money.\"\"\"\",sep=\\' \\')',\n",
       " 'print(\"\\'and\\'.join(\"silver gold copper platinum\".split()),\"are only worth money.\"\"\",sep=\\' \\')',\n",
       " 'print(\\'and\\'.join(\"silver gold copper platinum\".split()),sep=\\' \\',\\'\"are only worth money.\")',\n",
       " 'print(\\'and\\'.join(\"silver gold copper platinum\".split()),sep=\\' \\',\\'\"are only worth money.\")',\n",
       " 'print(\\'and\\'.join(\"silver gold copper platinum\".split()),sep=\\' \\')',\n",
       " 'print(\\'and\\'.join(\"silver gold copper platinum\".split()),sep=\" \")',\n",
       " 'print(\\'and\\'.join(\"silver gold copper platinum\".split()),sep=\\'  \\')',\n",
       " 'print(\\'and\\'.join(\"silver gold copper platinum\".split()),,\"are only worth money.\",sep=\\' \\')',\n",
       " 'print(\\'and\\'.join(\"silver gold copper platinum\".split()),\"are only worth money.\",sep=\\' \\')',\n",
       " '\"supercalifragilisticexpialidocious\".count(\\'li\\')',\n",
       " 'print(\\'and\\'.join(\"silver gold copper platinum\".split()),\"are only worth money.\",sep=\\'and\\')',\n",
       " 'print(\\'and\\'.join(\"silver gold copper platinum\".split()),\"are only worth money.\",sep=\\' and \\')',\n",
       " 'print(\\'and\\'.join(\"silver gold copper platinum\".split()),\"are only worth money.\",sep=\\' \\')',\n",
       " 'print(\\' and \\'.join(\"silver gold copper platinum\".split()),\"are only worth money.\",sep=\\' \\')',\n",
       " 'line=\"silver gold copper platinum\"',\n",
       " 'print(\\' and \\'.join(line.capitalize().split()),\"are only worth money.\",sep=\\' \\')',\n",
       " 'print(\\' and \\'.join(line.capitalize().split())+\"are only worth money.\")',\n",
       " 'print(\\' and \\'.join(line.capitalize().split()),\"are only worth money.\",sep=\\' \\')',\n",
       " '\"birthday cake\".split()[-1]',\n",
       " '\"birthday cake\".split()[1]',\n",
       " 'type(dir(list))',\n",
       " 'type(dir(list)[0])',\n",
       " 'numbers = [[0, 1, 2, 3, 4],\\n [10, 20, 30, 40, 50],\\n [100, 200, 300, 400, 500],\\n [1000, 2000, 3000, 4000, 5000]]',\n",
       " 'numbers[1][1]',\n",
       " 'import numpy as np\\nnumbers_array = np.array(numbers)\\nnumbers_array',\n",
       " 'type(numbers_array)',\n",
       " 'type(numbers)',\n",
       " 'sub_array = numbers_array[1:3, -2:]\\nsub_array',\n",
       " 'sub_array[1,1]=99',\n",
       " 'sub_array',\n",
       " 'numbers_array',\n",
       " 'import pandas as pd\\ndesserts = pd.Series([\"pie\", \"shake\", \"ice cream\", \"mousse\"])\\ndesserts',\n",
       " 'desserts[1]',\n",
       " 'desserts.values',\n",
       " 'desserts[desserts == \"cookies\"]',\n",
       " 'some_desserts[:-1] = \"cookies\"   \\nsome_desserts',\n",
       " 'some_desserts = desserts[:3],some_desserts[:-1] = \"cookies\"  ',\n",
       " 'some_desserts = desserts[:3]',\n",
       " 'some_desserts[:-1] = \"cookies\"',\n",
       " 'desserts[desserts == \"cookies\"]',\n",
       " 'some_desserts',\n",
       " \"desserts.values + ' ' + desserts.values\",\n",
       " \"desserts + ' ' + desserts\",\n",
       " 'numbers = [[\"Nancy\", 30, 40, 50, 60], [\"John\", 300, 400, 500, 600], \\n         [\"Nick\", 3000, 4000, 5000, 6000], [\"Kim\", 30000, 40000, 50000, 60000]]',\n",
       " 'numbers',\n",
       " 'import pandas as pd\\nnumbers_dataframe_no_labels = pd.DataFrame(numbers)\\nnumbers_dataframe_no_labels',\n",
       " 'numbers_dataframe = numbers_dataframe_no_labels.set_index(0)\\nnumbers_dataframe',\n",
       " \"numbers_dataframe.columns = ['big', 'bigger', 'huge', 'biggest']\\nnumbers_dataframe\",\n",
       " \"numbers_dataframe.index.name = 'name'\\nnumbers_dataframe\",\n",
       " 'type(numbers_dataframe)',\n",
       " 'npa = np.array(numbers)\\nnpa',\n",
       " 'type(npa)',\n",
       " 'frame_from_ndarray = pd.DataFrame(npa[:,1:], index=npa[:,0], columns = [\\'big\\', \\'bigger\\', \"huge\", \"biggest\"])\\nframe_from_ndarray.index.name = \"name\"\\nframe_from_ndarray',\n",
       " 'numbers_dataframe[\"huge\"',\n",
       " 'numbers_dataframe[\"huge\"]',\n",
       " 'frame_from_ndarray[\"huge\"]',\n",
       " 'small = numbers_dataframe.iloc[1:2,:-1]  # for sub dataframes - gives a copy of the data\\nsmall',\n",
       " 'import matplotlib.pyplot as plt   #  The convention is to rename this long name to a short one: \"plt\"\\nplt.plot(numbers_dataframe[\"big\"], numbers_dataframe[\"biggest\"])\\nplt.xlabel(\"big\")\\nplt.ylabel(\"biggest\")\\nplt.show()',\n",
       " 'data = [[\\'State\\', \\'Capital\\', \\'Largest City\\', \\'Bird\\', \\'Flower\\'] ,\\n        [\\'Alabama\\', \\'Montgomery\\', \\'Birmingham\\', \\'Yellowhammer\\', \\'Camellia\\'],\\n        [\\'Alaska\\', \\'Juneau\\', \\'Anchorage\\', \\'Willow Ptarmigan\\', \\'Forget-me-not\\'],\\n        [\\'Arizona\\', \\'Phoenix\\', \\'Phoenix\\', \\'Cactus Wren\\', \\'Saguaro Cactus Blossom\\'],\\n        [\\'Arkansas\\', \\'Little Rock\\', \\'Little Rock\\', \\'Mockingbird\\', \\'Apple Blossom\\'],\\n        [\\'California\\', \\'Sacramento\\', \\'Los Angeles\\', \\'California Valley Quail\\', \\'Golden Poppy\\'],\\n        [\\'Colorado\\', \\'Denver\\', \\'Denver\\', \\'Lark Bunting\\', \\'Columbine\\'],\\n        [\\'Connecticut\\', \\'Hartford\\', \\'Bridgeport\\', \\'American Robin\\', \\'Mountain Laurel\\'],\\n        [\\'Delaware\\', \\'Dover\\', \\'Wilmington\\', \\'Blue Hen Chicken\\', \\'Peach Blossom\\'],\\n        [\\'Florida\\', \\'Tallahassee\\', \\'Jacksonville\\', \\'Mockingbird\\', \\'Orange Blossom\\'],\\n        [\\'Georgia\\', \\'Atlanta\\', \\'Atlanta\\', \\'Brown Thrasher\\', \\'Cherokee Rose\\'],\\n        [\\'Hawaii\\', \\'Honolulu\\', \\'Honolulu\\', \\'Nene (Hawaiian Goose)\\', \\'Hibiscus\\'],\\n        [\\'Idaho\\', \\'Boise\\', \\'Boise\\', \\'Mountain Bluebird\\', \\'Syringa\\'],\\n        [\\'Illinois\\', \\'Springfield\\', \\'Chicago\\', \\'Cardinal\\', \\'Native violet\\'],\\n        [\\'Indiana\\', \\'Indianapolis\\', \\'Indianapolis\\', \\'Cardinal\\', \\'Peony\\'],\\n        [\\'Iowa\\', \\'Des Moines\\', \\'Des Moines\\', \\'Eastern Goldfinch\\', \\'Wild Rose\\'],\\n        [\\'Kansas\\', \\'Topeka\\', \\'Wichita\\', \\'Western Meadowlark\\', \\'Native Sunflower\\'],\\n        [\\'Kentucky\\', \\'Frankfort\\', \\'Louisville\\', \\'Kentucky Cardinal\\', \\'Goldenrod\\'],\\n        [\\'Louisiana\\', \\'Baton Rouge\\', \\'New Orleans\\', \\'Pelican\\', \\'Magnolia\\'],\\n        [\\'Maine\\', \\'Augusta\\', \\'Portland\\', \\'Chickadee\\', \\'White Pine Cone and Tassel\\'],\\n        [\\'Maryland\\', \\'Annapolis\\', \\'Baltimore\\', \\'Baltimore Oriole\\', \\'Black-Eyed Susan\\'],\\n        [\\'Massachusetts\\', \\'Boston\\', \\'Boston\\', \\'Chickadee\\', \\'Mayflower\\'],\\n        [\\'Michigan\\', \\'Lansing\\', \\'Detroit\\', \\'Robin\\', \\'Apple Blossom\\'],\\n        [\\'Minnesota\\', \\'St. Paul\\', \\'Minneapolis\\', \\'Common Loon\\', \"Pink and White Lady\\'s Slipper\"],\\n        [\\'Mississippi\\', \\'Jackson\\', \\'Jackson\\', \\'Mockingbird\\', \\'Magnolia\\'],\\n        [\\'Missouri\\', \\'Jefferson City\\', \\'Kansas City\\', \\'Bluebird\\', \\'Hawthorn\\'],\\n        [\\'Montana\\', \\'Helena\\', \\'Billings\\', \\'Western Meadowlark\\', \\'Bitterroot\\'],\\n        [\\'Nebraska\\', \\'Lincoln\\', \\'Omaha\\', \\'Western Meadowlark\\', \\'Goldenrod\\'],\\n        [\\'Nevada\\', \\'Carson City\\', \\'Las Vegas\\', \\'Mountain Bluebird\\', \\'Sagebrush\\'],\\n        [\\'New Hampshire\\', \\'Concord\\', \\'Manchester\\', \\'Purple Finch\\', \\'Purple Lilac\\'],\\n        [\\'New Jersey\\', \\'Trenton\\', \\'Newark\\', \\'Eastern Goldfinch\\', \\'Purple Violet\\'],\\n        [\\'New Mexico\\', \\'Santa Fe\\', \\'Albuquerque\\', \\'Roadrunner\\', \\'Yucca Flower\\'],\\n        [\\'New York\\', \\'Albany\\', \\'New York\\', \\'Bluebird\\', \\'Rose\\'],\\n        [\\'North Carolina\\', \\'Raleigh\\', \\'Charlotte\\', \\'Cardinal\\', \\'Dogwood\\'],\\n        [\\'North Dakota\\', \\'Bismarck\\', \\'Fargo\\', \\'Western Meadowlark\\', \\'Wild Prairie Rose\\'],\\n        [\\'Ohio\\', \\'Columbus\\', \\'Columbus\\', \\'Cardinal\\', \\'Scarlet Carnation\\'],\\n        [\\'Oklahoma\\', \\'Oklahoma City\\', \\'Oklahoma City\\', \\'Scissor-Tailed Flycatcher\\', \\'Mistletoe\\'],\\n        [\\'Oregon\\', \\'Salem\\', \\'Portland\\', \\'Western Meadowlark\\', \\'Oregon Grape\\'],\\n        [\\'Pennsylvania\\', \\'Harrisburg\\', \\'Philadelphia\\', \\'Ruffed Grouse\\', \\'Mountain Laurel\\'],\\n        [\\'Rhode Island\\', \\'Providence\\', \\'Providence\\', \\'Rhode Island Red\\', \\'Violet\\'],\\n        [\\'South Carolina\\', \\'Columbia\\', \\'Columbia\\', \\'Carolina Wren\\', \\'Yellow Jessamine\\'],\\n        [\\'South Dakota\\', \\'Pierre\\', \\'Sioux Falls\\', \\'Ring-Necked Pheasant\\', \\'American Pasqueflower\\'],\\n        [\\'Tennessee\\', \\'Nashville\\', \\'Memphis\\', \\'Mockingbird\\', \\'Iris\\'],\\n        [\\'Texas\\', \\'Austin\\', \\'Houston\\', \\'Mockingbird\\', \\'Bluebonnet\\'],\\n        [\\'Utah\\', \\'Salt Lake City\\', \\'Salt Lake City\\', \\'California Gull\\', \\'Sego Lily\\'],\\n        [\\'Vermont\\', \\'Montpelier\\', \\'Burlington\\', \\'Hermit Thrush\\', \\'Red Clover\\'],\\n        [\\'Virginia\\', \\'Richmond\\', \\'Virginia Beach\\', \\'Cardinal\\', \\'Dogwood\\'],\\n        [\\'Washington\\', \\'Olympia\\', \\'Seattle\\', \\'Willow Goldfinch\\', \\'Western Rhododendron\\'],\\n        [\\'West Virginia\\', \\'Charleston\\', \\'Charleston\\', \\'Cardinal\\', \\'Big Rhododendron\\'],\\n        [\\'Wisconsin\\', \\'Madison\\', \\'Milwaukee\\', \\'Robin\\', \\'Wood Violet\\'],\\n        [\\'Wyoming\\', \\'Cheyenne\\', \\'Cheyenne\\', \\'Meadowlark\\', \\'Indian Paintbrush\\'],\\n        [\\'Washington, D.C.\\', \\'None\\', \\'Washington\\', \\'Woodthrush\\', \\'American Beauty Rose\\']]',\n",
       " 'import pandas as pd\\ndata_dataframe = pd.DataFrame(data)\\ndata_dataframe',\n",
       " 'npa = np.array(data)\\nnpa',\n",
       " 'df = pd.DataFrame(npa[:,1:], index=npa[:,0], columns = [\\'State\\', \\'Capital\\', \\'Largest City\\', \\'Bird\\', \\'Flower\\'])\\ndf.index.name = \"State Details\"\\ndf',\n",
       " \"df = pd.DataFrame(npa[:,1:], index=npa[:,0], columns = ['State', 'Capital', 'Largest City', 'Bird', 'Flower'])\\ndf\",\n",
       " \"df = pd.DataFrame(npa[:,1:], columns = ['State', 'Capital', 'Largest City', 'Bird', 'Flower'])\\ndf\",\n",
       " 'df = data_dataframe.set_index(0)\\ndf',\n",
       " \"df.columns = ['State', 'Capital', 'Largest City', 'Bird', 'Flower']\\ndf\",\n",
       " 'import pandas as pd\\ndata_dataframe = pd.DataFrame(data)\\ndata_dataframe',\n",
       " \"data_dataframe.columns = ['State', 'Capital', 'Largest City', 'Bird', 'Flower']\\ndata_dataframe\",\n",
       " 'df1 = df.iloc[1:,:]  # for sub dataframes - gives a copy of the data\\ndf1',\n",
       " 'df = data_dataframe.iloc[1:,:]  # for sub dataframes - gives a copy of the data\\ndf',\n",
       " 'df = data_dataframe.iloc[1:,1:]  # for sub dataframes - gives a copy of the data\\ndf',\n",
       " 'df = data_dataframe.iloc[1:,:]  # for sub dataframes - gives a copy of the data\\ndf',\n",
       " 'df.info()',\n",
       " 'df.describe()',\n",
       " 'df.head()',\n",
       " \"df[State=='Nebraska']\",\n",
       " 'df.loc[\"Nebraska\"]',\n",
       " \"df[df=='Nebraska']\",\n",
       " \"df['Nebraska':'Capital']\",\n",
       " 'import pandas as pd\\ndf = pd.DataFrame(data[1:], columns=data[0])\\ndf = frame.set_index(\"State\")\\ndf',\n",
       " 'import pandas as pd\\ndf = pd.DataFrame(npa[1:], columns=npa[0])\\ndf = frame.set_index(\"State\")\\ndf',\n",
       " 'import pandas as pd\\ndf = pd.DataFrame(data[1:], columns=data[0])\\ndf = frame.set_index(\"State\")\\ndf',\n",
       " 'import pandas as pd\\ndf = pd.DataFrame(data[1:], columns=data[0])\\ndf = df.set_index(\"State\")\\ndf',\n",
       " 'df[\"Nebraska\"]',\n",
       " 'df[df==\"Nebraska\"]',\n",
       " 'df[State==\"Nebraska\"]',\n",
       " 'df[\"State\"]',\n",
       " 'df.loc(\"Nebraska\",\"Capital\")',\n",
       " 'df.loc[\"Nebraska\",\"Capital\"]',\n",
       " 'four_corners= df.loc[[\"Arizona\",\"Colorado\",\"New Mexico\",\"Utah\"],\"bird\":]',\n",
       " 'four_corners= df.loc[[\"Arizona\",\"Colorado\",\"New Mexico\",\"Utah\"],[\"bird\":]]',\n",
       " 'four_corners= df.loc[[\"Arizona\",\"Colorado\",\"New Mexico\",\"Utah\"]]',\n",
       " 'four_corners',\n",
       " 'four_corners[:-2]',\n",
       " 'four_corners[-1:]',\n",
       " 'four_corners[\"Bird\",\"Flower\"]',\n",
       " 'four_corners[[\"Bird\",\"Flower\"]]',\n",
       " 'four_corners = df1[[\"Bird\",\"Flower\"]]',\n",
       " 'four_corners[[\"Bird\",\"Flower\"]]',\n",
       " 'df1[[\"Bird\",\"Flower\"]]',\n",
       " 'four_corners[[\"Bird\",\"Flower\"]]',\n",
       " 'type(four_corners[[\"Bird\",\"Flower\"]])',\n",
       " 'four_corners[[\"Bird\",\"Flower\"]]',\n",
       " 'df1=four_corners[[\"Bird\",\"Flower\"]]',\n",
       " 'four_corners= df.loc[[\"Arizona\",\"Colorado\",\"New Mexico\",\"Utah\"]]',\n",
       " 'four_corners= df.loc[[\"Arizona\",\"Colorado\",\"New Mexico\",\"Utah\"]]',\n",
       " 'four_corners= df.loc[[\"Arizona\",\"Colorado\",\"New Mexico\",\"Utah\"]]\\nfour_corners',\n",
       " 'df1.loc[\"New Mexico\",\"Flower\"] = \"Ocotillo\"',\n",
       " 'four_corners= df.loc[[\"Arizona\",\"Colorado\",\"New Mexico\",\"Utah\"],[\"Bird\",\"Flower\"]]\\nfour_corners',\n",
       " 'four_corners.loc[\"New Mexico\",\"Flower\"] = \"Ocotillo\"',\n",
       " 'four_corners.loc[\"New Mexico\",\"Flower\"] = \"Ocotillo\"\\nfour_corners',\n",
       " 'four_corners.loc[\"New Mexico\",\"Flower\"] = \"Yucca Flower\"\\nfour_corners',\n",
       " 'df',\n",
       " 'df.loc[\"Delaware\",\"Bird\"]',\n",
       " 'df.loc[\"Delaware\",\"Bird\"].split()',\n",
       " 'df.loc[\"Delaware\",\"Bird\"].split(-1)',\n",
       " 'df.loc[\"Delaware\",\"Bird\"].split(\"-1\")',\n",
       " 'df.loc[\"Delaware\",\"Bird\"].split()',\n",
       " 'df.loc[\"Delaware\",\"Bird\"].split()[-1]',\n",
       " 'df.loc[\"Oklahoma\",\"Flower\"]',\n",
       " 'df.loc[\"Oklahoma\",\"Flower\"][-3:]',\n",
       " 'numbers = [[15, 13, 11, 15, 10, 18,  3],\\n       [19, 12,  5, 16,  7,  3, 15],\\n       [15, 10,  1,  0,  9,  0,  8],\\n       [ 0,  7, 11, 14,  8,  5, 17],\\n       [ 5,  4,  9,  0, 16,  9, 15],\\n       [12, 13,  7, 13, 11, 12,  7],\\n       [ 4,  3,  1,  9, 18, 18,  6],\\n       [ 7,  1, 13,  0,  9,  2,  0],\\n       [ 8, 18,  9, 15,  5,  9, 15],\\n       [ 0, 14, 17,  8, 10,  7,  0],\\n       [12,  4,  7,  3,  0,  9, 11],\\n       [ 3,  8, 19,  8,  8, 19,  3],\\n       [13, 12,  8,  2,  4,  6, 18],\\n       [16, 15,  8,  4, 11, 18, 12],\\n       [10, 18,  3, 18,  4, 13,  8],\\n       [17,  4, 17,  1, 11, 12, 11],\\n       [ 7, 11, 14, 11,  4, 14, 18],\\n       [ 6, 10,  4,  9,  6, 19, 16],\\n       [16, 13,  0, 19, 18, 19, 17],\\n       [ 1, 11,  0, 12, 12,  8,  1],\\n       [11,  3, 14,  9,  6,  0, 19],\\n       [14, 14, 15, 19, 12,  9,  3],\\n       [14,  1,  7,  5,  1, 18, 18],\\n       [18,  5, 16, 18, 14,  6, 16]]',\n",
       " 'numbers',\n",
       " '[8, 3, 10, 2].sort()',\n",
       " 'print([8, 3, 10, 2].sort())',\n",
       " '[8, 3, 10, 2].sorted()',\n",
       " '[8, 3, 10, 2].sorted()',\n",
       " 'mylist= [8, 3, 10, 2]',\n",
       " 'mylist.sort()',\n",
       " 'mylist.sorted()',\n",
       " 'myl = mylist.sort()',\n",
       " 'myl',\n",
       " 'mylist.sort()',\n",
       " 'mylist',\n",
       " 'sorted(mylist)',\n",
       " 'sorted([8, 3, 10, 2])',\n",
       " 'names =  [\"Aaron\", \"Zoe\", \"Leonard\", \"Josephine\", \"Sebastian\"] ',\n",
       " 'names.sort()',\n",
       " 'names',\n",
       " \"people_data = [['Tommy Savage', '408-724-0140', 'Sunnyvale, CA 94087', '5/19/16', 68400], \\n               ['Lesle Kerstin', '408-456-1234', 'Boston, MA 02133', '4/22/12', 105200], \\n               ['JonDeLoach', '408-253-3122', 'San Jose, CA 94086', '7/25/03', 170200], \\n               ['Ephram Hardy', '293-259-5395', 'Joliet, IL 73858', '8/12/70', 113400], \\n               ['Betty Boop', '245-836-2837', 'Milton, PA 93756', '9/21/96', 87000], \\n               ['Wilhelm Kopf', '846-836-2837', 'Milton, PA 93756', '9/21/96', 87000], \\n               ['Norma Corder', '397-857-2735', 'Dearborn, MI 23874', '3/28/95', 491400], \\n               ['James Ikeda', '834-938-8376', 'Allentown, NJ 83745', '12/1/88', 90000], \\n               ['Lori Gortz', '327-832-5728', 'Peabody, MA 34756', '10/2/02', 70400], \\n               ['Barbara Kerz', '385-573-8326', 'Gary, IN 83756', '12/15/96', 53700]]\",\n",
       " 'import pandas as pd\\ndf = pd.DataFrame(people_data)\\ndf',\n",
       " 'df.sort_values(-1)',\n",
       " 'df.sort_values(4)',\n",
       " \"get_ipython().run_line_magic('pinfo', 'sort_values')\",\n",
       " \"get_ipython().run_line_magic('pinfo', 'df.sort_values')\",\n",
       " \"get_ipython().run_line_magic('pinfo', 'df.sort_values')\",\n",
       " 'df.sort_values(4,ascending=false)',\n",
       " \"get_ipython().run_line_magic('pinfo', 'df.sort_values')\",\n",
       " 'df.sort_values(4,ascending=False)',\n",
       " 'df.sort_values(4,ascending=False,inplace=True)',\n",
       " \"get_ipython().run_line_magic('pinfo', 'df.sort_values')\",\n",
       " 'number_frame = pd.DataFrame(numbers, columns = [\"Mon\",\"Tues\",\"Wed\",\"Thurs\",\"Fri\",\"Sat\",\"Sun\"])\\nnumber_frame.index.name = \"Hour\"\\nnumber_frame',\n",
       " 'number_frame.sort_values(\"Fri\",ascending=False)',\n",
       " \"get_ipython().run_line_magic('pinfo', 'df')\",\n",
       " 'In']"
      ]
     },
     "execution_count": 305,
     "metadata": {},
     "output_type": "execute_result"
    }
   ],
   "source": [
    "In\n"
   ]
  },
  {
   "cell_type": "code",
   "execution_count": 306,
   "metadata": {},
   "outputs": [
    {
     "data": {
      "text/plain": [
       "\"get_ipython().run_line_magic('pinfo', 'df')\""
      ]
     },
     "execution_count": 306,
     "metadata": {},
     "output_type": "execute_result"
    }
   ],
   "source": [
    "In[304]"
   ]
  },
  {
   "cell_type": "code",
   "execution_count": 307,
   "metadata": {},
   "outputs": [
    {
     "name": "stdout",
     "output_type": "stream",
     "text": [
      "Hi and \"Hola\" \n",
      " to each\n",
      " of you\n",
      " \n"
     ]
    }
   ],
   "source": [
    " print(\"Hi and \\\"Hola\\\" \\n to each\\n of you\\n \") "
   ]
  },
  {
   "cell_type": "code",
   "execution_count": 308,
   "metadata": {},
   "outputs": [
    {
     "ename": "SyntaxError",
     "evalue": "EOL while scanning string literal (<ipython-input-308-7ba19433839a>, line 1)",
     "output_type": "error",
     "traceback": [
      "\u001b[0;36m  File \u001b[0;32m\"<ipython-input-308-7ba19433839a>\"\u001b[0;36m, line \u001b[0;32m1\u001b[0m\n\u001b[0;31m    print(  \"Hi and \\\"Hola\\\"\u001b[0m\n\u001b[0m                            ^\u001b[0m\n\u001b[0;31mSyntaxError\u001b[0m\u001b[0;31m:\u001b[0m EOL while scanning string literal\n"
     ]
    }
   ],
   "source": [
    " print(  \"Hi and \\\"Hola\\\"\n",
    "to each\n",
    "of you\n",
    "\") "
   ]
  },
  {
   "cell_type": "code",
   "execution_count": 309,
   "metadata": {},
   "outputs": [
    {
     "name": "stdout",
     "output_type": "stream",
     "text": [
      " Hi and \"Hola\" \n",
      " to each\n",
      " of you\n",
      "\n"
     ]
    }
   ],
   "source": [
    " print(' Hi and \"Hola\" \\n to each\\n of you\\n') "
   ]
  },
  {
   "cell_type": "code",
   "execution_count": 310,
   "metadata": {},
   "outputs": [
    {
     "name": "stdout",
     "output_type": "stream",
     "text": [
      "Hi and \"Hola\"\n",
      "to each\n",
      "of you\n",
      "\n"
     ]
    }
   ],
   "source": [
    "print(\"\"\"Hi and \"Hola\"\n",
    "to each\n",
    "of you\n",
    "\"\"\")"
   ]
  },
  {
   "cell_type": "code",
   "execution_count": 311,
   "metadata": {},
   "outputs": [
    {
     "data": {
      "text/plain": [
       "'  2 to 2'"
      ]
     },
     "execution_count": 311,
     "metadata": {},
     "output_type": "execute_result"
    }
   ],
   "source": [
    "\"{1:>3} to {1}\".format(17, 2)"
   ]
  },
  {
   "cell_type": "code",
   "execution_count": 312,
   "metadata": {},
   "outputs": [
    {
     "data": {
      "text/plain": [
       "'$25.00'"
      ]
     },
     "execution_count": 312,
     "metadata": {},
     "output_type": "execute_result"
    }
   ],
   "source": [
    "\"${:.2f}\".format(25)"
   ]
  },
  {
   "cell_type": "code",
   "execution_count": 314,
   "metadata": {},
   "outputs": [
    {
     "name": "stdout",
     "output_type": "stream",
     "text": [
      "32\n"
     ]
    }
   ],
   "source": [
    " print(3, end= '') \n",
    " print(2)"
   ]
  },
  {
   "cell_type": "code",
   "execution_count": 315,
   "metadata": {},
   "outputs": [
    {
     "data": {
      "text/plain": [
       "'$123.46'"
      ]
     },
     "execution_count": 315,
     "metadata": {},
     "output_type": "execute_result"
    }
   ],
   "source": [
    "\"${:4.2f}\".format(123.456)"
   ]
  },
  {
   "cell_type": "code",
   "execution_count": 317,
   "metadata": {},
   "outputs": [
    {
     "data": {
      "text/plain": [
       "'$123.46'"
      ]
     },
     "execution_count": 317,
     "metadata": {},
     "output_type": "execute_result"
    }
   ],
   "source": [
    "\"${:3.2f}\".format(123.456)"
   ]
  },
  {
   "cell_type": "code",
   "execution_count": 318,
   "metadata": {},
   "outputs": [
    {
     "data": {
      "text/plain": [
       "'Aaron, Josephine, Leonard, Sebastian, and Zoe.'"
      ]
     },
     "execution_count": 318,
     "metadata": {},
     "output_type": "execute_result"
    }
   ],
   "source": [
    "\", \".join(name for name in names[:-1]) + \", and \" + names[-1] + '.'"
   ]
  },
  {
   "cell_type": "code",
   "execution_count": 320,
   "metadata": {},
   "outputs": [
    {
     "ename": "AttributeError",
     "evalue": "'str' object has no attribute 'extend'",
     "output_type": "error",
     "traceback": [
      "\u001b[0;31m---------------------------------------------------------------------------\u001b[0m",
      "\u001b[0;31mAttributeError\u001b[0m                            Traceback (most recent call last)",
      "\u001b[0;32m<ipython-input-320-90fe23b582c4>\u001b[0m in \u001b[0;36m<module>\u001b[0;34m\u001b[0m\n\u001b[0;32m----> 1\u001b[0;31m \u001b[0;34m\"avacado\"\u001b[0m\u001b[0;34m.\u001b[0m\u001b[0mextend\u001b[0m\u001b[0;34m(\u001b[0m\u001b[0;34m)\u001b[0m\u001b[0;34m\u001b[0m\u001b[0;34m\u001b[0m\u001b[0m\n\u001b[0m",
      "\u001b[0;31mAttributeError\u001b[0m: 'str' object has no attribute 'extend'"
     ]
    }
   ],
   "source": [
    "\"avacado\".extend()"
   ]
  },
  {
   "cell_type": "code",
   "execution_count": 321,
   "metadata": {},
   "outputs": [],
   "source": [
    "my_list = [8, 3, 10, 2]\n"
   ]
  },
  {
   "cell_type": "code",
   "execution_count": 322,
   "metadata": {},
   "outputs": [],
   "source": [
    "my_list.extend(\"Bacon\")"
   ]
  },
  {
   "cell_type": "code",
   "execution_count": 323,
   "metadata": {},
   "outputs": [
    {
     "data": {
      "text/plain": [
       "[8, 3, 10, 2, 'B', 'a', 'c', 'o', 'n']"
      ]
     },
     "execution_count": 323,
     "metadata": {},
     "output_type": "execute_result"
    }
   ],
   "source": [
    "my_list"
   ]
  },
  {
   "cell_type": "code",
   "execution_count": 324,
   "metadata": {},
   "outputs": [],
   "source": [
    "my_list.extend([\"Bacon\"])"
   ]
  },
  {
   "cell_type": "code",
   "execution_count": 325,
   "metadata": {},
   "outputs": [
    {
     "data": {
      "text/plain": [
       "[8, 3, 10, 2, 'B', 'a', 'c', 'o', 'n', 'Bacon']"
      ]
     },
     "execution_count": 325,
     "metadata": {},
     "output_type": "execute_result"
    }
   ],
   "source": [
    "my_list"
   ]
  },
  {
   "cell_type": "code",
   "execution_count": 326,
   "metadata": {},
   "outputs": [
    {
     "data": {
      "text/plain": [
       "[8, 3, 10, 2, 'B', 'a', 'c', 'o', 'n', 'Bacon', 'Bacon']"
      ]
     },
     "execution_count": 326,
     "metadata": {},
     "output_type": "execute_result"
    }
   ],
   "source": [
    "my_list.append(\"Bacon\")\n",
    "my_list"
   ]
  },
  {
   "cell_type": "code",
   "execution_count": null,
   "metadata": {},
   "outputs": [],
   "source": []
  }
 ],
 "metadata": {
  "kernelspec": {
   "display_name": "Python 3",
   "language": "python",
   "name": "python3"
  },
  "language_info": {
   "codemirror_mode": {
    "name": "ipython",
    "version": 3
   },
   "file_extension": ".py",
   "mimetype": "text/x-python",
   "name": "python",
   "nbconvert_exporter": "python",
   "pygments_lexer": "ipython3",
   "version": "3.7.3"
  }
 },
 "nbformat": 4,
 "nbformat_minor": 2
}
