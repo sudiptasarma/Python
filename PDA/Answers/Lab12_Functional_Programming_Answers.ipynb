{
 "cells": [
   {
   "cell_type": "markdown",
   "metadata": {},
   "source": [
    "## Exercises Lab12 Functional Programming\n",
    "\n",
    "There are too many exercises here, unless you, like me, love to work with list comprehensions.\n",
    "\n",
    "\n",
    "`1.`   What are the results?  Guess before you check.\n",
    "\n",
    "\n",
    "> a. ` [str(x) for x in range(3)]`\n",
    "\n",
    "   ___________________________________________________________________\n",
    "\n",
    "> b. `[[0] for x in range(3)]`\n",
    "\n",
    "   ___________________________________________________________________\n",
    "\n",
    "> c. `[x for x in range(10) if not x % 2]`\n",
    "\n",
    "   ___________________________________________________________________\n",
    "\n",
    "\n",
    "> d. `'*'.join([ch for ch in \"Chocolate Chips\"[9:] if ch.islower()])`\n",
    "\n",
    "  ___________________________________________________________________\n",
    "\n",
    "\n",
    "\n",
    ">Try it in the interpreter to check yourself."
   ]
  },
  {
   "cell_type": "code",
   "execution_count": 15,
   "metadata": {
    "collapsed": true
   },
   "outputs": [],
   "source": [
    "# You checked these yourself."
   ]
  },
  {
   "cell_type": "markdown",
   "metadata": {},
   "source": [
    "`2.` For each of the following concoct a list comprehension, and get the work done in one line, using the interpreter if you wish:\n",
    "\n",
    "> a. Make 201 0's: [0, 0, (198 more), 0]"
   ]
  },
  {
   "cell_type": "code",
   "execution_count": 16,
   "metadata": {},
   "outputs": [
    {
     "name": "stdout",
     "output_type": "stream",
     "text": [
      "[0, 0, 0, 0, 0, 0, 0, 0, 0, 0, 0, 0, 0, 0, 0, 0, 0, 0, 0, 0, 0, 0, 0, 0, 0, 0, 0, 0, 0, 0, 0, 0, 0, 0, 0, 0, 0, 0, 0, 0, 0, 0, 0, 0, 0, 0, 0, 0, 0, 0, 0, 0, 0, 0, 0, 0, 0, 0, 0, 0, 0, 0, 0, 0, 0, 0, 0, 0, 0, 0, 0, 0, 0, 0, 0, 0, 0, 0, 0, 0, 0, 0, 0, 0, 0, 0, 0, 0, 0, 0, 0, 0, 0, 0, 0, 0, 0, 0, 0, 0, 0, 0, 0, 0, 0, 0, 0, 0, 0, 0, 0, 0, 0, 0, 0, 0, 0, 0, 0, 0, 0, 0, 0, 0, 0, 0, 0, 0, 0, 0, 0, 0, 0, 0, 0, 0, 0, 0, 0, 0, 0, 0, 0, 0, 0, 0, 0, 0, 0, 0, 0, 0, 0, 0, 0, 0, 0, 0, 0, 0, 0, 0, 0, 0, 0, 0, 0, 0, 0, 0, 0, 0, 0, 0, 0, 0, 0, 0, 0, 0, 0, 0, 0, 0, 0, 0, 0, 0, 0, 0, 0, 0, 0, 0, 0, 0, 0, 0, 0, 0, 0]\n"
     ]
    }
   ],
   "source": [
    "print([0 for _ in range(201)])"
   ]
  },
  {
   "cell_type": "markdown",
   "metadata": {},
   "source": [
    "> b. Make a list comprehension that results in a list of the string version of the\n",
    "digits, 0 through 9: \n",
    "```\n",
    "    ['0', '1', '2', '3', '4', '5', '6', '7', '8', '9']  \n",
    "```"
   ]
  },
  {
   "cell_type": "code",
   "execution_count": 17,
   "metadata": {},
   "outputs": [
    {
     "data": {
      "text/plain": [
       "['0', '1', '2', '3', '4', '5', '6', '7', '8', '9']"
      ]
     },
     "execution_count": 17,
     "metadata": {},
     "output_type": "execute_result"
    }
   ],
   "source": [
    "[str(n) for n in range(10)]"
   ]
  },
  {
   "cell_type": "markdown",
   "metadata": {},
   "source": [
    ">c. Use that `list` comprehension and a `str.join` to make this string:\n",
    "```python\n",
    "    \"0 + 1 + 2 + 3 + 4 + 5 + 6 + 7 + 8 + 9\"\n",
    "```"
   ]
  },
  {
   "cell_type": "code",
   "execution_count": 18,
   "metadata": {},
   "outputs": [
    {
     "data": {
      "text/plain": [
       "'0 + 1 + 2 + 3 + 4 + 5 + 6 + 7 + 8 + 9'"
      ]
     },
     "execution_count": 18,
     "metadata": {},
     "output_type": "execute_result"
    }
   ],
   "source": [
    "\" + \".join(str(n) for n in range(10))"
   ]
  },
  {
   "cell_type": "markdown",
   "metadata": {},
   "source": [
    ">d.  The Wu family has 4 members: \"Bo\", \"Li\", \"On\" and \"An\".  Use this, and a list comprehension, and `str.join` to make this alphabetized report of the family, all in one line:\n",
    "\n",
    "```python\n",
    "    \"An Wu, Bo Wu, Li Wu, On Wu\"\n",
    "```"
   ]
  },
  {
   "cell_type": "code",
   "execution_count": 19,
   "metadata": {},
   "outputs": [
    {
     "data": {
      "text/plain": [
       "'An Wu, Bo Wu, Li Wu, On Wu'"
      ]
     },
     "execution_count": 19,
     "metadata": {},
     "output_type": "execute_result"
    }
   ],
   "source": [
    "\", \".join(\"{} Wu\".format(name) for name in sorted([\"Bo\", \"Li\", \"On\", \"An\"]))"
   ]
  },
  {
   "cell_type": "markdown",
   "metadata": {},
   "source": [
    ">e.  Use a `list` comprehension and `str.join` to make the following column of numbers in one line of code:\n",
    "\n",
    "\n",
    "           0.1\n",
    "          10.1\n",
    "          20.1\n",
    "          30.1"
   ]
  },
  {
   "cell_type": "code",
   "execution_count": 20,
   "metadata": {},
   "outputs": [
    {
     "name": "stdout",
     "output_type": "stream",
     "text": [
      "  0.1\n",
      " 10.1\n",
      " 20.1\n",
      " 30.1\n"
     ]
    }
   ],
   "source": [
    "print('\\n'.join(\"{:>5.1f}\".format(number) for number in [n + .1 for n in range(0, 31, 10)]))"
   ]
  },
  {
   "cell_type": "markdown",
   "metadata": {},
   "source": [
    "`3.` Provide a MakeString function that receives a\n",
    "sequence of any objects, and optionally, a glue string, and\n",
    "returns a string containing all of the elements, each separated by the glue string.  The default glue string should be `\", \"`.\n",
    "\n",
    "Test it well."
   ]
  },
  {
   "cell_type": "code",
   "execution_count": 21,
   "metadata": {},
   "outputs": [
    {
     "name": "stdout",
     "output_type": "stream",
     "text": [
      "1, 2, 3\n",
      "1, eight, ball\n",
      "<built-in function print>, <function MakeString at 0x1064be620>, [1, 23]\n"
     ]
    }
   ],
   "source": [
    "def MakeString(sequence, glue=\", \"):\n",
    "    return glue.join([str(s) for s in sequence])\n",
    "\n",
    "def main():\n",
    "    print(MakeString((1,2,3)))\n",
    "    print(MakeString((1, \"eight\", \"ball\")))\n",
    "    print(MakeString((print, MakeString, [1,23])))\n",
    "    \n",
    "main()"
   ]
  },
  {
   "cell_type": "markdown",
   "metadata": {},
   "source": [
    "`4`. Use a `list` comprehension to make a 3 x 5 list of lists of the `str` versions of random integers from 0 to 9.  Put these into a numpy array."
   ]
  },
  {
   "cell_type": "code",
   "execution_count": 22,
   "metadata": {},
   "outputs": [
    {
     "data": {
      "text/plain": [
       "array([['9', '1', '2', '2', '5'],\n",
       "       ['9', '3', '3', '7', '1'],\n",
       "       ['3', '7', '6', '8', '2']],\n",
       "      dtype='<U1')"
      ]
     },
     "execution_count": 22,
     "metadata": {},
     "output_type": "execute_result"
    }
   ],
   "source": [
    "import numpy as np\n",
    "import random\n",
    "\n",
    "random_number_strs = [[str(random.randrange(10)) for x in range(5)] for y in range(3)]\n",
    "random_str_array = np.array(random_number_strs)\n",
    "random_str_array\n"
   ]
  },
  {
   "cell_type": "markdown",
   "metadata": {
    "collapsed": true
   },
   "source": [
    "Do:\n",
    "```python\n",
    "?np.random.randint\n",
    "```\n",
    "to find a better way to make the integer version of the array.  Give it a try.\n"
   ]
  },
  {
   "cell_type": "code",
   "execution_count": 23,
   "metadata": {},
   "outputs": [
    {
     "data": {
      "text/plain": [
       "array([[0, 9, 7, 9, 4],\n",
       "       [8, 7, 3, 1, 4],\n",
       "       [5, 9, 0, 0, 7]])"
      ]
     },
     "execution_count": 23,
     "metadata": {},
     "output_type": "execute_result"
    }
   ],
   "source": [
    "random_int_array = np.random.randint(10, size=(3,5))\n",
    "random_int_array"
   ]
  },
  {
   "cell_type": "markdown",
   "metadata": {},
   "source": [
    "Do:\n",
    "```python\n",
    "?np.ndarray.astype\n",
    "```\n",
    "to find a neat way to make `str`s from the `int`s."
   ]
  },
  {
   "cell_type": "code",
   "execution_count": 24,
   "metadata": {},
   "outputs": [
    {
     "data": {
      "text/plain": [
       "array([['0', '9', '7', '9', '4'],\n",
       "       ['8', '7', '3', '1', '4'],\n",
       "       ['5', '9', '0', '0', '7']],\n",
       "      dtype='<U21')"
      ]
     },
     "execution_count": 24,
     "metadata": {},
     "output_type": "execute_result"
    }
   ],
   "source": [
    "random_int_array.astype(str)"
   ]
  },
  {
   "cell_type": "markdown",
   "metadata": {},
   "source": [
    "`5.` Here are some colors:\n",
    "```python\n",
    "\"beige\", \"silver\", \"charcoal\", \"royal blue\", \"aquamarine\", \"forest green\",\n",
    " \"chartreuse\", \"lime\", \"golden\", \"goldenrod\", \"coral\", \"salmon\",  \"lemon\",\n",
    "\"hot pink\", \"fuchsia\", \"lavender\", \"plum\", \"indigo\", \"maroon\", \"crimson\"\n",
    "```\n",
    "\n",
    "Write a function that uses `enumerate` to display them sorted and formatted four across like:\n",
    "\n",
    "```python\n",
    "      aquamarine              beige           charcoal         chartreuse\n",
    "           coral            crimson       forest green            fuchsia\n",
    "          golden          goldenrod           hot pink             indigo\n",
    "        lavender              lemon               lime             maroon\n",
    "            plum         royal blue             salmon             silver\n",
    "```"
   ]
  },
  {
   "cell_type": "code",
   "execution_count": 25,
   "metadata": {},
   "outputs": [
    {
     "name": "stdout",
     "output_type": "stream",
     "text": [
      "      aquamarine              beige           charcoal         chartreuse\n",
      "           coral            crimson       forest green            fuchsia\n",
      "          golden          goldenrod           hot pink             indigo\n",
      "        lavender              lemon               lime             maroon\n",
      "            plum         royal blue             salmon             silver\n"
     ]
    }
   ],
   "source": [
    "COLORS = \"beige\", \"silver\", \"charcoal\", \"royal blue\", \"aquamarine\", \"forest green\",\"chartreuse\", \"lime\", \"golden\", \"goldenrod\", \"coral\", \"salmon\",  \"lemon\",\"hot pink\", \"fuchsia\", \"lavender\", \"plum\", \"indigo\", \"maroon\", \"crimson\"\n",
    "\n",
    "def Display(words=COLORS, across=4, sort_them=True):\n",
    "    if sort_them:\n",
    "        words = list(words)\n",
    "        words.sort()\n",
    "    width = max([len(word) for word in words]) + 4\n",
    "    for i, word in enumerate(words):\n",
    "        print(\"{0:>{1}}\".format(word, width), end='\\n' if i%across==(across-1) else \"   \" )\n",
    "        \n",
    "Display()"
   ]
  },
  {
   "cell_type": "markdown",
   "metadata": {},
   "source": [
    "`5.` Write a CountVowels function that takes some text as an argument and returns the number of vowels in the text.  Counting the number of 'a', 'e', 'i', 'o', and 'u's is the easy part.  For a challenge, also count 'y' as a vowel according to this specification:\n",
    "\n",
    "> `1.`  Count a 'y' as a consonant (non vowel):\n",
    "\n",
    ">> `1.a`   if it is the first character of a word.\n",
    "\n",
    ">> `1.b`   if it is preceded by a vowel: boy, way, hey.\n",
    "\n",
    "> `2.`  Count a 'y' as a vowel:\n",
    "\n",
    ">> `2.a`  if it is the 'y' in `ying` at then end of a word: flying, spying.\n",
    "\n",
    ">> `2.b`  if it is at the end of a word, and is preceded by a consonant: fly.\n",
    "\n",
    ">> `2.c`  if it preceded and followed by a consonant: myth, satyr.\n",
    "\n",
    "Hint: The `string` library has some constants that will help you. "
   ]
  },
  {
   "cell_type": "code",
   "execution_count": 26,
   "metadata": {},
   "outputs": [
    {
     "name": "stdout",
     "output_type": "stream",
     "text": [
      "24 Math, science, history, unraveling the mysteries,\n",
      "that all started with the big bang!\n",
      "11 boy way hey myth satyr fly flying spying\n"
     ]
    }
   ],
   "source": [
    "import string\n",
    "def CountVowels(phrase):\n",
    "    \"\"\"Returns the number of vowels in the \"phrase\" input.\n",
    "    'y' is not counted if it is the first character.\n",
    "        is not counted if it is preceded by a vowel.\n",
    "        is counted in 'ying' if it is at the end of the word.\n",
    "        is counted at the end of the word, if preceded by\n",
    "           a consonant.\n",
    "        is counted if it is preceded and followed by a\n",
    "           consonant.\n",
    "     \"\"\"\n",
    "    ALWAYS_VOWELS = \"aeiou\"\n",
    "    spurious = string.punctuation + '0123456789_'\n",
    "    count = 0\n",
    "    for word in phrase.lower().split():\n",
    "        word = word.strip(spurious)\n",
    "        l_word = len(word)\n",
    "        for index, char in enumerate(word):\n",
    "            if char in ALWAYS_VOWELS:\n",
    "                count += 1\n",
    "                continue\n",
    "            if char != 'y' or index == 0:\n",
    "                # now, char is 'y' and not the first char\n",
    "                continue\n",
    "            if word[index-1] in ALWAYS_VOWELS:\n",
    "                # preceded by a vowel\n",
    "                continue\n",
    "            if word.endswith('ying') and index == l_word - 4:\n",
    "                count += 1\n",
    "                continue\n",
    "            # now, it is a 'y' preceded by a consonant\n",
    "            if (index == l_word - 1   # at end of word\n",
    "                or word[index+1] not in ALWAYS_VOWELS):\n",
    "                # or followed by a consonant\n",
    "                count += 1\n",
    "    return count\n",
    "\n",
    "def main():\n",
    "    \"\"\"Tests the CountVowels function.\"\"\"\n",
    "    for test in (\n",
    "        \"\"\"Math, science, history, unraveling the mysteries,\n",
    "that all started with the big bang!\"\"\",\n",
    "        \"boy way hey myth satyr fly flying spying\",):\n",
    "        print(CountVowels(test), test)\n",
    "        \n",
    "main()"
   ]
  },
  {
   "cell_type": "markdown",
   "metadata": {},
   "source": [
    "`6.` Use list comprehension to make a function that returns a list\n",
    "      of strings, each string emulating one card, and the whole list\n",
    "      emulating a deck of cards.   In your caller, print out the cards,\n",
    "      comma-separated, except stick in \"and\" before the last card.\n",
    "\n",
    "```\n",
    "2 of Clubs, 3 of Clubs, 4 of Clubs, 5 of Clubs, 6 of Clubs, 7 of Clubs,\n",
    " 8 of Clubs, 9 of Clubs, 10 of Clubs, Jack of Clubs, Queen of Clubs, Ki\n",
    "ng of Clubs, Ace of Clubs, 2 of Diamonds, 3 of Diamonds, 4 of Diamonds,\n",
    " 5 of Diamonds, 6 of Diamonds, 7 of Diamonds, 8 of Diamonds, 9 of Diamo\n",
    "nds, 10 of Diamonds, Jack of Diamonds, Queen of Diamonds, King of Diamo\n",
    "nds, Ace of Diamonds, 2 of Hearts, 3 of Hearts, 4 of Hearts, 5 of Heart\n",
    "s, 6 of Hearts, 7 of Hearts, 8 of Hearts, 9 of Hearts, 10 of Hearts, Ja\n",
    "ck of Hearts, Queen of Hearts, King of Hearts, Ace of Hearts, 2 of Spad\n",
    "es, 3 of Spades, 4 of Spades, 5 of Spades, 6 of Spades, 7 of Spades, 8 \n",
    "of Spades, 9 of Spades, 10 of Spades, Jack of Spades, Queen of Spades, \n",
    "King of Spades, Ace of Spades, Joker, and Joker.     \n",
    "```"
   ]
  },
  {
   "cell_type": "code",
   "execution_count": 27,
   "metadata": {},
   "outputs": [
    {
     "name": "stdout",
     "output_type": "stream",
     "text": [
      "2 of Clubs, 3 of Clubs, 4 of Clubs, 5 of Clubs, 6 of Clubs, 7 of Clubs, 8 of Clubs, 9 of Clubs, 10 of Clubs, Jack of Clubs, Queen of Clubs, King of Clubs, Ace of Clubs, 2 of Diamonds, 3 of Diamonds, 4 of Diamonds, 5 of Diamonds, 6 of Diamonds, 7 of Diamonds, 8 of Diamonds, 9 of Diamonds, 10 of Diamonds, Jack of Diamonds, Queen of Diamonds, King of Diamonds, Ace of Diamonds, 2 of Hearts, 3 of Hearts, 4 of Hearts, 5 of Hearts, 6 of Hearts, 7 of Hearts, 8 of Hearts, 9 of Hearts, 10 of Hearts, Jack of Hearts, Queen of Hearts, King of Hearts, Ace of Hearts, 2 of Spades, 3 of Spades, 4 of Spades, 5 of Spades, 6 of Spades, 7 of Spades, 8 of Spades, 9 of Spades, 10 of Spades, Jack of Spades, Queen of Spades, King of Spades, Ace of Spades, Joker, and Joker.\n",
      "\n",
      "           2 of Clubs              3 of Clubs              4 of Clubs\n",
      "           5 of Clubs              6 of Clubs              7 of Clubs\n",
      "           8 of Clubs              9 of Clubs             10 of Clubs\n",
      "        Jack of Clubs          Queen of Clubs           King of Clubs\n",
      "         Ace of Clubs           2 of Diamonds           3 of Diamonds\n",
      "        4 of Diamonds           5 of Diamonds           6 of Diamonds\n",
      "        7 of Diamonds           8 of Diamonds           9 of Diamonds\n",
      "       10 of Diamonds        Jack of Diamonds       Queen of Diamonds\n",
      "     King of Diamonds         Ace of Diamonds             2 of Hearts\n",
      "          3 of Hearts             4 of Hearts             5 of Hearts\n",
      "          6 of Hearts             7 of Hearts             8 of Hearts\n",
      "          9 of Hearts            10 of Hearts          Jack of Hearts\n",
      "      Queen of Hearts          King of Hearts           Ace of Hearts\n",
      "          2 of Spades             3 of Spades             4 of Spades\n",
      "          5 of Spades             6 of Spades             7 of Spades\n",
      "          8 of Spades             9 of Spades            10 of Spades\n",
      "       Jack of Spades         Queen of Spades          King of Spades\n",
      "        Ace of Spades                   Joker                   Joker\n"
     ]
    }
   ],
   "source": [
    "def GetCards():\n",
    "    \"\"\"Return a deck of cards as a list of strings.\"\"\"\n",
    "    values = [str(x) for x in range(2, 11)\n",
    "              ] + ['Jack','Queen','King','Ace']\n",
    "    suits = ('Clubs', 'Diamonds', 'Hearts', 'Spades') \n",
    "    deck = ['%s of %s' % (value, suit) for suit in suits for value in values] + [\"Joker\"] * 2\n",
    "    return deck\n",
    "\n",
    "def main():\n",
    "    deck = GetCards()\n",
    "    print(', '.join(deck[:-1]) + \", and \" + deck[-1] + \".\")\n",
    "    print()\n",
    "    Display(deck, sort_them=False, across=3)\n",
    "    \n",
    "main()"
   ]
  }
 ],
 "metadata": {
  "kernelspec": {
   "display_name": "Python 3",
   "language": "python",
   "name": "python3"
  },
  "language_info": {
   "codemirror_mode": {
    "name": "ipython",
    "version": 3
   },
   "file_extension": ".py",
   "mimetype": "text/x-python",
   "name": "python",
   "nbconvert_exporter": "python",
   "pygments_lexer": "ipython3",
   "version": "3.5.0"
  }
 },
 "nbformat": 4,
 "nbformat_minor": 2
}
