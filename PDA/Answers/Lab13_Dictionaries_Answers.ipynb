{
 "cells": [
   {
   "cell_type": "markdown",
   "metadata": {},
   "source": [
    "# Exercises Lab13 Dictionaries\n",
    "\n",
    "`1.` Here is a dictionary of some Python keywords and their meanings:\n",
    "\n",
    "```python\n",
    "python_keywords = {\n",
    "\"for\":\"loop through data\",\n",
    "\"def\":\"define a function\",\n",
    "\"lambda\":\"define an anonymous function\"\n",
    "}\n",
    "```\n",
    "> a.  'pass` is a keyword meaning \"do nothing\".  Here's an example usage:\n",
    "```python\n",
    "       if lunch.find(\"sandwich\") > -1:\n",
    "           pass\n",
    "       else:\n",
    "          lunch += \", not a sandwich\"\n",
    "       print(\"lunch:\", lunch)\n",
    "```\n",
    "If that `pass` line isn't there, there is a syntax error.\n",
    "\n",
    ">  Add the key/value pair \"pass\"/\"do nothing\" to the `python_keywords` dictionary."
   ]
  },
  {
   "cell_type": "code",
   "execution_count": 16,
   "metadata": {},
   "outputs": [
    {
     "name": "stdout",
     "output_type": "stream",
     "text": [
      "def:define a function\n",
      "for:loop through data\n",
      "lambda:define an anonymous function\n",
      "pass:do nothing\n"
     ]
    }
   ],
   "source": [
    "python_keywords = {\n",
    "\"for\":\"loop through data\",\n",
    "\"def\":\"define a function\",\n",
    "\"lambda\":\"define an anonymous function\"\n",
    "}\n",
    "def PrintDict(the_dict):\n",
    "    print('\\n'.join(\"{}:{}\".format(k, python_keywords[k]) for k in sorted(python_keywords)))\n",
    "python_keywords[\"pass\"] = \"do nothing\"\n",
    "PrintDict(python_keywords)"
   ]
  },
  {
   "cell_type": "markdown",
   "metadata": {},
   "source": [
    "`2.` Maybe it's better to say that `for` means \"loop through an iterable\".  Fix that."
   ]
  },
  {
   "cell_type": "code",
   "execution_count": 17,
   "metadata": {},
   "outputs": [
    {
     "name": "stdout",
     "output_type": "stream",
     "text": [
      "def:define a function\n",
      "for:loop through an iterable\n",
      "lambda:define an anonymous function\n",
      "pass:do nothing\n"
     ]
    }
   ],
   "source": [
    "python_keywords[\"for\"] = \"loop through an iterable\"\n",
    "PrintDict(python_keywords)"
   ]
  },
  {
   "cell_type": "markdown",
   "metadata": {},
   "source": [
    "`3.` Here is another dictionary of some Python keywords and their meanings:\n",
    "```python\n",
    "more_keywords = {\n",
    "\"break\":\"jump out of the loop and don't go into the associated `else`\",\n",
    "\"and\":\"logical operator saying that both operands must be True for the expression to be True\",\n",
    "\"continue\":\"go to the top of the loop.\",\n",
    "\"lambda\":\"define inline functionality\"\n",
    "}\n",
    "```\n",
    "> Update the `python_keywords` dictionary to include these key/value pairs."
   ]
  },
  {
   "cell_type": "code",
   "execution_count": 18,
   "metadata": {
    "collapsed": true
   },
   "outputs": [],
   "source": [
    "more_keywords = {\n",
    "\"break\":\"jump out of the loop and don't go into the associated `else`\",\n",
    "\"and\":\"logical operator saying that both operands must be True for the expression to be True\",\n",
    "\"continue\":\"go to the top of the loop.\",\n",
    "\"lambda\":\"define inline functionality\"\n",
    "}\n",
    "python_keywords.update(more_keywords)"
   ]
  },
  {
   "cell_type": "markdown",
   "metadata": {},
   "source": [
    "`4.` Print a report of the keywords and their meanings, alphabetically by the keyword."
   ]
  },
  {
   "cell_type": "code",
   "execution_count": 19,
   "metadata": {},
   "outputs": [
    {
     "name": "stdout",
     "output_type": "stream",
     "text": [
      "and:logical operator saying that both operands must be True for the expression to be True\n",
      "break:jump out of the loop and don't go into the associated `else`\n",
      "continue:go to the top of the loop.\n",
      "def:define a function\n",
      "for:loop through an iterable\n",
      "lambda:define inline functionality\n",
      "pass:do nothing\n"
     ]
    }
   ],
   "source": [
    "PrintDict(python_keywords)"
   ]
  },
  {
   "cell_type": "markdown",
   "metadata": {},
   "source": [
    "`5.` Print a report of the keywords and their meanings, alphabetically by the meanings."
   ]
  },
  {
   "cell_type": "code",
   "execution_count": 20,
   "metadata": {},
   "outputs": [
    {
     "name": "stdout",
     "output_type": "stream",
     "text": [
      "            def:define a function\n",
      "         lambda:define inline functionality\n",
      "           pass:do nothing\n",
      "       continue:go to the top of the loop.\n",
      "          break:jump out of the loop and don't go into the associated `else`\n",
      "            and:logical operator saying that both operands must be True for the expression to be True\n",
      "            for:loop through an iterable\n"
     ]
    }
   ],
   "source": [
    "print(\"\\n\".join(\"{:>15}:{}\".format(k, python_keywords[k]) for k in sorted(\n",
    "python_keywords, key=lambda k:python_keywords[k])))"
   ]
  }
 ],
 "metadata": {
  "kernelspec": {
   "display_name": "Python 3",
   "language": "python",
   "name": "python3"
  },
  "language_info": {
   "codemirror_mode": {
    "name": "ipython",
    "version": 3
   },
   "file_extension": ".py",
   "mimetype": "text/x-python",
   "name": "python",
   "nbconvert_exporter": "python",
   "pygments_lexer": "ipython3",
   "version": "3.5.0"
  }
 },
 "nbformat": 4,
 "nbformat_minor": 2
}
