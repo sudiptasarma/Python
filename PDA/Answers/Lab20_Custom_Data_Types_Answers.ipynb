{
 "cells": [
   {
   "cell_type": "markdown",
   "metadata": {},
   "source": [
    "# Exercises Lab20 Custom Data Types"
   ]
  },
  {
   "cell_type": "markdown",
   "metadata": {},
   "source": [
    "`1.` Consider this code:\n",
    "```python\n",
    "class Line:\n",
    "    def __init__(self, length):\n",
    "        self.length = length\n",
    "\n",
    "    def __str__(self):\n",
    "        return '_' * self.length\n",
    "```\n",
    "> a. Instantiate a `Line` object:\n",
    "\n",
    "\\_\\_\\_\\_\\_\\_\\_\\_\\_\\_\\_\\_\\_\\_\\_\\_\\_\\_\\_\\_\\_\\_\\_\\_\\_\\_\\_\\_\\_\\_\\_\\_\\_\\_\\_\\_"
   ]
  },
  {
   "cell_type": "code",
   "execution_count": 4,
   "metadata": {
    "collapsed": true
   },
   "outputs": [],
   "source": [
    "class Line:\n",
    "    def __init__(self, length):\n",
    "        self.length = length\n",
    "\n",
    "    def __str__(self):\n",
    "        return '_' * self.length\n",
    "\n",
    "line = Line(40)"
   ]
  },
  {
   "cell_type": "markdown",
   "metadata": {},
   "source": [
    "> b. Which method gets called when you instantiate your {\\tt Line} object:\n",
    "\n",
    "\\_\\_\\_\\_\\_\\_\\_\\_\\_\\_\\_\\_\\_\\_\\_\\_\\_\\_\\_\\_\\_\\_\\_\\_\\_\\_\\_\\_\\_\\_\\_\\_\\_\\_\\_\\_"
   ]
  },
  {
   "cell_type": "code",
   "execution_count": 5,
   "metadata": {
    "collapsed": true
   },
   "outputs": [],
   "source": [
    "# __init__"
   ]
  },
  {
   "cell_type": "markdown",
   "metadata": {},
   "source": [
    "> c. Make your `Line` object draw itself.\n",
    "\n",
    "\\_\\_\\_\\_\\_\\_\\_\\_\\_\\_\\_\\_\\_\\_\\_\\_\\_\\_\\_\\_\\_\\_\\_\\_\\_\\_\\_\\_\\_\\_\\_\\_\\_\\_\\_\\_"
   ]
  },
  {
   "cell_type": "code",
   "execution_count": 6,
   "metadata": {},
   "outputs": [
    {
     "name": "stdout",
     "output_type": "stream",
     "text": [
      "________________________________________\n"
     ]
    }
   ],
   "source": [
    "print(line)"
   ]
  },
  {
   "cell_type": "markdown",
   "metadata": {},
   "source": [
    "> c.  Which method gets called when you `print` your line object?\n",
    "\n",
    "\\_\\_\\_\\_\\_\\_\\_\\_\\_\\_\\_\\_\\_\\_\\_\\_\\_\\_\\_\\_\\_\\_\\_\\_\\_\\_\\_\\_\\_\\_\\_\\_\\_\\_\\_\\_"
   ]
  },
  {
   "cell_type": "code",
   "execution_count": 7,
   "metadata": {
    "collapsed": true
   },
   "outputs": [],
   "source": [
    "# __str__"
   ]
  },
  {
   "cell_type": "markdown",
   "metadata": {},
   "source": [
    "> `d.`  Try this:  \n",
    "```python\n",
    "str(line)\n",
    "```"
   ]
  },
  {
   "cell_type": "code",
   "execution_count": 8,
   "metadata": {},
   "outputs": [
    {
     "data": {
      "text/plain": [
       "'________________________________________'"
      ]
     },
     "execution_count": 8,
     "metadata": {},
     "output_type": "execute_result"
    }
   ],
   "source": [
    "str(line)"
   ]
  },
  {
   "cell_type": "markdown",
   "metadata": {},
   "source": [
    "> `e.` Try this:\n",
    "```python\n",
    "\"{}{}\".format(line, line)\n",
    "```"
   ]
  },
  {
   "cell_type": "code",
   "execution_count": 9,
   "metadata": {},
   "outputs": [
    {
     "data": {
      "text/plain": [
       "'________________________________________________________________________________'"
      ]
     },
     "execution_count": 9,
     "metadata": {},
     "output_type": "execute_result"
    }
   ],
   "source": [
    "\"{}{}\".format(line, line)"
   ]
  },
  {
   "cell_type": "markdown",
   "metadata": {},
   "source": [
    "`2.` Make a Dice class.  Your `__str__` method should return a new roll.  If the roll is doubles, use this dictionary to give the gambler name for the roll instead of numbers:\n",
    "```python\n",
    "doubles_dict = { 1:\"Snake eyes!\", 2:\"Little joe!\",\n",
    "                 3:\"Hard six!\", 3:\"Hard eight!\", \n",
    "                 4:\"Fever!\", 5:\"Box cars!\" }\n",
    "```"
   ]
  },
  {
   "cell_type": "code",
   "execution_count": 10,
   "metadata": {},
   "outputs": [
    {
     "name": "stdout",
     "output_type": "stream",
     "text": [
      "5 and 3  6 and 2  3 and 4  \n",
      "6 and 2, 2 and 5, 3 and 6\n"
     ]
    }
   ],
   "source": [
    "import random\n",
    "doubles_dict = { 1:\"Snake eyes!\", 2:\"Little joe!\",\n",
    "                 3:\"Hard six!\", 4:\"Hard eight!\", \n",
    "                 5:\"Fever!\", 6:\"Box cars!\" }\n",
    "class Dice:\n",
    "    def __init__(self):\n",
    "        pass           # nothing to do here\n",
    "        \n",
    "    def __str__(self):\n",
    "        roll = [random.randint(1,6) for die in range(2)]\n",
    "        if roll[0] == roll[1]:\n",
    "            return doubles_dict[roll[0]]\n",
    "        return \"{} and {}\".format(*roll)\n",
    "    \n",
    "def main():\n",
    "    the_dice = Dice()\n",
    "    for roll in range(3):\n",
    "        print(the_dice, end=\"  \")\n",
    "    print()\n",
    "    print(\", \".join(str(the_dice) for roll in range(3)))\n",
    "        \n",
    "main()"
   ]
  }
 ],
 "metadata": {
  "kernelspec": {
   "display_name": "Python 3",
   "language": "python",
   "name": "python3"
  },
  "language_info": {
   "codemirror_mode": {
    "name": "ipython",
    "version": 3
   },
   "file_extension": ".py",
   "mimetype": "text/x-python",
   "name": "python",
   "nbconvert_exporter": "python",
   "pygments_lexer": "ipython3",
   "version": "3.5.0"
  }
 },
 "nbformat": 4,
 "nbformat_minor": 2
}
