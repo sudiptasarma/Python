{
 "cells": [
   {
   "cell_type": "markdown",
   "metadata": {},
   "source": [
    "## Exercises Lab10 Function Creation\n",
    "\n",
    "1.  Write a function, `RollDice(number_of_dice=2)` that returns a list of numbers, number_of_dice long, each randomly chosen from 1 - 6.  Test it by calling it 100 times, summing the dice each time, and calculating the average summed return.\n",
    "\n",
    "> Hint: Find something in the `random` library that will help you."
   ]
  },
  {
   "cell_type": "code",
   "execution_count": 15,
   "metadata": {},
   "outputs": [
    {
     "name": "stdout",
     "output_type": "stream",
     "text": [
      "5 and 4, 2 and 4, 6 and 3, 1 and 6, 4 and 5, 6 and 4, 6 and 5, 6 and 6, 5 and 3, 4 and 1, 1 and 5, 3 and 3, 6 and 3, 3 and 1, 3 and 3, 1 and 1, 5 and 1, 1 and 3, 3 and 2, 6 and 5, 3 and 1, 3 and 2, 4 and 3, 3 and 5, 1 and 6, 4 and 5, 6 and 5, 5 and 5, 6 and 5, 6 and 4, 1 and 3, 3 and 4, 5 and 4, 3 and 3, 5 and 5, 4 and 1, 3 and 3, 3 and 3, 3 and 4, 3 and 5, 1 and 3, 2 and 5, 1 and 6, 5 and 6, 3 and 1, 6 and 3, 2 and 5, 3 and 1, 3 and 3, and 6 and 6 sum to 366 with an average of 7.32 per roll.\n"
     ]
    }
   ],
   "source": [
    "import random\n",
    "def RollDice(number_of_dice=2):\n",
    "    dice = []\n",
    "    for count in range(number_of_dice):\n",
    "        dice.append(random.choice((range(1,7))))\n",
    "    return dice\n",
    "\n",
    "def Test(number_of_dice=2, number_of_rolls=50):\n",
    "    dice_sum = 0\n",
    "    dice_strs = []\n",
    "    for roll in range(number_of_rolls):\n",
    "        this_roll = RollDice(number_of_dice)\n",
    "        dice_sum += sum(this_roll)\n",
    "        dice_strs.append(\"{} and {}\".format(*this_roll))\n",
    "    dice_report = ', '.join(dice_strs[:-1]) + \", and {}\".format(dice_strs[-1])\n",
    "    print(\"{} sum to {} with an average of {} per roll.\".format(\n",
    "        dice_report, dice_sum, dice_sum/number_of_rolls))\n",
    "    \n",
    "def main():\n",
    "    Test()\n",
    "    \n",
    "main()"
   ]
  },
  {
   "cell_type": "markdown",
   "metadata": {},
   "source": [
    "*  Optional: Call `RollDice` 1000 times with number_of_dice=2 and produce a `counts` list like:\n",
    "```python\n",
    "[26, 72, 80, 121, 119, 155, 133, 125, 85, 58, 26] \n",
    "```\n",
    "   where `counts[0]` is the number of times that 2 was returned from `RollDice`,\n",
    "   `counts[1]` is the number of times that 3 was returned from `RollDie`, etc."
   ]
  },
  {
   "cell_type": "code",
   "execution_count": 16,
   "metadata": {},
   "outputs": [
    {
     "name": "stdout",
     "output_type": "stream",
     "text": [
      "[25, 62, 89, 114, 151, 155, 146, 109, 79, 45, 25]\n"
     ]
    }
   ],
   "source": [
    "def DistributeRolls(number_of_rolls=1000):\n",
    "    distribution = 11 * [0] # 12 - 2 + 1 = 11, number of possible values in sum of 2 dice.\n",
    "    for roll in range(number_of_rolls):\n",
    "        total = sum(RollDice(2))\n",
    "        distribution[total - 2] += 1\n",
    "    return distribution\n",
    "\n",
    "def main():\n",
    "    distribution = DistributeRolls(1000)\n",
    "    print(distribution)\n",
    "\n",
    "main()\n"
   ]
  },
  {
   "cell_type": "markdown",
   "metadata": {},
   "source": [
    "`2`.  Write a `DoBreakfast` function that has defaulted arguments:  \n",
    "```python\n",
    "meat = \"bacon\"\n",
    "eggs = \"scrambled\"\n",
    "toast = \"wheat\"\n",
    "beverage = \"coffee\"\n",
    "```\n",
    "Be sure these calls work as expected.  They return the following strings:\n",
    "\n",
    "|Call|Returns|\n",
    "|:---|:---|\n",
    "|`DoBreakfast()`|`Here is your bacon and scrambled eggs with wheat toast and coffee.`|\n",
    "|`DoBreakfast(\"steak\")`|`Here is your tofu and scrambled eggs with wheat toast and coffee.`|\n",
    "|`DoBreakfast(beverage=\"oj\", eggs=\"fried\")`|`Here is your bacon and fried eggs with wheat toast and oj.`"
   ]
  },
  {
   "cell_type": "code",
   "execution_count": 17,
   "metadata": {},
   "outputs": [
    {
     "name": "stdout",
     "output_type": "stream",
     "text": [
      "Here is your bacon and scrambled eggs with wheat toast and coffee.\n",
      "Here is your steak and scrambled eggs with wheat toast and coffee.\n",
      "Here is your bacon and fried eggs with wheat toast and oj.\n"
     ]
    }
   ],
   "source": [
    "def DoBreakfast(meat=\"bacon\", eggs=\"scrambled\", toast=\"wheat\", beverage=\"coffee\"):\n",
    "    return \"Here is your {} and {} eggs with {} toast and {}.\".format(meat, eggs, toast, beverage)\n",
    "\n",
    "def main():\n",
    "    print(DoBreakfast())\n",
    "    print(DoBreakfast(\"steak\"))\n",
    "    print(DoBreakfast(beverage=\"oj\", eggs=\"fried\"))\n",
    "    \n",
    "main()"
   ]
  },
  {
   "cell_type": "markdown",
   "metadata": {
    "collapsed": true
   },
   "source": [
    "`3.` What's the easiest way to make a call to your `DoBreakfast` function if you have this tuple:\n",
    "```python\n",
    "favorites = (\"ham\", \"poached\", \"English muffin\", \"tea\")  \n",
    "```"
   ]
  },
  {
   "cell_type": "code",
   "execution_count": 18,
   "metadata": {},
   "outputs": [
    {
     "name": "stdout",
     "output_type": "stream",
     "text": [
      "Here is your ham and poached eggs with English muffin toast and tea.\n"
     ]
    }
   ],
   "source": [
    "favorites = (\"ham\", \"poached\", \"English muffin\", \"tea\")  \n",
    "print(DoBreakfast(*favorites))"
   ]
  },
  {
   "cell_type": "markdown",
   "metadata": {},
   "source": [
    "`4.` Make a function, `ConvertBinaryStrToNumber(text)` that returns the base 10 version of the text, which should only be `0`s and `1`s.  Check that text only has `0`s and `1`s.  Hint:  check out the beginning of the documentation for `int`."
   ]
  },
  {
   "cell_type": "code",
   "execution_count": 19,
   "metadata": {},
   "outputs": [
    {
     "name": "stdout",
     "output_type": "stream",
     "text": [
      "1010 = 10\n",
      "1020 is not a binary string.\n"
     ]
    }
   ],
   "source": [
    "def ConvertBinaryStrToNumber(text):\n",
    "    for char in text:\n",
    "        if char not in \"01\":\n",
    "            print(text, \"is not a binary string.\")\n",
    "            break\n",
    "    else:\n",
    "        print(\"{} = {}\".format(text, int(text, 2)))\n",
    "        \n",
    "def main():\n",
    "    ConvertBinaryStrToNumber(\"1010\")\n",
    "    ConvertBinaryStrToNumber(\"1020\")\n",
    "main()\n"
   ]
  },
  {
   "cell_type": "markdown",
   "metadata": {},
   "source": [
    "`5`. Optional: Consider this chart that shows the result of mixing two prime colors:\n",
    "\n",
    "|primary|and|secondary|colors|\n",
    "|---|---|---|---|\n",
    "|.  |red|yellow|blue|\n",
    "|red|red|orange|purple|\n",
    "|yellow|orange|yellow|green|\n",
    "|blue|purple|green|blue|\n",
    "\n",
    "Write a function that takes in two primary colors \"red\", \"yellow\", or \"blue\"\n",
    "and returns the result of mixing them together.  If an unexpected color comes\n",
    "in, the result should be \"grey\".\n",
    "\n",
    "Hint:  If you concatonate the two colors, or put them in a list or tuple the `in` keyword is very useful."
   ]
  },
  {
   "cell_type": "code",
   "execution_count": 20,
   "metadata": {},
   "outputs": [
    {
     "name": "stdout",
     "output_type": "stream",
     "text": [
      "red + red = red.\n",
      "red + yellow = orange.\n",
      "red + blue = purple.\n",
      "red + aqua = grey.\n",
      "yellow + red = orange.\n",
      "yellow + yellow = yellow.\n",
      "yellow + blue = green.\n",
      "yellow + aqua = grey.\n",
      "blue + red = purple.\n",
      "blue + yellow = green.\n",
      "blue + blue = blue.\n",
      "blue + aqua = grey.\n",
      "aqua + red = grey.\n",
      "aqua + yellow = grey.\n",
      "aqua + blue = grey.\n",
      "aqua + aqua = aqua.\n"
     ]
    }
   ],
   "source": [
    "def MixColors(one, other):\n",
    "    \"\"\"if one and other are \"red\", \"yellow\", or \"blue\", the mix of the two colors is returned.\n",
    "    Otherwise, \"grey\" is returned.\n",
    "    \"\"\"\n",
    "    if one == other:\n",
    "        return one\n",
    "    \n",
    "    both = one + other       # both = [one, other]  works the same.\n",
    "    \n",
    "    if \"red\" in both:\n",
    "        if \"yellow\" in both:\n",
    "            return \"orange\"\n",
    "        if \"blue\" in both:\n",
    "            return \"purple\"\n",
    "\n",
    "    if \"yellow\" in both:\n",
    "        if \"blue\" in both:\n",
    "            return \"green\"\n",
    "\n",
    "    return \"grey\"\n",
    "            \n",
    "\n",
    "def TestMixColors():\n",
    "    \"\"\"Tests MixColors with all possible combiniations of colors.\n",
    "    \"\"\"\n",
    "    colors = \"red\", \"yellow\", \"blue\", \"aqua\"\n",
    "    for one in colors:\n",
    "        for other in colors:\n",
    "            now = one, other    \n",
    "            print(\"{} + {} = {}.\".format(*now, MixColors(*now)))\n",
    "            \n",
    "def main():\n",
    "    TestMixColors()\n",
    "    \n",
    "main()"
   ]
  },
  {
   "cell_type": "markdown",
   "metadata": {},
   "source": [
    "`6`.  Optional: Write a function that accumulates into a list, 5 lotto picks.  Each lotto pick is a `list` of 6 numbers from 1 to 52, with no repeats.  Present them sorted, and printed them like this:\n",
    "\n",
    "```python\n",
    "Your lotto picks: \n",
    "\t6, 9, 10, 29, 37, 43\n",
    "\t1, 2, 10, 29, 31, 32\n",
    "\t4, 16, 22, 39, 43, 44\n",
    "\t4, 10, 12, 28, 37, 44\n",
    "\t15, 16, 22, 24, 49, 52\n",
    "``` \n",
    "\n",
    ">  Hints:  Use `random.sample` to create each lotto pick of 6 numbers from 1 - 52 with no repeats.\n",
    ">          Use `for/in/range` to accumulate the 5 lotto picks."
   ]
  },
  {
   "cell_type": "code",
   "execution_count": 21,
   "metadata": {},
   "outputs": [
    {
     "name": "stdout",
     "output_type": "stream",
     "text": [
      "[['6', '10', '31', '33', '40', '51'], ['1', '13', '16', '19', '21', '35'], ['7', '9', '20', '33', '39', '44'], ['7', '8', '14', '15', '17', '49'], ['14', '21', '23', '24', '47', '50']]\n"
     ]
    }
   ],
   "source": [
    "def PickLotto(number_of_picks):\n",
    "    \"\"\"Generates and returns a list of number_of_picks, lotto picks.\n",
    "    Each lotto pick is a list of 6 numbers from 1 - 52.\n",
    "    \"\"\"\n",
    "    lotto_picks = []\n",
    "    for pick in range(number_of_picks):\n",
    "        lotto_picks.append(random.sample(range(1, 53), 6))\n",
    "    return lotto_picks\n",
    "\n",
    "def StrPicks(picks):\n",
    "    \"\"\"A list of lists of numbers comes in,\n",
    "    A list of sorted lists of number strs is returned.\n",
    "    \"\"\"\n",
    "    str_picks = []\n",
    "    for pick in picks:\n",
    "        str_pick = []\n",
    "        for number in sorted(pick):\n",
    "            str_pick.append(str(number))\n",
    "        str_picks.append(str_pick)\n",
    "    return str_picks\n",
    "\n",
    "def main(number_of_picks=5):\n",
    "    picks = PickLotto(5)\n",
    "    print(StrPicks(picks))\n",
    "    \n",
    "main()\n",
    "    "
   ]
  },
  {
   "cell_type": "markdown",
   "metadata": {},
   "source": [
    "  Extra:  Instead, have your output look like:\n",
    "  \n",
    "```python\n",
    "Your lotto picks: \n",
    "\t6, 9, 10, 29, 37, and 43\n",
    "\t1, 2, 10, 29, 31, and 32\n",
    "\t4, 16, 22, 39, 43, and 44\n",
    "\t4, 10, 12, 28, 37, and 44\n",
    "\t15, 16, 22, 24, 49, and 52\n",
    "``` "
   ]
  },
  {
   "cell_type": "code",
   "execution_count": 22,
   "metadata": {},
   "outputs": [
    {
     "name": "stdout",
     "output_type": "stream",
     "text": [
      "Your lotto picks: \n",
      "\t2, 9, 17, 31, 45, and 52\n",
      "\t15, 18, 21, 24, 36, and 40\n",
      "\t11, 12, 17, 32, 40, and 49\n",
      "\t13, 19, 23, 25, 28, and 40\n",
      "\t1, 3, 4, 25, 41, and 52\n",
      "\t\n"
     ]
    }
   ],
   "source": [
    "def FancyPicks(picks):\n",
    "    \"\"\"Returns the array of lotto picks as a readable str with \", and\"\n",
    "    before each last number in a pick.\n",
    "    \"\"\"\n",
    "    ret_str = \"Your lotto picks: \\n\\t\"\n",
    "    str_picks = StrPicks(picks)\n",
    "    for str_list in StrPicks(picks):\n",
    "        ret_str += ', '.join(str_list[:-1]) + \", and \" + str_list[-1] + '\\n\\t'\n",
    "    return ret_str \n",
    "\n",
    "def main(number_of_picks=5):\n",
    "    picks = PickLotto(5)\n",
    "    print(FancyPicks(picks))\n",
    "    \n",
    "main()\n",
    "    "
   ]
  }
 ],
 "metadata": {
  "kernelspec": {
   "display_name": "Python 3",
   "language": "python",
   "name": "python3"
  },
  "language_info": {
   "codemirror_mode": {
    "name": "ipython",
    "version": 3
   },
   "file_extension": ".py",
   "mimetype": "text/x-python",
   "name": "python",
   "nbconvert_exporter": "python",
   "pygments_lexer": "ipython3",
   "version": "3.5.0"
  }
 },
 "nbformat": 4,
 "nbformat_minor": 2
}
