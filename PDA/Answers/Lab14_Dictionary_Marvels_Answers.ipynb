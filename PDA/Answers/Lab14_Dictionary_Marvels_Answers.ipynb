{
 "cells": [
   {
   "cell_type": "markdown",
   "metadata": {},
   "source": [
    "# Exercises Lab14 Dictionary Marvels\n",
    "\n",
    "`1.` Consider this function:\n",
    "\n",
    "```python\n",
    "def AssignItem(container):\n",
    "    container[1] = \":*)\"\n",
    "```\n",
    "> What happens with the following code snippets?  Don't test until after you've made a guess:\n",
    "\n",
    "> a. \n",
    "```python\n",
    "shapes = [\"dot\", \"square\", \"triangle\"]\n",
    "AssignItem(shapes)\n",
    "print(shapes)\n",
    "```\n",
    "\n",
    "> b.\n",
    "```python\n",
    "fruits = {\"peach\":\"sweet\",\n",
    "          \"lemon\":\"sour\",\n",
    "          \"kiwi\":\"tangy\"}\n",
    "AssignItem(fruits)\n",
    "print(fruits)\n",
    "```\n",
    "\n",
    "> c.\n",
    "```python\n",
    "name = \"Rasmus\"\n",
    "AssignItem(name)\n",
    "print(name)\n",
    "```"
   ]
  },
  {
   "cell_type": "markdown",
   "metadata": {},
   "source": [
    "`2.` Create a `MakeBouquet` function that accepts any keyworded arguments.  With no arguments, this call:\n",
    "\n",
    "```python\n",
    "print(MakeBouquet()) \n",
    "```\n",
    "produces this output, but the flowers are not in any particular order:\n",
    "> ```Here is your beautiful bouquet of red roses, white carnations, and yellow tulips.\n",
    "```\n",
    "\n",
    "```python\n",
    "print(MakeBouquet(lilies=\"white\", carnations=\"pink\", ferns=\"green\"))\n",
    "```\n",
    "produces this output:\n",
    "> ```Here is your beautiful bouquet of green ferns, pink carnations, red roses, white lilies, and yellow tulips.\n",
    "```\n",
    "\n",
    "What do you get with:\n",
    "```python\n",
    "print(MakeBouquet(grapes=\"purple\", sponges=\"bob\"))\n",
    "```"
   ]
  },
  {
   "cell_type": "code",
   "execution_count": 8,
   "metadata": {},
   "outputs": [
    {
     "name": "stdout",
     "output_type": "stream",
     "text": [
      "Here is your beautiful bouquet of yellow tulips, red roses, and white carnations.\n",
      "Here is your beautiful bouquet of yellow tulips, white lilies, green ferns, red roses, and pink carnations.\n",
      "Here is your beautiful bouquet of yellow tulips, purple grapes, bob sponges, red roses, and white carnations.\n"
     ]
    }
   ],
   "source": [
    "def MakeBouquet(**d_args):\n",
    "    default_bouquet = {\"roses\":\"red\", \"carnations\":\"white\", \"tulips\":\"yellow\"}\n",
    "    default_bouquet.update(d_args)\n",
    "    flower_report = ', '.join(\"{} {}\".format(default_bouquet[k], k) for k in default_bouquet)\n",
    "    parts = flower_report.rsplit(', ', 1)\n",
    "    flower_report = parts[0] + ', and ' + parts[1] + '.'\n",
    "    return \"Here is your beautiful bouquet of \" + flower_report\n",
    "\n",
    "def main():\n",
    "    print(MakeBouquet())\n",
    "    print(MakeBouquet(lilies=\"white\", carnations=\"pink\", ferns=\"green\"))\n",
    "    print(MakeBouquet(grapes=\"purple\", sponges=\"bob\"))\n",
    "\n",
    "main()"
   ]
  },
  {
   "cell_type": "markdown",
   "metadata": {},
   "source": [
    "`3.` In your function definitions, you can mix in regular positional and defaulted arguments as well as the **   argument. For example:"
   ]
  },
  {
   "cell_type": "code",
   "execution_count": 9,
   "metadata": {},
   "outputs": [
    {
     "name": "stdout",
     "output_type": "stream",
     "text": [
      "Jose speaks Spanish\n",
      "Mary speaks English\n",
      "Louise speaks Romanian\n",
      "\tEducation:HS\n",
      "\tSSN:123-456-7890\n"
     ]
    }
   ],
   "source": [
    "def ReportOn(name, language=\"Spanish\", **other_stuff):\n",
    "    print(\"{} speaks {}\".format(name, language))\n",
    "    for thing in other_stuff:\n",
    "        print(\"\\t{}:{}\".format(thing, other_stuff[thing]))\n",
    "        \n",
    "ReportOn(\"Jose\")\n",
    "ReportOn(\"Mary\", \"English\")\n",
    "ReportOn(\"Louise\", SSN=\"123-456-7890\", Education=\"HS\", language=\"Romanian\")\n",
    "          "
   ]
  },
  {
   "cell_type": "markdown",
   "metadata": {},
   "source": [
    "> Make some more calls to `ReportOn` and be sure you understand."
   ]
  },
  {
   "cell_type": "markdown",
   "metadata": {},
   "source": [
    "`4.` Create a PrintRecipe function that requires the name of the recipe. The number of servings may or may not be given in the call because the default it 4.  The ingredients are given as keyword arguments.\n",
    "\n",
    "This call:\n",
    "\n",
    "```python\n",
    "PrintRecipe(\"Mayonaise\", oil=\"1 C\", yolks = \"2\", lemonjuice = \"1 t\", mustard = \"1/2 t\")\n",
    "```\n",
    "produces this output:\n",
    "\n",
    "```python\n",
    "  Mayonaise for 4 servings\n",
    " \n",
    "  Ingredients\n",
    "\n",
    "           2    yolks           \n",
    "         1 C    oil         \n",
    "       1/2 t    mustard       \n",
    "         1 t    lemonjuice\n",
    "```"
   ]
  },
  {
   "cell_type": "code",
   "execution_count": 10,
   "metadata": {},
   "outputs": [
    {
     "name": "stdout",
     "output_type": "stream",
     "text": [
      "Mayonaise for 4 servings\n",
      "\n",
      "Ingredients\n",
      "       1/2 t    mustard\n",
      "         1 C    oil\n",
      "           2    yolks\n",
      "         1 t    lemonjuice\n"
     ]
    }
   ],
   "source": [
    "def PrintRecipe(name, servings=4, **ingredients):\n",
    "    print(name, \"for\", servings, \"serving\" + \"s\" if servings != 1 else \"s\" + '.')\n",
    "    print(\"\"\"\n",
    "Ingredients\"\"\")\n",
    "    for ingredient in ingredients:\n",
    "        print(\"{:>12}    {}\".format(ingredients[ingredient], ingredient))\n",
    "        \n",
    "PrintRecipe(\"Mayonaise\", oil=\"1 C\", yolks = \"2\", lemonjuice = \"1 t\", mustard = \"1/2 t\")\n",
    "    "
   ]
  },
  {
   "cell_type": "markdown",
   "metadata": {
    "collapsed": true
   },
   "source": [
    "`5.` Here are some data extracted from the \"Texas Beer Project\" at ```https://data.world/gswider/the-texas-beer-project?utm_campaign=data_digest&utm_source=email&utm_medium=email&utm_content=180706&_hsenc=p2ANqtz-_UZp7F5pofUA94p5IQM23YvCAuMFuVPlxuU3iy6JqPaazn-NTyyg8LcDHAMpQckr8z25SbqRSGMu6pv6aUR_JAqKJO3A&_hsmi=64286295```"
   ]
  },
  {
   "cell_type": "code",
   "execution_count": 11,
   "metadata": {
    "collapsed": true
   },
   "outputs": [],
   "source": [
    "best_brews = {\n",
    "\"Alabama\":{\"brewpub\":\"\",\"brewer_tap_room\":\"Good People Brewing Company\",\"bar\":\"The Nook\"},\n",
    "\"Alaska\":{\"brewpub\":\"Mooses Tooth Pub and Pizzeria\",\"brewer_tap_room\":\"Midnight Sun Brewing Company\",\"bar\":\"Humpy's Great Alaskan Alehouse\"},\n",
    "\"Arizona\":{\"brewpub\":\"Papago Brewing Company\",\"brewer_tap_room\":\"Dragoon Brewing Co. Tap Room\",\"bar\":\"Angel's Trumpet Ale House\"},\n",
    "\"Arkansas\":{\"brewpub\":\"\",\"brewer_tap_room\":\"Diamond Bear Brewing Company\",\"bar\":\"Flying Saucer Draught Emporium - Little Rock\"},\n",
    "\"California\":{\"brewpub\":\"Beachwood BBQ and Brewing\",\"brewer_tap_room\":\"The Bruery\",\"bar\":\"Churchill's Pub and Grille\"},\n",
    "\"Colorado\":{\"brewpub\":\"Trinity Brewpub\",\"brewer_tap_room\":\"Avery Brewing Company\",\"bar\":\"Falling Rock Tap House\"},\n",
    "\"Connecticut\":{\"brewpub\":\"Willimantic Brewing Company and Main Street Cafe\",\"brewer_tap_room\":\"OEC Brewing (Ordinem Ecentrici Coctores)\",\"bar\":\"Cask Republic\"},\n",
    "\"Delaware\":{\"brewpub\":\"Dogfish Head Brewing & Eats\",\"brewer_tap_room\":\"Dogfish Head Brewery\",\"bar\":\"Two Stones Pub\"},\n",
    "\"Florida\":{\"brewpub\":\"Redlight Redlight Beer Parlour & Brewery\",\"brewer_tap_room\":\"Cigar City Brewing\",\"bar\":\"Mermaid Juice\"},\n",
    "\"Georgia\":{\"brewpub\":\"Wrecking Bar Brewpub\",\"brewer_tap_room\":\"Terrapin Beer Company\",\"bar\":\"Brick Store Pub\"},\n",
    "\"Hawaii\":{\"brewpub\":\"Kona Brewing Company - Kailua\",\"brewer_tap_room\":\"\",\"bar\":\"REAL a gastropub\"},\n",
    "\"Idaho\":{\"brewpub\":\"Sockeye Grill & Brewery - Cole Rd\",\"brewer_tap_room\":\"Laughing Dog Brewing\",\"bar\":\"BitterCreek Ale House\"},\n",
    "\"Illinois\":{\"brewpub\":\"Revolution Brewing Company - Milwaukee Ave Brewpub\",\"brewer_tap_room\":\"Lagunitas Chicago Taproom\",\"bar\":\"Local Option\"},\n",
    "\"Indiana\":{\"brewpub\":\"New Albanian Brewing Company Pizzeria and Public House\",\"brewer_tap_room\":\"New Day Craft Mead & Cider\",\"bar\":\"Trion Tavern\"},\n",
    "\"Iowa\":{\"brewpub\":\"Exile Brewing Company\",\"brewer_tap_room\":\"Toppling Goliath\",\"bar\":\"El Bait Shop\"},\n",
    "\"Kansas\":{\"brewpub\":\"Free State Brewing Company\"},\n",
    "\"Kentucky\":{\"brewpub\":\"Ei8ht Ball Brewing\",\"brewer_tap_room\":\"Country Boy Brewery\",\"bar\":\"Holy Grale\"},\n",
    "\"Louisiana\":{\"brewpub\":\"\",\"brewer_tap_room\":\"NOLA Brewing Co.\",\"bar\":\"Avenue Pub\"},\n",
    "\"Maine\":{\"brewpub\":\"Liquid Riot Bottling Company\",\"brewer_tap_room\":\"Maine Beer Company\",\"bar\":\"Novare Res Bier Caf'\"},\n",
    "\"Maryland\":{\"brewpub\":\"Evolution Craft Brewing Company - Public House\",\"brewer_tap_room\":\"Burley Oak Brewery\",\"bar\":\"Max's Taphouse\"},\n",
    "\"Massachusetts\":{\"brewpub\":\"Cambridge Brewing Company\",\"brewer_tap_room\":\"Jack's Abby Brewing\",\"bar\":\"Armsby Abbey\"},\n",
    "\"Michigan\":{\"brewpub\":\"HopCat\",\"brewer_tap_room\":\"Founders Brewing Company\",\"bar\":\"Ashley's\"},\n",
    "\"Minnesota\":{\"brewpub\":\"Minneapolis Town Hall Brewery\",\"brewer_tap_room\":\"Surly Brewing Company\",\"bar\":\"The Happy Gnome\"},\n",
    "\"Missouri\":{\"brewpub\":\"Schlafly Tap Room - Saint Louis Brewery\",\"brewer_tap_room\":\"Side Project Cellar\",\"bar\":\"Bridge Tap House & Wine Bar\"},\n",
    "\"Montana\":{\"brewpub\":\"Tamarack Brewing Company\",\"brewer_tap_room\":\"Angry Hank's Micro Brewery\",\"bar\":\"The Rhinoceros\"},\n",
    "\"Nebraska\":{\"brewpub\":\"Upstream Brewing Company (Old Market)\",\"brewer_tap_room\":\"\",\"bar\":\"Crescent Moon Alehouse (Huber Haus & Max and Joes)\"},\n",
    "\"Nevada\":{\"brewpub\":\"Brasserie Saint James\",\"brewer_tap_room\":\"Banger Brewing Company\",\"bar\":\"Aces & Ales (Tenaya Way)\"},\n",
    "\"New Hampshire\":{\"brewpub\":\"Portsmouth Brewery\",\"brewer_tap_room\":\"Smuttynose Brewing Company (Hayseed restaurant)\",\"bar\":\"Strange Brew\"},\n",
    "\"New Jersey\":{\"brewpub\":\"Iron Hill Maple Shade\",\"brewer_tap_room\":\"Kane Brewing Company\",\"bar\":\"Andy's Corner Bar\"},\n",
    "\"New Mexico\":{\"brewpub\":\"Marble Brewery\",\"brewer_tap_room\":\"La Cumbre Brewing Co.\"},\n",
    "\"New York\":{\"brewpub\":\"The Peekskill Brewery\",\"brewer_tap_room\":\"Newburgh Brewing Company\",\"bar\":\"T'rst (Torst)\"},\n",
    "\"North Carolina\":{\"brewpub\":\"Wicked Weed Brewing\",\"brewer_tap_room\":\"Wicked Weed Funkatorium\",\"bar\":\"Thirsty Monk Brewery & Pub\"},\n",
    "\"North Dakota\":{\"brewpub\":\"\",\"brewer_tap_room\":\"Laughing Sun Brewing Company\",\"bar\":\"JL Beers - Fargo\"},\n",
    "\"Ohio\":{\"brewpub\":\"Jackie O's Brewpub & Public House\",\"brewer_tap_room\":\"Jackie O's Production Facility & Taproom\",\"bar\":\"Tremont Tap House\"},\n",
    "\"Oklahoma\":{\"brewpub\":\"Pete's Place Restaurant & Brewery\",\"brewer_tap_room\":\"\",\"bar\":\"RePUBlic Gastropub\"},\n",
    "\"Oregon\":{\"brewpub\":\"Cascade Brewing Barrel House\",\"brewer_tap_room\":\"Hair of the Dog Brewing Company\",\"bar\":\"Belmont Station\"},\n",
    "\"Pennsylvania\":{\"brewpub\":\"Tired Hands Brewing Company - Brew Cafe\",\"brewer_tap_room\":\"Weyerbacher Brewing Company\",\"bar\":\"Capones Restaurant\"},\n",
    "\"Rhode Island\":{\"brewpub\":\"\",\"brewer_tap_room\":\"\",\"bar\":\"The Malted Barley\"},\n",
    "\"South Carolina\":{\"brewpub\":\"Edmund's Oast\",\"brewer_tap_room\":\"Westbrook Brewing Company\",\"bar\":\"Flying Saucer Draught Emporium - Columbia\"},\n",
    "\"Tennessee\":{\"brewpub\":\"Terminal BrewHouse\",\"brewer_tap_room\":\"Yazoo Brewing Company\",\"bar\":\"Flying Saucer Draught Emporium - Nashville\"},\n",
    "\"Texas\":{\"brewpub\":\"Draught House Pub and Brewery\",\"brewer_tap_room\":\"Jester King Brewery\",\"bar\":\"Craft and Growler\"},\n",
    "\"Utah\":{\"brewpub\":\"Squatters BrewPub (SLC Brewing)\",\"brewer_tap_room\":\"Epic Brewing Company\",\"bar\":\"The Bayou\"},\n",
    "\"Vermont\":{\"brewpub\":\"American Flatbread Burlington Hearth / Zero Gravity Craft Brewery\",\"brewer_tap_room\":\"Hill Farmstead Brewery\",\"bar\":\"Blackback Pub\"},\n",
    "\"Virginia\":{\"brewpub\":\"Blue Mountain Brewery and Hop Farm\",\"brewer_tap_room\":\"Strangeways Brewing\",\"bar\":\"The Birch\"},\n",
    "\"Washington\":{\"brewpub\":\"Naked City Taphouse\",\"brewer_tap_room\":\"Reuben's Brews\",\"bar\":\"Brouwer's Cafe\"},\n",
    "\"Washington DC\":{\"brewpub\":\"The Arsenal at Bluejacket\",\"brewer_tap_room\":\"DC Brau\",\"bar\":\"The Sovereign\"},\n",
    "\"Wisconsin\":{\"brewpub\":\"Vintage Brewing Company\",\"brewer_tap_room\":\"New Glarus Brewing\",\"bar\":\"Sugar Maple\"},\n",
    "\"Wyoming\":{\"brewpub\":\"Snake River Brewing Co.\",\"brewer_tap_room\":\"Thai Me Up Restaurant & Brewery\"}\n",
    "}"
   ]
  },
  {
   "cell_type": "markdown",
   "metadata": {},
   "source": [
    "Write a `ReportBestBrews(state)` function such that this call:\n",
    "```python\n",
    "ReportBestBrews(\"Oklahoma\")\n",
    "```\n",
    "produces this output:\n",
    "> ```Oklahoma:  Pete's Place Restaurant & Brewery brewpub,  brewer tap room, RePUBlic Gastropub bar.```\n",
    "\n",
    "\n",
    "> Hint:  The `best_brews` data is definited globally, or \"in the module namespace\".  This means that functions defined in the same file, if they are defined after `best_brews`, can use it."
   ]
  },
  {
   "cell_type": "code",
   "execution_count": 12,
   "metadata": {},
   "outputs": [
    {
     "name": "stdout",
     "output_type": "stream",
     "text": [
      "Oklahoma:  Pete's Place Restaurant & Brewery brewpub,  brewer tap room, RePUBlic Gastropub bar.\n"
     ]
    }
   ],
   "source": [
    "def ReportBestBrews(state):\n",
    "    print(\"{}:  {brewpub} brewpub, {brewer_tap_room} brewer tap room, {bar} bar.\".format(state, **best_brews[state]))\n",
    "    \n",
    "ReportBestBrews(\"Oklahoma\")"
   ]
  },
  {
   "cell_type": "code",
   "execution_count": 13,
   "metadata": {},
   "outputs": [
    {
     "name": "stdout",
     "output_type": "stream",
     "text": [
      "Here is your beautiful bouquet of red roses, white carnations, and yellow tulips.\n",
      "Here is your beautiful bouquet of green ferns, pink carnations, red roses, white lilies, and yellow tulips.\n",
      "Here is your beautiful bouquet of bob sponges, purple grapes, red roses, white carnations, and yellow tulips.\n"
     ]
    }
   ],
   "source": [
    "def MakeBouquet(**flowers_in):\n",
    "    flowers = {\"roses\":\"red\",\"tulips\":\"yellow\",\"carnations\":\"white\"}\n",
    "    flowers.update(flowers_in)\n",
    "    flowers_sorted = sorted(flowers, key = lambda f:flowers[f])\n",
    "    return \"Here is your beautiful bouquet of \" + \", \".join(\"{} {}\".format(flowers[flower], flower) \n",
    "                     for flower in flowers_sorted[:-1]) + \", and {} {}.\".format(flowers[flowers_sorted[-1]], \n",
    "                                                                                flowers_sorted[-1])\n",
    "print(MakeBouquet()) \n",
    "print(MakeBouquet(lilies=\"white\", carnations=\"pink\", ferns=\"green\"))\n",
    "print(MakeBouquet(grapes=\"purple\", sponges=\"bob\"))"
   ]
  },
  {
   "cell_type": "markdown",
   "metadata": {},
   "source": [
    "'6.'  Make a Pandas DataFrame with the `best_brews` data.\n",
    "\n",
    "> Perhaps you don't like how it looks and you wish the rows were the columns and the columns were the rows.\n",
    "Try this:\n",
    "\n",
    "```python\n",
    "brew_frame.T\n",
    "```\n",
    "to fix that.\n",
    "\n",
    "> Perhaps you'd like to see just a few rows of the data.  Try this:\n",
    "\n",
    "```python\n",
    "brew_frame.T.head(3)\n",
    "```"
   ]
  },
  {
   "cell_type": "code",
   "execution_count": 14,
   "metadata": {
    "collapsed": true
   },
   "outputs": [],
   "source": [
    "import pandas as pd\n",
    "brew_frame = pd.DataFrame(best_brews)"
   ]
  },
  {
   "cell_type": "code",
   "execution_count": 15,
   "metadata": {},
   "outputs": [
    {
     "data": {
      "text/html": [
       "<div>\n",
       "<style>\n",
       "    .dataframe thead tr:only-child th {\n",
       "        text-align: right;\n",
       "    }\n",
       "\n",
       "    .dataframe thead th {\n",
       "        text-align: left;\n",
       "    }\n",
       "\n",
       "    .dataframe tbody tr th {\n",
       "        vertical-align: top;\n",
       "    }\n",
       "</style>\n",
       "<table border=\"1\" class=\"dataframe\">\n",
       "  <thead>\n",
       "    <tr style=\"text-align: right;\">\n",
       "      <th></th>\n",
       "      <th>bar</th>\n",
       "      <th>brewer_tap_room</th>\n",
       "      <th>brewpub</th>\n",
       "    </tr>\n",
       "  </thead>\n",
       "  <tbody>\n",
       "    <tr>\n",
       "      <th>Alabama</th>\n",
       "      <td>The Nook</td>\n",
       "      <td>Good People Brewing Company</td>\n",
       "      <td></td>\n",
       "    </tr>\n",
       "    <tr>\n",
       "      <th>Alaska</th>\n",
       "      <td>Humpy's Great Alaskan Alehouse</td>\n",
       "      <td>Midnight Sun Brewing Company</td>\n",
       "      <td>Mooses Tooth Pub and Pizzeria</td>\n",
       "    </tr>\n",
       "    <tr>\n",
       "      <th>Arizona</th>\n",
       "      <td>Angel's Trumpet Ale House</td>\n",
       "      <td>Dragoon Brewing Co. Tap Room</td>\n",
       "      <td>Papago Brewing Company</td>\n",
       "    </tr>\n",
       "  </tbody>\n",
       "</table>\n",
       "</div>"
      ],
      "text/plain": [
       "                                    bar               brewer_tap_room  \\\n",
       "Alabama                        The Nook   Good People Brewing Company   \n",
       "Alaska   Humpy's Great Alaskan Alehouse  Midnight Sun Brewing Company   \n",
       "Arizona       Angel's Trumpet Ale House  Dragoon Brewing Co. Tap Room   \n",
       "\n",
       "                               brewpub  \n",
       "Alabama                                 \n",
       "Alaska   Mooses Tooth Pub and Pizzeria  \n",
       "Arizona         Papago Brewing Company  "
      ]
     },
     "execution_count": 15,
     "metadata": {},
     "output_type": "execute_result"
    }
   ],
   "source": [
    "brew_frame.T.head(3)"
   ]
  }
 ],
 "metadata": {
  "kernelspec": {
   "display_name": "Python 3",
   "language": "python",
   "name": "python3"
  },
  "language_info": {
   "codemirror_mode": {
    "name": "ipython",
    "version": 3
   },
   "file_extension": ".py",
   "mimetype": "text/x-python",
   "name": "python",
   "nbconvert_exporter": "python",
   "pygments_lexer": "ipython3",
   "version": "3.5.0"
  }
 },
 "nbformat": 4,
 "nbformat_minor": 2
}
