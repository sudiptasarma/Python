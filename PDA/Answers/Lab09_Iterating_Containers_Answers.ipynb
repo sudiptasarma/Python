{
 "cells": [
   {
   "cell_type": "markdown",
   "metadata": {},
   "source": [
    "## Exercises Lab09 Iterating Containers"
   ]
  },
  {
   "cell_type": "markdown",
   "metadata": {
    "collapsed": true
   },
   "source": [
    "`1`.  Make a 5 x 8 Numpy array of random integers from 1 - 10."
   ]
  },
  {
   "cell_type": "code",
   "execution_count": 11,
   "metadata": {},
   "outputs": [
    {
     "data": {
      "text/plain": [
       "array([[ 6,  8,  6,  6,  8, 10,  7,  2],\n",
       "       [ 1,  4,  1,  4,  9,  4,  2,  3],\n",
       "       [ 8,  7,  9,  5,  2,  8,  9,  8],\n",
       "       [ 9, 10,  5,  3,  6, 10,  5,  8],\n",
       "       [ 2,  4, 10,  9,  5,  4,  3,  9]])"
      ]
     },
     "execution_count": 11,
     "metadata": {},
     "output_type": "execute_result"
    }
   ],
   "source": [
    "import numpy as np\n",
    "randoms = np.random.randint(1, 11, (5, 8))\n",
    "randoms"
   ]
  },
  {
   "cell_type": "markdown",
   "metadata": {},
   "source": [
    "Iterate through each row of your array and report the rows where the numbers add to an even number.  You'll like the builtin function: `sum`."
   ]
  },
  {
   "cell_type": "code",
   "execution_count": 12,
   "metadata": {},
   "outputs": [
    {
     "name": "stdout",
     "output_type": "stream",
     "text": [
      "The row-sums that are even are 28, 56, 56, 46.\n"
     ]
    }
   ],
   "source": [
    "even_sums = []\n",
    "for row in randoms:\n",
    "    row_sum = sum(row)\n",
    "    if row_sum % 2 == 0:\n",
    "        even_sums.append(str(row_sum))\n",
    "print(\"The row-sums that are even are\", \", \".join(even_sums) + '.')\n",
    "\n",
    "        "
   ]
  },
  {
   "cell_type": "code",
   "execution_count": 13,
   "metadata": {
    "collapsed": true
   },
   "outputs": [],
   "source": [
    "# 2. Here are some data, already in a dataframe:\n",
    "import pandas as pd\n",
    "movies = pd.read_csv(\"DataSets/few_movies.csv\")"
   ]
  },
  {
   "cell_type": "code",
   "execution_count": 14,
   "metadata": {},
   "outputs": [
    {
     "data": {
      "text/html": [
       "<div>\n",
       "<style>\n",
       "    .dataframe thead tr:only-child th {\n",
       "        text-align: right;\n",
       "    }\n",
       "\n",
       "    .dataframe thead th {\n",
       "        text-align: left;\n",
       "    }\n",
       "\n",
       "    .dataframe tbody tr th {\n",
       "        vertical-align: top;\n",
       "    }\n",
       "</style>\n",
       "<table border=\"1\" class=\"dataframe\">\n",
       "  <thead>\n",
       "    <tr style=\"text-align: right;\">\n",
       "      <th></th>\n",
       "      <th>movie_title</th>\n",
       "      <th>title_year</th>\n",
       "      <th>actor_1_name</th>\n",
       "      <th>actor_2_name</th>\n",
       "      <th>movie_facebook_likes</th>\n",
       "      <th>imdb_score</th>\n",
       "    </tr>\n",
       "  </thead>\n",
       "  <tbody>\n",
       "    <tr>\n",
       "      <th>0</th>\n",
       "      <td>The Dark Knight Rises</td>\n",
       "      <td>2012.0</td>\n",
       "      <td>Tom Hardy</td>\n",
       "      <td>Christian Bale</td>\n",
       "      <td>164000</td>\n",
       "      <td>8.5</td>\n",
       "    </tr>\n",
       "    <tr>\n",
       "      <th>1</th>\n",
       "      <td>WALL·E</td>\n",
       "      <td>2008.0</td>\n",
       "      <td>John Ratzenberger</td>\n",
       "      <td>Fred Willard</td>\n",
       "      <td>16000</td>\n",
       "      <td>8.4</td>\n",
       "    </tr>\n",
       "    <tr>\n",
       "      <th>2</th>\n",
       "      <td>Toy Story 3</td>\n",
       "      <td>2010.0</td>\n",
       "      <td>Tom Hanks</td>\n",
       "      <td>John Ratzenberger</td>\n",
       "      <td>30000</td>\n",
       "      <td>8.3</td>\n",
       "    </tr>\n",
       "    <tr>\n",
       "      <th>3</th>\n",
       "      <td>Captain America: Civil War</td>\n",
       "      <td>2016.0</td>\n",
       "      <td>Robert Downey Jr.</td>\n",
       "      <td>Scarlett Johansson</td>\n",
       "      <td>72000</td>\n",
       "      <td>8.2</td>\n",
       "    </tr>\n",
       "    <tr>\n",
       "      <th>4</th>\n",
       "      <td>The Avengers</td>\n",
       "      <td>2012.0</td>\n",
       "      <td>Chris Hemsworth</td>\n",
       "      <td>Robert Downey Jr.</td>\n",
       "      <td>123000</td>\n",
       "      <td>8.1</td>\n",
       "    </tr>\n",
       "  </tbody>\n",
       "</table>\n",
       "</div>"
      ],
      "text/plain": [
       "                   movie_title  title_year       actor_1_name  \\\n",
       "0       The Dark Knight Rises       2012.0          Tom Hardy   \n",
       "1                      WALL·E       2008.0  John Ratzenberger   \n",
       "2                 Toy Story 3       2010.0          Tom Hanks   \n",
       "3  Captain America: Civil War       2016.0  Robert Downey Jr.   \n",
       "4                The Avengers       2012.0    Chris Hemsworth   \n",
       "\n",
       "         actor_2_name  movie_facebook_likes  imdb_score  \n",
       "0      Christian Bale                164000         8.5  \n",
       "1        Fred Willard                 16000         8.4  \n",
       "2   John Ratzenberger                 30000         8.3  \n",
       "3  Scarlett Johansson                 72000         8.2  \n",
       "4   Robert Downey Jr.                123000         8.1  "
      ]
     },
     "execution_count": 14,
     "metadata": {},
     "output_type": "execute_result"
    }
   ],
   "source": [
    "movies.head()"
   ]
  },
  {
   "cell_type": "code",
   "execution_count": 15,
   "metadata": {
    "collapsed": true
   },
   "outputs": [],
   "source": [
    "movies = movies.set_index('movie_title')"
   ]
  },
  {
   "cell_type": "code",
   "execution_count": 16,
   "metadata": {},
   "outputs": [
    {
     "data": {
      "text/html": [
       "<div>\n",
       "<style>\n",
       "    .dataframe thead tr:only-child th {\n",
       "        text-align: right;\n",
       "    }\n",
       "\n",
       "    .dataframe thead th {\n",
       "        text-align: left;\n",
       "    }\n",
       "\n",
       "    .dataframe tbody tr th {\n",
       "        vertical-align: top;\n",
       "    }\n",
       "</style>\n",
       "<table border=\"1\" class=\"dataframe\">\n",
       "  <thead>\n",
       "    <tr style=\"text-align: right;\">\n",
       "      <th></th>\n",
       "      <th>title_year</th>\n",
       "      <th>actor_1_name</th>\n",
       "      <th>actor_2_name</th>\n",
       "      <th>movie_facebook_likes</th>\n",
       "      <th>imdb_score</th>\n",
       "    </tr>\n",
       "    <tr>\n",
       "      <th>movie_title</th>\n",
       "      <th></th>\n",
       "      <th></th>\n",
       "      <th></th>\n",
       "      <th></th>\n",
       "      <th></th>\n",
       "    </tr>\n",
       "  </thead>\n",
       "  <tbody>\n",
       "    <tr>\n",
       "      <th>The Dark Knight Rises</th>\n",
       "      <td>2012.0</td>\n",
       "      <td>Tom Hardy</td>\n",
       "      <td>Christian Bale</td>\n",
       "      <td>164000</td>\n",
       "      <td>8.5</td>\n",
       "    </tr>\n",
       "    <tr>\n",
       "      <th>WALL·E</th>\n",
       "      <td>2008.0</td>\n",
       "      <td>John Ratzenberger</td>\n",
       "      <td>Fred Willard</td>\n",
       "      <td>16000</td>\n",
       "      <td>8.4</td>\n",
       "    </tr>\n",
       "    <tr>\n",
       "      <th>Toy Story 3</th>\n",
       "      <td>2010.0</td>\n",
       "      <td>Tom Hanks</td>\n",
       "      <td>John Ratzenberger</td>\n",
       "      <td>30000</td>\n",
       "      <td>8.3</td>\n",
       "    </tr>\n",
       "    <tr>\n",
       "      <th>Captain America: Civil War</th>\n",
       "      <td>2016.0</td>\n",
       "      <td>Robert Downey Jr.</td>\n",
       "      <td>Scarlett Johansson</td>\n",
       "      <td>72000</td>\n",
       "      <td>8.2</td>\n",
       "    </tr>\n",
       "    <tr>\n",
       "      <th>The Avengers</th>\n",
       "      <td>2012.0</td>\n",
       "      <td>Chris Hemsworth</td>\n",
       "      <td>Robert Downey Jr.</td>\n",
       "      <td>123000</td>\n",
       "      <td>8.1</td>\n",
       "    </tr>\n",
       "  </tbody>\n",
       "</table>\n",
       "</div>"
      ],
      "text/plain": [
       "                             title_year       actor_1_name  \\\n",
       "movie_title                                                  \n",
       "The Dark Knight Rises            2012.0          Tom Hardy   \n",
       "WALL·E                           2008.0  John Ratzenberger   \n",
       "Toy Story 3                      2010.0          Tom Hanks   \n",
       "Captain America: Civil War       2016.0  Robert Downey Jr.   \n",
       "The Avengers                     2012.0    Chris Hemsworth   \n",
       "\n",
       "                                   actor_2_name  movie_facebook_likes  \\\n",
       "movie_title                                                             \n",
       "The Dark Knight Rises            Christian Bale                164000   \n",
       "WALL·E                             Fred Willard                 16000   \n",
       "Toy Story 3                   John Ratzenberger                 30000   \n",
       "Captain America: Civil War   Scarlett Johansson                 72000   \n",
       "The Avengers                  Robert Downey Jr.                123000   \n",
       "\n",
       "                             imdb_score  \n",
       "movie_title                              \n",
       "The Dark Knight Rises               8.5  \n",
       "WALL·E                              8.4  \n",
       "Toy Story 3                         8.3  \n",
       "Captain America: Civil War          8.2  \n",
       "The Avengers                        8.1  "
      ]
     },
     "execution_count": 16,
     "metadata": {},
     "output_type": "execute_result"
    }
   ],
   "source": [
    "movies.head()\n"
   ]
  },
  {
   "cell_type": "markdown",
   "metadata": {},
   "source": [
    "While the `movies` dataset displays very nicely in your notebook, many programs cannot display it because it has characters whose `ord(char)` is greater than 127, which means that it is not representable as an ascii character, or `utf-8`.  Use `iterrows` and Python to find the movies whose rows have characters that are not representable in ascii."
   ]
  },
  {
   "cell_type": "code",
   "execution_count": 17,
   "metadata": {},
   "outputs": [
    {
     "name": "stdout",
     "output_type": "stream",
     "text": [
      "WALL·E\n"
     ]
    }
   ],
   "source": [
    "movie_titles_needing_unicode = []\n",
    "\n",
    "for (title, fields) in movies.iterrows():\n",
    "    title = title.strip()  # if you don't strip it, there is a strange white-space after each title.\n",
    "    for char in title:\n",
    "        if ord(char) > 127:\n",
    "            movie_titles_needing_unicode.append(title)\n",
    "            break\n",
    "print(', '.join(movie_titles_needing_unicode))\n",
    "                "
   ]
  },
  {
   "cell_type": "code",
   "execution_count": 18,
   "metadata": {},
   "outputs": [
    {
     "name": "stdout",
     "output_type": "stream",
     "text": [
      "The Legend of Tarzan :Alexander Skarsgård, Battleship :Alexander Skarsgård\n"
     ]
    }
   ],
   "source": [
    "movies_whose_fields_need_unicode = []\n",
    "for (title, fields) in movies.iterrows():\n",
    "    movie_appended = False\n",
    "    for field in fields.values:\n",
    "        if not isinstance(field, str):\n",
    "            continue\n",
    "        for char in field:\n",
    "            if ord(char) > 127:\n",
    "                movie_appended = True\n",
    "                movies_whose_fields_need_unicode.append(title + ':' + field)\n",
    "                break\n",
    "        if movie_appended:\n",
    "            break\n",
    "\n",
    "print(', '.join(movies_whose_fields_need_unicode))\n",
    "                "
   ]
  }
 ],
 "metadata": {
  "kernelspec": {
   "display_name": "Python 3",
   "language": "python",
   "name": "python3"
  },
  "language_info": {
   "codemirror_mode": {
    "name": "ipython",
    "version": 3
   },
   "file_extension": ".py",
   "mimetype": "text/x-python",
   "name": "python",
   "nbconvert_exporter": "python",
   "pygments_lexer": "ipython3",
   "version": "3.5.0"
  }
 },
 "nbformat": 4,
 "nbformat_minor": 2
}
