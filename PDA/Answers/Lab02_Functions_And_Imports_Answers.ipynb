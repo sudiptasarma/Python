{
 "cells": [
   {
   "cell_type": "markdown",
   "metadata": {},
   "source": [
    "## Exercises Lab02 Functions And Imports"
   ]
  },
  {
   "cell_type": "markdown",
   "metadata": {},
   "source": [
    "`1.` Write a print statement that produces exactly this output:\n",
    "\n",
    "```\n",
    "He said \"She said 'Hello world'\"\n",
    "She said 'He said \"Hello sky\"'\n",
    "\n",
    "```\n"
   ]
  },
  {
   "cell_type": "code",
   "execution_count": 22,
   "metadata": {},
   "outputs": [
    {
     "name": "stdout",
     "output_type": "stream",
     "text": [
      "\n",
      "He said \"She said 'Hello world'\"\n",
      "She said 'He said \"Hello sky\"'\n",
      "\n"
     ]
    }
   ],
   "source": [
    "print(\"\"\"\n",
    "He said \"She said 'Hello world'\"\n",
    "She said 'He said \"Hello sky\"'\n",
    "\"\"\")"
   ]
  },
  {
   "cell_type": "markdown",
   "metadata": {},
   "source": [
    "`2.` Matching:\n",
    "\n",
    "|Which |number| on the right matches the word on the left.|\n",
    "|--------:|:----:|:---------------|\n",
    "|   ```int```   |         |1. tells the data type of an object | \n",
    "|namespace  |         |2. a number with a decimal point |\n",
    "|  ```print```  |         |3. shows the names in an object |\n",
    "|   ```str```   |         |4.  a whole number |\n",
    "| ```type```    |         |5. some text | \n",
    "| ```float```   |         |6. writes to the screen |\n",
    "| ```dir``` |      |7. an object's insides|"
   ]
  },
  {
   "cell_type": "markdown",
   "metadata": {},
   "source": [
    ".\n",
    "\n",
    "|Which |number| on the right matches the word on the left.|\n",
    "|--------:|:----:|:---------------|\n",
    "|   ```int```   |  4       |1. tells the data type of an object | \n",
    "|namespace  |     7    |2. a number with a decimal point |\n",
    "|  ```print```  |   6      |3. shows the names in an object |\n",
    "|   ```str```   |   5      |4.  a whole number |\n",
    "| ```type```    |   1      |5. some text | \n",
    "| ```float```   |    2     |6. writes to the screen |\n",
    "| ```dir``` |   3   |7. an object's insides|"
   ]
  },
  {
   "cell_type": "markdown",
   "metadata": {},
   "source": [
    "`3. a.` What will be the output of this line?  Guess before you test.\n",
    "```python\n",
    "who = \"Hazel\"\n",
    "what = \"Witch\"\n",
    "print(what, who)\n",
    "```"
   ]
  },
  {
   "cell_type": "code",
   "execution_count": 23,
   "metadata": {},
   "outputs": [
    {
     "name": "stdout",
     "output_type": "stream",
     "text": [
      "Witch Hazel\n"
     ]
    }
   ],
   "source": [
    "who = \"Hazel\"\n",
    "what = \"Witch\"\n",
    "print(what, who)"
   ]
  },
  {
   "cell_type": "markdown",
   "metadata": {},
   "source": [
    "`3. b.` Instead of that output, find three ways to make the output be: \n",
    "```python\n",
    "WitchHazel\n",
    "```"
   ]
  },
  {
   "cell_type": "code",
   "execution_count": 24,
   "metadata": {},
   "outputs": [
    {
     "name": "stdout",
     "output_type": "stream",
     "text": [
      "WitchHazel\n",
      "WitchHazel\n",
      "WitchHazel\n"
     ]
    }
   ],
   "source": [
    "print(what + who)\n",
    "print(what, who, sep = '')\n",
    "print(\"{}{}\".format(what, who))"
   ]
  },
  {
   "cell_type": "markdown",
   "metadata": {},
   "source": [
    "`4.`  What's the sin of 40 degrees?\n"
   ]
  },
  {
   "cell_type": "code",
   "execution_count": 25,
   "metadata": {},
   "outputs": [
    {
     "data": {
      "text/plain": [
       "0.6427876096865393"
      ]
     },
     "execution_count": 25,
     "metadata": {},
     "output_type": "execute_result"
    }
   ],
   "source": [
    "import math\n",
    "math.sin(40 * math.pi/180)"
   ]
  },
  {
   "cell_type": "markdown",
   "metadata": {},
   "source": [
    "`5.` Use the `random` library to create a random integer from 1 to 100."
   ]
  },
  {
   "cell_type": "code",
   "execution_count": 26,
   "metadata": {},
   "outputs": [
    {
     "data": {
      "text/plain": [
       "24"
      ]
     },
     "execution_count": 26,
     "metadata": {},
     "output_type": "execute_result"
    }
   ],
   "source": [
    "import random\n",
    "random.randint(1,100)"
   ]
  },
  {
   "cell_type": "markdown",
   "metadata": {},
   "source": [
    "`6.` In our *Plotting Example* above, two other defaulted arguments are linewidth and linestyle.  Add linewidth=3 and linestyle=\"dashed\" to the call in the Plotting Example and see what you get.  Do:\n",
    "\n",
    "> `?plt.plot`\n",
    "\n",
    "to see if you can find something else to change."
   ]
  },
  {
   "cell_type": "code",
   "execution_count": 27,
   "metadata": {},
   "outputs": [
    {
     "data": {
      "image/png": "[encoded data removed]",
      "text/plain": [
       "<matplotlib.figure.Figure at 0x110543748>"
      ]
     },
     "metadata": {},
     "output_type": "display_data"
    }
   ],
   "source": [
    "import matplotlib.pyplot as plt\n",
    "\n",
    "x_numbers = .2, .4, .6, .8, 1.\n",
    "y_numbers = .125, .489, 1.064, 1.803, 2.654\n",
    "plt.plot(x_numbers, y_numbers, linewidth=3, linestyle=\"dashed\")\n",
    "plt.show()"
   ]
  },
  {
   "cell_type": "code",
   "execution_count": 28,
   "metadata": {
    "collapsed": true
   },
   "outputs": [],
   "source": [
    "?plt"
   ]
  },
  {
   "cell_type": "code",
   "execution_count": 30,
   "metadata": {},
   "outputs": [
    {
     "data": {
      "image/png": "[encoded data removed]",
      "text/plain": [
       "<matplotlib.figure.Figure at 0x110737a58>"
      ]
     },
     "metadata": {},
     "output_type": "display_data"
    }
   ],
   "source": [
    "plt.plot(x_numbers, y_numbers, \"go\")\n",
    "plt.show()"
   ]
  },
  {
   "cell_type": "code",
   "execution_count": 31,
   "metadata": {
    "collapsed": true
   },
   "outputs": [],
   "source": [
    "?plt.plot"
   ]
  },
  {
   "cell_type": "code",
   "execution_count": null,
   "metadata": {
    "collapsed": true
   },
   "outputs": [],
   "source": []
  }
 ],
 "metadata": {
  "kernelspec": {
   "display_name": "Python 3",
   "language": "python",
   "name": "python3"
  },
  "language_info": {
   "codemirror_mode": {
    "name": "ipython",
    "version": 3
   },
   "file_extension": ".py",
   "mimetype": "text/x-python",
   "name": "python",
   "nbconvert_exporter": "python",
   "pygments_lexer": "ipython3",
   "version": "3.5.0"
  }
 },
 "nbformat": 4,
 "nbformat_minor": 2
}
