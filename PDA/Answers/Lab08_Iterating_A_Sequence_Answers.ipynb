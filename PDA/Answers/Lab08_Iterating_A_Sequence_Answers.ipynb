{
 "cells": [
   {
   "cell_type": "markdown",
   "metadata": {},
   "source": [
    "## Exercises Lab08 Iterating A Sequence"
   ]
  },
  {
   "cell_type": "code",
   "execution_count": 29,
   "metadata": {},
   "outputs": [
    {
     "name": "stdout",
     "output_type": "stream",
     "text": [
      "Waldo was not found.\n"
     ]
    }
   ],
   "source": [
    "# 1.  What happens if \"Waldo\" is added to the list of names?  Think about the answer before you try it.\n",
    "\n",
    "for name in [\"Gerardo\", \"Isabel\", \"Santiago\", \"Luis\"]:\n",
    "    if name != \"Waldo\":\n",
    "        continue\n",
    "    print(\"I found Waldo!\")\n",
    "    break\n",
    "else:\n",
    "    print(\"Waldo was not found.\")"
   ]
  },
  {
   "cell_type": "code",
   "execution_count": 30,
   "metadata": {},
   "outputs": [
    {
     "name": "stdout",
     "output_type": "stream",
     "text": [
      "I found Waldo!\n"
     ]
    }
   ],
   "source": [
    "for name in [\"Gerardo\", \"Isabel\", \"Santiago\", \"Luis\", \"Waldo\"]:\n",
    "    if name != \"Waldo\":\n",
    "        continue\n",
    "    print(\"I found Waldo!\")\n",
    "    break\n",
    "else:\n",
    "    print(\"Waldo was not found.\")"
   ]
  },
  {
   "cell_type": "markdown",
   "metadata": {},
   "source": [
    "`2.` Get this output:\n",
    "\n",
    "10, 9, 8, 7, 6, 5, 4, 3, 2, 1, Blastoff!"
   ]
  },
  {
   "cell_type": "code",
   "execution_count": 31,
   "metadata": {},
   "outputs": [
    {
     "name": "stdout",
     "output_type": "stream",
     "text": [
      "10, 9, 8, 7, 6, 5, 4, 3, 2, 1, Blastoff!\n"
     ]
    }
   ],
   "source": [
    "for countdown in range(10, 0, -1):\n",
    "    print(countdown, end=\", \")\n",
    "print(\"Blastoff!\")"
   ]
  },
  {
   "cell_type": "markdown",
   "metadata": {},
   "source": [
    "`3.` You have:\n",
    "\n",
    "band = [\"Javier\", \"Chave\", \"Jose\", \"Martha\"]\n",
    "\n",
    "Use this list to create this output using a for/in loop.\n",
    "\n",
    "`Hurray Chave!  Hurray Javier!  Hurray Jose!  Hurray Martha!  `"
   ]
  },
  {
   "cell_type": "code",
   "execution_count": 32,
   "metadata": {},
   "outputs": [
    {
     "name": "stdout",
     "output_type": "stream",
     "text": [
      "Hurray Chave!  Hurray Javier!  Hurray Jose!  Hurray Martha!  "
     ]
    }
   ],
   "source": [
    "band = [\"Javier\", \"Chave\", \"Jose\", \"Martha\"]\n",
    "for name in sorted(band):\n",
    "    print(\"Hurray {}!\".format(name), end='  ')"
   ]
  },
  {
   "cell_type": "markdown",
   "metadata": {},
   "source": [
    "    Can you get the output by using `str.join`?"
   ]
  },
  {
   "cell_type": "code",
   "execution_count": 33,
   "metadata": {},
   "outputs": [
    {
     "name": "stdout",
     "output_type": "stream",
     "text": [
      "Hurray Chave! Hurray Javier! Hurray Jose! Hurray Martha!\n"
     ]
    }
   ],
   "source": [
    "print(\"Hurray \" + \"! Hurray \".join(sorted(band)) +'!')\n",
    "#  but that's silly, unreadable code.  \"No\" is a good answer to the question."
   ]
  },
  {
   "cell_type": "markdown",
   "metadata": {},
   "source": [
    "`4`. From this string: \n",
    "```python\n",
    "\"Silver Gold Copper Platinum\"\n",
    "```\n",
    "Use str.split, a loop, string manipulation and str.join to create the following sentence.  Notice that the metals are in alphabetical order.\n",
    "```python   \n",
    "\"Copper and gold and platinum and silver are only worth money.\"\n",
    "```"
   ]
  },
  {
   "cell_type": "code",
   "execution_count": 34,
   "metadata": {},
   "outputs": [
    {
     "name": "stdout",
     "output_type": "stream",
     "text": [
      "Copper and gold and platinum and silver are only worth money.\n"
     ]
    }
   ],
   "source": [
    "metals_str = \"Silver Gold Copper Platinum\"\n",
    "metals = metals_str.split()\n",
    "cased_metals = []\n",
    "for metal in sorted(metals):\n",
    "    cased_metals.append(metal.lower())\n",
    "cased_metals[0] = cased_metals[0].title()\n",
    "sentence = ' and '.join(cased_metals) + \" are only worth money.\"\n",
    "print(sentence)"
   ]
  }
 ],
 "metadata": {
  "kernelspec": {
   "display_name": "Python 3",
   "language": "python",
   "name": "python3"
  },
  "language_info": {
   "codemirror_mode": {
    "name": "ipython",
    "version": 3
   },
   "file_extension": ".py",
   "mimetype": "text/x-python",
   "name": "python",
   "nbconvert_exporter": "python",
   "pygments_lexer": "ipython3",
   "version": "3.5.0"
  }
 },
 "nbformat": 4,
 "nbformat_minor": 2
}
