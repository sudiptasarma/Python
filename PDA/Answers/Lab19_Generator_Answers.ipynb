{
 "cells": [
   {
   "cell_type": "markdown",
   "metadata": {
    "collapsed": true
   },
   "source": [
    "# Exercises Lab19 Generator\n",
    "\n",
    "`1.` This function is the solution to a lab exercise about Functional Programming.\n",
    "```python\n",
    "def GetCards():\n",
    "    \"\"\"Return a deck of cards as a list of strings.\"\"\"\n",
    "    values = [str(x) for x in range(2, 11)\n",
    "              ] + ['Jack','Queen','King','Ace']\n",
    "    suits = ('Clubs', 'Diamonds', 'Hearts', 'Spades') \n",
    "    deck = ['%s of %s' % (value, suit) for suit in suits for value in values] + [\"Joker\"] * 2\n",
    "    return deck\n",
    "```\n",
    "Use what you need from that code to make a generator function, `DeliverCard()`, that delivers one card at a time in a loop.  Shuffle your cards.  You might like `random.shuffle`.\n",
    "\n",
    "Test it by making a `DealGame(number_of_players, number_of_cards)` function that returns a `list` of card hands.  This `list` has `number_of_players` elements, each element is a list of `number_of_cards` players.  For example, one return from the function might be this list of lists:\n",
    "```python\n",
    "[ ['Queen of Clubs', '2 of Diamonds', '4 of Diamonds', '7 of Diamonds', '9 of Spades'],\n",
    "  ['10 of Clubs', '8 of Diamonds', 'Queen of Diamonds', 'Ace of Diamonds', '7 of Spades'],\n",
    "  ['6 of Clubs', '9 of Clubs', 'Ace of Clubs', '3 of Diamonds', 'Jack of Spades'],\n",
    "  ['5 of Diamonds', '8 of Hearts', '9 of Hearts', '10 of Hearts', '6 of Spades'] ]\n",
    "```"
   ]
  },
  {
   "cell_type": "code",
   "execution_count": 2,
   "metadata": {},
   "outputs": [
    {
     "name": "stdout",
     "output_type": "stream",
     "text": [
      "Person #1: ['4 of Clubs', '9 of Clubs', '9 of Diamonds', '3 of Hearts', 'King of Hearts']\n",
      "Person #2: ['3 of Clubs', '7 of Clubs', '3 of Diamonds', '6 of Spades', '8 of Spades']\n",
      "Person #3: ['Queen of Clubs', '6 of Hearts', '7 of Hearts', '3 of Spades', 'Joker']\n",
      "Person #4: ['2 of Diamonds', '7 of Diamonds', 'Jack of Diamonds', '2 of Hearts', '10 of Spades']\n",
      "\n",
      "Test of all cards:\n",
      " ['2 of Clubs', '3 of Clubs', '4 of Clubs', '5 of Clubs', '6 of Clubs', '7 of Clubs', '8 of Clubs', '9 of Clubs', '10 of Clubs', 'Jack of Clubs', 'Queen of Clubs', 'King of Clubs', 'Ace of Clubs', '2 of Diamonds', '3 of Diamonds', '4 of Diamonds', '5 of Diamonds', '6 of Diamonds', '7 of Diamonds', '8 of Diamonds', '9 of Diamonds', '10 of Diamonds', 'Jack of Diamonds', 'Queen of Diamonds', 'King of Diamonds', 'Ace of Diamonds', '2 of Hearts', '3 of Hearts', '4 of Hearts', '5 of Hearts', '6 of Hearts', '7 of Hearts', '8 of Hearts', '9 of Hearts', '10 of Hearts', 'Jack of Hearts', 'Queen of Hearts', 'King of Hearts', 'Ace of Hearts', '2 of Spades', '3 of Spades', '4 of Spades', '5 of Spades', '6 of Spades', '7 of Spades', '8 of Spades', '9 of Spades', '10 of Spades', 'Jack of Spades', 'Queen of Spades', 'King of Spades', 'Ace of Spades', 'Joker', 'Joker']\n"
     ]
    }
   ],
   "source": [
    "import random\n",
    "def DeliverCard():    \n",
    "    \"\"\"Yields one card at a time to a for-loop.  The cards. are shuffled.\"\"\"\n",
    "    values = [str(x) for x in range(2, 11)] + [\"Jack\",\"Queen\",\"King\",\"Ace\"]\n",
    "    suits = (\"Clubs\", \"Diamonds\", \"Hearts\", \"Spades\") \n",
    "    deck = [\"{} of {}\".format(value, suit) for suit in suits for value in values] + [\"Joker\"] * 2\n",
    "    random.shuffle(deck)\n",
    "    for card in deck:\n",
    "        yield card\n",
    "        \n",
    "def DealGame(number_of_players, number_of_cards):\n",
    "    players = []\n",
    "    get_card = DeliverCard()\n",
    "    for player_number in range(number_of_players):\n",
    "        hand = []\n",
    "        for card_number in range(number_of_cards):\n",
    "            hand.append(next(get_card))\n",
    "        players.append(hand)\n",
    "    return players\n",
    "            \n",
    "def main():\n",
    "    def CardSorter(card):\n",
    "        if card == \"Joker\":\n",
    "            return (\"Zsuit\", 99)\n",
    "        value, suit = card.split(' of ')\n",
    "        if value.isdigit():\n",
    "            value = int(value)\n",
    "        else:\n",
    "            value = [\"Jack\", \"Queen\", \"King\", \"Ace\"].index(value) + 11\n",
    "        return (suit, value)\n",
    "    \n",
    "    for person_number, hand in enumerate(DealGame(4, 5), 1):\n",
    "        print(\"Person #{}: {}\".format(person_number, sorted(hand, key=CardSorter)))\n",
    "        \n",
    "    cards = list(DeliverCard())\n",
    "    cards.sort(key=CardSorter)\n",
    "    print(\"\\nTest of all cards:\\n\", cards)\n",
    "\n",
    "main()\n",
    "    "
   ]
  },
  {
   "cell_type": "markdown",
   "metadata": {},
   "source": [
    "`2.` Do:\n",
    "```python\n",
    "import glob\n",
    "?glob.glob\n",
    "```\n",
    "to see that:\n",
    "`glob.glob(\"*.ipynb\")`\n",
    "\n",
    "will give you a list of all the `ipynb` files in the current directory.\n",
    "\n",
    "Make a generator, `GetFirstPounds()` that can be used like this:\n",
    "```python\n",
    "for notebook, first_pound in GetFirstPounds():\n",
    "```\n",
    "and use it to produce this output:\n",
    "\n",
    "Note: Some of the Lab notebooks need to be read as unicode.\n",
    "\n"
   ]
  },
  {
   "cell_type": "code",
   "execution_count": 6,
   "metadata": {},
   "outputs": [
    {
     "name": "stdout",
     "output_type": "stream",
     "text": [
      "           ./Lab07_Flow_Of_Control.ipynb:    \"# Lab 07 Flow Of Control\\n\",\n",
      "\n",
      "           ./Lab03_Container_Types.ipynb:    \"# Lab 03 Container Types\"\n",
      "\n",
      "                   ./Lab15_File_IO.ipynb:    \"# Lab 15 File IO\\n\",\n",
      "\n",
      "        ./Lab14_Dictionary_Marvels.ipynb:    \"# Lab 14 Dictionary Marvels\"\n",
      "\n",
      "        ./Lab05_Sorting_Containers.ipynb:    \"# Lab 05 Sorting Containers\\n\",\n",
      "\n",
      "         ./Lab20_Custom_Data_Types.ipynb:    \"# Lab 20 Custom Data Types\"\n",
      "\n",
      "              ./Lab13_Dictionaries.ipynb:    \"# Lab 13 Dictionaries\\n\",\n",
      "\n",
      "         ./Lab10_Function_Creation.ipynb:    \"# Lab 10 Function Creation\\n\",\n",
      "\n",
      "                ./Lab01_Data_Types.ipynb:    \"# UCSC Extension, Silicon Valley  --  Dec. 10 - 13, 2018\"\n",
      "\n",
      "           ./Lab04_More_Containers.ipynb:    \"# Lab 04 More Containers\\n\",\n",
      "\n",
      "                  ./Lab18_Grouping.ipynb:    \"# Lab 18 Grouping\\n\",\n",
      "\n",
      "        ./Lab06_Growing_Containers.ipynb:    \"# Lab 06 Growing Containers\\n\",\n",
      "\n",
      "        ./Lab11_Applying_Functions.ipynb:    \"# Lab 11 Applying Functions \"\n",
      "\n",
      "      ./Lab08_Iterating_A_Sequence.ipynb:    \"# Lab 08 Iterating A Sequence\"\n",
      "\n",
      "                 ./Lab19_Generator.ipynb:    \"# Lab 19 Generator \\n\",\n",
      "\n",
      "                ./Lab17_Timed_Data.ipynb:    \"# Lab 17 Timed Data\\n\",\n",
      "\n",
      "      ./Lab09_Iterating_Containers.ipynb:    \"# Lab 09 Iterating Containers\"\n",
      "\n",
      "     ./Lab02_Functions_And_Imports.ipynb:    \"# Lab 02 Functions And Imports\"\n",
      "\n",
      "             ./Lab16_Cleaning_Data.ipynb:    \"# Lab 16 Cleaning Data\"\n",
      "\n",
      "    ./Lab12_Functional_Programming.ipynb:    \"# Lab 12 Functional Programming\"\n",
      "\n"
     ]
    }
   ],
   "source": [
    "import glob\n",
    "def GetFirstPounds():\n",
    "    for file_name in glob.glob(\"./Lab*.ipynb\"):\n",
    "        with open(file_name, encoding=\"utf-8\") as file_obj:\n",
    "            for line in file_obj:\n",
    "                if line.find(\"#\") > -1:\n",
    "                    yield file_name, line\n",
    "                    break\n",
    "                    \n",
    "def ReportPounds():\n",
    "    for notebook, first_pound in GetFirstPounds():\n",
    "        print(\"{:>40}:{}\".format(notebook, first_pound))\n",
    "        \n",
    "def main():\n",
    "    ReportPounds()\n",
    "    \n",
    "main()"
   ]
  }
 ],
 "metadata": {
  "kernelspec": {
   "display_name": "Python 3",
   "language": "python",
   "name": "python3"
  },
  "language_info": {
   "codemirror_mode": {
    "name": "ipython",
    "version": 3
   },
   "file_extension": ".py",
   "mimetype": "text/x-python",
   "name": "python",
   "nbconvert_exporter": "python",
   "pygments_lexer": "ipython3",
   "version": "3.5.0"
  }
 },
 "nbformat": 4,
 "nbformat_minor": 2
}
