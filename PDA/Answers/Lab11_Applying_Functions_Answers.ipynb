{
 "cells": [
   {
   "cell_type": "markdown",
   "metadata": {},
   "source": [
    "## Exercises Lab11 Applying Functions"
   ]
  },
  {
   "cell_type": "markdown",
   "metadata": {},
   "source": [
    "`1`. Here is a `list` of names:\n",
    "\n",
    "```python\n",
    "names = [\"Mary Jane Fry\", \"Tony Rodriguez\", \"Sam Lam Hing Wong\", \"Arden Janson\"]\n",
    "```\n",
    "Sort the `names` list by the number of names in the whole name.\n"
   ]
  },
  {
   "cell_type": "code",
   "execution_count": 17,
   "metadata": {
    "scrolled": true
   },
   "outputs": [
    {
     "name": "stdout",
     "output_type": "stream",
     "text": [
      "['Tony Rodriguez', 'Arden Janson', 'Mary Jane Fry', 'Sam Lam Hing Wong']\n"
     ]
    }
   ],
   "source": [
    "def SortByNoNames(names):\n",
    "    names.sort(key=lambda n:len(n.split()))\n",
    "\n",
    "def SortByNoNames(names):\n",
    "    def SortKey(name):\n",
    "        return len(name.split())\n",
    "    names.sort(key=SortKey)\n",
    "\n",
    "def main():\n",
    "    names = [\"Mary Jane Fry\", \"Tony Rodriguez\", \"Sam Lam Hing Wong\", \"Arden Janson\"]\n",
    "    SortByNoNames(names)\n",
    "    print(names)\n",
    "main()"
   ]
  },
  {
   "cell_type": "markdown",
   "metadata": {},
   "source": [
    "`2.` Put these restaurants in a dataframe and sort them by the number of stars, with the greatest number of starts first:\n",
    "```python\n",
    "restaurants = [[\"Restaurant\", \"Favorite Dish\", \"Stars\"],\n",
    "               [\"Cozumel\", \"Swordfish\", \"***\"],\n",
    "               [\"Palapa\", \"Fried Snapper\", \"*****\"],\n",
    "               [\"El Zapote\", \"Carne En Su Jugo\", \"****\"]]\n",
    "```               "
   ]
  },
  {
   "cell_type": "code",
   "execution_count": 18,
   "metadata": {},
   "outputs": [
    {
     "data": {
      "text/html": [
       "<div>\n",
       "<style>\n",
       "    .dataframe thead tr:only-child th {\n",
       "        text-align: right;\n",
       "    }\n",
       "\n",
       "    .dataframe thead th {\n",
       "        text-align: left;\n",
       "    }\n",
       "\n",
       "    .dataframe tbody tr th {\n",
       "        vertical-align: top;\n",
       "    }\n",
       "</style>\n",
       "<table border=\"1\" class=\"dataframe\">\n",
       "  <thead>\n",
       "    <tr style=\"text-align: right;\">\n",
       "      <th></th>\n",
       "      <th>Favorite Dish</th>\n",
       "      <th>Stars</th>\n",
       "    </tr>\n",
       "    <tr>\n",
       "      <th>Restaurant</th>\n",
       "      <th></th>\n",
       "      <th></th>\n",
       "    </tr>\n",
       "  </thead>\n",
       "  <tbody>\n",
       "    <tr>\n",
       "      <th>Cozumel</th>\n",
       "      <td>Swordfish</td>\n",
       "      <td>***</td>\n",
       "    </tr>\n",
       "    <tr>\n",
       "      <th>Palapa</th>\n",
       "      <td>Fried Snapper</td>\n",
       "      <td>*****</td>\n",
       "    </tr>\n",
       "    <tr>\n",
       "      <th>El Zapote</th>\n",
       "      <td>Carne En Su Jugo</td>\n",
       "      <td>****</td>\n",
       "    </tr>\n",
       "  </tbody>\n",
       "</table>\n",
       "</div>"
      ],
      "text/plain": [
       "               Favorite Dish  Stars\n",
       "Restaurant                         \n",
       "Cozumel            Swordfish    ***\n",
       "Palapa         Fried Snapper  *****\n",
       "El Zapote   Carne En Su Jugo   ****"
      ]
     },
     "execution_count": 18,
     "metadata": {},
     "output_type": "execute_result"
    }
   ],
   "source": [
    "import pandas as pd\n",
    "restaurants = [[\"Restaurant\", \"Favorite Dish\", \"Stars\"],\n",
    "               [\"Cozumel\", \"Swordfish\", \"***\"],\n",
    "               [\"Palapa\", \"Fried Snapper\", \"*****\"],\n",
    "               [\"El Zapote\", \"Carne En Su Jugo\", \"****\"]]\n",
    "restaurants_frame = pd.DataFrame(restaurants[1:], columns=restaurants[0])\n",
    "restaurants_frame.set_index([\"Restaurant\"], inplace=True)\n",
    "restaurants_frame"
   ]
  },
  {
   "cell_type": "code",
   "execution_count": 19,
   "metadata": {},
   "outputs": [
    {
     "data": {
      "text/html": [
       "<div>\n",
       "<style>\n",
       "    .dataframe thead tr:only-child th {\n",
       "        text-align: right;\n",
       "    }\n",
       "\n",
       "    .dataframe thead th {\n",
       "        text-align: left;\n",
       "    }\n",
       "\n",
       "    .dataframe tbody tr th {\n",
       "        vertical-align: top;\n",
       "    }\n",
       "</style>\n",
       "<table border=\"1\" class=\"dataframe\">\n",
       "  <thead>\n",
       "    <tr style=\"text-align: right;\">\n",
       "      <th></th>\n",
       "      <th>Favorite Dish</th>\n",
       "      <th>Stars</th>\n",
       "    </tr>\n",
       "    <tr>\n",
       "      <th>Restaurant</th>\n",
       "      <th></th>\n",
       "      <th></th>\n",
       "    </tr>\n",
       "  </thead>\n",
       "  <tbody>\n",
       "    <tr>\n",
       "      <th>Palapa</th>\n",
       "      <td>Fried Snapper</td>\n",
       "      <td>*****</td>\n",
       "    </tr>\n",
       "    <tr>\n",
       "      <th>El Zapote</th>\n",
       "      <td>Carne En Su Jugo</td>\n",
       "      <td>****</td>\n",
       "    </tr>\n",
       "    <tr>\n",
       "      <th>Cozumel</th>\n",
       "      <td>Swordfish</td>\n",
       "      <td>***</td>\n",
       "    </tr>\n",
       "  </tbody>\n",
       "</table>\n",
       "</div>"
      ],
      "text/plain": [
       "               Favorite Dish  Stars\n",
       "Restaurant                         \n",
       "Palapa         Fried Snapper  *****\n",
       "El Zapote   Carne En Su Jugo   ****\n",
       "Cozumel            Swordfish    ***"
      ]
     },
     "execution_count": 19,
     "metadata": {},
     "output_type": "execute_result"
    }
   ],
   "source": [
    "restaurants_frame[\"Sort By\"] = restaurants_frame[\"Stars\"].apply(lambda stars:len(stars))\n",
    "\n",
    "restaurants_frame = restaurants_frame.sort_values(\n",
    "    by=\"Sort By\", ascending=False)[[\"Favorite Dish\", \"Stars\"]]\n",
    "restaurants_frame"
   ]
  }
 ],
 "metadata": {
  "kernelspec": {
   "display_name": "Python 3",
   "language": "python",
   "name": "python3"
  },
  "language_info": {
   "codemirror_mode": {
    "name": "ipython",
    "version": 3
   },
   "file_extension": ".py",
   "mimetype": "text/x-python",
   "name": "python",
   "nbconvert_exporter": "python",
   "pygments_lexer": "ipython3",
   "version": "3.5.0"
  }
 },
 "nbformat": 4,
 "nbformat_minor": 2
}
